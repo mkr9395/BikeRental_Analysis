{
 "cells": [
  {
   "cell_type": "code",
   "execution_count": 39,
   "metadata": {},
   "outputs": [],
   "source": [
    "import pandas as pd\n",
    "import numpy as np\n",
    "import matplotlib.pyplot as plt\n",
    "import seaborn as sns\n",
    "pd.options.display.max_columns = 999"
   ]
  },
  {
   "cell_type": "code",
   "execution_count": 40,
   "metadata": {},
   "outputs": [
    {
     "name": "stdout",
     "output_type": "stream",
     "text": [
      "(17379, 17)\n"
     ]
    },
    {
     "data": {
      "text/html": [
       "<div>\n",
       "<style scoped>\n",
       "    .dataframe tbody tr th:only-of-type {\n",
       "        vertical-align: middle;\n",
       "    }\n",
       "\n",
       "    .dataframe tbody tr th {\n",
       "        vertical-align: top;\n",
       "    }\n",
       "\n",
       "    .dataframe thead th {\n",
       "        text-align: right;\n",
       "    }\n",
       "</style>\n",
       "<table border=\"1\" class=\"dataframe\">\n",
       "  <thead>\n",
       "    <tr style=\"text-align: right;\">\n",
       "      <th></th>\n",
       "      <th>instant</th>\n",
       "      <th>dteday</th>\n",
       "      <th>season</th>\n",
       "      <th>yr</th>\n",
       "      <th>mnth</th>\n",
       "      <th>hr</th>\n",
       "      <th>holiday</th>\n",
       "      <th>weekday</th>\n",
       "      <th>workingday</th>\n",
       "      <th>weathersit</th>\n",
       "      <th>temp</th>\n",
       "      <th>atemp</th>\n",
       "      <th>hum</th>\n",
       "      <th>windspeed</th>\n",
       "      <th>casual</th>\n",
       "      <th>registered</th>\n",
       "      <th>cnt</th>\n",
       "    </tr>\n",
       "  </thead>\n",
       "  <tbody>\n",
       "    <tr>\n",
       "      <th>0</th>\n",
       "      <td>1</td>\n",
       "      <td>2011-01-01</td>\n",
       "      <td>1</td>\n",
       "      <td>0</td>\n",
       "      <td>1</td>\n",
       "      <td>0</td>\n",
       "      <td>0</td>\n",
       "      <td>6</td>\n",
       "      <td>0</td>\n",
       "      <td>1</td>\n",
       "      <td>0.24</td>\n",
       "      <td>0.2879</td>\n",
       "      <td>0.81</td>\n",
       "      <td>0.0</td>\n",
       "      <td>3</td>\n",
       "      <td>13</td>\n",
       "      <td>16</td>\n",
       "    </tr>\n",
       "    <tr>\n",
       "      <th>1</th>\n",
       "      <td>2</td>\n",
       "      <td>2011-01-01</td>\n",
       "      <td>1</td>\n",
       "      <td>0</td>\n",
       "      <td>1</td>\n",
       "      <td>1</td>\n",
       "      <td>0</td>\n",
       "      <td>6</td>\n",
       "      <td>0</td>\n",
       "      <td>1</td>\n",
       "      <td>0.22</td>\n",
       "      <td>0.2727</td>\n",
       "      <td>0.80</td>\n",
       "      <td>0.0</td>\n",
       "      <td>8</td>\n",
       "      <td>32</td>\n",
       "      <td>40</td>\n",
       "    </tr>\n",
       "    <tr>\n",
       "      <th>2</th>\n",
       "      <td>3</td>\n",
       "      <td>2011-01-01</td>\n",
       "      <td>1</td>\n",
       "      <td>0</td>\n",
       "      <td>1</td>\n",
       "      <td>2</td>\n",
       "      <td>0</td>\n",
       "      <td>6</td>\n",
       "      <td>0</td>\n",
       "      <td>1</td>\n",
       "      <td>0.22</td>\n",
       "      <td>0.2727</td>\n",
       "      <td>0.80</td>\n",
       "      <td>0.0</td>\n",
       "      <td>5</td>\n",
       "      <td>27</td>\n",
       "      <td>32</td>\n",
       "    </tr>\n",
       "    <tr>\n",
       "      <th>3</th>\n",
       "      <td>4</td>\n",
       "      <td>2011-01-01</td>\n",
       "      <td>1</td>\n",
       "      <td>0</td>\n",
       "      <td>1</td>\n",
       "      <td>3</td>\n",
       "      <td>0</td>\n",
       "      <td>6</td>\n",
       "      <td>0</td>\n",
       "      <td>1</td>\n",
       "      <td>0.24</td>\n",
       "      <td>0.2879</td>\n",
       "      <td>0.75</td>\n",
       "      <td>0.0</td>\n",
       "      <td>3</td>\n",
       "      <td>10</td>\n",
       "      <td>13</td>\n",
       "    </tr>\n",
       "    <tr>\n",
       "      <th>4</th>\n",
       "      <td>5</td>\n",
       "      <td>2011-01-01</td>\n",
       "      <td>1</td>\n",
       "      <td>0</td>\n",
       "      <td>1</td>\n",
       "      <td>4</td>\n",
       "      <td>0</td>\n",
       "      <td>6</td>\n",
       "      <td>0</td>\n",
       "      <td>1</td>\n",
       "      <td>0.24</td>\n",
       "      <td>0.2879</td>\n",
       "      <td>0.75</td>\n",
       "      <td>0.0</td>\n",
       "      <td>0</td>\n",
       "      <td>1</td>\n",
       "      <td>1</td>\n",
       "    </tr>\n",
       "  </tbody>\n",
       "</table>\n",
       "</div>"
      ],
      "text/plain": [
       "   instant      dteday  season  yr  mnth  hr  holiday  weekday  workingday  \\\n",
       "0        1  2011-01-01       1   0     1   0        0        6           0   \n",
       "1        2  2011-01-01       1   0     1   1        0        6           0   \n",
       "2        3  2011-01-01       1   0     1   2        0        6           0   \n",
       "3        4  2011-01-01       1   0     1   3        0        6           0   \n",
       "4        5  2011-01-01       1   0     1   4        0        6           0   \n",
       "\n",
       "   weathersit  temp   atemp   hum  windspeed  casual  registered  cnt  \n",
       "0           1  0.24  0.2879  0.81        0.0       3          13   16  \n",
       "1           1  0.22  0.2727  0.80        0.0       8          32   40  \n",
       "2           1  0.22  0.2727  0.80        0.0       5          27   32  \n",
       "3           1  0.24  0.2879  0.75        0.0       3          10   13  \n",
       "4           1  0.24  0.2879  0.75        0.0       0           1    1  "
      ]
     },
     "execution_count": 40,
     "metadata": {},
     "output_type": "execute_result"
    }
   ],
   "source": [
    "df = pd.read_csv('./dataset/hour.csv')\n",
    "print(df.shape)\n",
    "df.head()"
   ]
  },
  {
   "cell_type": "code",
   "execution_count": 41,
   "metadata": {},
   "outputs": [
    {
     "name": "stdout",
     "output_type": "stream",
     "text": [
      "<class 'pandas.core.frame.DataFrame'>\n",
      "RangeIndex: 17379 entries, 0 to 17378\n",
      "Data columns (total 17 columns):\n",
      " #   Column      Non-Null Count  Dtype  \n",
      "---  ------      --------------  -----  \n",
      " 0   instant     17379 non-null  int64  \n",
      " 1   dteday      17379 non-null  object \n",
      " 2   season      17379 non-null  int64  \n",
      " 3   yr          17379 non-null  int64  \n",
      " 4   mnth        17379 non-null  int64  \n",
      " 5   hr          17379 non-null  int64  \n",
      " 6   holiday     17379 non-null  int64  \n",
      " 7   weekday     17379 non-null  int64  \n",
      " 8   workingday  17379 non-null  int64  \n",
      " 9   weathersit  17379 non-null  int64  \n",
      " 10  temp        17379 non-null  float64\n",
      " 11  atemp       17379 non-null  float64\n",
      " 12  hum         17379 non-null  float64\n",
      " 13  windspeed   17379 non-null  float64\n",
      " 14  casual      17379 non-null  int64  \n",
      " 15  registered  17379 non-null  int64  \n",
      " 16  cnt         17379 non-null  int64  \n",
      "dtypes: float64(4), int64(12), object(1)\n",
      "memory usage: 2.3+ MB\n"
     ]
    }
   ],
   "source": [
    "df.info()"
   ]
  },
  {
   "cell_type": "code",
   "execution_count": 42,
   "metadata": {},
   "outputs": [
    {
     "data": {
      "text/plain": [
       "0"
      ]
     },
     "execution_count": 42,
     "metadata": {},
     "output_type": "execute_result"
    }
   ],
   "source": [
    "df.isnull().sum().sum()"
   ]
  },
  {
   "cell_type": "code",
   "execution_count": 43,
   "metadata": {},
   "outputs": [
    {
     "data": {
      "text/plain": [
       "(17379, 11)"
      ]
     },
     "execution_count": 43,
     "metadata": {},
     "output_type": "execute_result"
    }
   ],
   "source": [
    "data = df.drop(columns=['instant','dteday','casual','registered','yr','atemp'])\n",
    "data.shape"
   ]
  },
  {
   "cell_type": "code",
   "execution_count": 44,
   "metadata": {},
   "outputs": [
    {
     "data": {
      "text/html": [
       "<div>\n",
       "<style scoped>\n",
       "    .dataframe tbody tr th:only-of-type {\n",
       "        vertical-align: middle;\n",
       "    }\n",
       "\n",
       "    .dataframe tbody tr th {\n",
       "        vertical-align: top;\n",
       "    }\n",
       "\n",
       "    .dataframe thead th {\n",
       "        text-align: right;\n",
       "    }\n",
       "</style>\n",
       "<table border=\"1\" class=\"dataframe\">\n",
       "  <thead>\n",
       "    <tr style=\"text-align: right;\">\n",
       "      <th></th>\n",
       "      <th>season</th>\n",
       "      <th>mnth</th>\n",
       "      <th>hr</th>\n",
       "      <th>holiday</th>\n",
       "      <th>weekday</th>\n",
       "      <th>workingday</th>\n",
       "      <th>weathersit</th>\n",
       "      <th>temp</th>\n",
       "      <th>hum</th>\n",
       "      <th>windspeed</th>\n",
       "      <th>cnt</th>\n",
       "    </tr>\n",
       "  </thead>\n",
       "  <tbody>\n",
       "    <tr>\n",
       "      <th>0</th>\n",
       "      <td>1</td>\n",
       "      <td>1</td>\n",
       "      <td>0</td>\n",
       "      <td>0</td>\n",
       "      <td>6</td>\n",
       "      <td>0</td>\n",
       "      <td>1</td>\n",
       "      <td>0.24</td>\n",
       "      <td>0.81</td>\n",
       "      <td>0.0</td>\n",
       "      <td>16</td>\n",
       "    </tr>\n",
       "    <tr>\n",
       "      <th>1</th>\n",
       "      <td>1</td>\n",
       "      <td>1</td>\n",
       "      <td>1</td>\n",
       "      <td>0</td>\n",
       "      <td>6</td>\n",
       "      <td>0</td>\n",
       "      <td>1</td>\n",
       "      <td>0.22</td>\n",
       "      <td>0.80</td>\n",
       "      <td>0.0</td>\n",
       "      <td>40</td>\n",
       "    </tr>\n",
       "    <tr>\n",
       "      <th>2</th>\n",
       "      <td>1</td>\n",
       "      <td>1</td>\n",
       "      <td>2</td>\n",
       "      <td>0</td>\n",
       "      <td>6</td>\n",
       "      <td>0</td>\n",
       "      <td>1</td>\n",
       "      <td>0.22</td>\n",
       "      <td>0.80</td>\n",
       "      <td>0.0</td>\n",
       "      <td>32</td>\n",
       "    </tr>\n",
       "    <tr>\n",
       "      <th>3</th>\n",
       "      <td>1</td>\n",
       "      <td>1</td>\n",
       "      <td>3</td>\n",
       "      <td>0</td>\n",
       "      <td>6</td>\n",
       "      <td>0</td>\n",
       "      <td>1</td>\n",
       "      <td>0.24</td>\n",
       "      <td>0.75</td>\n",
       "      <td>0.0</td>\n",
       "      <td>13</td>\n",
       "    </tr>\n",
       "    <tr>\n",
       "      <th>4</th>\n",
       "      <td>1</td>\n",
       "      <td>1</td>\n",
       "      <td>4</td>\n",
       "      <td>0</td>\n",
       "      <td>6</td>\n",
       "      <td>0</td>\n",
       "      <td>1</td>\n",
       "      <td>0.24</td>\n",
       "      <td>0.75</td>\n",
       "      <td>0.0</td>\n",
       "      <td>1</td>\n",
       "    </tr>\n",
       "  </tbody>\n",
       "</table>\n",
       "</div>"
      ],
      "text/plain": [
       "   season  mnth  hr  holiday  weekday  workingday  weathersit  temp   hum  \\\n",
       "0       1     1   0        0        6           0           1  0.24  0.81   \n",
       "1       1     1   1        0        6           0           1  0.22  0.80   \n",
       "2       1     1   2        0        6           0           1  0.22  0.80   \n",
       "3       1     1   3        0        6           0           1  0.24  0.75   \n",
       "4       1     1   4        0        6           0           1  0.24  0.75   \n",
       "\n",
       "   windspeed  cnt  \n",
       "0        0.0   16  \n",
       "1        0.0   40  \n",
       "2        0.0   32  \n",
       "3        0.0   13  \n",
       "4        0.0    1  "
      ]
     },
     "execution_count": 44,
     "metadata": {},
     "output_type": "execute_result"
    }
   ],
   "source": [
    "data.head()"
   ]
  },
  {
   "cell_type": "code",
   "execution_count": 45,
   "metadata": {},
   "outputs": [],
   "source": [
    "data.columns=['season','month','hour','holiday','weekday','working','weathersit','temp','humidity','windspeed','count']"
   ]
  },
  {
   "cell_type": "code",
   "execution_count": 46,
   "metadata": {},
   "outputs": [
    {
     "data": {
      "text/html": [
       "<div>\n",
       "<style scoped>\n",
       "    .dataframe tbody tr th:only-of-type {\n",
       "        vertical-align: middle;\n",
       "    }\n",
       "\n",
       "    .dataframe tbody tr th {\n",
       "        vertical-align: top;\n",
       "    }\n",
       "\n",
       "    .dataframe thead th {\n",
       "        text-align: right;\n",
       "    }\n",
       "</style>\n",
       "<table border=\"1\" class=\"dataframe\">\n",
       "  <thead>\n",
       "    <tr style=\"text-align: right;\">\n",
       "      <th></th>\n",
       "      <th>season</th>\n",
       "      <th>month</th>\n",
       "      <th>hour</th>\n",
       "      <th>holiday</th>\n",
       "      <th>weekday</th>\n",
       "      <th>working</th>\n",
       "      <th>weathersit</th>\n",
       "      <th>temp</th>\n",
       "      <th>humidity</th>\n",
       "      <th>windspeed</th>\n",
       "      <th>count</th>\n",
       "    </tr>\n",
       "  </thead>\n",
       "  <tbody>\n",
       "    <tr>\n",
       "      <th>0</th>\n",
       "      <td>1</td>\n",
       "      <td>1</td>\n",
       "      <td>0</td>\n",
       "      <td>0</td>\n",
       "      <td>6</td>\n",
       "      <td>0</td>\n",
       "      <td>1</td>\n",
       "      <td>0.24</td>\n",
       "      <td>0.81</td>\n",
       "      <td>0.0</td>\n",
       "      <td>16</td>\n",
       "    </tr>\n",
       "    <tr>\n",
       "      <th>1</th>\n",
       "      <td>1</td>\n",
       "      <td>1</td>\n",
       "      <td>1</td>\n",
       "      <td>0</td>\n",
       "      <td>6</td>\n",
       "      <td>0</td>\n",
       "      <td>1</td>\n",
       "      <td>0.22</td>\n",
       "      <td>0.80</td>\n",
       "      <td>0.0</td>\n",
       "      <td>40</td>\n",
       "    </tr>\n",
       "    <tr>\n",
       "      <th>2</th>\n",
       "      <td>1</td>\n",
       "      <td>1</td>\n",
       "      <td>2</td>\n",
       "      <td>0</td>\n",
       "      <td>6</td>\n",
       "      <td>0</td>\n",
       "      <td>1</td>\n",
       "      <td>0.22</td>\n",
       "      <td>0.80</td>\n",
       "      <td>0.0</td>\n",
       "      <td>32</td>\n",
       "    </tr>\n",
       "    <tr>\n",
       "      <th>3</th>\n",
       "      <td>1</td>\n",
       "      <td>1</td>\n",
       "      <td>3</td>\n",
       "      <td>0</td>\n",
       "      <td>6</td>\n",
       "      <td>0</td>\n",
       "      <td>1</td>\n",
       "      <td>0.24</td>\n",
       "      <td>0.75</td>\n",
       "      <td>0.0</td>\n",
       "      <td>13</td>\n",
       "    </tr>\n",
       "    <tr>\n",
       "      <th>4</th>\n",
       "      <td>1</td>\n",
       "      <td>1</td>\n",
       "      <td>4</td>\n",
       "      <td>0</td>\n",
       "      <td>6</td>\n",
       "      <td>0</td>\n",
       "      <td>1</td>\n",
       "      <td>0.24</td>\n",
       "      <td>0.75</td>\n",
       "      <td>0.0</td>\n",
       "      <td>1</td>\n",
       "    </tr>\n",
       "  </tbody>\n",
       "</table>\n",
       "</div>"
      ],
      "text/plain": [
       "   season  month  hour  holiday  weekday  working  weathersit  temp  humidity  \\\n",
       "0       1      1     0        0        6        0           1  0.24      0.81   \n",
       "1       1      1     1        0        6        0           1  0.22      0.80   \n",
       "2       1      1     2        0        6        0           1  0.22      0.80   \n",
       "3       1      1     3        0        6        0           1  0.24      0.75   \n",
       "4       1      1     4        0        6        0           1  0.24      0.75   \n",
       "\n",
       "   windspeed  count  \n",
       "0        0.0     16  \n",
       "1        0.0     40  \n",
       "2        0.0     32  \n",
       "3        0.0     13  \n",
       "4        0.0      1  "
      ]
     },
     "execution_count": 46,
     "metadata": {},
     "output_type": "execute_result"
    }
   ],
   "source": [
    "data.head()"
   ]
  },
  {
   "cell_type": "code",
   "execution_count": 47,
   "metadata": {},
   "outputs": [
    {
     "data": {
      "text/html": [
       "<div>\n",
       "<style scoped>\n",
       "    .dataframe tbody tr th:only-of-type {\n",
       "        vertical-align: middle;\n",
       "    }\n",
       "\n",
       "    .dataframe tbody tr th {\n",
       "        vertical-align: top;\n",
       "    }\n",
       "\n",
       "    .dataframe thead th {\n",
       "        text-align: right;\n",
       "    }\n",
       "</style>\n",
       "<table border=\"1\" class=\"dataframe\">\n",
       "  <thead>\n",
       "    <tr style=\"text-align: right;\">\n",
       "      <th></th>\n",
       "      <th>count</th>\n",
       "      <th>mean</th>\n",
       "      <th>std</th>\n",
       "      <th>min</th>\n",
       "      <th>25%</th>\n",
       "      <th>50%</th>\n",
       "      <th>75%</th>\n",
       "      <th>max</th>\n",
       "    </tr>\n",
       "  </thead>\n",
       "  <tbody>\n",
       "    <tr>\n",
       "      <th>season</th>\n",
       "      <td>17379.0</td>\n",
       "      <td>2.501640</td>\n",
       "      <td>1.106918</td>\n",
       "      <td>1.00</td>\n",
       "      <td>2.0000</td>\n",
       "      <td>3.000</td>\n",
       "      <td>3.0000</td>\n",
       "      <td>4.0000</td>\n",
       "    </tr>\n",
       "    <tr>\n",
       "      <th>month</th>\n",
       "      <td>17379.0</td>\n",
       "      <td>6.537775</td>\n",
       "      <td>3.438776</td>\n",
       "      <td>1.00</td>\n",
       "      <td>4.0000</td>\n",
       "      <td>7.000</td>\n",
       "      <td>10.0000</td>\n",
       "      <td>12.0000</td>\n",
       "    </tr>\n",
       "    <tr>\n",
       "      <th>hour</th>\n",
       "      <td>17379.0</td>\n",
       "      <td>11.546752</td>\n",
       "      <td>6.914405</td>\n",
       "      <td>0.00</td>\n",
       "      <td>6.0000</td>\n",
       "      <td>12.000</td>\n",
       "      <td>18.0000</td>\n",
       "      <td>23.0000</td>\n",
       "    </tr>\n",
       "    <tr>\n",
       "      <th>holiday</th>\n",
       "      <td>17379.0</td>\n",
       "      <td>0.028770</td>\n",
       "      <td>0.167165</td>\n",
       "      <td>0.00</td>\n",
       "      <td>0.0000</td>\n",
       "      <td>0.000</td>\n",
       "      <td>0.0000</td>\n",
       "      <td>1.0000</td>\n",
       "    </tr>\n",
       "    <tr>\n",
       "      <th>weekday</th>\n",
       "      <td>17379.0</td>\n",
       "      <td>3.003683</td>\n",
       "      <td>2.005771</td>\n",
       "      <td>0.00</td>\n",
       "      <td>1.0000</td>\n",
       "      <td>3.000</td>\n",
       "      <td>5.0000</td>\n",
       "      <td>6.0000</td>\n",
       "    </tr>\n",
       "    <tr>\n",
       "      <th>working</th>\n",
       "      <td>17379.0</td>\n",
       "      <td>0.682721</td>\n",
       "      <td>0.465431</td>\n",
       "      <td>0.00</td>\n",
       "      <td>0.0000</td>\n",
       "      <td>1.000</td>\n",
       "      <td>1.0000</td>\n",
       "      <td>1.0000</td>\n",
       "    </tr>\n",
       "    <tr>\n",
       "      <th>weathersit</th>\n",
       "      <td>17379.0</td>\n",
       "      <td>1.425283</td>\n",
       "      <td>0.639357</td>\n",
       "      <td>1.00</td>\n",
       "      <td>1.0000</td>\n",
       "      <td>1.000</td>\n",
       "      <td>2.0000</td>\n",
       "      <td>4.0000</td>\n",
       "    </tr>\n",
       "    <tr>\n",
       "      <th>temp</th>\n",
       "      <td>17379.0</td>\n",
       "      <td>0.496987</td>\n",
       "      <td>0.192556</td>\n",
       "      <td>0.02</td>\n",
       "      <td>0.3400</td>\n",
       "      <td>0.500</td>\n",
       "      <td>0.6600</td>\n",
       "      <td>1.0000</td>\n",
       "    </tr>\n",
       "    <tr>\n",
       "      <th>humidity</th>\n",
       "      <td>17379.0</td>\n",
       "      <td>0.627229</td>\n",
       "      <td>0.192930</td>\n",
       "      <td>0.00</td>\n",
       "      <td>0.4800</td>\n",
       "      <td>0.630</td>\n",
       "      <td>0.7800</td>\n",
       "      <td>1.0000</td>\n",
       "    </tr>\n",
       "    <tr>\n",
       "      <th>windspeed</th>\n",
       "      <td>17379.0</td>\n",
       "      <td>0.190098</td>\n",
       "      <td>0.122340</td>\n",
       "      <td>0.00</td>\n",
       "      <td>0.1045</td>\n",
       "      <td>0.194</td>\n",
       "      <td>0.2537</td>\n",
       "      <td>0.8507</td>\n",
       "    </tr>\n",
       "    <tr>\n",
       "      <th>count</th>\n",
       "      <td>17379.0</td>\n",
       "      <td>189.463088</td>\n",
       "      <td>181.387599</td>\n",
       "      <td>1.00</td>\n",
       "      <td>40.0000</td>\n",
       "      <td>142.000</td>\n",
       "      <td>281.0000</td>\n",
       "      <td>977.0000</td>\n",
       "    </tr>\n",
       "  </tbody>\n",
       "</table>\n",
       "</div>"
      ],
      "text/plain": [
       "              count        mean         std   min      25%      50%       75%  \\\n",
       "season      17379.0    2.501640    1.106918  1.00   2.0000    3.000    3.0000   \n",
       "month       17379.0    6.537775    3.438776  1.00   4.0000    7.000   10.0000   \n",
       "hour        17379.0   11.546752    6.914405  0.00   6.0000   12.000   18.0000   \n",
       "holiday     17379.0    0.028770    0.167165  0.00   0.0000    0.000    0.0000   \n",
       "weekday     17379.0    3.003683    2.005771  0.00   1.0000    3.000    5.0000   \n",
       "working     17379.0    0.682721    0.465431  0.00   0.0000    1.000    1.0000   \n",
       "weathersit  17379.0    1.425283    0.639357  1.00   1.0000    1.000    2.0000   \n",
       "temp        17379.0    0.496987    0.192556  0.02   0.3400    0.500    0.6600   \n",
       "humidity    17379.0    0.627229    0.192930  0.00   0.4800    0.630    0.7800   \n",
       "windspeed   17379.0    0.190098    0.122340  0.00   0.1045    0.194    0.2537   \n",
       "count       17379.0  189.463088  181.387599  1.00  40.0000  142.000  281.0000   \n",
       "\n",
       "                 max  \n",
       "season        4.0000  \n",
       "month        12.0000  \n",
       "hour         23.0000  \n",
       "holiday       1.0000  \n",
       "weekday       6.0000  \n",
       "working       1.0000  \n",
       "weathersit    4.0000  \n",
       "temp          1.0000  \n",
       "humidity      1.0000  \n",
       "windspeed     0.8507  \n",
       "count       977.0000  "
      ]
     },
     "execution_count": 47,
     "metadata": {},
     "output_type": "execute_result"
    }
   ],
   "source": [
    "data.describe().T"
   ]
  },
  {
   "cell_type": "code",
   "execution_count": 48,
   "metadata": {},
   "outputs": [],
   "source": [
    "categorical_cols = ['season','month','holiday','weekday','working','weathersit','hour']\n",
    "numerical_cols = ['temp','humidity','windspeed','count']"
   ]
  },
  {
   "cell_type": "code",
   "execution_count": 49,
   "metadata": {},
   "outputs": [
    {
     "data": {
      "text/plain": [
       "2"
      ]
     },
     "execution_count": 49,
     "metadata": {},
     "output_type": "execute_result"
    }
   ],
   "source": [
    "data.duplicated().sum()"
   ]
  },
  {
   "cell_type": "code",
   "execution_count": 50,
   "metadata": {},
   "outputs": [
    {
     "data": {
      "image/png": "[encoded data removed]",
      "text/plain": [
       "<Figure size 640x480 with 1 Axes>"
      ]
     },
     "metadata": {},
     "output_type": "display_data"
    },
    {
     "data": {
      "image/png": "[encoded data removed]",
      "text/plain": [
       "<Figure size 640x480 with 1 Axes>"
      ]
     },
     "metadata": {},
     "output_type": "display_data"
    },
    {
     "data": {
      "image/png": "[encoded data removed]",
      "text/plain": [
       "<Figure size 640x480 with 1 Axes>"
      ]
     },
     "metadata": {},
     "output_type": "display_data"
    },
    {
     "data": {
      "image/png": "[encoded data removed]",
      "text/plain": [
       "<Figure size 640x480 with 1 Axes>"
      ]
     },
     "metadata": {},
     "output_type": "display_data"
    },
    {
     "data": {
      "image/png": "[encoded data removed]",
      "text/plain": [
       "<Figure size 640x480 with 1 Axes>"
      ]
     },
     "metadata": {},
     "output_type": "display_data"
    },
    {
     "data": {
      "image/png": "[encoded data removed]",
      "text/plain": [
       "<Figure size 640x480 with 1 Axes>"
      ]
     },
     "metadata": {},
     "output_type": "display_data"
    }
   ],
   "source": [
    "for i in categorical_cols[:-1]:\n",
    "    ax = sns.countplot(data=data, x = i,palette='deep')\n",
    "    ax.bar_label(ax.containers[0])\n",
    "    plt.show()"
   ]
  },
  {
   "attachments": {},
   "cell_type": "markdown",
   "metadata": {},
   "source": [
    "### Groupby"
   ]
  },
  {
   "cell_type": "code",
   "execution_count": 51,
   "metadata": {},
   "outputs": [
    {
     "data": {
      "text/plain": [
       "season          4\n",
       "month          12\n",
       "hour           24\n",
       "holiday         2\n",
       "weekday         7\n",
       "working         2\n",
       "weathersit      4\n",
       "temp           50\n",
       "humidity       89\n",
       "windspeed      30\n",
       "count         869\n",
       "dtype: int64"
      ]
     },
     "execution_count": 51,
     "metadata": {},
     "output_type": "execute_result"
    }
   ],
   "source": [
    "data.apply(lambda x: x.nunique())"
   ]
  },
  {
   "cell_type": "code",
   "execution_count": 52,
   "metadata": {},
   "outputs": [
    {
     "data": {
      "text/plain": [
       "season  working\n",
       "1       0          137683\n",
       "        1          333665\n",
       "2       0          287976\n",
       "        1          630613\n",
       "3       0          312056\n",
       "        1          749073\n",
       "4       0          262554\n",
       "        1          579059\n",
       "Name: count, dtype: int64"
      ]
     },
     "execution_count": 52,
     "metadata": {},
     "output_type": "execute_result"
    }
   ],
   "source": [
    "data.groupby(by=['season','working'])['count'].agg('sum')"
   ]
  },
  {
   "cell_type": "code",
   "execution_count": 53,
   "metadata": {},
   "outputs": [
    {
     "data": {
      "text/plain": [
       "season  weathersit\n",
       "1       1             325278\n",
       "        2             124205\n",
       "        3              21642\n",
       "        4                223\n",
       "2       1             664463\n",
       "        2             207363\n",
       "        3              46763\n",
       "3       1             801941\n",
       "        2             212932\n",
       "        3              46256\n",
       "4       1             546491\n",
       "        2             251452\n",
       "        3              43670\n",
       "Name: count, dtype: int64"
      ]
     },
     "execution_count": 53,
     "metadata": {},
     "output_type": "execute_result"
    }
   ],
   "source": [
    "data.groupby(by=['season','weathersit'])['count'].agg('sum')"
   ]
  },
  {
   "cell_type": "code",
   "execution_count": 54,
   "metadata": {},
   "outputs": [
    {
     "data": {
      "text/plain": [
       "working  weathersit\n",
       "0        1              747219\n",
       "         2              211982\n",
       "         3               41045\n",
       "         4                  23\n",
       "1        1             1590954\n",
       "         2              583970\n",
       "         3              117286\n",
       "         4                 200\n",
       "Name: count, dtype: int64"
      ]
     },
     "execution_count": 54,
     "metadata": {},
     "output_type": "execute_result"
    }
   ],
   "source": [
    "data.groupby(by=['working','weathersit'])['count'].agg('sum')"
   ]
  },
  {
   "cell_type": "code",
   "execution_count": 55,
   "metadata": {},
   "outputs": [
    {
     "data": {
      "text/plain": [
       "[<matplotlib.lines.Line2D at 0x20c6f955180>]"
      ]
     },
     "execution_count": 55,
     "metadata": {},
     "output_type": "execute_result"
    },
    {
     "data": {
      "image/png": "[encoded data removed]",
      "text/plain": [
       "<Figure size 640x480 with 1 Axes>"
      ]
     },
     "metadata": {},
     "output_type": "display_data"
    }
   ],
   "source": [
    "plt.plot(data['windspeed'])"
   ]
  },
  {
   "cell_type": "code",
   "execution_count": 56,
   "metadata": {},
   "outputs": [
    {
     "data": {
      "text/plain": [
       "[<matplotlib.lines.Line2D at 0x20c6f78ef80>]"
      ]
     },
     "execution_count": 56,
     "metadata": {},
     "output_type": "execute_result"
    },
    {
     "data": {
      "image/png": "[encoded data removed]",
      "text/plain": [
       "<Figure size 640x480 with 1 Axes>"
      ]
     },
     "metadata": {},
     "output_type": "display_data"
    }
   ],
   "source": [
    "plt.plot(data['temp'])"
   ]
  },
  {
   "cell_type": "code",
   "execution_count": 57,
   "metadata": {},
   "outputs": [
    {
     "data": {
      "image/png": "[encoded data removed]",
      "text/plain": [
       "<Figure size 640x480 with 1 Axes>"
      ]
     },
     "metadata": {},
     "output_type": "display_data"
    }
   ],
   "source": [
    "ax = sns.barplot(data=data,x='season',y='count',hue='working')\n",
    "plt.show()"
   ]
  },
  {
   "cell_type": "code",
   "execution_count": 58,
   "metadata": {},
   "outputs": [
    {
     "data": {
      "image/png": "[encoded data removed]",
      "text/plain": [
       "<Figure size 640x480 with 1 Axes>"
      ]
     },
     "metadata": {},
     "output_type": "display_data"
    }
   ],
   "source": [
    "ax = sns.countplot(data=data,x='season',hue='working')\n",
    "plt.show()"
   ]
  },
  {
   "attachments": {},
   "cell_type": "markdown",
   "metadata": {},
   "source": [
    "### Boxplot"
   ]
  },
  {
   "cell_type": "code",
   "execution_count": 59,
   "metadata": {},
   "outputs": [
    {
     "data": {
      "image/png": "[encoded data removed]",
      "text/plain": [
       "<Figure size 640x480 with 1 Axes>"
      ]
     },
     "metadata": {},
     "output_type": "display_data"
    },
    {
     "data": {
      "image/png": "[encoded data removed]",
      "text/plain": [
       "<Figure size 640x480 with 1 Axes>"
      ]
     },
     "metadata": {},
     "output_type": "display_data"
    },
    {
     "data": {
      "image/png": "[encoded data removed]",
      "text/plain": [
       "<Figure size 640x480 with 1 Axes>"
      ]
     },
     "metadata": {},
     "output_type": "display_data"
    },
    {
     "data": {
      "image/png": "[encoded data removed]",
      "text/plain": [
       "<Figure size 640x480 with 1 Axes>"
      ]
     },
     "metadata": {},
     "output_type": "display_data"
    }
   ],
   "source": [
    "for i in numerical_cols:\n",
    "    ax = sns.boxplot(data=data, x = i,palette='deep')\n",
    "    plt.show()"
   ]
  },
  {
   "cell_type": "code",
   "execution_count": 60,
   "metadata": {},
   "outputs": [
    {
     "data": {
      "text/plain": [
       "<AxesSubplot: xlabel='count'>"
      ]
     },
     "execution_count": 60,
     "metadata": {},
     "output_type": "execute_result"
    },
    {
     "data": {
      "image/png": "[encoded data removed]",
      "text/plain": [
       "<Figure size 640x480 with 1 Axes>"
      ]
     },
     "metadata": {},
     "output_type": "display_data"
    }
   ],
   "source": [
    "sns.boxplot(data=data,x='count')"
   ]
  },
  {
   "attachments": {},
   "cell_type": "markdown",
   "metadata": {},
   "source": [
    "### Skewness and kurtosis"
   ]
  },
  {
   "cell_type": "code",
   "execution_count": 61,
   "metadata": {},
   "outputs": [
    {
     "data": {
      "text/plain": [
       "season       -0.005416\n",
       "month        -0.009253\n",
       "hour         -0.010680\n",
       "holiday       5.638538\n",
       "weekday      -0.002998\n",
       "working      -0.785258\n",
       "weathersit    1.228047\n",
       "temp         -0.006021\n",
       "humidity     -0.111287\n",
       "windspeed     0.574905\n",
       "count         1.277412\n",
       "dtype: float64"
      ]
     },
     "execution_count": 61,
     "metadata": {},
     "output_type": "execute_result"
    }
   ],
   "source": [
    "data.skew()"
   ]
  },
  {
   "cell_type": "code",
   "execution_count": 62,
   "metadata": {},
   "outputs": [
    {
     "data": {
      "text/plain": [
       "season        -1.334251\n",
       "month         -1.201878\n",
       "hour          -1.198021\n",
       "holiday       29.796540\n",
       "weekday       -1.255997\n",
       "working       -1.383529\n",
       "weathersit     0.350151\n",
       "temp          -0.941844\n",
       "humidity      -0.826117\n",
       "windspeed      0.590820\n",
       "count          1.417203\n",
       "dtype: float64"
      ]
     },
     "execution_count": 62,
     "metadata": {},
     "output_type": "execute_result"
    }
   ],
   "source": [
    "data.kurt()"
   ]
  },
  {
   "cell_type": "code",
   "execution_count": 63,
   "metadata": {},
   "outputs": [
    {
     "data": {
      "text/html": [
       "<div>\n",
       "<style scoped>\n",
       "    .dataframe tbody tr th:only-of-type {\n",
       "        vertical-align: middle;\n",
       "    }\n",
       "\n",
       "    .dataframe tbody tr th {\n",
       "        vertical-align: top;\n",
       "    }\n",
       "\n",
       "    .dataframe thead th {\n",
       "        text-align: right;\n",
       "    }\n",
       "</style>\n",
       "<table border=\"1\" class=\"dataframe\">\n",
       "  <thead>\n",
       "    <tr style=\"text-align: right;\">\n",
       "      <th></th>\n",
       "      <th>season</th>\n",
       "      <th>month</th>\n",
       "      <th>hour</th>\n",
       "      <th>holiday</th>\n",
       "      <th>weekday</th>\n",
       "      <th>working</th>\n",
       "      <th>weathersit</th>\n",
       "      <th>temp</th>\n",
       "      <th>humidity</th>\n",
       "      <th>windspeed</th>\n",
       "      <th>count</th>\n",
       "    </tr>\n",
       "  </thead>\n",
       "  <tbody>\n",
       "    <tr>\n",
       "      <th>1070</th>\n",
       "      <td>1</td>\n",
       "      <td>2</td>\n",
       "      <td>8</td>\n",
       "      <td>0</td>\n",
       "      <td>4</td>\n",
       "      <td>1</td>\n",
       "      <td>1</td>\n",
       "      <td>0.32</td>\n",
       "      <td>0.57</td>\n",
       "      <td>0.0896</td>\n",
       "      <td>285</td>\n",
       "    </tr>\n",
       "    <tr>\n",
       "      <th>1103</th>\n",
       "      <td>1</td>\n",
       "      <td>2</td>\n",
       "      <td>17</td>\n",
       "      <td>0</td>\n",
       "      <td>5</td>\n",
       "      <td>1</td>\n",
       "      <td>1</td>\n",
       "      <td>0.66</td>\n",
       "      <td>0.34</td>\n",
       "      <td>0.3582</td>\n",
       "      <td>327</td>\n",
       "    </tr>\n",
       "    <tr>\n",
       "      <th>1305</th>\n",
       "      <td>1</td>\n",
       "      <td>2</td>\n",
       "      <td>14</td>\n",
       "      <td>0</td>\n",
       "      <td>0</td>\n",
       "      <td>0</td>\n",
       "      <td>1</td>\n",
       "      <td>0.44</td>\n",
       "      <td>0.47</td>\n",
       "      <td>0.0896</td>\n",
       "      <td>282</td>\n",
       "    </tr>\n",
       "    <tr>\n",
       "      <th>1634</th>\n",
       "      <td>1</td>\n",
       "      <td>3</td>\n",
       "      <td>15</td>\n",
       "      <td>0</td>\n",
       "      <td>0</td>\n",
       "      <td>0</td>\n",
       "      <td>1</td>\n",
       "      <td>0.48</td>\n",
       "      <td>0.39</td>\n",
       "      <td>0.3284</td>\n",
       "      <td>304</td>\n",
       "    </tr>\n",
       "    <tr>\n",
       "      <th>1673</th>\n",
       "      <td>1</td>\n",
       "      <td>3</td>\n",
       "      <td>8</td>\n",
       "      <td>0</td>\n",
       "      <td>2</td>\n",
       "      <td>1</td>\n",
       "      <td>1</td>\n",
       "      <td>0.26</td>\n",
       "      <td>0.70</td>\n",
       "      <td>0.0896</td>\n",
       "      <td>282</td>\n",
       "    </tr>\n",
       "    <tr>\n",
       "      <th>...</th>\n",
       "      <td>...</td>\n",
       "      <td>...</td>\n",
       "      <td>...</td>\n",
       "      <td>...</td>\n",
       "      <td>...</td>\n",
       "      <td>...</td>\n",
       "      <td>...</td>\n",
       "      <td>...</td>\n",
       "      <td>...</td>\n",
       "      <td>...</td>\n",
       "      <td>...</td>\n",
       "    </tr>\n",
       "    <tr>\n",
       "      <th>17110</th>\n",
       "      <td>4</td>\n",
       "      <td>12</td>\n",
       "      <td>17</td>\n",
       "      <td>0</td>\n",
       "      <td>4</td>\n",
       "      <td>1</td>\n",
       "      <td>2</td>\n",
       "      <td>0.34</td>\n",
       "      <td>0.66</td>\n",
       "      <td>0.1940</td>\n",
       "      <td>475</td>\n",
       "    </tr>\n",
       "    <tr>\n",
       "      <th>17111</th>\n",
       "      <td>4</td>\n",
       "      <td>12</td>\n",
       "      <td>18</td>\n",
       "      <td>0</td>\n",
       "      <td>4</td>\n",
       "      <td>1</td>\n",
       "      <td>2</td>\n",
       "      <td>0.34</td>\n",
       "      <td>0.71</td>\n",
       "      <td>0.1940</td>\n",
       "      <td>381</td>\n",
       "    </tr>\n",
       "    <tr>\n",
       "      <th>17125</th>\n",
       "      <td>1</td>\n",
       "      <td>12</td>\n",
       "      <td>8</td>\n",
       "      <td>0</td>\n",
       "      <td>5</td>\n",
       "      <td>1</td>\n",
       "      <td>2</td>\n",
       "      <td>0.32</td>\n",
       "      <td>0.57</td>\n",
       "      <td>0.2836</td>\n",
       "      <td>472</td>\n",
       "    </tr>\n",
       "    <tr>\n",
       "      <th>17134</th>\n",
       "      <td>1</td>\n",
       "      <td>12</td>\n",
       "      <td>17</td>\n",
       "      <td>0</td>\n",
       "      <td>5</td>\n",
       "      <td>1</td>\n",
       "      <td>2</td>\n",
       "      <td>0.26</td>\n",
       "      <td>0.56</td>\n",
       "      <td>0.3284</td>\n",
       "      <td>321</td>\n",
       "    </tr>\n",
       "    <tr>\n",
       "      <th>17370</th>\n",
       "      <td>1</td>\n",
       "      <td>12</td>\n",
       "      <td>15</td>\n",
       "      <td>0</td>\n",
       "      <td>1</td>\n",
       "      <td>1</td>\n",
       "      <td>2</td>\n",
       "      <td>0.28</td>\n",
       "      <td>0.45</td>\n",
       "      <td>0.1343</td>\n",
       "      <td>315</td>\n",
       "    </tr>\n",
       "  </tbody>\n",
       "</table>\n",
       "<p>4326 rows × 11 columns</p>\n",
       "</div>"
      ],
      "text/plain": [
       "       season  month  hour  holiday  weekday  working  weathersit  temp  \\\n",
       "1070        1      2     8        0        4        1           1  0.32   \n",
       "1103        1      2    17        0        5        1           1  0.66   \n",
       "1305        1      2    14        0        0        0           1  0.44   \n",
       "1634        1      3    15        0        0        0           1  0.48   \n",
       "1673        1      3     8        0        2        1           1  0.26   \n",
       "...       ...    ...   ...      ...      ...      ...         ...   ...   \n",
       "17110       4     12    17        0        4        1           2  0.34   \n",
       "17111       4     12    18        0        4        1           2  0.34   \n",
       "17125       1     12     8        0        5        1           2  0.32   \n",
       "17134       1     12    17        0        5        1           2  0.26   \n",
       "17370       1     12    15        0        1        1           2  0.28   \n",
       "\n",
       "       humidity  windspeed  count  \n",
       "1070       0.57     0.0896    285  \n",
       "1103       0.34     0.3582    327  \n",
       "1305       0.47     0.0896    282  \n",
       "1634       0.39     0.3284    304  \n",
       "1673       0.70     0.0896    282  \n",
       "...         ...        ...    ...  \n",
       "17110      0.66     0.1940    475  \n",
       "17111      0.71     0.1940    381  \n",
       "17125      0.57     0.2836    472  \n",
       "17134      0.56     0.3284    321  \n",
       "17370      0.45     0.1343    315  \n",
       "\n",
       "[4326 rows x 11 columns]"
      ]
     },
     "execution_count": 63,
     "metadata": {},
     "output_type": "execute_result"
    }
   ],
   "source": [
    "data[data['count']>281]"
   ]
  },
  {
   "attachments": {},
   "cell_type": "markdown",
   "metadata": {},
   "source": [
    "### Correlation"
   ]
  },
  {
   "cell_type": "code",
   "execution_count": 64,
   "metadata": {},
   "outputs": [
    {
     "data": {
      "text/plain": [
       "<AxesSubplot: >"
      ]
     },
     "execution_count": 64,
     "metadata": {},
     "output_type": "execute_result"
    },
    {
     "data": {
      "image/png": "[encoded data removed]",
      "text/plain": [
       "<Figure size 1000x500 with 2 Axes>"
      ]
     },
     "metadata": {},
     "output_type": "display_data"
    }
   ],
   "source": [
    "plt.figure(figsize=(10,5))\n",
    "mask = np.zeros_like(data.corr())\n",
    "mask[np.triu_indices_from(mask)] = True\n",
    "sns.heatmap(data.corr(), cmap='viridis', annot=True,mask=mask)"
   ]
  },
  {
   "attachments": {},
   "cell_type": "markdown",
   "metadata": {},
   "source": [
    "#### Season and Month"
   ]
  },
  {
   "cell_type": "code",
   "execution_count": 65,
   "metadata": {},
   "outputs": [
    {
     "data": {
      "text/plain": [
       "season  month\n",
       "1       1        134933\n",
       "        2        151352\n",
       "        3        142065\n",
       "        12        42998\n",
       "2       3         86855\n",
       "        4        269094\n",
       "        5        331686\n",
       "        6        230954\n",
       "3       6        115388\n",
       "        7        344948\n",
       "        8        351194\n",
       "        9        249599\n",
       "4       9         96392\n",
       "        10       322352\n",
       "        11       254831\n",
       "        12       168038\n",
       "Name: count, dtype: int64"
      ]
     },
     "execution_count": 65,
     "metadata": {},
     "output_type": "execute_result"
    }
   ],
   "source": [
    "data.groupby(by=['season','month'])['count'].agg('sum')"
   ]
  },
  {
   "cell_type": "code",
   "execution_count": 66,
   "metadata": {},
   "outputs": [
    {
     "data": {
      "text/html": [
       "<div>\n",
       "<style scoped>\n",
       "    .dataframe tbody tr th:only-of-type {\n",
       "        vertical-align: middle;\n",
       "    }\n",
       "\n",
       "    .dataframe tbody tr th {\n",
       "        vertical-align: top;\n",
       "    }\n",
       "\n",
       "    .dataframe thead th {\n",
       "        text-align: right;\n",
       "    }\n",
       "</style>\n",
       "<table border=\"1\" class=\"dataframe\">\n",
       "  <thead>\n",
       "    <tr style=\"text-align: right;\">\n",
       "      <th></th>\n",
       "      <th>month</th>\n",
       "      <th>season</th>\n",
       "      <th>count</th>\n",
       "    </tr>\n",
       "  </thead>\n",
       "  <tbody>\n",
       "    <tr>\n",
       "      <th>month</th>\n",
       "      <td>1.000000</td>\n",
       "      <td>0.830386</td>\n",
       "      <td>0.120638</td>\n",
       "    </tr>\n",
       "    <tr>\n",
       "      <th>season</th>\n",
       "      <td>0.830386</td>\n",
       "      <td>1.000000</td>\n",
       "      <td>0.178056</td>\n",
       "    </tr>\n",
       "    <tr>\n",
       "      <th>count</th>\n",
       "      <td>0.120638</td>\n",
       "      <td>0.178056</td>\n",
       "      <td>1.000000</td>\n",
       "    </tr>\n",
       "  </tbody>\n",
       "</table>\n",
       "</div>"
      ],
      "text/plain": [
       "           month    season     count\n",
       "month   1.000000  0.830386  0.120638\n",
       "season  0.830386  1.000000  0.178056\n",
       "count   0.120638  0.178056  1.000000"
      ]
     },
     "execution_count": 66,
     "metadata": {},
     "output_type": "execute_result"
    }
   ],
   "source": [
    "data[['month','season','count']].corr()"
   ]
  },
  {
   "attachments": {},
   "cell_type": "markdown",
   "metadata": {},
   "source": [
    "##### need to drop season column"
   ]
  },
  {
   "cell_type": "code",
   "execution_count": 67,
   "metadata": {},
   "outputs": [
    {
     "data": {
      "text/html": [
       "<div>\n",
       "<style scoped>\n",
       "    .dataframe tbody tr th:only-of-type {\n",
       "        vertical-align: middle;\n",
       "    }\n",
       "\n",
       "    .dataframe tbody tr th {\n",
       "        vertical-align: top;\n",
       "    }\n",
       "\n",
       "    .dataframe thead th {\n",
       "        text-align: right;\n",
       "    }\n",
       "</style>\n",
       "<table border=\"1\" class=\"dataframe\">\n",
       "  <thead>\n",
       "    <tr style=\"text-align: right;\">\n",
       "      <th></th>\n",
       "      <th>month</th>\n",
       "      <th>hour</th>\n",
       "      <th>holiday</th>\n",
       "      <th>weekday</th>\n",
       "      <th>working</th>\n",
       "      <th>weathersit</th>\n",
       "      <th>temp</th>\n",
       "      <th>humidity</th>\n",
       "      <th>windspeed</th>\n",
       "      <th>count</th>\n",
       "    </tr>\n",
       "  </thead>\n",
       "  <tbody>\n",
       "    <tr>\n",
       "      <th>0</th>\n",
       "      <td>1</td>\n",
       "      <td>0</td>\n",
       "      <td>0</td>\n",
       "      <td>6</td>\n",
       "      <td>0</td>\n",
       "      <td>1</td>\n",
       "      <td>0.24</td>\n",
       "      <td>0.81</td>\n",
       "      <td>0.0000</td>\n",
       "      <td>16</td>\n",
       "    </tr>\n",
       "    <tr>\n",
       "      <th>1</th>\n",
       "      <td>1</td>\n",
       "      <td>1</td>\n",
       "      <td>0</td>\n",
       "      <td>6</td>\n",
       "      <td>0</td>\n",
       "      <td>1</td>\n",
       "      <td>0.22</td>\n",
       "      <td>0.80</td>\n",
       "      <td>0.0000</td>\n",
       "      <td>40</td>\n",
       "    </tr>\n",
       "    <tr>\n",
       "      <th>2</th>\n",
       "      <td>1</td>\n",
       "      <td>2</td>\n",
       "      <td>0</td>\n",
       "      <td>6</td>\n",
       "      <td>0</td>\n",
       "      <td>1</td>\n",
       "      <td>0.22</td>\n",
       "      <td>0.80</td>\n",
       "      <td>0.0000</td>\n",
       "      <td>32</td>\n",
       "    </tr>\n",
       "    <tr>\n",
       "      <th>3</th>\n",
       "      <td>1</td>\n",
       "      <td>3</td>\n",
       "      <td>0</td>\n",
       "      <td>6</td>\n",
       "      <td>0</td>\n",
       "      <td>1</td>\n",
       "      <td>0.24</td>\n",
       "      <td>0.75</td>\n",
       "      <td>0.0000</td>\n",
       "      <td>13</td>\n",
       "    </tr>\n",
       "    <tr>\n",
       "      <th>4</th>\n",
       "      <td>1</td>\n",
       "      <td>4</td>\n",
       "      <td>0</td>\n",
       "      <td>6</td>\n",
       "      <td>0</td>\n",
       "      <td>1</td>\n",
       "      <td>0.24</td>\n",
       "      <td>0.75</td>\n",
       "      <td>0.0000</td>\n",
       "      <td>1</td>\n",
       "    </tr>\n",
       "    <tr>\n",
       "      <th>...</th>\n",
       "      <td>...</td>\n",
       "      <td>...</td>\n",
       "      <td>...</td>\n",
       "      <td>...</td>\n",
       "      <td>...</td>\n",
       "      <td>...</td>\n",
       "      <td>...</td>\n",
       "      <td>...</td>\n",
       "      <td>...</td>\n",
       "      <td>...</td>\n",
       "    </tr>\n",
       "    <tr>\n",
       "      <th>17374</th>\n",
       "      <td>12</td>\n",
       "      <td>19</td>\n",
       "      <td>0</td>\n",
       "      <td>1</td>\n",
       "      <td>1</td>\n",
       "      <td>2</td>\n",
       "      <td>0.26</td>\n",
       "      <td>0.60</td>\n",
       "      <td>0.1642</td>\n",
       "      <td>119</td>\n",
       "    </tr>\n",
       "    <tr>\n",
       "      <th>17375</th>\n",
       "      <td>12</td>\n",
       "      <td>20</td>\n",
       "      <td>0</td>\n",
       "      <td>1</td>\n",
       "      <td>1</td>\n",
       "      <td>2</td>\n",
       "      <td>0.26</td>\n",
       "      <td>0.60</td>\n",
       "      <td>0.1642</td>\n",
       "      <td>89</td>\n",
       "    </tr>\n",
       "    <tr>\n",
       "      <th>17376</th>\n",
       "      <td>12</td>\n",
       "      <td>21</td>\n",
       "      <td>0</td>\n",
       "      <td>1</td>\n",
       "      <td>1</td>\n",
       "      <td>1</td>\n",
       "      <td>0.26</td>\n",
       "      <td>0.60</td>\n",
       "      <td>0.1642</td>\n",
       "      <td>90</td>\n",
       "    </tr>\n",
       "    <tr>\n",
       "      <th>17377</th>\n",
       "      <td>12</td>\n",
       "      <td>22</td>\n",
       "      <td>0</td>\n",
       "      <td>1</td>\n",
       "      <td>1</td>\n",
       "      <td>1</td>\n",
       "      <td>0.26</td>\n",
       "      <td>0.56</td>\n",
       "      <td>0.1343</td>\n",
       "      <td>61</td>\n",
       "    </tr>\n",
       "    <tr>\n",
       "      <th>17378</th>\n",
       "      <td>12</td>\n",
       "      <td>23</td>\n",
       "      <td>0</td>\n",
       "      <td>1</td>\n",
       "      <td>1</td>\n",
       "      <td>1</td>\n",
       "      <td>0.26</td>\n",
       "      <td>0.65</td>\n",
       "      <td>0.1343</td>\n",
       "      <td>49</td>\n",
       "    </tr>\n",
       "  </tbody>\n",
       "</table>\n",
       "<p>17379 rows × 10 columns</p>\n",
       "</div>"
      ],
      "text/plain": [
       "       month  hour  holiday  weekday  working  weathersit  temp  humidity  \\\n",
       "0          1     0        0        6        0           1  0.24      0.81   \n",
       "1          1     1        0        6        0           1  0.22      0.80   \n",
       "2          1     2        0        6        0           1  0.22      0.80   \n",
       "3          1     3        0        6        0           1  0.24      0.75   \n",
       "4          1     4        0        6        0           1  0.24      0.75   \n",
       "...      ...   ...      ...      ...      ...         ...   ...       ...   \n",
       "17374     12    19        0        1        1           2  0.26      0.60   \n",
       "17375     12    20        0        1        1           2  0.26      0.60   \n",
       "17376     12    21        0        1        1           1  0.26      0.60   \n",
       "17377     12    22        0        1        1           1  0.26      0.56   \n",
       "17378     12    23        0        1        1           1  0.26      0.65   \n",
       "\n",
       "       windspeed  count  \n",
       "0         0.0000     16  \n",
       "1         0.0000     40  \n",
       "2         0.0000     32  \n",
       "3         0.0000     13  \n",
       "4         0.0000      1  \n",
       "...          ...    ...  \n",
       "17374     0.1642    119  \n",
       "17375     0.1642     89  \n",
       "17376     0.1642     90  \n",
       "17377     0.1343     61  \n",
       "17378     0.1343     49  \n",
       "\n",
       "[17379 rows x 10 columns]"
      ]
     },
     "execution_count": 67,
     "metadata": {},
     "output_type": "execute_result"
    }
   ],
   "source": [
    "data = data.drop(columns='season')\n",
    "data"
   ]
  },
  {
   "cell_type": "code",
   "execution_count": 68,
   "metadata": {},
   "outputs": [
    {
     "data": {
      "text/plain": [
       "['season', 'month', 'holiday', 'weekday', 'working', 'weathersit', 'hour']"
      ]
     },
     "execution_count": 68,
     "metadata": {},
     "output_type": "execute_result"
    }
   ],
   "source": [
    "categorical_cols"
   ]
  },
  {
   "cell_type": "code",
   "execution_count": 69,
   "metadata": {},
   "outputs": [
    {
     "data": {
      "text/plain": [
       "'season'"
      ]
     },
     "execution_count": 69,
     "metadata": {},
     "output_type": "execute_result"
    }
   ],
   "source": [
    "categorical_cols.pop(0)"
   ]
  },
  {
   "cell_type": "code",
   "execution_count": 70,
   "metadata": {},
   "outputs": [
    {
     "name": "stdout",
     "output_type": "stream",
     "text": [
      "['month', 'holiday', 'weekday', 'working', 'weathersit', 'hour']\n",
      "['temp', 'humidity', 'windspeed', 'count']\n"
     ]
    }
   ],
   "source": [
    "print(categorical_cols)\n",
    "print(numerical_cols)"
   ]
  },
  {
   "cell_type": "code",
   "execution_count": 71,
   "metadata": {},
   "outputs": [],
   "source": [
    "X = data.iloc[:,:-1]\n",
    "y = data.iloc[:,-1]"
   ]
  },
  {
   "cell_type": "code",
   "execution_count": 72,
   "metadata": {},
   "outputs": [],
   "source": [
    "from sklearn.preprocessing import StandardScaler"
   ]
  },
  {
   "cell_type": "code",
   "execution_count": 73,
   "metadata": {},
   "outputs": [],
   "source": [
    "ss = StandardScaler()"
   ]
  },
  {
   "cell_type": "code",
   "execution_count": 74,
   "metadata": {},
   "outputs": [],
   "source": [
    "from sklearn.model_selection import train_test_split"
   ]
  },
  {
   "cell_type": "code",
   "execution_count": 75,
   "metadata": {},
   "outputs": [
    {
     "data": {
      "text/plain": [
       "((12165, 9), (5214, 9), (12165,), (5214,))"
      ]
     },
     "execution_count": 75,
     "metadata": {},
     "output_type": "execute_result"
    }
   ],
   "source": [
    "X_train, X_test, y_train, y_test = train_test_split(X,y,test_size=0.3,shuffle=True,random_state=25)\n",
    "X_train.shape,X_test.shape, y_train.shape, y_test.shape"
   ]
  },
  {
   "cell_type": "code",
   "execution_count": 76,
   "metadata": {},
   "outputs": [],
   "source": [
    "X_train = ss.fit_transform(X_train)\n",
    "X_test = ss.transform(X_test)"
   ]
  },
  {
   "cell_type": "code",
   "execution_count": 77,
   "metadata": {},
   "outputs": [],
   "source": [
    "import xgboost as xgb\n",
    "\n",
    "from sklearn.metrics import r2_score, mean_absolute_error, mean_squared_error\n",
    "from sklearn.model_selection import cross_val_score, KFold\n",
    "\n",
    "from sklearn.ensemble import RandomForestRegressor\n",
    "from sklearn.linear_model import LinearRegression\n",
    "from sklearn.svm import SVR\n",
    "from xgboost import XGBRegressor\n",
    "from catboost import CatBoostRegressor"
   ]
  },
  {
   "cell_type": "code",
   "execution_count": 78,
   "metadata": {},
   "outputs": [],
   "source": [
    "def cross_val_models(X, y, cv, scoring='neg_mean_squared_error',n_jobs=-1):\n",
    "    xgb = XGBRegressor()\n",
    "    xgb_scores = cross_val_score(xgb, X, y, cv=cv, scoring=scoring)\n",
    "    print(\"Cross validation score for XGBRegressor: \", xgb_scores)\n",
    "    print()\n",
    "    print(\"RMSE Cross validation score for XGBRegressor: \", np.sqrt(-np.mean(xgb_scores)))\n",
    "    print(\"\\n\\n\")\n",
    "\n",
    "    #catb = CatBoostRegressor()\n",
    "    #catb_scores = cross_val_score(catb, X, y, cv=cv, scoring=scoring)\n",
    "    #print(\"Cross validation score for CATBoostRegressor: \", catb_scores)\n",
    "    #print()\n",
    "    #print(\"RMSE Cross validation score for CATBoostRegressor: \", np.sqrt(-np.mean(catb_scores)))\n",
    "    #print(\"\\n\\n\")\n",
    "\n",
    "    rf = RandomForestRegressor()\n",
    "    rf_scores = cross_val_score(rf, X, y, cv=cv, scoring=scoring)\n",
    "    print(\"Cross validation score for RandomForestRegressor: \", rf_scores)\n",
    "    print()\n",
    "    print(\"RMSE Cross validation score for RandomForestRegressor: \", np.sqrt(-np.mean(rf_scores)))\n",
    "    print(\"\\n\\n\")\n",
    "\n",
    "    lr = LinearRegression()\n",
    "    lr_scores = cross_val_score(lr, X, y, cv=cv, scoring=scoring)\n",
    "    print(\"Cross validation score for LinearRegression: \", lr_scores)\n",
    "    print()\n",
    "    print(\"RMSE Cross validation score for LinearRegression: \", np.sqrt(-np.mean(lr_scores)))\n",
    "    print(\"\\n\\n\")\n",
    "\n",
    "    svm = SVR()\n",
    "    svm_scores = cross_val_score(svm, X, y, cv=cv, scoring=scoring)\n",
    "    print(\"Cross validation score for SVR: \", svm_scores)\n",
    "    print()\n",
    "    print(\"RMSE Cross validation score for SVR: \", np.sqrt(-np.mean(svm_scores)))\n",
    "    print(\"\\n\\n\")\n",
    "    \n",
    "\n"
   ]
  },
  {
   "cell_type": "code",
   "execution_count": 79,
   "metadata": {},
   "outputs": [
    {
     "name": "stdout",
     "output_type": "stream",
     "text": [
      "Cross validation score for XGBRegressor:  [-3619.13546492 -4149.92502921 -3777.58565105 -4170.5805415\n",
      " -4116.26074183 -4576.30320934 -4091.93984216 -4211.65565248\n",
      " -4503.55876901 -4189.6515091 ]\n",
      "\n",
      "RMSE Cross validation score for XGBRegressor:  64.34795755157289\n",
      "\n",
      "\n",
      "\n",
      "Cross validation score for RandomForestRegressor:  [-4199.39538222 -4571.90746207 -4198.79654789 -4559.30807976\n",
      " -4268.87242981 -4929.21357527 -4591.53243286 -4762.83263229\n",
      " -5359.1988646  -4844.78989506]\n",
      "\n",
      "RMSE Cross validation score for RandomForestRegressor:  68.0337028992527\n",
      "\n",
      "\n",
      "\n",
      "Cross validation score for LinearRegression:  [-20412.20456008 -21300.36501427 -20754.94070182 -22082.01660096\n",
      " -22531.90793029 -21601.13185329 -21171.72393364 -23958.3404189\n",
      " -24308.27356081 -21056.59013908]\n",
      "\n",
      "RMSE Cross validation score for LinearRegression:  148.04644362940894\n",
      "\n",
      "\n",
      "\n",
      "Cross validation score for SVR:  [-19193.31724409 -20706.90012759 -19664.92883274 -20896.56608402\n",
      " -20829.9101967  -19982.59745075 -21469.71149414 -23697.60010857\n",
      " -23798.56087102 -20673.05564496]\n",
      "\n",
      "RMSE Cross validation score for SVR:  145.22849171377993\n",
      "\n",
      "\n",
      "\n"
     ]
    }
   ],
   "source": [
    "cross_val_models(X, y, cv=KFold(n_splits=10,shuffle=True,random_state=42), scoring='neg_mean_squared_error',n_jobs=-1)"
   ]
  },
  {
   "cell_type": "code",
   "execution_count": 80,
   "metadata": {},
   "outputs": [],
   "source": [
    "def cross_val_models(X, y, cv, scoring='r2',n_jobs=-1):\n",
    "    xgb = XGBRegressor()\n",
    "    xgb_scores = cross_val_score(xgb, X, y, cv=cv, scoring=scoring)\n",
    "    print(\"Cross validation score for XGBRegressor: \", xgb_scores)\n",
    "    print()\n",
    "    print(\"RMSE Cross validation score for XGBRegressor: \", np.mean(xgb_scores))\n",
    "    print(\"\\n\\n\")\n",
    "    \n",
    "    #catb = CatBoostRegressor()\n",
    "    #catb_scores = cross_val_score(catb, X, y, cv=cv, scoring=scoring)\n",
    "    #print(\"Cross validation score for CATBoostRegressor: \", catb_scores)\n",
    "    #print()\n",
    "    #print(\"RMSE Cross validation score for CATBoostRegressor: \", np.sqrt(-np.mean(catb_scores)))\n",
    "    #print(\"\\n\\n\")\n",
    "\n",
    "    rf = RandomForestRegressor()\n",
    "    rf_scores = cross_val_score(rf, X, y, cv=cv, scoring=scoring)\n",
    "    print(\"Cross validation score for RandomForestRegressor: \", rf_scores)\n",
    "    print()\n",
    "    print(\"RMSE Cross validation score for RandomForestRegressor: \", np.mean(rf_scores))\n",
    "    print(\"\\n\\n\")\n",
    "\n",
    "    lr = LinearRegression()\n",
    "    lr_scores = cross_val_score(lr, X, y, cv=cv, scoring=scoring)\n",
    "    print(\"Cross validation score for LinearRegression: \", lr_scores)\n",
    "    print()\n",
    "    print(\"RMSE Cross validation score for LinearRegression: \", np.mean(lr_scores))\n",
    "    print(\"\\n\\n\")\n",
    "\n",
    "    svm = SVR()\n",
    "    svm_scores = cross_val_score(svm, X, y, cv=cv, scoring=scoring)\n",
    "    print(\"Cross validation score for SVR: \", svm_scores)\n",
    "    print()\n",
    "    print(\"RMSE Cross validation score for SVR: \", np.mean(svm_scores))\n",
    "    print(\"\\n\\n\")\n",
    "    \n"
   ]
  },
  {
   "cell_type": "code",
   "execution_count": 81,
   "metadata": {},
   "outputs": [
    {
     "name": "stdout",
     "output_type": "stream",
     "text": [
      "Cross validation score for XGBRegressor:  [0.88292799 0.87197212 0.879852   0.87389737 0.87356113 0.85437029\n",
      " 0.87802676 0.88104084 0.87251033 0.87198539]\n",
      "\n",
      "RMSE Cross validation score for XGBRegressor:  0.8740144210927021\n",
      "\n",
      "\n",
      "\n",
      "Cross validation score for RandomForestRegressor:  [0.86555212 0.85983226 0.867527   0.85933224 0.8703845  0.84213512\n",
      " 0.86248955 0.86456346 0.84792188 0.85383024]\n",
      "\n",
      "RMSE Cross validation score for RandomForestRegressor:  0.8593568366913384\n",
      "\n",
      "\n",
      "\n",
      "Cross validation score for LinearRegression:  [0.33970477 0.34286991 0.33987874 0.33232307 0.30788907 0.31259654\n",
      " 0.36890965 0.3232913  0.31186559 0.35661687]\n",
      "\n",
      "RMSE Cross validation score for LinearRegression:  0.3335945500600425\n",
      "\n",
      "\n",
      "\n",
      "Cross validation score for SVR:  [0.37913341 0.36117868 0.37454711 0.36816662 0.36016921 0.36410246\n",
      " 0.36002718 0.33065597 0.32629487 0.36833575]\n",
      "\n",
      "RMSE Cross validation score for SVR:  0.3592611262425674\n",
      "\n",
      "\n",
      "\n"
     ]
    }
   ],
   "source": [
    "cross_val_models(X, y, cv=KFold(n_splits=10,shuffle=True,random_state=42),n_jobs=-1)"
   ]
  },
  {
   "attachments": {},
   "cell_type": "markdown",
   "metadata": {},
   "source": [
    "### Hyperparameter Tuning of XGBRegressor using OPTUNA"
   ]
  },
  {
   "cell_type": "code",
   "execution_count": 82,
   "metadata": {},
   "outputs": [],
   "source": [
    "import optuna"
   ]
  },
  {
   "cell_type": "code",
   "execution_count": 83,
   "metadata": {},
   "outputs": [],
   "source": [
    "def objectives(n_trial):\n",
    "\n",
    "    params ={\n",
    "        'objective': 'reg:squarederror',\n",
    "        # \"n_estimators\" : n_trial.suggest_int(\"n_estimators\",100,400),\n",
    "        \"booster\" : n_trial.suggest_categorical(\"booster\", ['gbtree','gblinear','dart']),\n",
    "        \"learning_rate\" : n_trial.suggest_float(\"learning_rate\",1e-4,0.1,log=True),\n",
    "        \"max_depth\" : n_trial.suggest_int(\"max_depth\",5,15),\n",
    "        \"subsample\" : n_trial.suggest_float('subsample',0.01,1.0,log=True),\n",
    "        'reg_alpha': n_trial.suggest_float('reg_alpha', 1e-8, 1.0,log=True),\n",
    "        'reg_lambda': n_trial.suggest_float('reg_lambda', 1e-8, 1.0,log=True),\n",
    "        'gamma' : n_trial.suggest_float('gamma',1e-8, 1.0,log=True),\n",
    "        'min_child_weight': n_trial.suggest_int('min_child_weight', 1, 10),\n",
    "        \"verbosity\":0\n",
    "        #'use_label_encoder': False\n",
    "\n",
    "    }\n",
    "\n",
    "    dtrain = xgb.DMatrix(data = X_train, label = y_train)\n",
    "    dval = xgb.DMatrix(data = X_test, label = y_test)\n",
    "\n",
    "    \n",
    "    regressor = xgb.train(params, dtrain,verbose_eval=False) \n",
    "    y_pred = regressor.predict(dval)\n",
    "    mse = mean_squared_error(y_test, y_pred)\n",
    "\n",
    "    return mse"
   ]
  },
  {
   "cell_type": "code",
   "execution_count": 84,
   "metadata": {},
   "outputs": [
    {
     "name": "stderr",
     "output_type": "stream",
     "text": [
      "\u001b[32m[I 2023-01-14 23:46:25,653]\u001b[0m A new study created in memory with name: no-name-703d56ff-ccd9-4c69-9314-b238c176c436\u001b[0m\n",
      "\u001b[32m[I 2023-01-14 23:46:25,745]\u001b[0m Trial 0 finished with value: 63562.1862460887 and parameters: {'booster': 'gbtree', 'learning_rate': 0.0038957137147158146, 'max_depth': 13, 'subsample': 0.23926481117877718, 'reg_alpha': 0.001425653502347148, 'reg_lambda': 0.06242224706874648, 'gamma': 0.9218902300780626, 'min_child_weight': 1}. Best is trial 0 with value: 63562.1862460887.\u001b[0m\n",
      "\u001b[32m[I 2023-01-14 23:46:25,788]\u001b[0m Trial 1 finished with value: 63728.434762037985 and parameters: {'booster': 'gbtree', 'learning_rate': 0.003973751370634684, 'max_depth': 7, 'subsample': 0.04978019460726513, 'reg_alpha': 0.007054292467476922, 'reg_lambda': 0.00030306364479278477, 'gamma': 0.003870386981705907, 'min_child_weight': 8}. Best is trial 0 with value: 63562.1862460887.\u001b[0m\n",
      "\u001b[32m[I 2023-01-14 23:46:25,818]\u001b[0m Trial 2 finished with value: 55203.10710678233 and parameters: {'booster': 'gbtree', 'learning_rate': 0.012550061155340774, 'max_depth': 7, 'subsample': 0.013992324775523151, 'reg_alpha': 4.804907326276213e-08, 'reg_lambda': 0.00010747742055646746, 'gamma': 4.202854204833814e-07, 'min_child_weight': 1}. Best is trial 2 with value: 55203.10710678233.\u001b[0m\n",
      "\u001b[32m[I 2023-01-14 23:46:25,891]\u001b[0m Trial 3 finished with value: 25016.784775419364 and parameters: {'booster': 'dart', 'learning_rate': 0.05748971554553186, 'max_depth': 10, 'subsample': 0.49917322766080013, 'reg_alpha': 0.0025222944271210525, 'reg_lambda': 0.06864133062051647, 'gamma': 6.57104566453023e-05, 'min_child_weight': 3}. Best is trial 3 with value: 25016.784775419364.\u001b[0m\n",
      "\u001b[32m[I 2023-01-14 23:46:25,923]\u001b[0m Trial 4 finished with value: 66583.70022163844 and parameters: {'booster': 'dart', 'learning_rate': 0.0014699405114401815, 'max_depth': 5, 'subsample': 0.21664123540564215, 'reg_alpha': 0.04823789623600215, 'reg_lambda': 0.0013277187341777397, 'gamma': 0.00862096682589215, 'min_child_weight': 3}. Best is trial 3 with value: 25016.784775419364.\u001b[0m\n",
      "\u001b[32m[I 2023-01-14 23:46:25,957]\u001b[0m Trial 5 finished with value: 60582.10200684832 and parameters: {'booster': 'dart', 'learning_rate': 0.007076890752855721, 'max_depth': 15, 'subsample': 0.023114398330083837, 'reg_alpha': 8.013288625440153e-08, 'reg_lambda': 0.0017991554974210332, 'gamma': 0.00348375948810575, 'min_child_weight': 8}. Best is trial 3 with value: 25016.784775419364.\u001b[0m\n",
      "\u001b[32m[I 2023-01-14 23:46:25,991]\u001b[0m Trial 6 finished with value: 60793.7060204142 and parameters: {'booster': 'dart', 'learning_rate': 0.00657576659457379, 'max_depth': 7, 'subsample': 0.21684302550787338, 'reg_alpha': 1.6897440366296887e-06, 'reg_lambda': 0.06732825998745774, 'gamma': 0.04757088871027844, 'min_child_weight': 4}. Best is trial 3 with value: 25016.784775419364.\u001b[0m\n",
      "\u001b[32m[I 2023-01-14 23:46:26,002]\u001b[0m Trial 7 finished with value: 54311.9890202475 and parameters: {'booster': 'gblinear', 'learning_rate': 0.01622124364521883, 'max_depth': 12, 'subsample': 0.036204085274846275, 'reg_alpha': 1.6882792398556017e-05, 'reg_lambda': 1.0949355857624153e-05, 'gamma': 0.000611776810367004, 'min_child_weight': 3}. Best is trial 3 with value: 25016.784775419364.\u001b[0m\n",
      "\u001b[32m[I 2023-01-14 23:46:26,031]\u001b[0m Trial 8 finished with value: 61865.78251572461 and parameters: {'booster': 'dart', 'learning_rate': 0.005815963322491848, 'max_depth': 6, 'subsample': 0.07008887315099215, 'reg_alpha': 3.8276183211587887e-07, 'reg_lambda': 0.45785346458421416, 'gamma': 0.0167948299437046, 'min_child_weight': 10}. Best is trial 3 with value: 25016.784775419364.\u001b[0m\n",
      "\u001b[32m[I 2023-01-14 23:46:26,041]\u001b[0m Trial 9 finished with value: 51258.22951619846 and parameters: {'booster': 'gblinear', 'learning_rate': 0.021104593510397323, 'max_depth': 10, 'subsample': 0.050983923258204, 'reg_alpha': 1.6348226422593327e-07, 'reg_lambda': 0.0667247174776906, 'gamma': 1.4820670725342626e-05, 'min_child_weight': 2}. Best is trial 3 with value: 25016.784775419364.\u001b[0m\n",
      "\u001b[32m[I 2023-01-14 23:46:26,115]\u001b[0m Trial 10 finished with value: 18751.98328882317 and parameters: {'booster': 'dart', 'learning_rate': 0.07541686374053105, 'max_depth': 10, 'subsample': 0.8903945372175213, 'reg_alpha': 0.812954589753599, 'reg_lambda': 6.404080764691383e-08, 'gamma': 1.898063466253569e-08, 'min_child_weight': 6}. Best is trial 10 with value: 18751.98328882317.\u001b[0m\n",
      "\u001b[32m[I 2023-01-14 23:46:26,188]\u001b[0m Trial 11 finished with value: 17845.22865896213 and parameters: {'booster': 'dart', 'learning_rate': 0.07875664930528717, 'max_depth': 10, 'subsample': 0.9625052780011948, 'reg_alpha': 0.5269290185784804, 'reg_lambda': 1.8036051357811906e-08, 'gamma': 1.0184504633286745e-08, 'min_child_weight': 6}. Best is trial 11 with value: 17845.22865896213.\u001b[0m\n",
      "\u001b[32m[I 2023-01-14 23:46:26,251]\u001b[0m Trial 12 finished with value: 67929.23380999913 and parameters: {'booster': 'dart', 'learning_rate': 0.00020311973340768024, 'max_depth': 9, 'subsample': 0.9701041157780251, 'reg_alpha': 0.9559237617408692, 'reg_lambda': 1.0871926692450954e-08, 'gamma': 1.4969006236710483e-08, 'min_child_weight': 6}. Best is trial 11 with value: 17845.22865896213.\u001b[0m\n",
      "\u001b[32m[I 2023-01-14 23:46:26,354]\u001b[0m Trial 13 finished with value: 13230.042332329092 and parameters: {'booster': 'dart', 'learning_rate': 0.09840131338587978, 'max_depth': 12, 'subsample': 0.920545396983217, 'reg_alpha': 0.8432724773691885, 'reg_lambda': 2.3068193041617585e-08, 'gamma': 1.435412169768991e-08, 'min_child_weight': 6}. Best is trial 13 with value: 13230.042332329092.\u001b[0m\n",
      "\u001b[32m[I 2023-01-14 23:46:26,447]\u001b[0m Trial 14 finished with value: 34601.71918479713 and parameters: {'booster': 'dart', 'learning_rate': 0.03789033948195774, 'max_depth': 12, 'subsample': 0.43021687540823333, 'reg_alpha': 0.035692487362810166, 'reg_lambda': 6.624362248682817e-07, 'gamma': 7.029253400103439e-07, 'min_child_weight': 5}. Best is trial 13 with value: 13230.042332329092.\u001b[0m\n",
      "\u001b[32m[I 2023-01-14 23:46:26,472]\u001b[0m Trial 15 finished with value: 27527.689541135773 and parameters: {'booster': 'gblinear', 'learning_rate': 0.09614640681883042, 'max_depth': 14, 'subsample': 0.4767582754422448, 'reg_alpha': 0.00024508452762681796, 'reg_lambda': 1.724908994232396e-06, 'gamma': 6.378306561134741e-07, 'min_child_weight': 8}. Best is trial 13 with value: 13230.042332329092.\u001b[0m\n",
      "\u001b[32m[I 2023-01-14 23:46:26,640]\u001b[0m Trial 16 finished with value: 67858.50989578004 and parameters: {'booster': 'dart', 'learning_rate': 0.000262558083384848, 'max_depth': 12, 'subsample': 0.1332373629964878, 'reg_alpha': 0.1129666648305327, 'reg_lambda': 1.1104980023216006e-08, 'gamma': 6.6246028470233255e-06, 'min_child_weight': 7}. Best is trial 13 with value: 13230.042332329092.\u001b[0m\n",
      "\u001b[32m[I 2023-01-14 23:46:26,698]\u001b[0m Trial 17 finished with value: 67151.70973867437 and parameters: {'booster': 'dart', 'learning_rate': 0.0008518511194667696, 'max_depth': 8, 'subsample': 0.6433209395048582, 'reg_alpha': 5.8312914775987503e-05, 'reg_lambda': 1.9022761622048414e-07, 'gamma': 1.0384017078064129e-07, 'min_child_weight': 10}. Best is trial 13 with value: 13230.042332329092.\u001b[0m\n",
      "\u001b[32m[I 2023-01-14 23:46:26,724]\u001b[0m Trial 18 finished with value: 43832.53355025566 and parameters: {'booster': 'gblinear', 'learning_rate': 0.034013345039252664, 'max_depth': 11, 'subsample': 0.11629743260236511, 'reg_alpha': 0.17862195717057827, 'reg_lambda': 8.81663823328307e-06, 'gamma': 1.0389851317948064e-08, 'min_child_weight': 5}. Best is trial 13 with value: 13230.042332329092.\u001b[0m\n",
      "\u001b[32m[I 2023-01-14 23:46:26,800]\u001b[0m Trial 19 finished with value: 36835.357510261 and parameters: {'booster': 'gbtree', 'learning_rate': 0.03449449648209468, 'max_depth': 14, 'subsample': 0.3324830322552177, 'reg_alpha': 0.012052479708371346, 'reg_lambda': 8.309631056446281e-08, 'gamma': 1.230031100423759e-07, 'min_child_weight': 7}. Best is trial 13 with value: 13230.042332329092.\u001b[0m\n",
      "\u001b[32m[I 2023-01-14 23:46:26,870]\u001b[0m Trial 20 finished with value: 66202.25727432863 and parameters: {'booster': 'dart', 'learning_rate': 0.001624871414226746, 'max_depth': 9, 'subsample': 0.6976832366042993, 'reg_alpha': 0.0006967693023076294, 'reg_lambda': 5.1806620295477995e-06, 'gamma': 1.3518946712070334e-05, 'min_child_weight': 4}. Best is trial 13 with value: 13230.042332329092.\u001b[0m\n",
      "\u001b[32m[I 2023-01-14 23:46:26,952]\u001b[0m Trial 21 finished with value: 13857.479537963192 and parameters: {'booster': 'dart', 'learning_rate': 0.09646845793779352, 'max_depth': 10, 'subsample': 0.9652200716460357, 'reg_alpha': 0.2537289256412653, 'reg_lambda': 7.644648689593478e-08, 'gamma': 5.778551961921852e-08, 'min_child_weight': 6}. Best is trial 13 with value: 13230.042332329092.\u001b[0m\n",
      "\u001b[32m[I 2023-01-14 23:46:27,041]\u001b[0m Trial 22 finished with value: 14249.09935153527 and parameters: {'booster': 'dart', 'learning_rate': 0.09380585351495456, 'max_depth': 11, 'subsample': 0.960225208526203, 'reg_alpha': 0.27494098494068614, 'reg_lambda': 3.172877817276716e-07, 'gamma': 8.150706420966578e-08, 'min_child_weight': 7}. Best is trial 13 with value: 13230.042332329092.\u001b[0m\n",
      "\u001b[32m[I 2023-01-14 23:46:27,115]\u001b[0m Trial 23 finished with value: 27747.641105959487 and parameters: {'booster': 'dart', 'learning_rate': 0.051106542744015125, 'max_depth': 11, 'subsample': 0.3380610696192187, 'reg_alpha': 0.16988497457033064, 'reg_lambda': 5.162833833300718e-07, 'gamma': 1.140909162198309e-07, 'min_child_weight': 7}. Best is trial 13 with value: 13230.042332329092.\u001b[0m\n",
      "\u001b[32m[I 2023-01-14 23:46:27,209]\u001b[0m Trial 24 finished with value: 43583.29323702618 and parameters: {'booster': 'dart', 'learning_rate': 0.024691130688825114, 'max_depth': 13, 'subsample': 0.6448886225681164, 'reg_alpha': 0.025426425693951198, 'reg_lambda': 8.14950346017482e-08, 'gamma': 1.8838589898205402e-06, 'min_child_weight': 9}. Best is trial 13 with value: 13230.042332329092.\u001b[0m\n",
      "\u001b[32m[I 2023-01-14 23:46:27,294]\u001b[0m Trial 25 finished with value: 13675.596567964283 and parameters: {'booster': 'dart', 'learning_rate': 0.09671200897088707, 'max_depth': 11, 'subsample': 0.6081459547706578, 'reg_alpha': 0.16284051680123293, 'reg_lambda': 1.58482139233615e-06, 'gamma': 9.692412925303456e-08, 'min_child_weight': 5}. Best is trial 13 with value: 13230.042332329092.\u001b[0m\n",
      "\u001b[32m[I 2023-01-14 23:46:27,358]\u001b[0m Trial 26 finished with value: 54694.151677789225 and parameters: {'booster': 'dart', 'learning_rate': 0.012308105102668164, 'max_depth': 9, 'subsample': 0.3304414138281233, 'reg_alpha': 0.0060369567524422695, 'reg_lambda': 1.7132549023217474e-06, 'gamma': 4.110121905155355e-08, 'min_child_weight': 5}. Best is trial 13 with value: 13230.042332329092.\u001b[0m\n",
      "\u001b[32m[I 2023-01-14 23:46:27,430]\u001b[0m Trial 27 finished with value: 26765.61211071237 and parameters: {'booster': 'dart', 'learning_rate': 0.053183307978025327, 'max_depth': 13, 'subsample': 0.16566736014495084, 'reg_alpha': 1.3466995191155582e-08, 'reg_lambda': 4.406084066334038e-08, 'gamma': 2.484257098738953e-06, 'min_child_weight': 4}. Best is trial 13 with value: 13230.042332329092.\u001b[0m\n",
      "\u001b[32m[I 2023-01-14 23:46:27,459]\u001b[0m Trial 28 finished with value: 67711.3470758664 and parameters: {'booster': 'gblinear', 'learning_rate': 0.00046248356148943396, 'max_depth': 11, 'subsample': 0.5972792265993856, 'reg_alpha': 0.0827367123753403, 'reg_lambda': 4.300786845267901e-05, 'gamma': 3.38788198534909e-07, 'min_child_weight': 6}. Best is trial 13 with value: 13230.042332329092.\u001b[0m\n",
      "\u001b[32m[I 2023-01-14 23:46:27,527]\u001b[0m Trial 29 finished with value: 43169.11103319491 and parameters: {'booster': 'gbtree', 'learning_rate': 0.02539356802833664, 'max_depth': 12, 'subsample': 0.2787874415425819, 'reg_alpha': 0.0013555237590470812, 'reg_lambda': 2.944161480928111e-06, 'gamma': 5.5097974177268494e-05, 'min_child_weight': 5}. Best is trial 13 with value: 13230.042332329092.\u001b[0m\n",
      "\u001b[32m[I 2023-01-14 23:46:27,622]\u001b[0m Trial 30 finished with value: 68044.14482113866 and parameters: {'booster': 'gbtree', 'learning_rate': 0.00010746299293677536, 'max_depth': 14, 'subsample': 0.42792928881771175, 'reg_alpha': 1.0167558997278231e-05, 'reg_lambda': 3.170838618139977e-05, 'gamma': 0.7346451333364706, 'min_child_weight': 4}. Best is trial 13 with value: 13230.042332329092.\u001b[0m\n",
      "\u001b[32m[I 2023-01-14 23:46:27,710]\u001b[0m Trial 31 finished with value: 13822.433965774839 and parameters: {'booster': 'dart', 'learning_rate': 0.09572552704760788, 'max_depth': 11, 'subsample': 0.7738433464999054, 'reg_alpha': 0.5595392355755495, 'reg_lambda': 2.8383173260693363e-07, 'gamma': 6.459612975764254e-08, 'min_child_weight': 7}. Best is trial 13 with value: 13230.042332329092.\u001b[0m\n",
      "\u001b[32m[I 2023-01-14 23:46:27,801]\u001b[0m Trial 32 finished with value: 29105.480848937597 and parameters: {'booster': 'dart', 'learning_rate': 0.04759987247614485, 'max_depth': 13, 'subsample': 0.6921605688157806, 'reg_alpha': 0.34734024170365274, 'reg_lambda': 1.6449724255548188e-07, 'gamma': 6.053383222804025e-08, 'min_child_weight': 8}. Best is trial 13 with value: 13230.042332329092.\u001b[0m\n",
      "\u001b[32m[I 2023-01-14 23:46:27,890]\u001b[0m Trial 33 finished with value: 21233.565079498716 and parameters: {'booster': 'dart', 'learning_rate': 0.06678164980360421, 'max_depth': 11, 'subsample': 0.7486043441137067, 'reg_alpha': 0.017511267409434535, 'reg_lambda': 7.446894803606283e-07, 'gamma': 2.772969020519814e-07, 'min_child_weight': 6}. Best is trial 13 with value: 13230.042332329092.\u001b[0m\n",
      "\u001b[32m[I 2023-01-14 23:46:27,968]\u001b[0m Trial 34 finished with value: 15596.952753087528 and parameters: {'booster': 'dart', 'learning_rate': 0.0881687870843514, 'max_depth': 10, 'subsample': 0.5056454025045065, 'reg_alpha': 0.004480893281786451, 'reg_lambda': 3.6416154077844786e-08, 'gamma': 3.232223516275195e-08, 'min_child_weight': 7}. Best is trial 13 with value: 13230.042332329092.\u001b[0m\n",
      "\u001b[32m[I 2023-01-14 23:46:28,023]\u001b[0m Trial 35 finished with value: 56487.08147107766 and parameters: {'booster': 'gbtree', 'learning_rate': 0.01063983033089261, 'max_depth': 8, 'subsample': 0.4394264209234668, 'reg_alpha': 0.06440519694641031, 'reg_lambda': 1.9658555585419677e-07, 'gamma': 1.070066704223303e-06, 'min_child_weight': 9}. Best is trial 13 with value: 13230.042332329092.\u001b[0m\n",
      "\u001b[32m[I 2023-01-14 23:46:28,118]\u001b[0m Trial 36 finished with value: 12950.753961761135 and parameters: {'booster': 'dart', 'learning_rate': 0.09951782485791763, 'max_depth': 12, 'subsample': 0.7853311940855063, 'reg_alpha': 0.9714426712372211, 'reg_lambda': 0.0011718907522208348, 'gamma': 1.9242560520918778e-07, 'min_child_weight': 5}. Best is trial 36 with value: 12950.753961761135.\u001b[0m\n",
      "\u001b[32m[I 2023-01-14 23:46:28,189]\u001b[0m Trial 37 finished with value: 64898.4000607001 and parameters: {'booster': 'dart', 'learning_rate': 0.0027291686083084307, 'max_depth': 12, 'subsample': 0.17183301834792414, 'reg_alpha': 0.448409989280814, 'reg_lambda': 0.0006154455874452216, 'gamma': 2.3247984880357807e-07, 'min_child_weight': 5}. Best is trial 36 with value: 12950.753961761135.\u001b[0m\n",
      "\u001b[32m[I 2023-01-14 23:46:28,293]\u001b[0m Trial 38 finished with value: 29283.219178745978 and parameters: {'booster': 'dart', 'learning_rate': 0.04717301253377956, 'max_depth': 15, 'subsample': 0.26274868464089446, 'reg_alpha': 0.9430519418437507, 'reg_lambda': 0.008827582211447608, 'gamma': 2.0999697995360495e-06, 'min_child_weight': 2}. Best is trial 36 with value: 12950.753961761135.\u001b[0m\n",
      "\u001b[32m[I 2023-01-14 23:46:28,345]\u001b[0m Trial 39 finished with value: 50155.20364382488 and parameters: {'booster': 'dart', 'learning_rate': 0.01863485941993082, 'max_depth': 12, 'subsample': 0.017376927515877175, 'reg_alpha': 0.05105302726971314, 'reg_lambda': 0.002514739769940611, 'gamma': 0.0002466413787326071, 'min_child_weight': 4}. Best is trial 36 with value: 12950.753961761135.\u001b[0m\n",
      "\u001b[32m[I 2023-01-14 23:46:28,408]\u001b[0m Trial 40 finished with value: 38161.10814266601 and parameters: {'booster': 'gbtree', 'learning_rate': 0.032737779428939545, 'max_depth': 13, 'subsample': 0.08486240888016781, 'reg_alpha': 0.1059160858095964, 'reg_lambda': 0.00016269178762853197, 'gamma': 6.000002674562981e-06, 'min_child_weight': 3}. Best is trial 36 with value: 12950.753961761135.\u001b[0m\n",
      "\u001b[32m[I 2023-01-14 23:46:28,496]\u001b[0m Trial 41 finished with value: 23043.70636832918 and parameters: {'booster': 'dart', 'learning_rate': 0.06208443373386495, 'max_depth': 11, 'subsample': 0.5549876812469376, 'reg_alpha': 0.2812170893216236, 'reg_lambda': 0.004525260677450577, 'gamma': 2.9248372341012792e-08, 'min_child_weight': 6}. Best is trial 36 with value: 12950.753961761135.\u001b[0m\n",
      "\u001b[32m[I 2023-01-14 23:46:28,570]\u001b[0m Trial 42 finished with value: 21173.159241111018 and parameters: {'booster': 'dart', 'learning_rate': 0.06745372069598038, 'max_depth': 10, 'subsample': 0.7780638318719447, 'reg_alpha': 0.2436261754106998, 'reg_lambda': 0.0004891750091613754, 'gamma': 1.799774060880597e-07, 'min_child_weight': 5}. Best is trial 36 with value: 12950.753961761135.\u001b[0m\n",
      "\u001b[32m[I 2023-01-14 23:46:28,662]\u001b[0m Trial 43 finished with value: 15068.533367708505 and parameters: {'booster': 'dart', 'learning_rate': 0.08967370579914427, 'max_depth': 12, 'subsample': 0.8440238443095579, 'reg_alpha': 0.01285060967552624, 'reg_lambda': 0.016587755982446457, 'gamma': 4.090493897592639e-08, 'min_child_weight': 8}. Best is trial 36 with value: 12950.753961761135.\u001b[0m\n",
      "\u001b[32m[I 2023-01-14 23:46:28,731]\u001b[0m Trial 44 finished with value: 34226.10719690401 and parameters: {'booster': 'dart', 'learning_rate': 0.039096328761444116, 'max_depth': 9, 'subsample': 0.5581664668531304, 'reg_alpha': 0.9777561713035868, 'reg_lambda': 3.644691488881673e-08, 'gamma': 2.2299005343047286e-08, 'min_child_weight': 6}. Best is trial 36 with value: 12950.753961761135.\u001b[0m\n",
      "\u001b[32m[I 2023-01-14 23:46:28,810]\u001b[0m Trial 45 finished with value: 23436.273658943643 and parameters: {'booster': 'dart', 'learning_rate': 0.06105796436640747, 'max_depth': 10, 'subsample': 0.8335710886223429, 'reg_alpha': 0.4225949189689039, 'reg_lambda': 3.262171241190199e-05, 'gamma': 0.001359609534639933, 'min_child_weight': 7}. Best is trial 36 with value: 12950.753961761135.\u001b[0m\n",
      "\u001b[32m[I 2023-01-14 23:46:28,837]\u001b[0m Trial 46 finished with value: 61169.859939762435 and parameters: {'booster': 'gblinear', 'learning_rate': 0.008755510281767161, 'max_depth': 11, 'subsample': 0.030403800985823126, 'reg_alpha': 0.039495817204886444, 'reg_lambda': 0.9284333298449496, 'gamma': 5.948480234528176e-07, 'min_child_weight': 6}. Best is trial 36 with value: 12950.753961761135.\u001b[0m\n",
      "\u001b[32m[I 2023-01-14 23:46:28,896]\u001b[0m Trial 47 finished with value: 14447.710418904147 and parameters: {'booster': 'dart', 'learning_rate': 0.09766349735402546, 'max_depth': 8, 'subsample': 0.9846884646061878, 'reg_alpha': 0.1254768238955318, 'reg_lambda': 1.8415880002672017e-08, 'gamma': 6.195454408626643e-08, 'min_child_weight': 5}. Best is trial 36 with value: 12950.753961761135.\u001b[0m\n",
      "\u001b[32m[I 2023-01-14 23:46:28,947]\u001b[0m Trial 48 finished with value: 53184.291170502045 and parameters: {'booster': 'dart', 'learning_rate': 0.015769935967045626, 'max_depth': 5, 'subsample': 0.4045982507421692, 'reg_alpha': 2.0493015914920134e-06, 'reg_lambda': 1.2902678889619994e-06, 'gamma': 1.0217667790186995e-08, 'min_child_weight': 8}. Best is trial 36 with value: 12950.753961761135.\u001b[0m\n",
      "\u001b[32m[I 2023-01-14 23:46:29,040]\u001b[0m Trial 49 finished with value: 63313.19000435182 and parameters: {'booster': 'dart', 'learning_rate': 0.004048429701584204, 'max_depth': 12, 'subsample': 0.7646127922974247, 'reg_alpha': 0.5136840860664138, 'reg_lambda': 1.3214134155805157e-07, 'gamma': 2.2454542821756123e-07, 'min_child_weight': 7}. Best is trial 36 with value: 12950.753961761135.\u001b[0m\n",
      "\u001b[32m[I 2023-01-14 23:46:29,100]\u001b[0m Trial 50 finished with value: 42601.93210263229 and parameters: {'booster': 'dart', 'learning_rate': 0.02650026563897224, 'max_depth': 10, 'subsample': 0.052827969029483814, 'reg_alpha': 0.06096801798357319, 'reg_lambda': 2.4661828442290774e-08, 'gamma': 2.0826035782802457e-08, 'min_child_weight': 2}. Best is trial 36 with value: 12950.753961761135.\u001b[0m\n",
      "\u001b[32m[I 2023-01-14 23:46:29,191]\u001b[0m Trial 51 finished with value: 19068.82619782433 and parameters: {'booster': 'dart', 'learning_rate': 0.07378406454819585, 'max_depth': 11, 'subsample': 0.9181020315220682, 'reg_alpha': 0.27440301580982307, 'reg_lambda': 5.998881814561367e-07, 'gamma': 7.492090552381535e-08, 'min_child_weight': 7}. Best is trial 36 with value: 12950.753961761135.\u001b[0m\n",
      "\u001b[32m[I 2023-01-14 23:46:29,287]\u001b[0m Trial 52 finished with value: 14684.447586090184 and parameters: {'booster': 'dart', 'learning_rate': 0.09191953810434803, 'max_depth': 11, 'subsample': 0.9833344648403687, 'reg_alpha': 0.16308426057718547, 'reg_lambda': 2.407771223390134e-07, 'gamma': 7.4956513005592e-08, 'min_child_weight': 6}. Best is trial 36 with value: 12950.753961761135.\u001b[0m\n",
      "\u001b[32m[I 2023-01-14 23:46:29,367]\u001b[0m Trial 53 finished with value: 31034.05711042912 and parameters: {'booster': 'dart', 'learning_rate': 0.044355586179756934, 'max_depth': 10, 'subsample': 0.6157986816498808, 'reg_alpha': 0.6401625123862525, 'reg_lambda': 3.9163778511501574e-07, 'gamma': 1.4203679379013712e-07, 'min_child_weight': 6}. Best is trial 36 with value: 12950.753961761135.\u001b[0m\n",
      "\u001b[32m[I 2023-01-14 23:46:29,461]\u001b[0m Trial 54 finished with value: 13161.931323478699 and parameters: {'booster': 'dart', 'learning_rate': 0.09919798064421187, 'max_depth': 12, 'subsample': 0.5273159894506126, 'reg_alpha': 0.026338254765791297, 'reg_lambda': 9.266817252119619e-08, 'gamma': 1.185094679521512e-06, 'min_child_weight': 5}. Best is trial 36 with value: 12950.753961761135.\u001b[0m\n",
      "\u001b[32m[I 2023-01-14 23:46:29,488]\u001b[0m Trial 55 finished with value: 32062.94255976484 and parameters: {'booster': 'gblinear', 'learning_rate': 0.06899253638398445, 'max_depth': 12, 'subsample': 0.010926864161877561, 'reg_alpha': 0.03507202740694855, 'reg_lambda': 7.056708482047252e-08, 'gamma': 5.87437044504508e-07, 'min_child_weight': 4}. Best is trial 36 with value: 12950.753961761135.\u001b[0m\n",
      "\u001b[32m[I 2023-01-14 23:46:29,580]\u001b[0m Trial 56 finished with value: 26305.198991221027 and parameters: {'booster': 'dart', 'learning_rate': 0.053916417984915144, 'max_depth': 13, 'subsample': 0.37790243563261067, 'reg_alpha': 0.003341745881375623, 'reg_lambda': 1.070330698880734e-08, 'gamma': 9.855483307084453e-07, 'min_child_weight': 5}. Best is trial 36 with value: 12950.753961761135.\u001b[0m\n",
      "\u001b[32m[I 2023-01-14 23:46:29,694]\u001b[0m Trial 57 finished with value: 12934.179290981116 and parameters: {'booster': 'dart', 'learning_rate': 0.09948082386929613, 'max_depth': 14, 'subsample': 0.6744888237730858, 'reg_alpha': 0.0002199041044908951, 'reg_lambda': 1.22667595442369e-07, 'gamma': 3.4506847489235316e-07, 'min_child_weight': 5}. Best is trial 57 with value: 12934.179290981116.\u001b[0m\n",
      "\u001b[32m[I 2023-01-14 23:46:29,807]\u001b[0m Trial 58 finished with value: 18676.749363659026 and parameters: {'booster': 'dart', 'learning_rate': 0.07457326941715425, 'max_depth': 14, 'subsample': 0.5012004149770015, 'reg_alpha': 0.0001476424044183128, 'reg_lambda': 8.718366302664367e-07, 'gamma': 3.942543475863384e-06, 'min_child_weight': 5}. Best is trial 57 with value: 12934.179290981116.\u001b[0m\n",
      "\u001b[32m[I 2023-01-14 23:46:29,939]\u001b[0m Trial 59 finished with value: 39787.29343188874 and parameters: {'booster': 'dart', 'learning_rate': 0.02939941074214325, 'max_depth': 15, 'subsample': 0.6942764636310094, 'reg_alpha': 0.0008285692247928308, 'reg_lambda': 3.686542513396589e-06, 'gamma': 5.4059942150852165e-05, 'min_child_weight': 4}. Best is trial 57 with value: 12934.179290981116.\u001b[0m\n",
      "\u001b[32m[I 2023-01-14 23:46:30,053]\u001b[0m Trial 60 finished with value: 34178.81158485733 and parameters: {'booster': 'dart', 'learning_rate': 0.03824034069934962, 'max_depth': 13, 'subsample': 0.5290200217179148, 'reg_alpha': 1.877886611356292e-05, 'reg_lambda': 8.057042514522709e-06, 'gamma': 1.5123177567743892e-05, 'min_child_weight': 3}. Best is trial 57 with value: 12934.179290981116.\u001b[0m\n",
      "\u001b[32m[I 2023-01-14 23:46:30,163]\u001b[0m Trial 61 finished with value: 13503.986578509337 and parameters: {'booster': 'dart', 'learning_rate': 0.09653180047583469, 'max_depth': 12, 'subsample': 0.8279527750812681, 'reg_alpha': 0.009245056025441564, 'reg_lambda': 1.1836017051920967e-07, 'gamma': 4.4337616213661476e-07, 'min_child_weight': 5}. Best is trial 57 with value: 12934.179290981116.\u001b[0m\n",
      "\u001b[32m[I 2023-01-14 23:46:30,293]\u001b[0m Trial 62 finished with value: 12916.428781067303 and parameters: {'booster': 'dart', 'learning_rate': 0.09922211029419853, 'max_depth': 14, 'subsample': 0.7853849200738878, 'reg_alpha': 0.007788488418069486, 'reg_lambda': 1.170711485797375e-07, 'gamma': 4.3969659042658095e-07, 'min_child_weight': 5}. Best is trial 62 with value: 12916.428781067303.\u001b[0m\n",
      "\u001b[32m[I 2023-01-14 23:46:30,416]\u001b[0m Trial 63 finished with value: 25857.267762447078 and parameters: {'booster': 'dart', 'learning_rate': 0.054214472129740475, 'max_depth': 14, 'subsample': 0.6046319478257357, 'reg_alpha': 0.011012603036980855, 'reg_lambda': 1.1831638705359057e-07, 'gamma': 1.213948401985772e-06, 'min_child_weight': 5}. Best is trial 62 with value: 12916.428781067303.\u001b[0m\n",
      "\u001b[32m[I 2023-01-14 23:46:30,533]\u001b[0m Trial 64 finished with value: 18336.156592473515 and parameters: {'booster': 'dart', 'learning_rate': 0.0755881417285258, 'max_depth': 14, 'subsample': 0.4728990636322652, 'reg_alpha': 0.0018060170629451114, 'reg_lambda': 2.3108528180031334e-08, 'gamma': 4.0224993689273426e-07, 'min_child_weight': 4}. Best is trial 62 with value: 12916.428781067303.\u001b[0m\n",
      "\u001b[32m[I 2023-01-14 23:46:30,561]\u001b[0m Trial 65 finished with value: 39527.62439498719 and parameters: {'booster': 'gblinear', 'learning_rate': 0.04391270700216654, 'max_depth': 13, 'subsample': 0.3665201910236355, 'reg_alpha': 0.0003883117224014879, 'reg_lambda': 4.8173983120775976e-08, 'gamma': 3.402347315044784e-07, 'min_child_weight': 5}. Best is trial 62 with value: 12916.428781067303.\u001b[0m\n",
      "\u001b[32m[I 2023-01-14 23:46:30,701]\u001b[0m Trial 66 finished with value: 22262.151993256182 and parameters: {'booster': 'dart', 'learning_rate': 0.06319996456199861, 'max_depth': 15, 'subsample': 0.6599433237590587, 'reg_alpha': 0.006736493192414329, 'reg_lambda': 1.1206820566117275e-07, 'gamma': 1.474256335793249e-07, 'min_child_weight': 4}. Best is trial 62 with value: 12916.428781067303.\u001b[0m\n",
      "\u001b[32m[I 2023-01-14 23:46:30,817]\u001b[0m Trial 67 finished with value: 17476.240312575406 and parameters: {'booster': 'gbtree', 'learning_rate': 0.0784588194124887, 'max_depth': 13, 'subsample': 0.8118965079978198, 'reg_alpha': 0.021540777101762935, 'reg_lambda': 6.813426661013652e-05, 'gamma': 3.5998213163535537e-06, 'min_child_weight': 5}. Best is trial 62 with value: 12916.428781067303.\u001b[0m\n",
      "\u001b[32m[I 2023-01-14 23:46:30,910]\u001b[0m Trial 68 finished with value: 13283.763644278513 and parameters: {'booster': 'dart', 'learning_rate': 0.09933778489115767, 'max_depth': 12, 'subsample': 0.2868444443197143, 'reg_alpha': 0.002970910953521864, 'reg_lambda': 0.029469873809027512, 'gamma': 2.0317884235115127e-05, 'min_child_weight': 5}. Best is trial 62 with value: 12916.428781067303.\u001b[0m\n",
      "\u001b[32m[I 2023-01-14 23:46:31,011]\u001b[0m Trial 69 finished with value: 67028.8147076849 and parameters: {'booster': 'dart', 'learning_rate': 0.0009403513180043903, 'max_depth': 14, 'subsample': 0.19785786933601382, 'reg_alpha': 5.8309738917555175e-05, 'reg_lambda': 0.025606437802567633, 'gamma': 2.0138567925249112e-05, 'min_child_weight': 3}. Best is trial 62 with value: 12916.428781067303.\u001b[0m\n",
      "\u001b[32m[I 2023-01-14 23:46:31,108]\u001b[0m Trial 70 finished with value: 25091.934577729942 and parameters: {'booster': 'dart', 'learning_rate': 0.05730472147984214, 'max_depth': 12, 'subsample': 0.29128283285390777, 'reg_alpha': 0.000902110060026961, 'reg_lambda': 0.1290043400261122, 'gamma': 2.8289075006406857e-05, 'min_child_weight': 4}. Best is trial 62 with value: 12916.428781067303.\u001b[0m\n",
      "\u001b[32m[I 2023-01-14 23:46:31,219]\u001b[0m Trial 71 finished with value: 17819.00010590437 and parameters: {'booster': 'dart', 'learning_rate': 0.07867951160696739, 'max_depth': 12, 'subsample': 0.6941606800284335, 'reg_alpha': 0.00319697381482127, 'reg_lambda': 0.251882047525814, 'gamma': 1.655678711850053e-06, 'min_child_weight': 5}. Best is trial 62 with value: 12916.428781067303.\u001b[0m\n",
      "\u001b[32m[I 2023-01-14 23:46:31,325]\u001b[0m Trial 72 finished with value: 13127.620622474738 and parameters: {'booster': 'dart', 'learning_rate': 0.0988875962615116, 'max_depth': 12, 'subsample': 0.8566837896791011, 'reg_alpha': 0.010347251861585024, 'reg_lambda': 0.0009826572071939027, 'gamma': 0.00014169911725690635, 'min_child_weight': 6}. Best is trial 62 with value: 12916.428781067303.\u001b[0m\n",
      "\u001b[32m[I 2023-01-14 23:46:31,453]\u001b[0m Trial 73 finished with value: 13379.716416617872 and parameters: {'booster': 'dart', 'learning_rate': 0.09751254776007008, 'max_depth': 12, 'subsample': 0.7840051727162519, 'reg_alpha': 0.00041229090455314305, 'reg_lambda': 0.0011849184024689539, 'gamma': 0.0002099994907341684, 'min_child_weight': 6}. Best is trial 62 with value: 12916.428781067303.\u001b[0m\n",
      "\u001b[32m[I 2023-01-14 23:46:31,556]\u001b[0m Trial 74 finished with value: 32206.37958585916 and parameters: {'booster': 'dart', 'learning_rate': 0.041991065438615166, 'max_depth': 13, 'subsample': 0.45046965071766903, 'reg_alpha': 0.00034234801523433595, 'reg_lambda': 0.0008195659155189047, 'gamma': 0.0004986399348251743, 'min_child_weight': 6}. Best is trial 62 with value: 12916.428781067303.\u001b[0m\n",
      "\u001b[32m[I 2023-01-14 23:46:31,668]\u001b[0m Trial 75 finished with value: 17108.325554017163 and parameters: {'booster': 'dart', 'learning_rate': 0.08060818636467958, 'max_depth': 14, 'subsample': 0.5565457960041917, 'reg_alpha': 0.0017613562827097423, 'reg_lambda': 0.00023815626274931807, 'gamma': 0.0003179494545340303, 'min_child_weight': 6}. Best is trial 62 with value: 12916.428781067303.\u001b[0m\n",
      "\u001b[32m[I 2023-01-14 23:46:31,781]\u001b[0m Trial 76 finished with value: 23667.128197975853 and parameters: {'booster': 'dart', 'learning_rate': 0.059867221613001655, 'max_depth': 15, 'subsample': 0.7268736047105934, 'reg_alpha': 7.540767167612815e-05, 'reg_lambda': 0.0030270025773214645, 'gamma': 9.411444582604504e-05, 'min_child_weight': 6}. Best is trial 62 with value: 12916.428781067303.\u001b[0m\n",
      "\u001b[32m[I 2023-01-14 23:46:31,886]\u001b[0m Trial 77 finished with value: 17092.66040498868 and parameters: {'booster': 'dart', 'learning_rate': 0.08028128747863647, 'max_depth': 12, 'subsample': 0.8730076769606718, 'reg_alpha': 0.0002996428573276585, 'reg_lambda': 0.001717488026096207, 'gamma': 0.00015066416425311277, 'min_child_weight': 5}. Best is trial 62 with value: 12916.428781067303.\u001b[0m\n",
      "\u001b[32m[I 2023-01-14 23:46:31,960]\u001b[0m Trial 78 finished with value: 13236.6656577301 and parameters: {'booster': 'gbtree', 'learning_rate': 0.09976895453170544, 'max_depth': 13, 'subsample': 0.2302059570144308, 'reg_alpha': 0.0001712571760809132, 'reg_lambda': 0.0011180079256912097, 'gamma': 0.0014865337578905944, 'min_child_weight': 5}. Best is trial 62 with value: 12916.428781067303.\u001b[0m\n",
      "\u001b[32m[I 2023-01-14 23:46:32,040]\u001b[0m Trial 79 finished with value: 37763.580054727834 and parameters: {'booster': 'gbtree', 'learning_rate': 0.03291220621827087, 'max_depth': 14, 'subsample': 0.23195485601827096, 'reg_alpha': 0.00013964974087228536, 'reg_lambda': 0.007009621654585382, 'gamma': 0.012315537630912855, 'min_child_weight': 4}. Best is trial 62 with value: 12916.428781067303.\u001b[0m\n",
      "\u001b[32m[I 2023-01-14 23:46:32,108]\u001b[0m Trial 80 finished with value: 27879.957464369334 and parameters: {'booster': 'gbtree', 'learning_rate': 0.0516517035334715, 'max_depth': 13, 'subsample': 0.1353829287678348, 'reg_alpha': 3.742094724755243e-05, 'reg_lambda': 0.029767317572013563, 'gamma': 0.0028105204909103032, 'min_child_weight': 5}. Best is trial 62 with value: 12916.428781067303.\u001b[0m\n",
      "\u001b[32m[I 2023-01-14 23:46:32,161]\u001b[0m Trial 81 finished with value: 24312.825583713584 and parameters: {'booster': 'gbtree', 'learning_rate': 0.06716750719024173, 'max_depth': 6, 'subsample': 0.6220840954747802, 'reg_alpha': 0.0005462649118776624, 'reg_lambda': 0.0003959715307930792, 'gamma': 0.0026900353323012502, 'min_child_weight': 6}. Best is trial 62 with value: 12916.428781067303.\u001b[0m\n",
      "\u001b[32m[I 2023-01-14 23:46:32,223]\u001b[0m Trial 82 finished with value: 13950.86427575409 and parameters: {'booster': 'gbtree', 'learning_rate': 0.09888592097684215, 'max_depth': 13, 'subsample': 0.09449596506325388, 'reg_alpha': 0.00017676181735663254, 'reg_lambda': 0.00015021393348381188, 'gamma': 0.0006764116494191072, 'min_child_weight': 6}. Best is trial 62 with value: 12916.428781067303.\u001b[0m\n",
      "\u001b[32m[I 2023-01-14 23:46:32,305]\u001b[0m Trial 83 finished with value: 17008.098461948503 and parameters: {'booster': 'gbtree', 'learning_rate': 0.08215745610901586, 'max_depth': 12, 'subsample': 0.30753764562293423, 'reg_alpha': 0.0012480968130114236, 'reg_lambda': 0.001227570085089527, 'gamma': 0.005787650872463108, 'min_child_weight': 5}. Best is trial 62 with value: 12916.428781067303.\u001b[0m\n",
      "\u001b[32m[I 2023-01-14 23:46:32,418]\u001b[0m Trial 84 finished with value: 21115.755089248752 and parameters: {'booster': 'dart', 'learning_rate': 0.06665398354412332, 'max_depth': 13, 'subsample': 0.8567379724090657, 'reg_alpha': 0.0044007519322982955, 'reg_lambda': 0.0010660557975847465, 'gamma': 0.03623204562069788, 'min_child_weight': 6}. Best is trial 62 with value: 12916.428781067303.\u001b[0m\n",
      "\u001b[32m[I 2023-01-14 23:46:32,448]\u001b[0m Trial 85 finished with value: 27129.14548046842 and parameters: {'booster': 'gblinear', 'learning_rate': 0.09956425677164647, 'max_depth': 12, 'subsample': 0.19705537000512735, 'reg_alpha': 0.0005272563889198365, 'reg_lambda': 1.9883997706664965e-05, 'gamma': 4.0327465469045335e-05, 'min_child_weight': 5}. Best is trial 62 with value: 12916.428781067303.\u001b[0m\n",
      "\u001b[32m[I 2023-01-14 23:46:32,528]\u001b[0m Trial 86 finished with value: 28233.003353638243 and parameters: {'booster': 'dart', 'learning_rate': 0.050243543323680216, 'max_depth': 13, 'subsample': 0.2483089909513273, 'reg_alpha': 0.002441461050291542, 'reg_lambda': 0.004360029872937009, 'gamma': 0.0011566715009888788, 'min_child_weight': 6}. Best is trial 62 with value: 12916.428781067303.\u001b[0m\n",
      "\u001b[32m[I 2023-01-14 23:46:32,628]\u001b[0m Trial 87 finished with value: 16563.26655429549 and parameters: {'booster': 'dart', 'learning_rate': 0.0830955630478451, 'max_depth': 14, 'subsample': 0.4049012641993992, 'reg_alpha': 0.015187753342811831, 'reg_lambda': 0.0003224191444436579, 'gamma': 6.888067526236436e-06, 'min_child_weight': 5}. Best is trial 62 with value: 12916.428781067303.\u001b[0m\n",
      "\u001b[32m[I 2023-01-14 23:46:32,729]\u001b[0m Trial 88 finished with value: 24628.119604079846 and parameters: {'booster': 'dart', 'learning_rate': 0.057590280545837785, 'max_depth': 11, 'subsample': 0.7374003363600435, 'reg_alpha': 0.026644300958555474, 'reg_lambda': 0.010554183931309588, 'gamma': 0.00013391121178621287, 'min_child_weight': 4}. Best is trial 62 with value: 12916.428781067303.\u001b[0m\n",
      "\u001b[32m[I 2023-01-14 23:46:32,830]\u001b[0m Trial 89 finished with value: 20234.458816501712 and parameters: {'booster': 'gbtree', 'learning_rate': 0.06990129481555486, 'max_depth': 12, 'subsample': 0.9024961270154008, 'reg_alpha': 3.8148976159190516e-05, 'reg_lambda': 0.0006433899795771243, 'gamma': 0.0012775630736548001, 'min_child_weight': 7}. Best is trial 62 with value: 12916.428781067303.\u001b[0m\n",
      "\u001b[32m[I 2023-01-14 23:46:32,943]\u001b[0m Trial 90 finished with value: 65819.07635621929 and parameters: {'booster': 'dart', 'learning_rate': 0.0019186462701532819, 'max_depth': 13, 'subsample': 0.9953785873575237, 'reg_alpha': 4.687208731313904e-06, 'reg_lambda': 8.359524988497094e-05, 'gamma': 9.518640802026665e-06, 'min_child_weight': 6}. Best is trial 62 with value: 12916.428781067303.\u001b[0m\n",
      "\u001b[32m[I 2023-01-14 23:46:33,048]\u001b[0m Trial 91 finished with value: 15627.234004605212 and parameters: {'booster': 'dart', 'learning_rate': 0.08636271702985952, 'max_depth': 12, 'subsample': 0.8163937208725776, 'reg_alpha': 0.00820440342568766, 'reg_lambda': 0.002408168663985697, 'gamma': 7.564060252682704e-07, 'min_child_weight': 5}. Best is trial 62 with value: 12916.428781067303.\u001b[0m\n",
      "\u001b[32m[I 2023-01-14 23:46:33,153]\u001b[0m Trial 92 finished with value: 13489.901940491689 and parameters: {'booster': 'dart', 'learning_rate': 0.09774046648815363, 'max_depth': 12, 'subsample': 0.5435018828202192, 'reg_alpha': 0.008829178390661338, 'reg_lambda': 5.709666390958911e-08, 'gamma': 0.00020735816374243694, 'min_child_weight': 5}. Best is trial 62 with value: 12916.428781067303.\u001b[0m\n",
      "\u001b[32m[I 2023-01-14 23:46:33,257]\u001b[0m Trial 93 finished with value: 13205.786809878618 and parameters: {'booster': 'dart', 'learning_rate': 0.09899264745355128, 'max_depth': 12, 'subsample': 0.5679361578784494, 'reg_alpha': 0.0001934629849579497, 'reg_lambda': 5.286582055754261e-08, 'gamma': 0.00017777376955245198, 'min_child_weight': 5}. Best is trial 62 with value: 12916.428781067303.\u001b[0m\n",
      "\u001b[32m[I 2023-01-14 23:46:33,355]\u001b[0m Trial 94 finished with value: 20299.776298790766 and parameters: {'booster': 'dart', 'learning_rate': 0.06980881966266823, 'max_depth': 11, 'subsample': 0.6734289409867232, 'reg_alpha': 0.00022173162246488944, 'reg_lambda': 2.398104614455954e-08, 'gamma': 0.00010375600253212223, 'min_child_weight': 6}. Best is trial 62 with value: 12916.428781067303.\u001b[0m\n",
      "\u001b[32m[I 2023-01-14 23:46:33,456]\u001b[0m Trial 95 finished with value: 16629.23045996539 and parameters: {'booster': 'dart', 'learning_rate': 0.082855250025845, 'max_depth': 12, 'subsample': 0.46715196429596495, 'reg_alpha': 0.00010595040025296639, 'reg_lambda': 1.6197990735808178e-08, 'gamma': 0.0004415742582707442, 'min_child_weight': 5}. Best is trial 62 with value: 12916.428781067303.\u001b[0m\n",
      "\u001b[32m[I 2023-01-14 23:46:33,563]\u001b[0m Trial 96 finished with value: 28650.695890916882 and parameters: {'booster': 'dart', 'learning_rate': 0.048493881638193896, 'max_depth': 13, 'subsample': 0.5893752470001064, 'reg_alpha': 0.0009889315428164834, 'reg_lambda': 3.334941323108768e-08, 'gamma': 0.0007854673779012909, 'min_child_weight': 6}. Best is trial 62 with value: 12916.428781067303.\u001b[0m\n",
      "\u001b[32m[I 2023-01-14 23:46:33,649]\u001b[0m Trial 97 finished with value: 67817.19558528543 and parameters: {'booster': 'dart', 'learning_rate': 0.00029280977802993957, 'max_depth': 11, 'subsample': 0.3748313970701265, 'reg_alpha': 0.0004654387187596518, 'reg_lambda': 0.04452923837988147, 'gamma': 7.59253788427117e-05, 'min_child_weight': 5}. Best is trial 62 with value: 12916.428781067303.\u001b[0m\n",
      "\u001b[32m[I 2023-01-14 23:46:33,729]\u001b[0m Trial 98 finished with value: 24304.859037712464 and parameters: {'booster': 'dart', 'learning_rate': 0.05991216953608916, 'max_depth': 12, 'subsample': 0.13919950292245983, 'reg_alpha': 0.004294701741364476, 'reg_lambda': 3.469913112573504e-07, 'gamma': 3.4329267061366866e-05, 'min_child_weight': 4}. Best is trial 62 with value: 12916.428781067303.\u001b[0m\n",
      "\u001b[32m[I 2023-01-14 23:46:33,757]\u001b[0m Trial 99 finished with value: 41360.14355042285 and parameters: {'booster': 'gblinear', 'learning_rate': 0.03943579773794203, 'max_depth': 14, 'subsample': 0.7571877247928211, 'reg_alpha': 1.8492489438458358e-05, 'reg_lambda': 0.0016798854943714055, 'gamma': 0.0002652483481628783, 'min_child_weight': 5}. Best is trial 62 with value: 12916.428781067303.\u001b[0m\n",
      "\u001b[32m[I 2023-01-14 23:46:33,848]\u001b[0m Trial 100 finished with value: 61052.75477456386 and parameters: {'booster': 'dart', 'learning_rate': 0.006046940956248259, 'max_depth': 11, 'subsample': 0.5226127971161251, 'reg_alpha': 9.430184562287897e-05, 'reg_lambda': 0.004694670298495432, 'gamma': 0.31873016926300185, 'min_child_weight': 4}. Best is trial 62 with value: 12916.428781067303.\u001b[0m\n",
      "\u001b[32m[I 2023-01-14 23:46:33,952]\u001b[0m Trial 101 finished with value: 13028.631729096944 and parameters: {'booster': 'dart', 'learning_rate': 0.09950369400327526, 'max_depth': 12, 'subsample': 0.6440519752555501, 'reg_alpha': 0.002096931396846769, 'reg_lambda': 6.868048806774063e-08, 'gamma': 0.00021905233402497065, 'min_child_weight': 5}. Best is trial 62 with value: 12916.428781067303.\u001b[0m\n",
      "\u001b[32m[I 2023-01-14 23:46:34,057]\u001b[0m Trial 102 finished with value: 12980.451525721192 and parameters: {'booster': 'dart', 'learning_rate': 0.09950442054828103, 'max_depth': 12, 'subsample': 0.6605324322029021, 'reg_alpha': 0.0021962066118857435, 'reg_lambda': 7.80273593657185e-08, 'gamma': 0.0003635348766477924, 'min_child_weight': 5}. Best is trial 62 with value: 12916.428781067303.\u001b[0m\n",
      "\u001b[32m[I 2023-01-14 23:46:34,159]\u001b[0m Trial 103 finished with value: 15775.67101262158 and parameters: {'booster': 'dart', 'learning_rate': 0.08557001861670302, 'max_depth': 12, 'subsample': 0.6337470102042452, 'reg_alpha': 0.002280071121572315, 'reg_lambda': 1.955065990623542e-07, 'gamma': 0.0003602480955532199, 'min_child_weight': 5}. Best is trial 62 with value: 12916.428781067303.\u001b[0m\n",
      "\u001b[32m[I 2023-01-14 23:46:34,252]\u001b[0m Trial 104 finished with value: 19574.383287588527 and parameters: {'booster': 'dart', 'learning_rate': 0.07197888247205594, 'max_depth': 13, 'subsample': 0.3309821457073707, 'reg_alpha': 0.006116493200594696, 'reg_lambda': 7.303092278355861e-08, 'gamma': 0.0007841685303282246, 'min_child_weight': 5}. Best is trial 62 with value: 12916.428781067303.\u001b[0m\n",
      "\u001b[32m[I 2023-01-14 23:46:34,341]\u001b[0m Trial 105 finished with value: 13082.394209095466 and parameters: {'booster': 'dart', 'learning_rate': 0.09996405891109218, 'max_depth': 11, 'subsample': 0.4929562621006787, 'reg_alpha': 0.0921632112697454, 'reg_lambda': 8.900449683500462e-08, 'gamma': 0.00016089767166561117, 'min_child_weight': 5}. Best is trial 62 with value: 12916.428781067303.\u001b[0m\n",
      "\u001b[32m[I 2023-01-14 23:46:34,435]\u001b[0m Trial 106 finished with value: 22558.171057236978 and parameters: {'booster': 'dart', 'learning_rate': 0.06335864042808685, 'max_depth': 11, 'subsample': 0.49072868868644476, 'reg_alpha': 0.07487840194497325, 'reg_lambda': 5.246099191692744e-08, 'gamma': 0.0017934408547560783, 'min_child_weight': 4}. Best is trial 62 with value: 12916.428781067303.\u001b[0m\n",
      "\u001b[32m[I 2023-01-14 23:46:34,537]\u001b[0m Trial 107 finished with value: 62477.50459447279 and parameters: {'booster': 'dart', 'learning_rate': 0.004775072971794493, 'max_depth': 11, 'subsample': 0.5804500369463871, 'reg_alpha': 0.7056390049369443, 'reg_lambda': 1.4154919003612424e-08, 'gamma': 0.00015408279902445182, 'min_child_weight': 5}. Best is trial 62 with value: 12916.428781067303.\u001b[0m\n",
      "\u001b[32m[I 2023-01-14 23:46:34,645]\u001b[0m Trial 108 finished with value: 18713.792423998155 and parameters: {'booster': 'dart', 'learning_rate': 0.07430345969631605, 'max_depth': 12, 'subsample': 0.7038902228626152, 'reg_alpha': 0.034360973793103024, 'reg_lambda': 9.025749701029812e-08, 'gamma': 5.88453663123968e-05, 'min_child_weight': 5}. Best is trial 62 with value: 12916.428781067303.\u001b[0m\n",
      "\u001b[32m[I 2023-01-14 23:46:34,777]\u001b[0m Trial 109 finished with value: 15590.123120676744 and parameters: {'booster': 'gbtree', 'learning_rate': 0.08675533554568612, 'max_depth': 13, 'subsample': 0.4183117908926475, 'reg_alpha': 0.11320657947712105, 'reg_lambda': 3.204092771298967e-08, 'gamma': 0.0005269596285430542, 'min_child_weight': 1}. Best is trial 62 with value: 12916.428781067303.\u001b[0m\n",
      "\u001b[32m[I 2023-01-14 23:46:34,848]\u001b[0m Trial 110 finished with value: 26881.018671649934 and parameters: {'booster': 'dart', 'learning_rate': 0.05466773828493264, 'max_depth': 12, 'subsample': 0.06073009202911822, 'reg_alpha': 0.01916171061307935, 'reg_lambda': 5.062183448481681e-07, 'gamma': 0.00010488172083580565, 'min_child_weight': 4}. Best is trial 62 with value: 12916.428781067303.\u001b[0m\n",
      "\u001b[32m[I 2023-01-14 23:46:34,958]\u001b[0m Trial 111 finished with value: 12977.379115562298 and parameters: {'booster': 'dart', 'learning_rate': 0.099592320879375, 'max_depth': 12, 'subsample': 0.6580409381777489, 'reg_alpha': 0.01290358158009614, 'reg_lambda': 1.426766801135476e-07, 'gamma': 0.00019496243142487317, 'min_child_weight': 5}. Best is trial 62 with value: 12916.428781067303.\u001b[0m\n",
      "\u001b[32m[I 2023-01-14 23:46:35,060]\u001b[0m Trial 112 finished with value: 16257.483306368043 and parameters: {'booster': 'dart', 'learning_rate': 0.08416387197529464, 'max_depth': 11, 'subsample': 0.9318480483815008, 'reg_alpha': 0.04576757912889963, 'reg_lambda': 1.5481450765819932e-07, 'gamma': 0.0002178051618592414, 'min_child_weight': 5}. Best is trial 62 with value: 12916.428781067303.\u001b[0m\n",
      "\u001b[32m[I 2023-01-14 23:46:35,171]\u001b[0m Trial 113 finished with value: 19870.97052620191 and parameters: {'booster': 'dart', 'learning_rate': 0.07066537574874582, 'max_depth': 12, 'subsample': 0.6799930879703628, 'reg_alpha': 0.013321319323117354, 'reg_lambda': 4.5561138148160936e-08, 'gamma': 1.5560019649849942e-08, 'min_child_weight': 5}. Best is trial 62 with value: 12916.428781067303.\u001b[0m\n",
      "\u001b[32m[I 2023-01-14 23:46:35,285]\u001b[0m Trial 114 finished with value: 15099.5253342235 and parameters: {'booster': 'dart', 'learning_rate': 0.08844302243818802, 'max_depth': 13, 'subsample': 0.6470096139209658, 'reg_alpha': 0.028401432883437314, 'reg_lambda': 2.5915412746081766e-07, 'gamma': 0.00034003085456535425, 'min_child_weight': 5}. Best is trial 62 with value: 12916.428781067303.\u001b[0m\n",
      "\u001b[32m[I 2023-01-14 23:46:35,388]\u001b[0m Trial 115 finished with value: 22762.34704345784 and parameters: {'booster': 'dart', 'learning_rate': 0.06247446933187783, 'max_depth': 12, 'subsample': 0.5256471987076381, 'reg_alpha': 3.483697358287099e-07, 'reg_lambda': 1.011792847449716e-07, 'gamma': 2.0111375074530493e-07, 'min_child_weight': 6}. Best is trial 62 with value: 12916.428781067303.\u001b[0m\n",
      "\u001b[32m[I 2023-01-14 23:46:35,483]\u001b[0m Trial 116 finished with value: 18565.714166364378 and parameters: {'booster': 'dart', 'learning_rate': 0.07549466784572804, 'max_depth': 11, 'subsample': 0.8862376074062918, 'reg_alpha': 0.20958642221333823, 'reg_lambda': 1.6503942963092538e-07, 'gamma': 0.000942044399354677, 'min_child_weight': 6}. Best is trial 62 with value: 12916.428781067303.\u001b[0m\n",
      "\u001b[32m[I 2023-01-14 23:46:35,615]\u001b[0m Trial 117 finished with value: 29337.984549062014 and parameters: {'booster': 'dart', 'learning_rate': 0.046858475462660934, 'max_depth': 15, 'subsample': 0.8011771901930174, 'reg_alpha': 0.37728113886556125, 'reg_lambda': 6.713511698068025e-08, 'gamma': 0.00017419882084014076, 'min_child_weight': 5}. Best is trial 62 with value: 12916.428781067303.\u001b[0m\n",
      "\u001b[32m[I 2023-01-14 23:46:35,723]\u001b[0m Trial 118 finished with value: 13008.729486516562 and parameters: {'booster': 'dart', 'learning_rate': 0.09985315531009063, 'max_depth': 12, 'subsample': 0.6020400695438112, 'reg_alpha': 0.005543009475188591, 'reg_lambda': 3.244116295715471e-08, 'gamma': 0.002053490008620054, 'min_child_weight': 4}. Best is trial 62 with value: 12916.428781067303.\u001b[0m\n",
      "\u001b[32m[I 2023-01-14 23:46:35,833]\u001b[0m Trial 119 finished with value: 16544.740730586393 and parameters: {'booster': 'dart', 'learning_rate': 0.08286871206091798, 'max_depth': 12, 'subsample': 0.5818923297158505, 'reg_alpha': 0.004082013065921707, 'reg_lambda': 2.376599910877237e-08, 'gamma': 4.687660303337437e-08, 'min_child_weight': 4}. Best is trial 62 with value: 12916.428781067303.\u001b[0m\n",
      "\u001b[32m[I 2023-01-14 23:46:35,946]\u001b[0m Trial 120 finished with value: 23592.53749552531 and parameters: {'booster': 'dart', 'learning_rate': 0.06034776160294904, 'max_depth': 12, 'subsample': 0.4559675072115416, 'reg_alpha': 0.0015966455527551642, 'reg_lambda': 3.628812419830639e-08, 'gamma': 8.048134116937336e-05, 'min_child_weight': 3}. Best is trial 62 with value: 12916.428781067303.\u001b[0m\n",
      "\u001b[32m[I 2023-01-14 23:46:36,057]\u001b[0m Trial 121 finished with value: 13123.336925045245 and parameters: {'booster': 'dart', 'learning_rate': 0.09912501772903852, 'max_depth': 13, 'subsample': 0.727283953555801, 'reg_alpha': 0.006636412312043978, 'reg_lambda': 1.4601773376832646e-08, 'gamma': 0.0049863855698719945, 'min_child_weight': 5}. Best is trial 62 with value: 12916.428781067303.\u001b[0m\n",
      "\u001b[32m[I 2023-01-14 23:46:36,119]\u001b[0m Trial 122 finished with value: 16800.684510733052 and parameters: {'booster': 'dart', 'learning_rate': 0.09033232578963082, 'max_depth': 12, 'subsample': 0.04063999298979639, 'reg_alpha': 0.011263014432756683, 'reg_lambda': 1.0803252646123985e-08, 'gamma': 0.006095319830894964, 'min_child_weight': 4}. Best is trial 62 with value: 12916.428781067303.\u001b[0m\n",
      "\u001b[32m[I 2023-01-14 23:46:36,232]\u001b[0m Trial 123 finished with value: 19576.04518517503 and parameters: {'booster': 'dart', 'learning_rate': 0.07141132156492978, 'max_depth': 13, 'subsample': 0.7309632504196304, 'reg_alpha': 0.006799723825548001, 'reg_lambda': 9.16197747452292e-08, 'gamma': 0.0046251173563781394, 'min_child_weight': 5}. Best is trial 62 with value: 12916.428781067303.\u001b[0m\n",
      "\u001b[32m[I 2023-01-14 23:46:36,330]\u001b[0m Trial 124 finished with value: 12924.738660402661 and parameters: {'booster': 'dart', 'learning_rate': 0.09990163450553506, 'max_depth': 12, 'subsample': 0.6383737882632476, 'reg_alpha': 0.02021892199380148, 'reg_lambda': 2.202664501283768e-08, 'gamma': 0.02691504921835983, 'min_child_weight': 6}. Best is trial 62 with value: 12916.428781067303.\u001b[0m\n",
      "\u001b[32m[I 2023-01-14 23:46:36,428]\u001b[0m Trial 125 finished with value: 13055.427339743872 and parameters: {'booster': 'dart', 'learning_rate': 0.09980198590298502, 'max_depth': 11, 'subsample': 0.6165462518662888, 'reg_alpha': 0.018133990530881137, 'reg_lambda': 1.6464086232853816e-08, 'gamma': 0.10406515861086488, 'min_child_weight': 5}. Best is trial 62 with value: 12916.428781067303.\u001b[0m\n",
      "\u001b[32m[I 2023-01-14 23:46:36,511]\u001b[0m Trial 126 finished with value: 18161.40329772272 and parameters: {'booster': 'dart', 'learning_rate': 0.07725020754390216, 'max_depth': 10, 'subsample': 0.6441859941110035, 'reg_alpha': 0.018716454551604006, 'reg_lambda': 1.5391437872574996e-08, 'gamma': 0.13150127234414252, 'min_child_weight': 6}. Best is trial 62 with value: 12916.428781067303.\u001b[0m\n",
      "\u001b[32m[I 2023-01-14 23:46:36,609]\u001b[0m Trial 127 finished with value: 15892.614534617956 and parameters: {'booster': 'dart', 'learning_rate': 0.08551989705190204, 'max_depth': 11, 'subsample': 0.7432482857707201, 'reg_alpha': 0.0055768668885615965, 'reg_lambda': 1.8989341514596853e-08, 'gamma': 0.02132320788913012, 'min_child_weight': 4}. Best is trial 62 with value: 12916.428781067303.\u001b[0m\n",
      "\u001b[32m[I 2023-01-14 23:46:36,718]\u001b[0m Trial 128 finished with value: 21267.74009049641 and parameters: {'booster': 'dart', 'learning_rate': 0.06632989193110045, 'max_depth': 14, 'subsample': 0.4960345125096894, 'reg_alpha': 0.014167833684206486, 'reg_lambda': 2.8560512276803697e-08, 'gamma': 0.029017442356359283, 'min_child_weight': 5}. Best is trial 62 with value: 12916.428781067303.\u001b[0m\n",
      "\u001b[32m[I 2023-01-14 23:46:36,812]\u001b[0m Trial 129 finished with value: 25423.33347347041 and parameters: {'booster': 'dart', 'learning_rate': 0.055625877517230235, 'max_depth': 11, 'subsample': 0.6305483827689077, 'reg_alpha': 0.022225004693312324, 'reg_lambda': 9.399258915454191e-07, 'gamma': 0.10343946382316896, 'min_child_weight': 5}. Best is trial 62 with value: 12916.428781067303.\u001b[0m\n",
      "\u001b[32m[I 2023-01-14 23:46:36,925]\u001b[0m Trial 130 finished with value: 12947.458081821844 and parameters: {'booster': 'dart', 'learning_rate': 0.09973503613086071, 'max_depth': 12, 'subsample': 0.8478807836653777, 'reg_alpha': 0.05379602744510178, 'reg_lambda': 1.3793345209861691e-08, 'gamma': 0.012351505611722888, 'min_child_weight': 4}. Best is trial 62 with value: 12916.428781067303.\u001b[0m\n",
      "\u001b[32m[I 2023-01-14 23:46:37,037]\u001b[0m Trial 131 finished with value: 13010.747717577015 and parameters: {'booster': 'dart', 'learning_rate': 0.09928703033466701, 'max_depth': 12, 'subsample': 0.8260761779591557, 'reg_alpha': 0.0548543187504826, 'reg_lambda': 1.2962879113932381e-08, 'gamma': 0.012252573993793701, 'min_child_weight': 4}. Best is trial 62 with value: 12916.428781067303.\u001b[0m\n",
      "\u001b[32m[I 2023-01-14 23:46:37,153]\u001b[0m Trial 132 finished with value: 13011.984496522691 and parameters: {'booster': 'dart', 'learning_rate': 0.09932695974910837, 'max_depth': 12, 'subsample': 0.8619338812377495, 'reg_alpha': 0.05129330722286063, 'reg_lambda': 1.0451633070805135e-08, 'gamma': 0.00902275691096444, 'min_child_weight': 4}. Best is trial 62 with value: 12916.428781067303.\u001b[0m\n",
      "\u001b[32m[I 2023-01-14 23:46:37,290]\u001b[0m Trial 133 finished with value: 18132.42414004165 and parameters: {'booster': 'dart', 'learning_rate': 0.07689123458193024, 'max_depth': 12, 'subsample': 0.9980235041146777, 'reg_alpha': 0.06544319218170162, 'reg_lambda': 1.2853869025114808e-08, 'gamma': 0.010786472928640453, 'min_child_weight': 3}. Best is trial 62 with value: 12916.428781067303.\u001b[0m\n",
      "\u001b[32m[I 2023-01-14 23:46:37,402]\u001b[0m Trial 134 finished with value: 15565.652128804597 and parameters: {'booster': 'dart', 'learning_rate': 0.08654481858716202, 'max_depth': 12, 'subsample': 0.8044603070828126, 'reg_alpha': 0.04000856649589465, 'reg_lambda': 1.0862883719654172e-08, 'gamma': 0.014854522853682333, 'min_child_weight': 4}. Best is trial 62 with value: 12916.428781067303.\u001b[0m\n",
      "\u001b[32m[I 2023-01-14 23:46:37,522]\u001b[0m Trial 135 finished with value: 15234.517038070908 and parameters: {'booster': 'dart', 'learning_rate': 0.08792007312455391, 'max_depth': 13, 'subsample': 0.7123789682778416, 'reg_alpha': 0.12950938108323493, 'reg_lambda': 2.545886899061669e-08, 'gamma': 0.009759634391689467, 'min_child_weight': 4}. Best is trial 62 with value: 12916.428781067303.\u001b[0m\n",
      "\u001b[32m[I 2023-01-14 23:46:37,553]\u001b[0m Trial 136 finished with value: 27149.38888267571 and parameters: {'booster': 'gblinear', 'learning_rate': 0.09940454215984733, 'max_depth': 11, 'subsample': 0.9018979248127729, 'reg_alpha': 0.047252105463693524, 'reg_lambda': 1.871764951355364e-08, 'gamma': 0.061645247959021744, 'min_child_weight': 4}. Best is trial 62 with value: 12916.428781067303.\u001b[0m\n",
      "\u001b[32m[I 2023-01-14 23:46:37,670]\u001b[0m Trial 137 finished with value: 21052.18878985479 and parameters: {'booster': 'dart', 'learning_rate': 0.06670463455907301, 'max_depth': 12, 'subsample': 0.7645208941957969, 'reg_alpha': 0.07312795491165765, 'reg_lambda': 3.391233367284066e-08, 'gamma': 0.019678876369596712, 'min_child_weight': 3}. Best is trial 62 with value: 12916.428781067303.\u001b[0m\n",
      "\u001b[32m[I 2023-01-14 23:46:37,771]\u001b[0m Trial 138 finished with value: 17828.930120265995 and parameters: {'booster': 'dart', 'learning_rate': 0.07780790594235268, 'max_depth': 11, 'subsample': 0.672871502932467, 'reg_alpha': 0.09474842473756251, 'reg_lambda': 1.004434098363443e-08, 'gamma': 0.007422425031125893, 'min_child_weight': 4}. Best is trial 62 with value: 12916.428781067303.\u001b[0m\n",
      "\u001b[32m[I 2023-01-14 23:46:37,856]\u001b[0m Trial 139 finished with value: 19120.891447666367 and parameters: {'booster': 'dart', 'learning_rate': 0.07514539017599367, 'max_depth': 9, 'subsample': 0.8635947812800528, 'reg_alpha': 0.0025485555722136294, 'reg_lambda': 4.354779532111576e-08, 'gamma': 0.0037383516624852463, 'min_child_weight': 4}. Best is trial 62 with value: 12916.428781067303.\u001b[0m\n",
      "\u001b[32m[I 2023-01-14 23:46:37,970]\u001b[0m Trial 140 finished with value: 58269.43297592604 and parameters: {'booster': 'dart', 'learning_rate': 0.008557423898566006, 'max_depth': 13, 'subsample': 0.5763096917655861, 'reg_alpha': 0.017181763549806033, 'reg_lambda': 1.7679696677075504e-08, 'gamma': 0.03866318182784801, 'min_child_weight': 4}. Best is trial 62 with value: 12916.428781067303.\u001b[0m\n",
      "\u001b[32m[I 2023-01-14 23:46:38,091]\u001b[0m Trial 141 finished with value: 13138.205621792637 and parameters: {'booster': 'dart', 'learning_rate': 0.09856888657814104, 'max_depth': 12, 'subsample': 0.8165776255848243, 'reg_alpha': 0.009997081431016111, 'reg_lambda': 6.418502746893944e-08, 'gamma': 0.0651523997456652, 'min_child_weight': 3}. Best is trial 62 with value: 12916.428781067303.\u001b[0m\n",
      "\u001b[32m[I 2023-01-14 23:46:38,201]\u001b[0m Trial 142 finished with value: 13085.606602707492 and parameters: {'booster': 'dart', 'learning_rate': 0.09906470668957035, 'max_depth': 12, 'subsample': 0.9051813419317422, 'reg_alpha': 0.007854665019797286, 'reg_lambda': 2.214301615364795e-08, 'gamma': 0.0024478955670135197, 'min_child_weight': 5}. Best is trial 62 with value: 12916.428781067303.\u001b[0m\n",
      "\u001b[32m[I 2023-01-14 23:46:38,313]\u001b[0m Trial 143 finished with value: 15613.444562635466 and parameters: {'booster': 'dart', 'learning_rate': 0.08632054056274124, 'max_depth': 12, 'subsample': 0.9157088214584158, 'reg_alpha': 0.005737998313580842, 'reg_lambda': 2.086010729973373e-08, 'gamma': 0.0030836657526072324, 'min_child_weight': 5}. Best is trial 62 with value: 12916.428781067303.\u001b[0m\n",
      "\u001b[32m[I 2023-01-14 23:46:38,423]\u001b[0m Trial 144 finished with value: 20768.38076772598 and parameters: {'booster': 'dart', 'learning_rate': 0.06765423205416302, 'max_depth': 12, 'subsample': 0.7164842855650093, 'reg_alpha': 0.02867770281209702, 'reg_lambda': 2.8904950196728498e-08, 'gamma': 0.002031131073412333, 'min_child_weight': 4}. Best is trial 62 with value: 12916.428781067303.\u001b[0m\n",
      "\u001b[32m[I 2023-01-14 23:46:38,529]\u001b[0m Trial 145 finished with value: 13018.947563961052 and parameters: {'booster': 'dart', 'learning_rate': 0.09935975659073445, 'max_depth': 12, 'subsample': 0.6327373367195203, 'reg_alpha': 0.007367692014290414, 'reg_lambda': 1.6140510197784894e-08, 'gamma': 0.004694751190451703, 'min_child_weight': 5}. Best is trial 62 with value: 12916.428781067303.\u001b[0m\n",
      "\u001b[32m[I 2023-01-14 23:46:38,643]\u001b[0m Trial 146 finished with value: 16074.167716234007 and parameters: {'booster': 'dart', 'learning_rate': 0.08435740517893542, 'max_depth': 12, 'subsample': 0.6427161633451718, 'reg_alpha': 0.0505681943567721, 'reg_lambda': 4.340023897051501e-08, 'gamma': 0.016600180412999887, 'min_child_weight': 5}. Best is trial 62 with value: 12916.428781067303.\u001b[0m\n",
      "\u001b[32m[I 2023-01-14 23:46:38,736]\u001b[0m Trial 147 finished with value: 23066.270517852437 and parameters: {'booster': 'dart', 'learning_rate': 0.06212388146087142, 'max_depth': 10, 'subsample': 0.6058942283882292, 'reg_alpha': 0.003357893838969345, 'reg_lambda': 1.0048884636391898e-08, 'gamma': 0.008784969217618368, 'min_child_weight': 4}. Best is trial 62 with value: 12916.428781067303.\u001b[0m\n",
      "\u001b[32m[I 2023-01-14 23:46:38,846]\u001b[0m Trial 148 finished with value: 18503.807051071548 and parameters: {'booster': 'dart', 'learning_rate': 0.07511426132602836, 'max_depth': 12, 'subsample': 0.7915227403317229, 'reg_alpha': 0.014460692917328972, 'reg_lambda': 1.173205484519201e-07, 'gamma': 0.17500996066719846, 'min_child_weight': 5}. Best is trial 62 with value: 12916.428781067303.\u001b[0m\n",
      "\u001b[32m[I 2023-01-14 23:46:38,905]\u001b[0m Trial 149 finished with value: 30412.00713243385 and parameters: {'booster': 'dart', 'learning_rate': 0.052794202323208805, 'max_depth': 11, 'subsample': 0.01795089725002691, 'reg_alpha': 0.008216988354802833, 'reg_lambda': 6.396071351685071e-08, 'gamma': 0.027766790832734856, 'min_child_weight': 5}. Best is trial 62 with value: 12916.428781067303.\u001b[0m\n",
      "\u001b[32m[I 2023-01-14 23:46:39,012]\u001b[0m Trial 150 finished with value: 67304.99741203668 and parameters: {'booster': 'dart', 'learning_rate': 0.0007018521353635567, 'max_depth': 12, 'subsample': 0.5290754050722906, 'reg_alpha': 1.0756904059282326e-08, 'reg_lambda': 2.2955380127808238e-07, 'gamma': 0.2682342154533937, 'min_child_weight': 5}. Best is trial 62 with value: 12916.428781067303.\u001b[0m\n",
      "\u001b[32m[I 2023-01-14 23:46:39,131]\u001b[0m Trial 151 finished with value: 12913.489602297554 and parameters: {'booster': 'dart', 'learning_rate': 0.09982007413696424, 'max_depth': 13, 'subsample': 0.7012382291023969, 'reg_alpha': 0.007156709936386925, 'reg_lambda': 1.4905786919709707e-08, 'gamma': 0.005828159304651638, 'min_child_weight': 5}. Best is trial 151 with value: 12913.489602297554.\u001b[0m\n",
      "\u001b[32m[I 2023-01-14 23:46:39,262]\u001b[0m Trial 152 finished with value: 13050.628182686354 and parameters: {'booster': 'dart', 'learning_rate': 0.09919367782171874, 'max_depth': 12, 'subsample': 0.6766506257811838, 'reg_alpha': 0.004906455481552949, 'reg_lambda': 1.855572949103026e-08, 'gamma': 0.00774889263686836, 'min_child_weight': 5}. Best is trial 151 with value: 12913.489602297554.\u001b[0m\n",
      "\u001b[32m[I 2023-01-14 23:46:39,402]\u001b[0m Trial 153 finished with value: 16043.555521875094 and parameters: {'booster': 'dart', 'learning_rate': 0.08474442985365382, 'max_depth': 12, 'subsample': 0.6811325063997988, 'reg_alpha': 0.004428384287302967, 'reg_lambda': 1.6091530784588595e-08, 'gamma': 0.007248683603531494, 'min_child_weight': 5}. Best is trial 151 with value: 12913.489602297554.\u001b[0m\n",
      "\u001b[32m[I 2023-01-14 23:46:39,530]\u001b[0m Trial 154 finished with value: 15321.016251217601 and parameters: {'booster': 'dart', 'learning_rate': 0.08773976080696598, 'max_depth': 13, 'subsample': 0.5993632866767163, 'reg_alpha': 0.0018483137688543579, 'reg_lambda': 3.680236149613225e-08, 'gamma': 0.012393700354806409, 'min_child_weight': 4}. Best is trial 151 with value: 12913.489602297554.\u001b[0m\n",
      "\u001b[32m[I 2023-01-14 23:46:39,663]\u001b[0m Trial 155 finished with value: 18517.725479862973 and parameters: {'booster': 'dart', 'learning_rate': 0.07469373691306057, 'max_depth': 14, 'subsample': 0.7797297534498062, 'reg_alpha': 0.0012051795086518878, 'reg_lambda': 2.7643738452144197e-08, 'gamma': 0.004547755107367678, 'min_child_weight': 5}. Best is trial 151 with value: 12913.489602297554.\u001b[0m\n",
      "\u001b[32m[I 2023-01-14 23:46:39,780]\u001b[0m Trial 156 finished with value: 68042.44056342222 and parameters: {'booster': 'dart', 'learning_rate': 0.0001085689516633782, 'max_depth': 12, 'subsample': 0.6634771352312285, 'reg_alpha': 0.02478627426834781, 'reg_lambda': 1.4106119032200582e-08, 'gamma': 0.026293893829019158, 'min_child_weight': 5}. Best is trial 151 with value: 12913.489602297554.\u001b[0m\n",
      "\u001b[32m[I 2023-01-14 23:46:39,897]\u001b[0m Trial 157 finished with value: 13193.969238618049 and parameters: {'booster': 'dart', 'learning_rate': 0.09878058834185746, 'max_depth': 12, 'subsample': 0.5705841139284723, 'reg_alpha': 0.03562018116665257, 'reg_lambda': 5.238078707714074e-08, 'gamma': 0.049052654351283115, 'min_child_weight': 5}. Best is trial 151 with value: 12913.489602297554.\u001b[0m\n",
      "\u001b[32m[I 2023-01-14 23:46:39,933]\u001b[0m Trial 158 finished with value: 65530.54537232049 and parameters: {'booster': 'gblinear', 'learning_rate': 0.0026855393378725327, 'max_depth': 12, 'subsample': 0.4915028555633149, 'reg_alpha': 0.003255189547906586, 'reg_lambda': 1.4596417166741867e-07, 'gamma': 0.007245331676739625, 'min_child_weight': 4}. Best is trial 151 with value: 12913.489602297554.\u001b[0m\n",
      "\u001b[32m[I 2023-01-14 23:46:40,033]\u001b[0m Trial 159 finished with value: 15377.75354486098 and parameters: {'booster': 'dart', 'learning_rate': 0.08799792360582241, 'max_depth': 11, 'subsample': 0.62754326987635, 'reg_alpha': 0.012316491835129728, 'reg_lambda': 2.086903619324825e-08, 'gamma': 0.011770600375639631, 'min_child_weight': 5}. Best is trial 151 with value: 12913.489602297554.\u001b[0m\n",
      "\u001b[32m[I 2023-01-14 23:46:40,184]\u001b[0m Trial 160 finished with value: 20693.46864734175 and parameters: {'booster': 'dart', 'learning_rate': 0.06751209578152174, 'max_depth': 14, 'subsample': 0.740290640612711, 'reg_alpha': 0.08974500059967469, 'reg_lambda': 8.215855739789011e-08, 'gamma': 0.02032820219293456, 'min_child_weight': 4}. Best is trial 151 with value: 12913.489602297554.\u001b[0m\n",
      "\u001b[32m[I 2023-01-14 23:46:40,315]\u001b[0m Trial 161 finished with value: 13411.13427869638 and parameters: {'booster': 'dart', 'learning_rate': 0.09715257767766655, 'max_depth': 12, 'subsample': 0.9067231066494161, 'reg_alpha': 0.019085211221613517, 'reg_lambda': 2.4249400742939394e-08, 'gamma': 0.0026039418986168465, 'min_child_weight': 5}. Best is trial 151 with value: 12913.489602297554.\u001b[0m\n",
      "\u001b[32m[I 2023-01-14 23:46:40,437]\u001b[0m Trial 162 finished with value: 13027.567029882366 and parameters: {'booster': 'dart', 'learning_rate': 0.09904696211479685, 'max_depth': 12, 'subsample': 0.8274561810984933, 'reg_alpha': 0.005360296994016585, 'reg_lambda': 1.660573251728112e-08, 'gamma': 0.0031680666249594034, 'min_child_weight': 5}. Best is trial 151 with value: 12913.489602297554.\u001b[0m\n",
      "\u001b[32m[I 2023-01-14 23:46:40,551]\u001b[0m Trial 163 finished with value: 17192.406242693753 and parameters: {'booster': 'dart', 'learning_rate': 0.0798169744083284, 'max_depth': 12, 'subsample': 0.8326708948770094, 'reg_alpha': 0.00530850795703067, 'reg_lambda': 1.4638771712407325e-08, 'gamma': 0.004149655705360731, 'min_child_weight': 5}. Best is trial 151 with value: 12913.489602297554.\u001b[0m\n",
      "\u001b[32m[I 2023-01-14 23:46:40,674]\u001b[0m Trial 164 finished with value: 13052.638213175436 and parameters: {'booster': 'dart', 'learning_rate': 0.09949294523207079, 'max_depth': 12, 'subsample': 0.6938230357318969, 'reg_alpha': 0.0021016412714663533, 'reg_lambda': 4.030929438242874e-08, 'gamma': 0.7576229142094082, 'min_child_weight': 5}. Best is trial 151 with value: 12913.489602297554.\u001b[0m\n",
      "\u001b[32m[I 2023-01-14 23:46:40,791]\u001b[0m Trial 165 finished with value: 18407.596067389994 and parameters: {'booster': 'dart', 'learning_rate': 0.07546281061058763, 'max_depth': 12, 'subsample': 0.6890072504411388, 'reg_alpha': 0.0019789452371359643, 'reg_lambda': 4.045864953336018e-08, 'gamma': 0.7965212468494391, 'min_child_weight': 5}. Best is trial 151 with value: 12913.489602297554.\u001b[0m\n",
      "\u001b[32m[I 2023-01-14 23:46:40,924]\u001b[0m Trial 166 finished with value: 15873.799911810056 and parameters: {'booster': 'dart', 'learning_rate': 0.08500822182527051, 'max_depth': 13, 'subsample': 0.819040756313391, 'reg_alpha': 0.0026053766382639694, 'reg_lambda': 1.0116898243459937e-08, 'gamma': 0.30525388292633665, 'min_child_weight': 5}. Best is trial 151 with value: 12913.489602297554.\u001b[0m\n",
      "\u001b[32m[I 2023-01-14 23:46:41,044]\u001b[0m Trial 167 finished with value: 13004.506204652122 and parameters: {'booster': 'dart', 'learning_rate': 0.0999967826641724, 'max_depth': 12, 'subsample': 0.9788195642616091, 'reg_alpha': 0.0007293292956972822, 'reg_lambda': 3.0850233594975715e-08, 'gamma': 0.009108689253213897, 'min_child_weight': 6}. Best is trial 151 with value: 12913.489602297554.\u001b[0m\n",
      "\u001b[32m[I 2023-01-14 23:46:41,162]\u001b[0m Trial 168 finished with value: 24200.183588587923 and parameters: {'booster': 'dart', 'learning_rate': 0.05868638443565959, 'max_depth': 12, 'subsample': 0.953818987425942, 'reg_alpha': 0.0037191187516744956, 'reg_lambda': 3.594379257995591e-08, 'gamma': 0.001680669199816308, 'min_child_weight': 6}. Best is trial 151 with value: 12913.489602297554.\u001b[0m\n",
      "\u001b[32m[I 2023-01-14 23:46:41,278]\u001b[0m Trial 169 finished with value: 20582.91007934581 and parameters: {'booster': 'dart', 'learning_rate': 0.06852545081772252, 'max_depth': 12, 'subsample': 0.7493218204935769, 'reg_alpha': 0.0006766164077534199, 'reg_lambda': 4.986553139500614e-08, 'gamma': 0.006125562281730531, 'min_child_weight': 6}. Best is trial 151 with value: 12913.489602297554.\u001b[0m\n",
      "\u001b[32m[I 2023-01-14 23:46:41,445]\u001b[0m Trial 170 finished with value: 15455.80563452287 and parameters: {'booster': 'dart', 'learning_rate': 0.08691175346055252, 'max_depth': 15, 'subsample': 0.8758962921047471, 'reg_alpha': 0.0006495586602701344, 'reg_lambda': 3.050167335301957e-08, 'gamma': 0.00898891257723131, 'min_child_weight': 6}. Best is trial 151 with value: 12913.489602297554.\u001b[0m\n",
      "\u001b[32m[I 2023-01-14 23:46:41,562]\u001b[0m Trial 171 finished with value: 15175.582158328385 and parameters: {'booster': 'dart', 'learning_rate': 0.088496283228898, 'max_depth': 12, 'subsample': 0.6784471983989108, 'reg_alpha': 0.0012544520718798685, 'reg_lambda': 1.671406017334224e-08, 'gamma': 0.013467114299983032, 'min_child_weight': 5}. Best is trial 151 with value: 12913.489602297554.\u001b[0m\n",
      "\u001b[32m[I 2023-01-14 23:46:41,682]\u001b[0m Trial 172 finished with value: 13219.075725642244 and parameters: {'booster': 'dart', 'learning_rate': 0.09874226810721487, 'max_depth': 12, 'subsample': 0.9809566929689263, 'reg_alpha': 0.009247944089163594, 'reg_lambda': 2.1851146060083255e-08, 'gamma': 0.4248019107712241, 'min_child_weight': 5}. Best is trial 151 with value: 12913.489602297554.\u001b[0m\n",
      "\u001b[32m[I 2023-01-14 23:46:41,805]\u001b[0m Trial 173 finished with value: 17879.080286872853 and parameters: {'booster': 'dart', 'learning_rate': 0.07730317415948725, 'max_depth': 12, 'subsample': 0.793681688434186, 'reg_alpha': 0.005277539404162814, 'reg_lambda': 1.6192816528358585e-08, 'gamma': 0.005092924945073453, 'min_child_weight': 5}. Best is trial 151 with value: 12913.489602297554.\u001b[0m\n",
      "\u001b[32m[I 2023-01-14 23:46:41,908]\u001b[0m Trial 174 finished with value: 17229.12946421803 and parameters: {'booster': 'dart', 'learning_rate': 0.08018326463977195, 'max_depth': 12, 'subsample': 0.6225728147140791, 'reg_alpha': 0.0009320038977804998, 'reg_lambda': 6.279789391029069e-08, 'gamma': 0.08051521921090943, 'min_child_weight': 9}. Best is trial 151 with value: 12913.489602297554.\u001b[0m\n",
      "\u001b[32m[I 2023-01-14 23:46:42,027]\u001b[0m Trial 175 finished with value: 13259.90159429772 and parameters: {'booster': 'dart', 'learning_rate': 0.09848784305405535, 'max_depth': 13, 'subsample': 0.5603308309332241, 'reg_alpha': 0.0022555015722930086, 'reg_lambda': 1.0103314130392851e-08, 'gamma': 0.003428977970593306, 'min_child_weight': 6}. Best is trial 151 with value: 12913.489602297554.\u001b[0m\n",
      "\u001b[32m[I 2023-01-14 23:46:42,149]\u001b[0m Trial 176 finished with value: 15407.071498631916 and parameters: {'booster': 'dart', 'learning_rate': 0.08742106834975304, 'max_depth': 12, 'subsample': 0.7270391992733259, 'reg_alpha': 0.0014372244319810976, 'reg_lambda': 2.6765976768822394e-08, 'gamma': 3.3068689683708705e-07, 'min_child_weight': 4}. Best is trial 151 with value: 12913.489602297554.\u001b[0m\n",
      "\u001b[32m[I 2023-01-14 23:46:42,278]\u001b[0m Trial 177 finished with value: 19765.209599255755 and parameters: {'booster': 'dart', 'learning_rate': 0.07039010394581027, 'max_depth': 13, 'subsample': 0.8254060539273729, 'reg_alpha': 0.003934646998998698, 'reg_lambda': 1.4774571929653392e-08, 'gamma': 0.6083157973713142, 'min_child_weight': 5}. Best is trial 151 with value: 12913.489602297554.\u001b[0m\n",
      "\u001b[32m[I 2023-01-14 23:46:42,405]\u001b[0m Trial 178 finished with value: 12987.373051434506 and parameters: {'booster': 'dart', 'learning_rate': 0.09949067474347927, 'max_depth': 12, 'subsample': 0.659771310394192, 'reg_alpha': 0.008038597518955026, 'reg_lambda': 3.524411813190528e-08, 'gamma': 0.016390262292969873, 'min_child_weight': 4}. Best is trial 151 with value: 12913.489602297554.\u001b[0m\n",
      "\u001b[32m[I 2023-01-14 23:46:42,522]\u001b[0m Trial 179 finished with value: 22742.490417845234 and parameters: {'booster': 'dart', 'learning_rate': 0.062015177560017586, 'max_depth': 12, 'subsample': 0.7598716582670014, 'reg_alpha': 0.008304625220755516, 'reg_lambda': 4.2447834627499144e-08, 'gamma': 1.0791390674887193e-07, 'min_child_weight': 4}. Best is trial 151 with value: 12913.489602297554.\u001b[0m\n",
      "\u001b[32m[I 2023-01-14 23:46:42,660]\u001b[0m Trial 180 finished with value: 17502.591275957002 and parameters: {'booster': 'dart', 'learning_rate': 0.07839713802811775, 'max_depth': 12, 'subsample': 0.8580693237473017, 'reg_alpha': 0.0029970708721394315, 'reg_lambda': 1.2277482991806728e-07, 'gamma': 0.017011667705123752, 'min_child_weight': 3}. Best is trial 151 with value: 12913.489602297554.\u001b[0m\n",
      "\u001b[32m[I 2023-01-14 23:46:42,780]\u001b[0m Trial 181 finished with value: 14894.259367382854 and parameters: {'booster': 'dart', 'learning_rate': 0.0895031952043042, 'max_depth': 12, 'subsample': 0.6542950287325489, 'reg_alpha': 0.012805246311187617, 'reg_lambda': 2.853707524083016e-08, 'gamma': 0.008333986428984027, 'min_child_weight': 4}. Best is trial 151 with value: 12913.489602297554.\u001b[0m\n",
      "\u001b[32m[I 2023-01-14 23:46:42,899]\u001b[0m Trial 182 finished with value: 13368.25468972431 and parameters: {'booster': 'dart', 'learning_rate': 0.09765315109933112, 'max_depth': 12, 'subsample': 0.5974718939253473, 'reg_alpha': 0.0065813229144230274, 'reg_lambda': 1.997449410474403e-08, 'gamma': 0.01383674927481042, 'min_child_weight': 4}. Best is trial 151 with value: 12913.489602297554.\u001b[0m\n",
      "\u001b[32m[I 2023-01-14 23:46:43,009]\u001b[0m Trial 183 finished with value: 13037.841718886955 and parameters: {'booster': 'dart', 'learning_rate': 0.09992929036407874, 'max_depth': 11, 'subsample': 0.7115947286591918, 'reg_alpha': 4.8770809222846853e-08, 'reg_lambda': 6.490912914158833e-08, 'gamma': 0.04197434154777853, 'min_child_weight': 5}. Best is trial 151 with value: 12913.489602297554.\u001b[0m\n",
      "\u001b[32m[I 2023-01-14 23:46:43,132]\u001b[0m Trial 184 finished with value: 15660.051129818443 and parameters: {'booster': 'dart', 'learning_rate': 0.08585113152173693, 'max_depth': 12, 'subsample': 0.7093642905152466, 'reg_alpha': 1.1945571969975767e-06, 'reg_lambda': 8.496149991214045e-08, 'gamma': 0.025691795234926998, 'min_child_weight': 4}. Best is trial 151 with value: 12913.489602297554.\u001b[0m\n",
      "\u001b[32m[I 2023-01-14 23:46:43,237]\u001b[0m Trial 185 finished with value: 19125.601003133754 and parameters: {'booster': 'dart', 'learning_rate': 0.07359654908483294, 'max_depth': 12, 'subsample': 0.7626418575684072, 'reg_alpha': 1.555027205903741e-07, 'reg_lambda': 3.887430610667858e-08, 'gamma': 0.040460825489410567, 'min_child_weight': 10}. Best is trial 151 with value: 12913.489602297554.\u001b[0m\n",
      "\u001b[32m[I 2023-01-14 23:46:43,359]\u001b[0m Trial 186 finished with value: 13068.985916751819 and parameters: {'booster': 'dart', 'learning_rate': 0.0996008260287076, 'max_depth': 12, 'subsample': 0.9824015636983814, 'reg_alpha': 0.00889151046513992, 'reg_lambda': 6.241525031973076e-08, 'gamma': 0.009806505219356533, 'min_child_weight': 5}. Best is trial 151 with value: 12913.489602297554.\u001b[0m\n",
      "\u001b[32m[I 2023-01-14 23:46:43,482]\u001b[0m Trial 187 finished with value: 16821.336508542092 and parameters: {'booster': 'dart', 'learning_rate': 0.08123444108599717, 'max_depth': 13, 'subsample': 0.6834492335875508, 'reg_alpha': 0.005431562171406048, 'reg_lambda': 2.108943686492857e-07, 'gamma': 0.005228281725932607, 'min_child_weight': 5}. Best is trial 151 with value: 12913.489602297554.\u001b[0m\n",
      "\u001b[32m[I 2023-01-14 23:46:43,608]\u001b[0m Trial 188 finished with value: 12953.066281236654 and parameters: {'booster': 'dart', 'learning_rate': 0.09991932378401532, 'max_depth': 12, 'subsample': 0.8537076429749321, 'reg_alpha': 0.0017972648655680639, 'reg_lambda': 5.290320274801274e-08, 'gamma': 0.019168678826964863, 'min_child_weight': 6}. Best is trial 151 with value: 12913.489602297554.\u001b[0m\n",
      "\u001b[32m[I 2023-01-14 23:46:43,717]\u001b[0m Trial 189 finished with value: 20598.205777147807 and parameters: {'booster': 'dart', 'learning_rate': 0.06863268663264727, 'max_depth': 11, 'subsample': 0.8656955308682114, 'reg_alpha': 0.00422539895888296, 'reg_lambda': 7.517198918855314e-08, 'gamma': 0.032270846783285956, 'min_child_weight': 6}. Best is trial 151 with value: 12913.489602297554.\u001b[0m\n",
      "\u001b[32m[I 2023-01-14 23:46:43,753]\u001b[0m Trial 190 finished with value: 28866.80869739483 and parameters: {'booster': 'gblinear', 'learning_rate': 0.0862809898188976, 'max_depth': 12, 'subsample': 0.8295591471708589, 'reg_alpha': 0.0015459486154794928, 'reg_lambda': 2.8344515504892733e-08, 'gamma': 0.017771502126715143, 'min_child_weight': 6}. Best is trial 151 with value: 12913.489602297554.\u001b[0m\n",
      "\u001b[32m[I 2023-01-14 23:46:43,875]\u001b[0m Trial 191 finished with value: 15437.289588392525 and parameters: {'booster': 'dart', 'learning_rate': 0.08742049182628515, 'max_depth': 12, 'subsample': 0.7539677499735536, 'reg_alpha': 0.002702229465890588, 'reg_lambda': 4.8269861110575294e-08, 'gamma': 0.006807639045523282, 'min_child_weight': 6}. Best is trial 151 with value: 12913.489602297554.\u001b[0m\n",
      "\u001b[32m[I 2023-01-14 23:46:43,998]\u001b[0m Trial 192 finished with value: 13003.14832281852 and parameters: {'booster': 'dart', 'learning_rate': 0.099359904226053, 'max_depth': 12, 'subsample': 0.9181824276164255, 'reg_alpha': 0.0009678267852079908, 'reg_lambda': 1.6999620447611646e-07, 'gamma': 4.718539657052584e-07, 'min_child_weight': 5}. Best is trial 151 with value: 12913.489602297554.\u001b[0m\n",
      "\u001b[32m[I 2023-01-14 23:46:44,136]\u001b[0m Trial 193 finished with value: 18521.2742303994 and parameters: {'booster': 'dart', 'learning_rate': 0.07494893475644772, 'max_depth': 14, 'subsample': 0.9210895859413888, 'reg_alpha': 0.006868976492181339, 'reg_lambda': 1.4008815887690456e-07, 'gamma': 2.298008136340275e-07, 'min_child_weight': 6}. Best is trial 151 with value: 12913.489602297554.\u001b[0m\n",
      "\u001b[32m[I 2023-01-14 23:46:44,262]\u001b[0m Trial 194 finished with value: 13132.078059066997 and parameters: {'booster': 'dart', 'learning_rate': 0.09898389960766728, 'max_depth': 12, 'subsample': 0.996793784696242, 'reg_alpha': 0.0002990672435820794, 'reg_lambda': 3.394156808721934e-07, 'gamma': 4.113005034248751e-07, 'min_child_weight': 4}. Best is trial 151 with value: 12913.489602297554.\u001b[0m\n",
      "\u001b[32m[I 2023-01-14 23:46:44,397]\u001b[0m Trial 195 finished with value: 15351.659021609777 and parameters: {'booster': 'dart', 'learning_rate': 0.08729635519656069, 'max_depth': 12, 'subsample': 0.8748924508788165, 'reg_alpha': 0.0010566871720310538, 'reg_lambda': 9.476178081587157e-08, 'gamma': 5.845082465497151e-07, 'min_child_weight': 5}. Best is trial 151 with value: 12913.489602297554.\u001b[0m\n",
      "\u001b[32m[I 2023-01-14 23:46:44,473]\u001b[0m Trial 196 finished with value: 19499.376443326855 and parameters: {'booster': 'dart', 'learning_rate': 0.07884716882488192, 'max_depth': 7, 'subsample': 0.7837227417347082, 'reg_alpha': 2.5205148899162105e-08, 'reg_lambda': 1.651533845145708e-07, 'gamma': 1.3945110957735655e-07, 'min_child_weight': 5}. Best is trial 151 with value: 12913.489602297554.\u001b[0m\n",
      "\u001b[32m[I 2023-01-14 23:46:44,595]\u001b[0m Trial 197 finished with value: 15656.893021924709 and parameters: {'booster': 'dart', 'learning_rate': 0.08705917628174635, 'max_depth': 12, 'subsample': 0.553664110073745, 'reg_alpha': 0.0006849604940524604, 'reg_lambda': 1.2546876370569597e-08, 'gamma': 0.04766126518906914, 'min_child_weight': 7}. Best is trial 151 with value: 12913.489602297554.\u001b[0m\n",
      "\u001b[32m[I 2023-01-14 23:46:44,712]\u001b[0m Trial 198 finished with value: 21727.813608165536 and parameters: {'booster': 'dart', 'learning_rate': 0.06516850777527014, 'max_depth': 11, 'subsample': 0.8411502573243517, 'reg_alpha': 0.013402751678427664, 'reg_lambda': 2.1111735508701445e-08, 'gamma': 0.019828998903924026, 'min_child_weight': 4}. Best is trial 151 with value: 12913.489602297554.\u001b[0m\n",
      "\u001b[32m[I 2023-01-14 23:46:44,852]\u001b[0m Trial 199 finished with value: 12870.063485850671 and parameters: {'booster': 'dart', 'learning_rate': 0.09978944491726524, 'max_depth': 13, 'subsample': 0.644558372448844, 'reg_alpha': 0.0040295858882043204, 'reg_lambda': 6.625703647395222e-08, 'gamma': 0.011032014873335638, 'min_child_weight': 5}. Best is trial 199 with value: 12870.063485850671.\u001b[0m\n",
      "\u001b[32m[I 2023-01-14 23:46:44,993]\u001b[0m Trial 200 finished with value: 17519.096996853405 and parameters: {'booster': 'dart', 'learning_rate': 0.07849736974024019, 'max_depth': 13, 'subsample': 0.6261674650235842, 'reg_alpha': 0.0004451628166917929, 'reg_lambda': 6.919114855603365e-08, 'gamma': 0.013273739897547496, 'min_child_weight': 6}. Best is trial 199 with value: 12870.063485850671.\u001b[0m\n",
      "\u001b[32m[I 2023-01-14 23:46:45,148]\u001b[0m Trial 201 finished with value: 14878.73212713046 and parameters: {'booster': 'dart', 'learning_rate': 0.08949470766468193, 'max_depth': 14, 'subsample': 0.6944746569605641, 'reg_alpha': 0.0038953988061816813, 'reg_lambda': 5.549903282330606e-08, 'gamma': 0.010225720600320594, 'min_child_weight': 5}. Best is trial 199 with value: 12870.063485850671.\u001b[0m\n",
      "\u001b[32m[I 2023-01-14 23:46:45,286]\u001b[0m Trial 202 finished with value: 13150.485114790608 and parameters: {'booster': 'dart', 'learning_rate': 0.09871120855785305, 'max_depth': 12, 'subsample': 0.7677603779636231, 'reg_alpha': 0.0018477186420744027, 'reg_lambda': 1.0174562750087434e-07, 'gamma': 0.003925743517002766, 'min_child_weight': 5}. Best is trial 199 with value: 12870.063485850671.\u001b[0m\n",
      "\u001b[32m[I 2023-01-14 23:46:45,424]\u001b[0m Trial 203 finished with value: 13163.012882731951 and parameters: {'booster': 'dart', 'learning_rate': 0.09862102205338778, 'max_depth': 12, 'subsample': 0.6506606027095143, 'reg_alpha': 0.0029942273927870944, 'reg_lambda': 2.7317375288623842e-08, 'gamma': 0.020553118215708332, 'min_child_weight': 5}. Best is trial 199 with value: 12870.063485850671.\u001b[0m\n",
      "\u001b[32m[I 2023-01-14 23:46:45,557]\u001b[0m Trial 204 finished with value: 18182.929013480203 and parameters: {'booster': 'dart', 'learning_rate': 0.0760853578286803, 'max_depth': 12, 'subsample': 0.9117109538361833, 'reg_alpha': 0.005038554865928814, 'reg_lambda': 1.232870856065356e-07, 'gamma': 0.007129782227157485, 'min_child_weight': 5}. Best is trial 199 with value: 12870.063485850671.\u001b[0m\n",
      "\u001b[32m[I 2023-01-14 23:46:45,703]\u001b[0m Trial 205 finished with value: 53141.636279937506 and parameters: {'booster': 'dart', 'learning_rate': 0.013603336667846182, 'max_depth': 13, 'subsample': 0.8037837341501617, 'reg_alpha': 0.008597643849439115, 'reg_lambda': 1.3113698824374509e-08, 'gamma': 2.8791725047042434e-07, 'min_child_weight': 5}. Best is trial 199 with value: 12870.063485850671.\u001b[0m\n",
      "\u001b[32m[I 2023-01-14 23:46:45,831]\u001b[0m Trial 206 finished with value: 15385.077989416717 and parameters: {'booster': 'dart', 'learning_rate': 0.08729014857593438, 'max_depth': 12, 'subsample': 0.7194116647900048, 'reg_alpha': 0.000922046848314119, 'reg_lambda': 3.589892531084626e-08, 'gamma': 0.030751490410012672, 'min_child_weight': 5}. Best is trial 199 with value: 12870.063485850671.\u001b[0m\n",
      "\u001b[32m[I 2023-01-14 23:46:45,983]\u001b[0m Trial 207 finished with value: 12923.359702180398 and parameters: {'booster': 'dart', 'learning_rate': 0.09954955689222936, 'max_depth': 14, 'subsample': 0.5822826857600936, 'reg_alpha': 0.15850418868433616, 'reg_lambda': 2.1153355149334603e-07, 'gamma': 0.012037152918521976, 'min_child_weight': 4}. Best is trial 199 with value: 12870.063485850671.\u001b[0m\n",
      "\u001b[32m[I 2023-01-14 23:46:46,132]\u001b[0m Trial 208 finished with value: 12889.533941839969 and parameters: {'booster': 'dart', 'learning_rate': 0.09992420775324391, 'max_depth': 14, 'subsample': 0.5352129044943014, 'reg_alpha': 0.20474360314581005, 'reg_lambda': 2.433580728914871e-07, 'gamma': 0.013616971623019484, 'min_child_weight': 4}. Best is trial 199 with value: 12870.063485850671.\u001b[0m\n",
      "\u001b[32m[I 2023-01-14 23:46:46,282]\u001b[0m Trial 209 finished with value: 18988.84742985902 and parameters: {'booster': 'dart', 'learning_rate': 0.07317096843224288, 'max_depth': 14, 'subsample': 0.5291601967886578, 'reg_alpha': 0.06002521642799151, 'reg_lambda': 2.3445702541168176e-07, 'gamma': 0.011958266143687429, 'min_child_weight': 4}. Best is trial 199 with value: 12870.063485850671.\u001b[0m\n",
      "\u001b[32m[I 2023-01-14 23:46:46,432]\u001b[0m Trial 210 finished with value: 15757.970687897296 and parameters: {'booster': 'dart', 'learning_rate': 0.0857003177377275, 'max_depth': 14, 'subsample': 0.5761517230375511, 'reg_alpha': 0.14409139757850983, 'reg_lambda': 2.829907395395586e-07, 'gamma': 7.433253712631574e-07, 'min_child_weight': 4}. Best is trial 199 with value: 12870.063485850671.\u001b[0m\n",
      "\u001b[32m[I 2023-01-14 23:46:46,579]\u001b[0m Trial 211 finished with value: 14979.792410043114 and parameters: {'booster': 'dart', 'learning_rate': 0.08913120260603093, 'max_depth': 14, 'subsample': 0.6293732970652164, 'reg_alpha': 0.3044781331164392, 'reg_lambda': 4.0902894496749616e-07, 'gamma': 0.016549271283840747, 'min_child_weight': 4}. Best is trial 199 with value: 12870.063485850671.\u001b[0m\n",
      "\u001b[32m[I 2023-01-14 23:46:46,726]\u001b[0m Trial 212 finished with value: 15075.53363174307 and parameters: {'booster': 'dart', 'learning_rate': 0.08857898283682276, 'max_depth': 14, 'subsample': 0.5532663642126362, 'reg_alpha': 0.5101722802754848, 'reg_lambda': 1.878973029186218e-07, 'gamma': 0.010149925495396315, 'min_child_weight': 4}. Best is trial 199 with value: 12870.063485850671.\u001b[0m\n",
      "\u001b[32m[I 2023-01-14 23:46:46,900]\u001b[0m Trial 213 finished with value: 13374.005195609425 and parameters: {'booster': 'dart', 'learning_rate': 0.09737258478329554, 'max_depth': 14, 'subsample': 0.599309566366543, 'reg_alpha': 0.23182187238653912, 'reg_lambda': 1.448159572322105e-07, 'gamma': 0.00032564665080681254, 'min_child_weight': 3}. Best is trial 199 with value: 12870.063485850671.\u001b[0m\n",
      "\u001b[32m[I 2023-01-14 23:46:47,070]\u001b[0m Trial 214 finished with value: 12828.98127084494 and parameters: {'booster': 'dart', 'learning_rate': 0.0995493084021986, 'max_depth': 14, 'subsample': 0.7330061844547614, 'reg_alpha': 0.15117116761750046, 'reg_lambda': 9.98583166157106e-08, 'gamma': 0.02921411643593191, 'min_child_weight': 4}. Best is trial 214 with value: 12828.98127084494.\u001b[0m\n",
      "\u001b[32m[I 2023-01-14 23:46:47,252]\u001b[0m Trial 215 finished with value: 18099.846211904034 and parameters: {'booster': 'dart', 'learning_rate': 0.07614688991513929, 'max_depth': 15, 'subsample': 0.902043455440127, 'reg_alpha': 0.1757279875850302, 'reg_lambda': 1.3410450697065442e-05, 'gamma': 0.024043473917414213, 'min_child_weight': 4}. Best is trial 214 with value: 12828.98127084494.\u001b[0m\n",
      "\u001b[32m[I 2023-01-14 23:46:47,344]\u001b[0m Trial 216 finished with value: 18617.776089690986 and parameters: {'booster': 'dart', 'learning_rate': 0.0799868878314001, 'max_depth': 14, 'subsample': 0.07581219013429322, 'reg_alpha': 0.10797041813108142, 'reg_lambda': 1.8544842786162446e-07, 'gamma': 0.01308567888750817, 'min_child_weight': 4}. Best is trial 214 with value: 12828.98127084494.\u001b[0m\n",
      "\u001b[32m[I 2023-01-14 23:46:47,506]\u001b[0m Trial 217 finished with value: 12848.605072008702 and parameters: {'booster': 'dart', 'learning_rate': 0.0994698454793699, 'max_depth': 14, 'subsample': 0.806685174508179, 'reg_alpha': 0.7945297269154717, 'reg_lambda': 5.486875645815828e-07, 'gamma': 0.0030145264845215735, 'min_child_weight': 4}. Best is trial 214 with value: 12828.98127084494.\u001b[0m\n",
      "\u001b[32m[I 2023-01-14 23:46:47,670]\u001b[0m Trial 218 finished with value: 21617.956149114136 and parameters: {'booster': 'dart', 'learning_rate': 0.06490270621520192, 'max_depth': 14, 'subsample': 0.8244787610186572, 'reg_alpha': 0.4479155183804096, 'reg_lambda': 3.614535383618781e-07, 'gamma': 0.002053400156695965, 'min_child_weight': 4}. Best is trial 214 with value: 12828.98127084494.\u001b[0m\n",
      "\u001b[32m[I 2023-01-14 23:46:47,835]\u001b[0m Trial 219 finished with value: 15105.8579224274 and parameters: {'booster': 'dart', 'learning_rate': 0.08787103581645689, 'max_depth': 14, 'subsample': 0.7651868230644414, 'reg_alpha': 0.2213090879950048, 'reg_lambda': 7.50180836267995e-07, 'gamma': 0.005168332531243275, 'min_child_weight': 4}. Best is trial 214 with value: 12828.98127084494.\u001b[0m\n",
      "\u001b[32m[I 2023-01-14 23:46:48,014]\u001b[0m Trial 220 finished with value: 47569.35408863232 and parameters: {'booster': 'dart', 'learning_rate': 0.01961231444165564, 'max_depth': 14, 'subsample': 0.9292494770038447, 'reg_alpha': 0.048584443508801076, 'reg_lambda': 2.725814453574453e-07, 'gamma': 0.003030325308060565, 'min_child_weight': 4}. Best is trial 214 with value: 12828.98127084494.\u001b[0m\n",
      "\u001b[32m[I 2023-01-14 23:46:48,169]\u001b[0m Trial 221 finished with value: 13158.87140232791 and parameters: {'booster': 'dart', 'learning_rate': 0.09792393091092882, 'max_depth': 14, 'subsample': 0.6873780276112814, 'reg_alpha': 0.5385575383143699, 'reg_lambda': 1.0603975521990403e-07, 'gamma': 0.0012472637303215697, 'min_child_weight': 4}. Best is trial 214 with value: 12828.98127084494.\u001b[0m\n",
      "\u001b[32m[I 2023-01-14 23:46:48,356]\u001b[0m Trial 222 finished with value: 12866.395646090008 and parameters: {'booster': 'dart', 'learning_rate': 0.09982093681355478, 'max_depth': 15, 'subsample': 0.9985956799184253, 'reg_alpha': 0.14531335759110314, 'reg_lambda': 1.3355284248250847e-07, 'gamma': 0.006771899526497646, 'min_child_weight': 4}. Best is trial 214 with value: 12828.98127084494.\u001b[0m\n",
      "\u001b[32m[I 2023-01-14 23:46:48,531]\u001b[0m Trial 223 finished with value: 16420.575280010948 and parameters: {'booster': 'dart', 'learning_rate': 0.08244468825710075, 'max_depth': 15, 'subsample': 0.9934801519554233, 'reg_alpha': 0.16611653215090755, 'reg_lambda': 1.6744540145877872e-07, 'gamma': 0.0036389614596517954, 'min_child_weight': 4}. Best is trial 214 with value: 12828.98127084494.\u001b[0m\n",
      "\u001b[32m[I 2023-01-14 23:46:48,706]\u001b[0m Trial 224 finished with value: 13080.773169984517 and parameters: {'booster': 'dart', 'learning_rate': 0.09828684887349225, 'max_depth': 15, 'subsample': 0.8617374918535805, 'reg_alpha': 0.30279934899637756, 'reg_lambda': 1.0061858424633102e-07, 'gamma': 0.00580149592038882, 'min_child_weight': 4}. Best is trial 214 with value: 12828.98127084494.\u001b[0m\n",
      "\u001b[32m[I 2023-01-14 23:46:48,799]\u001b[0m Trial 225 finished with value: 15356.16919769799 and parameters: {'booster': 'dart', 'learning_rate': 0.09934585689500476, 'max_depth': 15, 'subsample': 0.029297920453866443, 'reg_alpha': 0.9198904607245024, 'reg_lambda': 2.320116581335111e-07, 'gamma': 0.008154060852140842, 'min_child_weight': 4}. Best is trial 214 with value: 12828.98127084494.\u001b[0m\n",
      "\u001b[32m[I 2023-01-14 23:46:48,974]\u001b[0m Trial 226 finished with value: 17303.59536740369 and parameters: {'booster': 'dart', 'learning_rate': 0.0785125347683394, 'max_depth': 15, 'subsample': 0.8237153568674968, 'reg_alpha': 0.8283129210335204, 'reg_lambda': 1.1509862453595601e-07, 'gamma': 0.01605611224743875, 'min_child_weight': 4}. Best is trial 214 with value: 12828.98127084494.\u001b[0m\n",
      "\u001b[32m[I 2023-01-14 23:46:49,015]\u001b[0m Trial 227 finished with value: 28755.768335514604 and parameters: {'booster': 'gblinear', 'learning_rate': 0.08707055756152696, 'max_depth': 14, 'subsample': 0.11782735134631246, 'reg_alpha': 0.13023781415484223, 'reg_lambda': 1.5458945995203007e-07, 'gamma': 0.00997286933995014, 'min_child_weight': 4}. Best is trial 214 with value: 12828.98127084494.\u001b[0m\n",
      "\u001b[32m[I 2023-01-14 23:46:49,189]\u001b[0m Trial 228 finished with value: 12872.47273090723 and parameters: {'booster': 'dart', 'learning_rate': 0.09947900482256287, 'max_depth': 14, 'subsample': 0.9251524864251863, 'reg_alpha': 0.06514666429361439, 'reg_lambda': 4.5622182192343964e-07, 'gamma': 0.021506279759752427, 'min_child_weight': 4}. Best is trial 214 with value: 12828.98127084494.\u001b[0m\n",
      "\u001b[32m[I 2023-01-14 23:46:49,365]\u001b[0m Trial 229 finished with value: 19926.5301311784 and parameters: {'booster': 'dart', 'learning_rate': 0.07011803817152276, 'max_depth': 14, 'subsample': 0.97900672521404, 'reg_alpha': 0.07262213105437262, 'reg_lambda': 1.4937942344037256e-06, 'gamma': 0.025559566419925975, 'min_child_weight': 4}. Best is trial 214 with value: 12828.98127084494.\u001b[0m\n",
      "\u001b[32m[I 2023-01-14 23:46:49,526]\u001b[0m Trial 230 finished with value: 16010.0180238585 and parameters: {'booster': 'gbtree', 'learning_rate': 0.0842235656611656, 'max_depth': 14, 'subsample': 0.9191659501640544, 'reg_alpha': 0.0841961599489373, 'reg_lambda': 4.909263145937223e-07, 'gamma': 0.01626708055650725, 'min_child_weight': 4}. Best is trial 214 with value: 12828.98127084494.\u001b[0m\n",
      "\u001b[32m[I 2023-01-14 23:46:49,698]\u001b[0m Trial 231 finished with value: 14917.710015692923 and parameters: {'booster': 'dart', 'learning_rate': 0.08876403978185843, 'max_depth': 14, 'subsample': 0.763223325026429, 'reg_alpha': 0.031822739868658044, 'reg_lambda': 4.970289888024777e-07, 'gamma': 5.040968997796223e-07, 'min_child_weight': 4}. Best is trial 214 with value: 12828.98127084494.\u001b[0m\n",
      "\u001b[32m[I 2023-01-14 23:46:49,769]\u001b[0m Trial 232 finished with value: 16277.200966318154 and parameters: {'booster': 'dart', 'learning_rate': 0.09913626056861585, 'max_depth': 6, 'subsample': 0.8748057122799304, 'reg_alpha': 0.05491815159910971, 'reg_lambda': 2.998268230034341e-07, 'gamma': 0.005764163333639747, 'min_child_weight': 3}. Best is trial 214 with value: 12828.98127084494.\u001b[0m\n",
      "\u001b[32m[I 2023-01-14 23:46:49,938]\u001b[0m Trial 233 finished with value: 15170.393899400891 and parameters: {'booster': 'dart', 'learning_rate': 0.08763446717587908, 'max_depth': 14, 'subsample': 0.799063256457576, 'reg_alpha': 0.12926343985928707, 'reg_lambda': 2.1365203817070823e-07, 'gamma': 0.010865822813509193, 'min_child_weight': 4}. Best is trial 214 with value: 12828.98127084494.\u001b[0m\n",
      "\u001b[32m[I 2023-01-14 23:46:50,120]\u001b[0m Trial 234 finished with value: 12871.31474372556 and parameters: {'booster': 'dart', 'learning_rate': 0.0994565576354027, 'max_depth': 15, 'subsample': 0.7178686794138163, 'reg_alpha': 0.09829359086529686, 'reg_lambda': 8.248383210925556e-08, 'gamma': 0.02250432093051337, 'min_child_weight': 4}. Best is trial 214 with value: 12828.98127084494.\u001b[0m\n",
      "\u001b[32m[I 2023-01-14 23:46:50,298]\u001b[0m Trial 235 finished with value: 17331.660884518864 and parameters: {'booster': 'dart', 'learning_rate': 0.07858730704882452, 'max_depth': 15, 'subsample': 0.7334075620858366, 'reg_alpha': 0.09392047799541989, 'reg_lambda': 1.3485959862832587e-07, 'gamma': 0.0231242722701033, 'min_child_weight': 4}. Best is trial 214 with value: 12828.98127084494.\u001b[0m\n",
      "\u001b[32m[I 2023-01-14 23:46:50,478]\u001b[0m Trial 236 finished with value: 15186.961544150274 and parameters: {'booster': 'dart', 'learning_rate': 0.08782904344065937, 'max_depth': 15, 'subsample': 0.6451026229615324, 'reg_alpha': 0.2069931829722533, 'reg_lambda': 5.3251175664923297e-08, 'gamma': 0.03860854527299352, 'min_child_weight': 4}. Best is trial 214 with value: 12828.98127084494.\u001b[0m\n",
      "\u001b[32m[I 2023-01-14 23:46:50,733]\u001b[0m Trial 237 finished with value: 13367.06481326637 and parameters: {'booster': 'dart', 'learning_rate': 0.09920804588643341, 'max_depth': 15, 'subsample': 0.9979645336158997, 'reg_alpha': 0.04245803084778625, 'reg_lambda': 9.058457807187373e-08, 'gamma': 0.01308670525208125, 'min_child_weight': 2}. Best is trial 214 with value: 12828.98127084494.\u001b[0m\n",
      "\u001b[32m[I 2023-01-14 23:46:50,891]\u001b[0m Trial 238 finished with value: 12809.393638349062 and parameters: {'booster': 'dart', 'learning_rate': 0.09987153887032081, 'max_depth': 14, 'subsample': 0.7219755633566101, 'reg_alpha': 0.3577754110246665, 'reg_lambda': 8.638083451840758e-08, 'gamma': 1.8276860451917874e-07, 'min_child_weight': 4}. Best is trial 238 with value: 12809.393638349062.\u001b[0m\n",
      "\u001b[32m[I 2023-01-14 23:46:51,051]\u001b[0m Trial 239 finished with value: 18542.103583899636 and parameters: {'booster': 'dart', 'learning_rate': 0.07469490439992803, 'max_depth': 14, 'subsample': 0.7183251873822051, 'reg_alpha': 0.39379351004949986, 'reg_lambda': 9.214110459882553e-08, 'gamma': 1.7643051806660458e-07, 'min_child_weight': 4}. Best is trial 238 with value: 12809.393638349062.\u001b[0m\n",
      "\u001b[32m[I 2023-01-14 23:46:51,227]\u001b[0m Trial 240 finished with value: 17038.30656220982 and parameters: {'booster': 'dart', 'learning_rate': 0.08026024236378407, 'max_depth': 14, 'subsample': 0.8886729967719497, 'reg_alpha': 0.5958343829881044, 'reg_lambda': 7.019743264100924e-08, 'gamma': 3.109891653650743e-07, 'min_child_weight': 4}. Best is trial 238 with value: 12809.393638349062.\u001b[0m\n",
      "\u001b[32m[I 2023-01-14 23:46:51,379]\u001b[0m Trial 241 finished with value: 13130.13433720052 and parameters: {'booster': 'dart', 'learning_rate': 0.0984456495603442, 'max_depth': 14, 'subsample': 0.621928405319475, 'reg_alpha': 0.289622666336883, 'reg_lambda': 1.4172959859188787e-07, 'gamma': 0.020659761331890934, 'min_child_weight': 4}. Best is trial 238 with value: 12809.393638349062.\u001b[0m\n",
      "\u001b[32m[I 2023-01-14 23:46:51,541]\u001b[0m Trial 242 finished with value: 14954.372053261808 and parameters: {'booster': 'dart', 'learning_rate': 0.08879819392586635, 'max_depth': 14, 'subsample': 0.6833745069390553, 'reg_alpha': 0.1539865516703494, 'reg_lambda': 7.492947906955559e-08, 'gamma': 1.453163847340204e-07, 'min_child_weight': 4}. Best is trial 238 with value: 12809.393638349062.\u001b[0m\n",
      "\u001b[32m[I 2023-01-14 23:46:51,713]\u001b[0m Trial 243 finished with value: 12946.6969325755 and parameters: {'booster': 'dart', 'learning_rate': 0.09879395324532522, 'max_depth': 15, 'subsample': 0.7685212404191615, 'reg_alpha': 0.9441156682871623, 'reg_lambda': 2.0432122954281307e-07, 'gamma': 0.00767940573936701, 'min_child_weight': 4}. Best is trial 238 with value: 12809.393638349062.\u001b[0m\n",
      "\u001b[32m[I 2023-01-14 23:46:51,890]\u001b[0m Trial 244 finished with value: 16144.230319457643 and parameters: {'booster': 'dart', 'learning_rate': 0.08324574388126067, 'max_depth': 15, 'subsample': 0.775065697929877, 'reg_alpha': 0.6431973168347582, 'reg_lambda': 3.2284836589032534e-07, 'gamma': 2.052801267609092e-07, 'min_child_weight': 4}. Best is trial 238 with value: 12809.393638349062.\u001b[0m\n",
      "\u001b[32m[I 2023-01-14 23:46:52,064]\u001b[0m Trial 245 finished with value: 12843.316526300849 and parameters: {'booster': 'dart', 'learning_rate': 0.09906099370336376, 'max_depth': 15, 'subsample': 0.8370158936286577, 'reg_alpha': 0.913717296072701, 'reg_lambda': 1.83649365912579e-07, 'gamma': 0.017313042252419135, 'min_child_weight': 4}. Best is trial 238 with value: 12809.393638349062.\u001b[0m\n",
      "\u001b[32m[I 2023-01-14 23:46:52,242]\u001b[0m Trial 246 finished with value: 12825.750982192132 and parameters: {'booster': 'dart', 'learning_rate': 0.09928339074602605, 'max_depth': 15, 'subsample': 0.7607599314142607, 'reg_alpha': 0.7650882832228083, 'reg_lambda': 1.7960796351404593e-07, 'gamma': 0.025239647320630818, 'min_child_weight': 4}. Best is trial 238 with value: 12809.393638349062.\u001b[0m\n",
      "\u001b[32m[I 2023-01-14 23:46:52,413]\u001b[0m Trial 247 finished with value: 19667.992188825458 and parameters: {'booster': 'dart', 'learning_rate': 0.07060909290000061, 'max_depth': 15, 'subsample': 0.7095810029541735, 'reg_alpha': 0.7392528885902012, 'reg_lambda': 2.1535761619268234e-07, 'gamma': 0.034988414826872975, 'min_child_weight': 4}. Best is trial 238 with value: 12809.393638349062.\u001b[0m\n",
      "\u001b[32m[I 2023-01-14 23:46:52,592]\u001b[0m Trial 248 finished with value: 15434.7185898349 and parameters: {'booster': 'dart', 'learning_rate': 0.08613142869160093, 'max_depth': 15, 'subsample': 0.7578294519832576, 'reg_alpha': 0.9711102612485595, 'reg_lambda': 6.276575106606901e-07, 'gamma': 0.026850505382112304, 'min_child_weight': 4}. Best is trial 238 with value: 12809.393638349062.\u001b[0m\n",
      "\u001b[32m[I 2023-01-14 23:46:52,775]\u001b[0m Trial 249 finished with value: 15051.639565512247 and parameters: {'booster': 'dart', 'learning_rate': 0.08793226504745905, 'max_depth': 15, 'subsample': 0.7889074596656988, 'reg_alpha': 0.5714023857497808, 'reg_lambda': 1.9795181295137426e-07, 'gamma': 0.06668368393349043, 'min_child_weight': 4}. Best is trial 238 with value: 12809.393638349062.\u001b[0m\n",
      "\u001b[32m[I 2023-01-14 23:46:52,956]\u001b[0m Trial 250 finished with value: 17790.3025678907 and parameters: {'booster': 'dart', 'learning_rate': 0.07712934248260485, 'max_depth': 15, 'subsample': 0.6683139011951393, 'reg_alpha': 0.9683612259691767, 'reg_lambda': 3.8294802480390653e-07, 'gamma': 0.01842551092968481, 'min_child_weight': 3}. Best is trial 238 with value: 12809.393638349062.\u001b[0m\n",
      "\u001b[32m[I 2023-01-14 23:46:53,119]\u001b[0m Trial 251 finished with value: 12837.18723967757 and parameters: {'booster': 'dart', 'learning_rate': 0.0999499179111503, 'max_depth': 15, 'subsample': 0.5810201977332338, 'reg_alpha': 0.6984724917439896, 'reg_lambda': 1.3224720512565944e-07, 'gamma': 0.032101471176951696, 'min_child_weight': 4}. Best is trial 238 with value: 12809.393638349062.\u001b[0m\n",
      "\u001b[32m[I 2023-01-14 23:46:53,308]\u001b[0m Trial 252 finished with value: 12926.78799951725 and parameters: {'booster': 'dart', 'learning_rate': 0.09969887541831522, 'max_depth': 15, 'subsample': 0.889709583755195, 'reg_alpha': 0.47691874854647975, 'reg_lambda': 1.369708770695854e-07, 'gamma': 0.03198250306865606, 'min_child_weight': 4}. Best is trial 238 with value: 12809.393638349062.\u001b[0m\n",
      "\u001b[32m[I 2023-01-14 23:46:53,483]\u001b[0m Trial 253 finished with value: 15466.375918961698 and parameters: {'booster': 'dart', 'learning_rate': 0.08596781453023786, 'max_depth': 15, 'subsample': 0.8534874059821517, 'reg_alpha': 0.3820485514678169, 'reg_lambda': 1.410844800992886e-07, 'gamma': 0.04978576152428073, 'min_child_weight': 4}. Best is trial 238 with value: 12809.393638349062.\u001b[0m\n",
      "\u001b[32m[I 2023-01-14 23:46:53,666]\u001b[0m Trial 254 finished with value: 12870.72497908672 and parameters: {'booster': 'dart', 'learning_rate': 0.09959526052263003, 'max_depth': 15, 'subsample': 0.7285274622445715, 'reg_alpha': 0.595527434021093, 'reg_lambda': 1.7340643384538123e-07, 'gamma': 0.03561110281834398, 'min_child_weight': 4}. Best is trial 238 with value: 12809.393638349062.\u001b[0m\n",
      "\u001b[32m[I 2023-01-14 23:46:53,836]\u001b[0m Trial 255 finished with value: 19984.36817048359 and parameters: {'booster': 'dart', 'learning_rate': 0.06973239333081736, 'max_depth': 15, 'subsample': 0.7345795474609493, 'reg_alpha': 0.7178686049646601, 'reg_lambda': 1.0855879618235377e-07, 'gamma': 0.03391238407037411, 'min_child_weight': 4}. Best is trial 238 with value: 12809.393638349062.\u001b[0m\n",
      "\u001b[32m[I 2023-01-14 23:46:54,003]\u001b[0m Trial 256 finished with value: 17446.671679242074 and parameters: {'booster': 'dart', 'learning_rate': 0.07849569046102364, 'max_depth': 15, 'subsample': 0.5853067195918399, 'reg_alpha': 0.41886303879987, 'reg_lambda': 2.763331680805686e-07, 'gamma': 0.05610972018759884, 'min_child_weight': 4}. Best is trial 238 with value: 12809.393638349062.\u001b[0m\n",
      "\u001b[32m[I 2023-01-14 23:46:54,172]\u001b[0m Trial 257 finished with value: 12935.703223022156 and parameters: {'booster': 'dart', 'learning_rate': 0.09963669517530392, 'max_depth': 15, 'subsample': 0.6667983314001616, 'reg_alpha': 0.5907114887481112, 'reg_lambda': 2.0250639505758133e-07, 'gamma': 0.03561529784241028, 'min_child_weight': 4}. Best is trial 238 with value: 12809.393638349062.\u001b[0m\n",
      "\u001b[32m[I 2023-01-14 23:46:54,348]\u001b[0m Trial 258 finished with value: 15272.70340685163 and parameters: {'booster': 'dart', 'learning_rate': 0.08689716521985996, 'max_depth': 15, 'subsample': 0.7375693032437356, 'reg_alpha': 0.6041502945686309, 'reg_lambda': 2.5450582979278253e-07, 'gamma': 0.08027934800491883, 'min_child_weight': 4}. Best is trial 238 with value: 12809.393638349062.\u001b[0m\n",
      "\u001b[32m[I 2023-01-14 23:46:54,528]\u001b[0m Trial 259 finished with value: 66665.06426091446 and parameters: {'booster': 'dart', 'learning_rate': 0.0012184257940996864, 'max_depth': 15, 'subsample': 0.5293686366930449, 'reg_alpha': 0.4603205974374532, 'reg_lambda': 1.7521251457992702e-07, 'gamma': 0.0322020884289244, 'min_child_weight': 3}. Best is trial 238 with value: 12809.393638349062.\u001b[0m\n",
      "\u001b[32m[I 2023-01-14 23:46:54,570]\u001b[0m Trial 260 finished with value: 30965.982960091424 and parameters: {'booster': 'gblinear', 'learning_rate': 0.07448221479653247, 'max_depth': 15, 'subsample': 0.6710685514740861, 'reg_alpha': 0.7698759205687752, 'reg_lambda': 1.2617325261448218e-07, 'gamma': 0.04802636062755353, 'min_child_weight': 4}. Best is trial 238 with value: 12809.393638349062.\u001b[0m\n",
      "\u001b[32m[I 2023-01-14 23:46:54,729]\u001b[0m Trial 261 finished with value: 15284.38407029696 and parameters: {'booster': 'dart', 'learning_rate': 0.08720380560201815, 'max_depth': 15, 'subsample': 0.5866620167699488, 'reg_alpha': 0.31059139536178904, 'reg_lambda': 3.47270324347826e-07, 'gamma': 0.023347746492796778, 'min_child_weight': 4}. Best is trial 238 with value: 12809.393638349062.\u001b[0m\n",
      "\u001b[32m[I 2023-01-14 23:46:54,913]\u001b[0m Trial 262 finished with value: 15222.18697386995 and parameters: {'booster': 'dart', 'learning_rate': 0.0873225783385063, 'max_depth': 15, 'subsample': 0.8086049092699722, 'reg_alpha': 0.4852001969041176, 'reg_lambda': 1.9886270277085393e-07, 'gamma': 0.0321895254536716, 'min_child_weight': 4}. Best is trial 238 with value: 12809.393638349062.\u001b[0m\n",
      "\u001b[32m[I 2023-01-14 23:46:55,088]\u001b[0m Trial 263 finished with value: 19324.171542051485 and parameters: {'booster': 'dart', 'learning_rate': 0.07192683111963658, 'max_depth': 15, 'subsample': 0.7109892665520436, 'reg_alpha': 0.983682020667402, 'reg_lambda': 9.714417357410467e-07, 'gamma': 0.02408134878476262, 'min_child_weight': 4}. Best is trial 238 with value: 12809.393638349062.\u001b[0m\n",
      "\u001b[32m[I 2023-01-14 23:46:55,247]\u001b[0m Trial 264 finished with value: 22156.73270238943 and parameters: {'booster': 'gbtree', 'learning_rate': 0.06344268286547557, 'max_depth': 15, 'subsample': 0.6339299973096931, 'reg_alpha': 0.26874356349773765, 'reg_lambda': 1.1475493792668345e-07, 'gamma': 0.04163690054884162, 'min_child_weight': 4}. Best is trial 238 with value: 12809.393638349062.\u001b[0m\n",
      "\u001b[32m[I 2023-01-14 23:46:55,426]\u001b[0m Trial 265 finished with value: 12687.266327568548 and parameters: {'booster': 'dart', 'learning_rate': 0.09989614341410454, 'max_depth': 15, 'subsample': 0.7663770665205047, 'reg_alpha': 0.5855910957270605, 'reg_lambda': 4.295962702200428e-07, 'gamma': 8.515017741440044e-08, 'min_child_weight': 4}. Best is trial 265 with value: 12687.266327568548.\u001b[0m\n",
      "\u001b[32m[I 2023-01-14 23:46:55,595]\u001b[0m Trial 266 finished with value: 67576.08905923371 and parameters: {'booster': 'dart', 'learning_rate': 0.00048026999277765665, 'max_depth': 15, 'subsample': 0.7848177348305424, 'reg_alpha': 0.6428747938076785, 'reg_lambda': 5.67427779769643e-07, 'gamma': 8.518487219572564e-08, 'min_child_weight': 4}. Best is trial 265 with value: 12687.266327568548.\u001b[0m\n",
      "\u001b[32m[I 2023-01-14 23:46:55,769]\u001b[0m Trial 267 finished with value: 12768.311647341865 and parameters: {'booster': 'dart', 'learning_rate': 0.09929576664089763, 'max_depth': 15, 'subsample': 0.8409863061975049, 'reg_alpha': 0.3872123768377931, 'reg_lambda': 2.233094083440303e-06, 'gamma': 1.0022523849060514e-07, 'min_child_weight': 4}. Best is trial 265 with value: 12687.266327568548.\u001b[0m\n",
      "\u001b[32m[I 2023-01-14 23:46:55,970]\u001b[0m Trial 268 finished with value: 13020.198261039639 and parameters: {'booster': 'dart', 'learning_rate': 0.09917163558019368, 'max_depth': 15, 'subsample': 0.8684500193848115, 'reg_alpha': 0.37371054232527484, 'reg_lambda': 4.320358215802306e-07, 'gamma': 4.3834036573031684e-08, 'min_child_weight': 3}. Best is trial 265 with value: 12687.266327568548.\u001b[0m\n",
      "\u001b[32m[I 2023-01-14 23:46:56,149]\u001b[0m Trial 269 finished with value: 12752.615794765026 and parameters: {'booster': 'dart', 'learning_rate': 0.09980085636979583, 'max_depth': 15, 'subsample': 0.804020608471309, 'reg_alpha': 0.23393452671678625, 'reg_lambda': 2.7537163566079413e-07, 'gamma': 7.065732914391942e-08, 'min_child_weight': 4}. Best is trial 265 with value: 12687.266327568548.\u001b[0m\n",
      "\u001b[32m[I 2023-01-14 23:46:56,328]\u001b[0m Trial 270 finished with value: 16580.151083709887 and parameters: {'booster': 'dart', 'learning_rate': 0.0817100789680979, 'max_depth': 15, 'subsample': 0.7596650248643042, 'reg_alpha': 0.27104226407327126, 'reg_lambda': 8.971762535295385e-07, 'gamma': 5.7247014729977475e-08, 'min_child_weight': 4}. Best is trial 265 with value: 12687.266327568548.\u001b[0m\n",
      "\u001b[32m[I 2023-01-14 23:46:56,503]\u001b[0m Trial 271 finished with value: 17081.22185519024 and parameters: {'booster': 'dart', 'learning_rate': 0.0795551883029113, 'max_depth': 15, 'subsample': 0.799531634353039, 'reg_alpha': 0.20252429953790813, 'reg_lambda': 4.1984367260683834e-07, 'gamma': 9.409448463251787e-08, 'min_child_weight': 4}. Best is trial 265 with value: 12687.266327568548.\u001b[0m\n",
      "\u001b[32m[I 2023-01-14 23:46:56,681]\u001b[0m Trial 272 finished with value: 15090.660722649933 and parameters: {'booster': 'dart', 'learning_rate': 0.0879623192153913, 'max_depth': 15, 'subsample': 0.7255935036808882, 'reg_alpha': 0.4498165362837495, 'reg_lambda': 2.8747822255477163e-07, 'gamma': 6.706388262638976e-08, 'min_child_weight': 4}. Best is trial 265 with value: 12687.266327568548.\u001b[0m\n",
      "\u001b[32m[I 2023-01-14 23:46:56,863]\u001b[0m Trial 273 finished with value: 12856.367949057743 and parameters: {'booster': 'dart', 'learning_rate': 0.09960073335811077, 'max_depth': 15, 'subsample': 0.9075434549337694, 'reg_alpha': 0.9863361369715175, 'reg_lambda': 2.2673545309064727e-06, 'gamma': 3.431948461146554e-08, 'min_child_weight': 4}. Best is trial 265 with value: 12687.266327568548.\u001b[0m\n",
      "\u001b[32m[I 2023-01-14 23:46:57,049]\u001b[0m Trial 274 finished with value: 12841.560952058895 and parameters: {'booster': 'dart', 'learning_rate': 0.09966775126749915, 'max_depth': 15, 'subsample': 0.9034730939664758, 'reg_alpha': 0.6715737255589342, 'reg_lambda': 3.2264289205887163e-06, 'gamma': 3.416070005115309e-08, 'min_child_weight': 4}. Best is trial 265 with value: 12687.266327568548.\u001b[0m\n",
      "\u001b[32m[I 2023-01-14 23:46:57,233]\u001b[0m Trial 275 finished with value: 19946.147138771696 and parameters: {'booster': 'dart', 'learning_rate': 0.07005736557197913, 'max_depth': 15, 'subsample': 0.9292889620118494, 'reg_alpha': 0.6606867438172174, 'reg_lambda': 2.199267421861875e-06, 'gamma': 3.180518035926997e-08, 'min_child_weight': 4}. Best is trial 265 with value: 12687.266327568548.\u001b[0m\n",
      "\u001b[32m[I 2023-01-14 23:46:57,432]\u001b[0m Trial 276 finished with value: 15163.97503950587 and parameters: {'booster': 'dart', 'learning_rate': 0.08785339858697354, 'max_depth': 15, 'subsample': 0.9034741706230462, 'reg_alpha': 0.35244694173559876, 'reg_lambda': 4.836446516873956e-06, 'gamma': 3.5309774107246955e-08, 'min_child_weight': 4}. Best is trial 265 with value: 12687.266327568548.\u001b[0m\n",
      "\u001b[32m[I 2023-01-14 23:46:57,610]\u001b[0m Trial 277 finished with value: 17421.342260116784 and parameters: {'booster': 'dart', 'learning_rate': 0.07853612095962638, 'max_depth': 15, 'subsample': 0.9934292549144395, 'reg_alpha': 0.9872285799894285, 'reg_lambda': 2.6508736427633463e-06, 'gamma': 5.850384657819824e-08, 'min_child_weight': 4}. Best is trial 265 with value: 12687.266327568548.\u001b[0m\n",
      "\u001b[32m[I 2023-01-14 23:46:57,713]\u001b[0m Trial 278 finished with value: 15517.600002166917 and parameters: {'booster': 'dart', 'learning_rate': 0.08865500031206924, 'max_depth': 15, 'subsample': 0.1671868505574291, 'reg_alpha': 0.6145055155158189, 'reg_lambda': 2.2129052748176734e-06, 'gamma': 2.3239691161697963e-08, 'min_child_weight': 4}. Best is trial 265 with value: 12687.266327568548.\u001b[0m\n",
      "\u001b[32m[I 2023-01-14 23:46:57,788]\u001b[0m Trial 279 finished with value: 18194.09049114963 and parameters: {'booster': 'dart', 'learning_rate': 0.0997890129580132, 'max_depth': 15, 'subsample': 0.011304462298223425, 'reg_alpha': 0.49676026970145476, 'reg_lambda': 5.87822452951398e-06, 'gamma': 1.2186305331599843e-08, 'min_child_weight': 4}. Best is trial 265 with value: 12687.266327568548.\u001b[0m\n",
      "\u001b[32m[I 2023-01-14 23:46:57,970]\u001b[0m Trial 280 finished with value: 21637.763132386357 and parameters: {'booster': 'dart', 'learning_rate': 0.06459368458672712, 'max_depth': 15, 'subsample': 0.8404009671529798, 'reg_alpha': 0.21658489530925867, 'reg_lambda': 6.550166807552923e-07, 'gamma': 2.5141827984015048e-08, 'min_child_weight': 4}. Best is trial 265 with value: 12687.266327568548.\u001b[0m\n",
      "\u001b[32m[I 2023-01-14 23:46:58,147]\u001b[0m Trial 281 finished with value: 15204.844649533808 and parameters: {'booster': 'dart', 'learning_rate': 0.08750007193635835, 'max_depth': 15, 'subsample': 0.7947371918747329, 'reg_alpha': 0.3473335048017049, 'reg_lambda': 1.2213326269477107e-06, 'gamma': 8.654639175524172e-08, 'min_child_weight': 4}. Best is trial 265 with value: 12687.266327568548.\u001b[0m\n",
      "\u001b[32m[I 2023-01-14 23:46:58,326]\u001b[0m Trial 282 finished with value: 17660.304468054 and parameters: {'booster': 'dart', 'learning_rate': 0.07777268011802299, 'max_depth': 15, 'subsample': 0.9061217080459729, 'reg_alpha': 0.7035179401895248, 'reg_lambda': 4.372897036595526e-06, 'gamma': 1.282386331781137e-07, 'min_child_weight': 4}. Best is trial 265 with value: 12687.266327568548.\u001b[0m\n",
      "\u001b[32m[I 2023-01-14 23:46:58,510]\u001b[0m Trial 283 finished with value: 12940.429531598296 and parameters: {'booster': 'dart', 'learning_rate': 0.0990284319579042, 'max_depth': 15, 'subsample': 0.7142278537943743, 'reg_alpha': 0.9905160782009211, 'reg_lambda': 2.3572346272943625e-07, 'gamma': 1.7945341317355564e-08, 'min_child_weight': 3}. Best is trial 265 with value: 12687.266327568548.\u001b[0m\n",
      "\u001b[32m[I 2023-01-14 23:46:58,699]\u001b[0m Trial 284 finished with value: 12861.473961047943 and parameters: {'booster': 'dart', 'learning_rate': 0.0994781608317401, 'max_depth': 15, 'subsample': 0.6957979767648735, 'reg_alpha': 0.4478686355053495, 'reg_lambda': 2.698794051996905e-07, 'gamma': 1.9264327248573523e-08, 'min_child_weight': 3}. Best is trial 265 with value: 12687.266327568548.\u001b[0m\n",
      "\u001b[32m[I 2023-01-14 23:46:58,872]\u001b[0m Trial 285 finished with value: 17820.9882521069 and parameters: {'booster': 'gbtree', 'learning_rate': 0.07649702648190634, 'max_depth': 14, 'subsample': 0.5938678631866011, 'reg_alpha': 0.1910447494916582, 'reg_lambda': 5.627109246150414e-07, 'gamma': 4.063204302315757e-08, 'min_child_weight': 2}. Best is trial 265 with value: 12687.266327568548.\u001b[0m\n",
      "\u001b[32m[I 2023-01-14 23:46:58,917]\u001b[0m Trial 286 finished with value: 28765.986797592308 and parameters: {'booster': 'gblinear', 'learning_rate': 0.08708552803951312, 'max_depth': 15, 'subsample': 0.6700787516444676, 'reg_alpha': 0.32505227474333537, 'reg_lambda': 1.7563656992256026e-06, 'gamma': 2.2509111614864147e-08, 'min_child_weight': 3}. Best is trial 265 with value: 12687.266327568548.\u001b[0m\n",
      "\u001b[32m[I 2023-01-14 23:46:59,074]\u001b[0m Trial 287 finished with value: 24422.297475362688 and parameters: {'booster': 'dart', 'learning_rate': 0.05778629464150125, 'max_depth': 14, 'subsample': 0.4741165007316173, 'reg_alpha': 0.4901408865189181, 'reg_lambda': 3.5391874808868657e-07, 'gamma': 5.342103932822235e-08, 'min_child_weight': 3}. Best is trial 265 with value: 12687.266327568548.\u001b[0m\n",
      "\u001b[32m[I 2023-01-14 23:46:59,253]\u001b[0m Trial 288 finished with value: 19772.113223861044 and parameters: {'booster': 'dart', 'learning_rate': 0.07022552063376263, 'max_depth': 15, 'subsample': 0.8579044517506913, 'reg_alpha': 0.25676414680426785, 'reg_lambda': 3.2037454064973507e-06, 'gamma': 3.253248879104308e-08, 'min_child_weight': 4}. Best is trial 265 with value: 12687.266327568548.\u001b[0m\n",
      "\u001b[32m[I 2023-01-14 23:46:59,420]\u001b[0m Trial 289 finished with value: 12947.23043328519 and parameters: {'booster': 'dart', 'learning_rate': 0.0996790256334496, 'max_depth': 15, 'subsample': 0.5398327978094997, 'reg_alpha': 0.4201154667408743, 'reg_lambda': 7.558577393425496e-06, 'gamma': 0.06155711175747801, 'min_child_weight': 4}. Best is trial 265 with value: 12687.266327568548.\u001b[0m\n",
      "\u001b[32m[I 2023-01-14 23:46:59,601]\u001b[0m Trial 290 finished with value: 15596.727602582743 and parameters: {'booster': 'dart', 'learning_rate': 0.08601611803427796, 'max_depth': 14, 'subsample': 0.7177328079902541, 'reg_alpha': 0.15128514756381548, 'reg_lambda': 1.184980126342764e-06, 'gamma': 1.8944198873028694e-08, 'min_child_weight': 3}. Best is trial 265 with value: 12687.266327568548.\u001b[0m\n",
      "\u001b[32m[I 2023-01-14 23:46:59,770]\u001b[0m Trial 291 finished with value: 64485.55580500531 and parameters: {'booster': 'dart', 'learning_rate': 0.003017783494738662, 'max_depth': 15, 'subsample': 0.6191906276691272, 'reg_alpha': 0.5867743055822565, 'reg_lambda': 3.201596773098308e-07, 'gamma': 0.10030118677297109, 'min_child_weight': 4}. Best is trial 265 with value: 12687.266327568548.\u001b[0m\n",
      "\u001b[32m[I 2023-01-14 23:46:59,955]\u001b[0m Trial 292 finished with value: 17453.697264121587 and parameters: {'booster': 'dart', 'learning_rate': 0.07804241333804066, 'max_depth': 15, 'subsample': 0.82612282901651, 'reg_alpha': 0.3418792469587211, 'reg_lambda': 1.8379770290063424e-07, 'gamma': 8.063118319585254e-08, 'min_child_weight': 4}. Best is trial 265 with value: 12687.266327568548.\u001b[0m\n",
      "\u001b[32m[I 2023-01-14 23:47:00,125]\u001b[0m Trial 293 finished with value: 15153.390307438765 and parameters: {'booster': 'dart', 'learning_rate': 0.08782591156131636, 'max_depth': 14, 'subsample': 0.6862047961029745, 'reg_alpha': 0.2394283978542525, 'reg_lambda': 4.350385901121794e-07, 'gamma': 1.2589719507638368e-07, 'min_child_weight': 4}. Best is trial 265 with value: 12687.266327568548.\u001b[0m\n",
      "\u001b[32m[I 2023-01-14 23:47:00,373]\u001b[0m Trial 294 finished with value: 12957.176340084901 and parameters: {'booster': 'dart', 'learning_rate': 0.09928388494423986, 'max_depth': 15, 'subsample': 0.7487406134451342, 'reg_alpha': 0.6830840673968912, 'reg_lambda': 2.700624945646343e-07, 'gamma': 0.026832428063306782, 'min_child_weight': 1}. Best is trial 265 with value: 12687.266327568548.\u001b[0m\n",
      "\u001b[32m[I 2023-01-14 23:47:00,550]\u001b[0m Trial 295 finished with value: 15143.474333231865 and parameters: {'booster': 'dart', 'learning_rate': 0.08810805482174125, 'max_depth': 14, 'subsample': 0.9981288794569968, 'reg_alpha': 0.49784806814866206, 'reg_lambda': 4.9194905116550025e-05, 'gamma': 4.6086696894291175e-08, 'min_child_weight': 4}. Best is trial 265 with value: 12687.266327568548.\u001b[0m\n",
      "\u001b[32m[I 2023-01-14 23:47:00,733]\u001b[0m Trial 296 finished with value: 20548.241394163346 and parameters: {'booster': 'dart', 'learning_rate': 0.06817364638110648, 'max_depth': 15, 'subsample': 0.9113470841463972, 'reg_alpha': 0.14874764622861528, 'reg_lambda': 1.3292506511205415e-07, 'gamma': 0.03790619070487328, 'min_child_weight': 4}. Best is trial 265 with value: 12687.266327568548.\u001b[0m\n",
      "\u001b[32m[I 2023-01-14 23:47:00,905]\u001b[0m Trial 297 finished with value: 12860.090640526441 and parameters: {'booster': 'dart', 'learning_rate': 0.09982626987406489, 'max_depth': 14, 'subsample': 0.8154173967094849, 'reg_alpha': 1.102125074908442e-05, 'reg_lambda': 7.010445802087055e-07, 'gamma': 1.2890757023892807e-08, 'min_child_weight': 4}. Best is trial 265 with value: 12687.266327568548.\u001b[0m\n",
      "\u001b[32m[I 2023-01-14 23:47:01,088]\u001b[0m Trial 298 finished with value: 67966.39333597575 and parameters: {'booster': 'dart', 'learning_rate': 0.0001685014633527803, 'max_depth': 14, 'subsample': 0.9031969173860561, 'reg_alpha': 5.443960854035567e-06, 'reg_lambda': 5.833690169073409e-07, 'gamma': 1.9125458578792745e-08, 'min_child_weight': 4}. Best is trial 265 with value: 12687.266327568548.\u001b[0m\n",
      "\u001b[32m[I 2023-01-14 23:47:01,266]\u001b[0m Trial 299 finished with value: 17543.502099747682 and parameters: {'booster': 'dart', 'learning_rate': 0.07805123947956882, 'max_depth': 14, 'subsample': 0.7975130153778957, 'reg_alpha': 0.10571619748856388, 'reg_lambda': 9.230330102040341e-07, 'gamma': 1.5297621866326238e-08, 'min_child_weight': 4}. Best is trial 265 with value: 12687.266327568548.\u001b[0m\n",
      "\u001b[32m[I 2023-01-14 23:47:01,450]\u001b[0m Trial 300 finished with value: 15148.859646150837 and parameters: {'booster': 'dart', 'learning_rate': 0.08785639481802408, 'max_depth': 14, 'subsample': 0.8292083977937429, 'reg_alpha': 9.848992381155726e-07, 'reg_lambda': 8.392476986795425e-07, 'gamma': 1.0183680462132162e-08, 'min_child_weight': 3}. Best is trial 265 with value: 12687.266327568548.\u001b[0m\n",
      "\u001b[32m[I 2023-01-14 23:47:01,633]\u001b[0m Trial 301 finished with value: 12834.583236428887 and parameters: {'booster': 'dart', 'learning_rate': 0.09982438013689354, 'max_depth': 14, 'subsample': 0.9257155876562021, 'reg_alpha': 1.552293861201791e-05, 'reg_lambda': 4.5681591471892576e-07, 'gamma': 2.7503577473904168e-08, 'min_child_weight': 4}. Best is trial 265 with value: 12687.266327568548.\u001b[0m\n",
      "\u001b[32m[I 2023-01-14 23:47:01,809]\u001b[0m Trial 302 finished with value: 17779.095235707166 and parameters: {'booster': 'dart', 'learning_rate': 0.077395449483399, 'max_depth': 14, 'subsample': 0.9310495940750052, 'reg_alpha': 2.8581019312545445e-05, 'reg_lambda': 6.446471347183818e-07, 'gamma': 1.411783880515221e-08, 'min_child_weight': 4}. Best is trial 265 with value: 12687.266327568548.\u001b[0m\n",
      "\u001b[32m[I 2023-01-14 23:47:01,990]\u001b[0m Trial 303 finished with value: 58593.25901892089 and parameters: {'booster': 'dart', 'learning_rate': 0.008193240988597205, 'max_depth': 14, 'subsample': 0.9957574478677891, 'reg_alpha': 0.32519299116537204, 'reg_lambda': 4.461069619344377e-07, 'gamma': 3.9701230380170244e-08, 'min_child_weight': 4}. Best is trial 265 with value: 12687.266327568548.\u001b[0m\n",
      "\u001b[32m[I 2023-01-14 23:47:02,177]\u001b[0m Trial 304 finished with value: 15480.701590211182 and parameters: {'booster': 'dart', 'learning_rate': 0.08622019703713882, 'max_depth': 15, 'subsample': 0.884565984390107, 'reg_alpha': 1.5072139992480101e-05, 'reg_lambda': 2.9528065729757144e-07, 'gamma': 2.6626117635826325e-08, 'min_child_weight': 4}. Best is trial 265 with value: 12687.266327568548.\u001b[0m\n",
      "\u001b[32m[I 2023-01-14 23:47:02,351]\u001b[0m Trial 305 finished with value: 22431.550378334257 and parameters: {'booster': 'dart', 'learning_rate': 0.06259299384586732, 'max_depth': 14, 'subsample': 0.7897111485488024, 'reg_alpha': 1.2482882614903927e-05, 'reg_lambda': 5.00891694831785e-07, 'gamma': 2.955977066907933e-08, 'min_child_weight': 4}. Best is trial 265 with value: 12687.266327568548.\u001b[0m\n",
      "\u001b[32m[I 2023-01-14 23:47:02,531]\u001b[0m Trial 306 finished with value: 15087.774877706963 and parameters: {'booster': 'dart', 'learning_rate': 0.08810145193683866, 'max_depth': 15, 'subsample': 0.8600015256409699, 'reg_alpha': 4.526434441301135e-06, 'reg_lambda': 1.5150919716357112e-06, 'gamma': 1.3252453690918274e-08, 'min_child_weight': 4}. Best is trial 265 with value: 12687.266327568548.\u001b[0m\n",
      "\u001b[32m[I 2023-01-14 23:47:02,706]\u001b[0m Trial 307 finished with value: 19208.741203804424 and parameters: {'booster': 'dart', 'learning_rate': 0.07253776478849112, 'max_depth': 14, 'subsample': 0.9272072762009504, 'reg_alpha': 0.1993146623643755, 'reg_lambda': 1.7355585945953327e-05, 'gamma': 6.158165190000401e-08, 'min_child_weight': 4}. Best is trial 265 with value: 12687.266327568548.\u001b[0m\n",
      "\u001b[32m[I 2023-01-14 23:47:02,898]\u001b[0m Trial 308 finished with value: 12792.51406599031 and parameters: {'booster': 'dart', 'learning_rate': 0.09984351274756847, 'max_depth': 15, 'subsample': 0.738477888980295, 'reg_alpha': 0.4387010903471926, 'reg_lambda': 7.050550017543041e-07, 'gamma': 1.0117470686173891e-08, 'min_child_weight': 3}. Best is trial 265 with value: 12687.266327568548.\u001b[0m\n",
      "\u001b[32m[I 2023-01-14 23:47:02,941]\u001b[0m Trial 309 finished with value: 28666.95476280341 and parameters: {'booster': 'gblinear', 'learning_rate': 0.08792852849390582, 'max_depth': 15, 'subsample': 0.7456727172137324, 'reg_alpha': 0.7257740251302878, 'reg_lambda': 7.751253048806791e-07, 'gamma': 1.1057432929250263e-08, 'min_child_weight': 3}. Best is trial 265 with value: 12687.266327568548.\u001b[0m\n",
      "\u001b[32m[I 2023-01-14 23:47:03,119]\u001b[0m Trial 310 finished with value: 17877.80188034748 and parameters: {'booster': 'dart', 'learning_rate': 0.0771048964725433, 'max_depth': 14, 'subsample': 0.7252400345277831, 'reg_alpha': 0.14013063551404223, 'reg_lambda': 9.934917063905627e-07, 'gamma': 2.8539139132945748e-08, 'min_child_weight': 3}. Best is trial 265 with value: 12687.266327568548.\u001b[0m\n",
      "\u001b[32m[I 2023-01-14 23:47:03,308]\u001b[0m Trial 311 finished with value: 12774.65727747406 and parameters: {'booster': 'gbtree', 'learning_rate': 0.09968411188816786, 'max_depth': 15, 'subsample': 0.7980960432657049, 'reg_alpha': 2.394822162777442e-05, 'reg_lambda': 4.10114675206002e-07, 'gamma': 1.8084402899554814e-08, 'min_child_weight': 3}. Best is trial 265 with value: 12687.266327568548.\u001b[0m\n",
      "\u001b[32m[I 2023-01-14 23:47:03,488]\u001b[0m Trial 312 finished with value: 12813.09723792619 and parameters: {'booster': 'gbtree', 'learning_rate': 0.09947407008026508, 'max_depth': 15, 'subsample': 0.8148943112314072, 'reg_alpha': 7.455099342421703e-06, 'reg_lambda': 4.25832419317116e-07, 'gamma': 2.0640453412092256e-08, 'min_child_weight': 3}. Best is trial 265 with value: 12687.266327568548.\u001b[0m\n",
      "\u001b[32m[I 2023-01-14 23:47:03,715]\u001b[0m Trial 313 finished with value: 43775.01799383257 and parameters: {'booster': 'gbtree', 'learning_rate': 0.024122949614340323, 'max_depth': 15, 'subsample': 0.8167993012759738, 'reg_alpha': 5.415836949267666e-06, 'reg_lambda': 6.426057373512144e-07, 'gamma': 1.5786924199585735e-08, 'min_child_weight': 2}. Best is trial 265 with value: 12687.266327568548.\u001b[0m\n",
      "\u001b[32m[I 2023-01-14 23:47:03,891]\u001b[0m Trial 314 finished with value: 20773.804662957536 and parameters: {'booster': 'gbtree', 'learning_rate': 0.06726277651664413, 'max_depth': 15, 'subsample': 0.7829529894101273, 'reg_alpha': 1.0678814486079804e-05, 'reg_lambda': 4.1470082206342354e-07, 'gamma': 1.8187872112658786e-08, 'min_child_weight': 3}. Best is trial 265 with value: 12687.266327568548.\u001b[0m\n",
      "\u001b[32m[I 2023-01-14 23:47:04,079]\u001b[0m Trial 315 finished with value: 62776.21164524786 and parameters: {'booster': 'gbtree', 'learning_rate': 0.004470796147073417, 'max_depth': 15, 'subsample': 0.8443129785488573, 'reg_alpha': 8.038212054365114e-06, 'reg_lambda': 1.2978811468955918e-06, 'gamma': 1.9970831661647905e-08, 'min_child_weight': 3}. Best is trial 265 with value: 12687.266327568548.\u001b[0m\n",
      "\u001b[32m[I 2023-01-14 23:47:04,260]\u001b[0m Trial 316 finished with value: 65579.84818885222 and parameters: {'booster': 'gbtree', 'learning_rate': 0.0020996719605149055, 'max_depth': 15, 'subsample': 0.7649930226590707, 'reg_alpha': 1.834121649093185e-05, 'reg_lambda': 4.798186388793534e-07, 'gamma': 1.1344308615683119e-08, 'min_child_weight': 3}. Best is trial 265 with value: 12687.266327568548.\u001b[0m\n",
      "\u001b[32m[I 2023-01-14 23:47:04,463]\u001b[0m Trial 317 finished with value: 15154.118674617679 and parameters: {'booster': 'gbtree', 'learning_rate': 0.08821161376971987, 'max_depth': 15, 'subsample': 0.9406541716735856, 'reg_alpha': 8.361845311906462e-06, 'reg_lambda': 6.771254836107662e-07, 'gamma': 3.0262502275467216e-08, 'min_child_weight': 3}. Best is trial 265 with value: 12687.266327568548.\u001b[0m\n",
      "\u001b[32m[I 2023-01-14 23:47:04,649]\u001b[0m Trial 318 finished with value: 17230.36550448742 and parameters: {'booster': 'gbtree', 'learning_rate': 0.07929803944322561, 'max_depth': 15, 'subsample': 0.8339006636168798, 'reg_alpha': 2.7383556870065643e-05, 'reg_lambda': 2.0285256704534585e-06, 'gamma': 1.42419463735292e-08, 'min_child_weight': 3}. Best is trial 265 with value: 12687.266327568548.\u001b[0m\n",
      "\u001b[32m[I 2023-01-14 23:47:04,862]\u001b[0m Trial 319 finished with value: 13049.080172378517 and parameters: {'booster': 'gbtree', 'learning_rate': 0.0997845066363024, 'max_depth': 15, 'subsample': 0.9957715303804776, 'reg_alpha': 2.5827136041967644e-05, 'reg_lambda': 3.446498987859675e-07, 'gamma': 2.4095616894917532e-08, 'min_child_weight': 3}. Best is trial 265 with value: 12687.266327568548.\u001b[0m\n",
      "\u001b[32m[I 2023-01-14 23:47:05,049]\u001b[0m Trial 320 finished with value: 15538.06345101572 and parameters: {'booster': 'gbtree', 'learning_rate': 0.08608098742815595, 'max_depth': 15, 'subsample': 0.7518060842177038, 'reg_alpha': 1.055819510656992e-05, 'reg_lambda': 3.076394643210876e-07, 'gamma': 4.411538421553187e-08, 'min_child_weight': 3}. Best is trial 265 with value: 12687.266327568548.\u001b[0m\n",
      "\u001b[32m[I 2023-01-14 23:47:05,227]\u001b[0m Trial 321 finished with value: 18589.26460859276 and parameters: {'booster': 'gbtree', 'learning_rate': 0.07396115655481052, 'max_depth': 15, 'subsample': 0.6976268794098637, 'reg_alpha': 5.0148540686175196e-05, 'reg_lambda': 3.118056837182606e-06, 'gamma': 1.0098130725156401e-08, 'min_child_weight': 3}. Best is trial 265 with value: 12687.266327568548.\u001b[0m\n",
      "\u001b[32m[I 2023-01-14 23:47:05,311]\u001b[0m Trial 322 finished with value: 14622.380962929114 and parameters: {'booster': 'gbtree', 'learning_rate': 0.0991851052206653, 'max_depth': 15, 'subsample': 0.043325961319296176, 'reg_alpha': 6.518558812508794e-06, 'reg_lambda': 7.889940944824258e-07, 'gamma': 2.02643726211572e-08, 'min_child_weight': 3}. Best is trial 265 with value: 12687.266327568548.\u001b[0m\n",
      "\u001b[32m[I 2023-01-14 23:47:05,516]\u001b[0m Trial 323 finished with value: 12842.79139609695 and parameters: {'booster': 'gbtree', 'learning_rate': 0.0998141537761878, 'max_depth': 15, 'subsample': 0.8611743924264454, 'reg_alpha': 1.6777165297066168e-05, 'reg_lambda': 4.2450393030805766e-07, 'gamma': 5.939744090595194e-08, 'min_child_weight': 3}. Best is trial 265 with value: 12687.266327568548.\u001b[0m\n",
      "\u001b[32m[I 2023-01-14 23:47:05,751]\u001b[0m Trial 324 finished with value: 24611.64338642157 and parameters: {'booster': 'gbtree', 'learning_rate': 0.05711976011673299, 'max_depth': 15, 'subsample': 0.8698831593419217, 'reg_alpha': 3.522746722545491e-05, 'reg_lambda': 4.493705956037804e-07, 'gamma': 8.864159414552282e-08, 'min_child_weight': 2}. Best is trial 265 with value: 12687.266327568548.\u001b[0m\n",
      "\u001b[32m[I 2023-01-14 23:47:05,942]\u001b[0m Trial 325 finished with value: 15022.301685303035 and parameters: {'booster': 'gbtree', 'learning_rate': 0.0886213778950141, 'max_depth': 15, 'subsample': 0.917229802378829, 'reg_alpha': 2.1677819474930198e-05, 'reg_lambda': 1.119650330608791e-06, 'gamma': 4.210957879598895e-08, 'min_child_weight': 3}. Best is trial 265 with value: 12687.266327568548.\u001b[0m\n",
      "\u001b[32m[I 2023-01-14 23:47:06,130]\u001b[0m Trial 326 finished with value: 17305.8458372744 and parameters: {'booster': 'gbtree', 'learning_rate': 0.07868671305318341, 'max_depth': 15, 'subsample': 0.8124921584003861, 'reg_alpha': 3.511924780279596e-06, 'reg_lambda': 3.7429649412267244e-07, 'gamma': 6.078186752968797e-08, 'min_child_weight': 3}. Best is trial 265 with value: 12687.266327568548.\u001b[0m\n",
      "\u001b[32m[I 2023-01-14 23:47:06,313]\u001b[0m Trial 327 finished with value: 15005.432549420731 and parameters: {'booster': 'gbtree', 'learning_rate': 0.0880946444842838, 'max_depth': 15, 'subsample': 0.7327809033523428, 'reg_alpha': 1.3776488560163147e-05, 'reg_lambda': 5.359015767166635e-07, 'gamma': 3.083751998228736e-08, 'min_child_weight': 3}. Best is trial 265 with value: 12687.266327568548.\u001b[0m\n",
      "\u001b[32m[I 2023-01-14 23:47:06,492]\u001b[0m Trial 328 finished with value: 20661.258266889734 and parameters: {'booster': 'gbtree', 'learning_rate': 0.06786971419244214, 'max_depth': 15, 'subsample': 0.8295354312134092, 'reg_alpha': 0.3778977288779322, 'reg_lambda': 2.6099369384355933e-07, 'gamma': 1.5768515616700583e-08, 'min_child_weight': 3}. Best is trial 265 with value: 12687.266327568548.\u001b[0m\n",
      "\u001b[32m[I 2023-01-14 23:47:06,718]\u001b[0m Trial 329 finished with value: 56057.76177341358 and parameters: {'booster': 'gbtree', 'learning_rate': 0.01064271491215337, 'max_depth': 15, 'subsample': 0.9149489789993127, 'reg_alpha': 1.6188637103082863e-05, 'reg_lambda': 7.642721983441124e-07, 'gamma': 2.3865679054899875e-08, 'min_child_weight': 3}. Best is trial 265 with value: 12687.266327568548.\u001b[0m\n",
      "\u001b[32m[I 2023-01-14 23:47:06,917]\u001b[0m Trial 330 finished with value: 12845.268097002501 and parameters: {'booster': 'gbtree', 'learning_rate': 0.09923415301620118, 'max_depth': 15, 'subsample': 0.68989764700777, 'reg_alpha': 8.870730312937796e-06, 'reg_lambda': 1.5059607189580323e-06, 'gamma': 6.530182883889308e-08, 'min_child_weight': 3}. Best is trial 265 with value: 12687.266327568548.\u001b[0m\n",
      "\u001b[32m[I 2023-01-14 23:47:07,099]\u001b[0m Trial 331 finished with value: 12823.525678547949 and parameters: {'booster': 'gbtree', 'learning_rate': 0.09968344577530239, 'max_depth': 15, 'subsample': 0.7778809072892284, 'reg_alpha': 7.045223671930612e-06, 'reg_lambda': 1.7933215046992633e-06, 'gamma': 6.37108130165619e-08, 'min_child_weight': 3}. Best is trial 265 with value: 12687.266327568548.\u001b[0m\n",
      "\u001b[32m[I 2023-01-14 23:47:07,276]\u001b[0m Trial 332 finished with value: 17326.561894569026 and parameters: {'booster': 'gbtree', 'learning_rate': 0.0789141352795119, 'max_depth': 15, 'subsample': 0.7631486474463725, 'reg_alpha': 8.625533474572583e-06, 'reg_lambda': 1.680395408098937e-06, 'gamma': 6.954639142568187e-08, 'min_child_weight': 3}. Best is trial 265 with value: 12687.266327568548.\u001b[0m\n",
      "\u001b[32m[I 2023-01-14 23:47:07,473]\u001b[0m Trial 333 finished with value: 14920.171070246099 and parameters: {'booster': 'gbtree', 'learning_rate': 0.08896689685771589, 'max_depth': 15, 'subsample': 0.8505413113405825, 'reg_alpha': 2.8097590004044863e-06, 'reg_lambda': 2.8372385903675968e-06, 'gamma': 1.1885444660176249e-07, 'min_child_weight': 3}. Best is trial 265 with value: 12687.266327568548.\u001b[0m\n",
      "\u001b[32m[I 2023-01-14 23:47:07,563]\u001b[0m Trial 334 finished with value: 14273.816027681272 and parameters: {'booster': 'gbtree', 'learning_rate': 0.09998284817675797, 'max_depth': 15, 'subsample': 0.05940691332995024, 'reg_alpha': 8.265543164957676e-06, 'reg_lambda': 1.9403127542554293e-06, 'gamma': 5.2132235547131944e-08, 'min_child_weight': 3}. Best is trial 265 with value: 12687.266327568548.\u001b[0m\n",
      "\u001b[32m[I 2023-01-14 23:47:07,800]\u001b[0m Trial 335 finished with value: 20425.17489543295 and parameters: {'booster': 'gbtree', 'learning_rate': 0.06917366163022724, 'max_depth': 15, 'subsample': 0.9858962071372545, 'reg_alpha': 1.261373138119813e-05, 'reg_lambda': 1.5244986617024958e-06, 'gamma': 3.631418720346467e-08, 'min_child_weight': 2}. Best is trial 265 with value: 12687.266327568548.\u001b[0m\n",
      "\u001b[32m[I 2023-01-14 23:47:07,986]\u001b[0m Trial 336 finished with value: 16259.018274226806 and parameters: {'booster': 'gbtree', 'learning_rate': 0.08310493396256352, 'max_depth': 15, 'subsample': 0.7918638653263267, 'reg_alpha': 3.670648364557981e-06, 'reg_lambda': 1.0129278231036627e-06, 'gamma': 8.261897941014369e-08, 'min_child_weight': 3}. Best is trial 265 with value: 12687.266327568548.\u001b[0m\n",
      "\u001b[32m[I 2023-01-14 23:47:08,159]\u001b[0m Trial 337 finished with value: 15141.02825530012 and parameters: {'booster': 'gbtree', 'learning_rate': 0.08735644364482893, 'max_depth': 15, 'subsample': 0.7008139238094281, 'reg_alpha': 6.924735018112949e-06, 'reg_lambda': 4.095141724409903e-06, 'gamma': 5.674990842596858e-08, 'min_child_weight': 3}. Best is trial 265 with value: 12687.266327568548.\u001b[0m\n",
      "\u001b[32m[I 2023-01-14 23:47:08,356]\u001b[0m Trial 338 finished with value: 50256.860292938705 and parameters: {'booster': 'gbtree', 'learning_rate': 0.01659811382315508, 'max_depth': 15, 'subsample': 0.9076326625378051, 'reg_alpha': 1.7535912857884854e-05, 'reg_lambda': 1.3736325514142068e-06, 'gamma': 9.415742557881321e-08, 'min_child_weight': 3}. Best is trial 265 with value: 12687.266327568548.\u001b[0m\n",
      "\u001b[32m[I 2023-01-14 23:47:08,538]\u001b[0m Trial 339 finished with value: 12902.565952610128 and parameters: {'booster': 'gbtree', 'learning_rate': 0.09953547536645002, 'max_depth': 15, 'subsample': 0.7862654139925067, 'reg_alpha': 9.755729326029817e-06, 'reg_lambda': 2.659079063885369e-06, 'gamma': 4.354078842868251e-08, 'min_child_weight': 3}. Best is trial 265 with value: 12687.266327568548.\u001b[0m\n",
      "\u001b[32m[I 2023-01-14 23:47:08,726]\u001b[0m Trial 340 finished with value: 17861.35758736998 and parameters: {'booster': 'gbtree', 'learning_rate': 0.0769236090874085, 'max_depth': 15, 'subsample': 0.8720420750255683, 'reg_alpha': 0.7116619373336693, 'reg_lambda': 7.193598227119946e-07, 'gamma': 3.1120366944087155e-08, 'min_child_weight': 3}. Best is trial 265 with value: 12687.266327568548.\u001b[0m\n",
      "\u001b[32m[I 2023-01-14 23:47:08,902]\u001b[0m Trial 341 finished with value: 22841.924759228423 and parameters: {'booster': 'gbtree', 'learning_rate': 0.06147633818299984, 'max_depth': 15, 'subsample': 0.6658250881817382, 'reg_alpha': 0.7278046317476449, 'reg_lambda': 1.1767387050301254e-06, 'gamma': 2.2837458396738895e-08, 'min_child_weight': 3}. Best is trial 265 with value: 12687.266327568548.\u001b[0m\n",
      "\u001b[32m[I 2023-01-14 23:47:09,072]\u001b[0m Trial 342 finished with value: 12792.05024905185 and parameters: {'booster': 'gbtree', 'learning_rate': 0.09998316874634844, 'max_depth': 15, 'subsample': 0.7348158747609245, 'reg_alpha': 0.9507739274035893, 'reg_lambda': 3.6821376905792954e-07, 'gamma': 7.143739388490463e-08, 'min_child_weight': 3}. Best is trial 265 with value: 12687.266327568548.\u001b[0m\n",
      "\u001b[32m[I 2023-01-14 23:47:09,273]\u001b[0m Trial 343 finished with value: 15206.122943992674 and parameters: {'booster': 'gbtree', 'learning_rate': 0.0870411134378951, 'max_depth': 15, 'subsample': 0.7302771385364486, 'reg_alpha': 0.9950758798966443, 'reg_lambda': 1.8676209080809094e-06, 'gamma': 6.792886800246672e-08, 'min_child_weight': 2}. Best is trial 265 with value: 12687.266327568548.\u001b[0m\n",
      "\u001b[32m[I 2023-01-14 23:47:09,373]\u001b[0m Trial 344 finished with value: 13648.33504776703 and parameters: {'booster': 'gbtree', 'learning_rate': 0.09983542170617404, 'max_depth': 15, 'subsample': 0.09412568641058029, 'reg_alpha': 0.46450147976310946, 'reg_lambda': 5.844198397876531e-07, 'gamma': 1.545441631695791e-07, 'min_child_weight': 3}. Best is trial 265 with value: 12687.266327568548.\u001b[0m\n",
      "\u001b[32m[I 2023-01-14 23:47:09,543]\u001b[0m Trial 345 finished with value: 18015.14290726494 and parameters: {'booster': 'gbtree', 'learning_rate': 0.07631902580453404, 'max_depth': 15, 'subsample': 0.6745268389344078, 'reg_alpha': 2.4934062424173193e-06, 'reg_lambda': 3.5093989239339563e-07, 'gamma': 4.5779492597920485e-08, 'min_child_weight': 3}. Best is trial 265 with value: 12687.266327568548.\u001b[0m\n",
      "\u001b[32m[I 2023-01-14 23:47:09,659]\u001b[0m Trial 346 finished with value: 15639.971181884857 and parameters: {'booster': 'gbtree', 'learning_rate': 0.08698601944613424, 'max_depth': 15, 'subsample': 0.20900193056779645, 'reg_alpha': 0.9994569770944993, 'reg_lambda': 9.547129979576766e-07, 'gamma': 1.5146554928328953e-08, 'min_child_weight': 3}. Best is trial 265 with value: 12687.266327568548.\u001b[0m\n",
      "\u001b[32m[I 2023-01-14 23:47:09,833]\u001b[0m Trial 347 finished with value: 20093.240246835783 and parameters: {'booster': 'gbtree', 'learning_rate': 0.06944566113951102, 'max_depth': 15, 'subsample': 0.749768979764561, 'reg_alpha': 0.5709538935738918, 'reg_lambda': 1.6470094925341102e-07, 'gamma': 1.2467531768655788e-07, 'min_child_weight': 3}. Best is trial 265 with value: 12687.266327568548.\u001b[0m\n",
      "\u001b[32m[I 2023-01-14 23:47:10,020]\u001b[0m Trial 348 finished with value: 12765.652350520355 and parameters: {'booster': 'gbtree', 'learning_rate': 0.09980866418072375, 'max_depth': 15, 'subsample': 0.805217611448117, 'reg_alpha': 5.6394352067730884e-06, 'reg_lambda': 2.424363907349595e-07, 'gamma': 7.85833832137765e-08, 'min_child_weight': 3}. Best is trial 265 with value: 12687.266327568548.\u001b[0m\n",
      "\u001b[32m[I 2023-01-14 23:47:10,201]\u001b[0m Trial 349 finished with value: 17069.70955690494 and parameters: {'booster': 'gbtree', 'learning_rate': 0.07968845384930424, 'max_depth': 15, 'subsample': 0.8107665057943575, 'reg_alpha': 4.68246217867901e-06, 'reg_lambda': 2.4081094832046353e-07, 'gamma': 7.3110457870548e-08, 'min_child_weight': 3}. Best is trial 265 with value: 12687.266327568548.\u001b[0m\n",
      "\u001b[32m[I 2023-01-14 23:47:10,430]\u001b[0m Trial 350 finished with value: 14974.472016817996 and parameters: {'booster': 'gbtree', 'learning_rate': 0.0884789093734141, 'max_depth': 15, 'subsample': 0.8219266319782617, 'reg_alpha': 5.677740544723877e-06, 'reg_lambda': 5.243597224406192e-07, 'gamma': 1.0342825819216423e-07, 'min_child_weight': 2}. Best is trial 265 with value: 12687.266327568548.\u001b[0m\n",
      "\u001b[32m[I 2023-01-14 23:47:10,612]\u001b[0m Trial 351 finished with value: 17324.259787313214 and parameters: {'booster': 'gbtree', 'learning_rate': 0.0785693370202661, 'max_depth': 15, 'subsample': 0.6436158720001429, 'reg_alpha': 1.2160406434303844e-05, 'reg_lambda': 3.837755426940715e-07, 'gamma': 3.5654784413641666e-08, 'min_child_weight': 3}. Best is trial 265 with value: 12687.266327568548.\u001b[0m\n",
      "\u001b[32m[I 2023-01-14 23:47:10,803]\u001b[0m Trial 352 finished with value: 15269.799674477112 and parameters: {'booster': 'gbtree', 'learning_rate': 0.08727658243716854, 'max_depth': 15, 'subsample': 0.8679183532985701, 'reg_alpha': 7.260331817609087e-06, 'reg_lambda': 2.6032641555691513e-07, 'gamma': 5.7873921471568207e-08, 'min_child_weight': 3}. Best is trial 265 with value: 12687.266327568548.\u001b[0m\n",
      "\u001b[32m[I 2023-01-14 23:47:10,983]\u001b[0m Trial 353 finished with value: 12847.334336444208 and parameters: {'booster': 'gbtree', 'learning_rate': 0.09933279746320814, 'max_depth': 15, 'subsample': 0.7680419802566245, 'reg_alpha': 6.988708355255155e-05, 'reg_lambda': 7.082493357794823e-07, 'gamma': 6.768600670913337e-08, 'min_child_weight': 3}. Best is trial 265 with value: 12687.266327568548.\u001b[0m\n",
      "\u001b[32m[I 2023-01-14 23:47:11,067]\u001b[0m Trial 354 finished with value: 19997.421440463335 and parameters: {'booster': 'gbtree', 'learning_rate': 0.07374446212621118, 'max_depth': 8, 'subsample': 0.7863556147417103, 'reg_alpha': 1.74757517725661e-05, 'reg_lambda': 7.254421707625627e-07, 'gamma': 9.090666917376485e-08, 'min_child_weight': 3}. Best is trial 265 with value: 12687.266327568548.\u001b[0m\n",
      "\u001b[32m[I 2023-01-14 23:47:11,275]\u001b[0m Trial 355 finished with value: 15207.001898618038 and parameters: {'booster': 'gbtree', 'learning_rate': 0.08757208934124065, 'max_depth': 15, 'subsample': 0.9154241275322711, 'reg_alpha': 7.921655609323032e-05, 'reg_lambda': 1.2365050041551653e-06, 'gamma': 1.6741762711808176e-07, 'min_child_weight': 3}. Best is trial 265 with value: 12687.266327568548.\u001b[0m\n",
      "\u001b[32m[I 2023-01-14 23:47:11,480]\u001b[0m Trial 356 finished with value: 21656.697865847163 and parameters: {'booster': 'gbtree', 'learning_rate': 0.0651970829045373, 'max_depth': 15, 'subsample': 0.9879812274979987, 'reg_alpha': 4.9082344433846606e-05, 'reg_lambda': 5.814638364363527e-07, 'gamma': 5.070276524038874e-08, 'min_child_weight': 3}. Best is trial 265 with value: 12687.266327568548.\u001b[0m\n",
      "\u001b[32m[I 2023-01-14 23:47:11,691]\u001b[0m Trial 357 finished with value: 15084.248964840504 and parameters: {'booster': 'gbtree', 'learning_rate': 0.08855451873170021, 'max_depth': 15, 'subsample': 0.8416878182975746, 'reg_alpha': 0.0001046507370900734, 'reg_lambda': 8.845567188793347e-07, 'gamma': 7.296342429218508e-08, 'min_child_weight': 3}. Best is trial 265 with value: 12687.266327568548.\u001b[0m\n",
      "\u001b[32m[I 2023-01-14 23:47:11,871]\u001b[0m Trial 358 finished with value: 17480.80308222669 and parameters: {'booster': 'gbtree', 'learning_rate': 0.07826477160881061, 'max_depth': 15, 'subsample': 0.7689340655356199, 'reg_alpha': 6.393068699529345e-06, 'reg_lambda': 4.0587983054344363e-07, 'gamma': 2.705807695406145e-08, 'min_child_weight': 3}. Best is trial 265 with value: 12687.266327568548.\u001b[0m\n",
      "\u001b[32m[I 2023-01-14 23:47:12,051]\u001b[0m Trial 359 finished with value: 15043.748294435096 and parameters: {'booster': 'gbtree', 'learning_rate': 0.08826610356826357, 'max_depth': 15, 'subsample': 0.6866535953388708, 'reg_alpha': 1.9038182484172107e-05, 'reg_lambda': 2.5067464544821233e-06, 'gamma': 1.1950825957275063e-07, 'min_child_weight': 3}. Best is trial 265 with value: 12687.266327568548.\u001b[0m\n",
      "\u001b[32m[I 2023-01-14 23:47:12,227]\u001b[0m Trial 360 finished with value: 25739.01585113637 and parameters: {'booster': 'gbtree', 'learning_rate': 0.0545285958460999, 'max_depth': 15, 'subsample': 0.8394372441958189, 'reg_alpha': 1.2021094157459108e-05, 'reg_lambda': 6.025282543503015e-07, 'gamma': 3.3286350624935135e-08, 'min_child_weight': 3}. Best is trial 265 with value: 12687.266327568548.\u001b[0m\n",
      "\u001b[32m[I 2023-01-14 23:47:12,327]\u001b[0m Trial 361 finished with value: 20507.449428332508 and parameters: {'booster': 'gbtree', 'learning_rate': 0.06998939975211503, 'max_depth': 15, 'subsample': 0.1534950399287957, 'reg_alpha': 2.902369904304835e-05, 'reg_lambda': 3.7398333046840215e-07, 'gamma': 3.0489933561966294e-06, 'min_child_weight': 3}. Best is trial 265 with value: 12687.266327568548.\u001b[0m\n",
      "\u001b[32m[I 2023-01-14 23:47:12,539]\u001b[0m Trial 362 finished with value: 14676.075542084236 and parameters: {'booster': 'gbtree', 'learning_rate': 0.08999008927832575, 'max_depth': 15, 'subsample': 0.7490684694609949, 'reg_alpha': 3.9298060463240936e-05, 'reg_lambda': 6.450042394853134e-06, 'gamma': 4.8417814758733466e-08, 'min_child_weight': 2}. Best is trial 265 with value: 12687.266327568548.\u001b[0m\n",
      "\u001b[32m[I 2023-01-14 23:47:12,739]\u001b[0m Trial 363 finished with value: 13250.195275644235 and parameters: {'booster': 'gbtree', 'learning_rate': 0.09842727114623995, 'max_depth': 15, 'subsample': 0.9968218054635949, 'reg_alpha': 3.416763244560972e-06, 'reg_lambda': 3.766847378285435e-06, 'gamma': 1.7839426561798373e-08, 'min_child_weight': 3}. Best is trial 265 with value: 12687.266327568548.\u001b[0m\n",
      "\u001b[32m[I 2023-01-14 23:47:12,785]\u001b[0m Trial 364 finished with value: 30059.721424215328 and parameters: {'booster': 'gblinear', 'learning_rate': 0.07903124747975722, 'max_depth': 15, 'subsample': 0.6497445045689529, 'reg_alpha': 1.8954587034021438e-06, 'reg_lambda': 1.5310933153262784e-06, 'gamma': 1.0051160789126868e-08, 'min_child_weight': 3}. Best is trial 265 with value: 12687.266327568548.\u001b[0m\n",
      "\u001b[32m[I 2023-01-14 23:47:12,968]\u001b[0m Trial 365 finished with value: 14859.360145834811 and parameters: {'booster': 'gbtree', 'learning_rate': 0.08944063989611435, 'max_depth': 15, 'subsample': 0.8790314590088936, 'reg_alpha': 0.4445162025348997, 'reg_lambda': 8.919536598386973e-07, 'gamma': 7.11531727147424e-08, 'min_child_weight': 3}. Best is trial 265 with value: 12687.266327568548.\u001b[0m\n",
      "\u001b[32m[I 2023-01-14 23:47:13,126]\u001b[0m Trial 366 finished with value: 12858.274200587843 and parameters: {'booster': 'gbtree', 'learning_rate': 0.09886039961733371, 'max_depth': 15, 'subsample': 0.7099106218689768, 'reg_alpha': 0.6950242885437662, 'reg_lambda': 2.7760901838502274e-07, 'gamma': 3.958080635802826e-08, 'min_child_weight': 3}. Best is trial 265 with value: 12687.266327568548.\u001b[0m\n",
      "\u001b[32m[I 2023-01-14 23:47:13,295]\u001b[0m Trial 367 finished with value: 61722.80348932597 and parameters: {'booster': 'gbtree', 'learning_rate': 0.005389157926796478, 'max_depth': 15, 'subsample': 0.781868080767624, 'reg_alpha': 0.7742694247790295, 'reg_lambda': 2.4665778620787335e-07, 'gamma': 3.6527959447968956e-08, 'min_child_weight': 3}. Best is trial 265 with value: 12687.266327568548.\u001b[0m\n",
      "\u001b[32m[I 2023-01-14 23:47:13,455]\u001b[0m Trial 368 finished with value: 12709.866138274063 and parameters: {'booster': 'gbtree', 'learning_rate': 0.09975519025218837, 'max_depth': 15, 'subsample': 0.7129651550818779, 'reg_alpha': 0.7136890835317454, 'reg_lambda': 3.617610928993317e-07, 'gamma': 2.0461503689221787e-08, 'min_child_weight': 3}. Best is trial 265 with value: 12687.266327568548.\u001b[0m\n",
      "\u001b[32m[I 2023-01-14 23:47:13,526]\u001b[0m Trial 369 finished with value: 16436.81054225538 and parameters: {'booster': 'gbtree', 'learning_rate': 0.09985733870468472, 'max_depth': 15, 'subsample': 0.019825765154034274, 'reg_alpha': 0.7333693129764567, 'reg_lambda': 4.891434755496717e-07, 'gamma': 2.3190396817651517e-08, 'min_child_weight': 3}. Best is trial 265 with value: 12687.266327568548.\u001b[0m\n",
      "\u001b[32m[I 2023-01-14 23:47:13,692]\u001b[0m Trial 370 finished with value: 18843.91048136874 and parameters: {'booster': 'gbtree', 'learning_rate': 0.07295655009853201, 'max_depth': 15, 'subsample': 0.7062819367639664, 'reg_alpha': 0.5397784099826548, 'reg_lambda': 3.1093953543063087e-07, 'gamma': 1.654778938572731e-08, 'min_child_weight': 3}. Best is trial 265 with value: 12687.266327568548.\u001b[0m\n",
      "\u001b[32m[I 2023-01-14 23:47:13,849]\u001b[0m Trial 371 finished with value: 12676.840424706446 and parameters: {'booster': 'gbtree', 'learning_rate': 0.09992200905693721, 'max_depth': 15, 'subsample': 0.7104949545169242, 'reg_alpha': 0.9442625402419876, 'reg_lambda': 5.880595548858073e-07, 'gamma': 2.566641839532314e-08, 'min_child_weight': 3}. Best is trial 371 with value: 12676.840424706446.\u001b[0m\n",
      "\u001b[32m[I 2023-01-14 23:47:14,006]\u001b[0m Trial 372 finished with value: 22626.35105645643 and parameters: {'booster': 'gbtree', 'learning_rate': 0.062065788664158426, 'max_depth': 15, 'subsample': 0.7449775709469062, 'reg_alpha': 0.8341343857983666, 'reg_lambda': 6.746405032670771e-07, 'gamma': 4.530497137060389e-08, 'min_child_weight': 3}. Best is trial 371 with value: 12676.840424706446.\u001b[0m\n",
      "\u001b[32m[I 2023-01-14 23:47:14,162]\u001b[0m Trial 373 finished with value: 17006.073840977155 and parameters: {'booster': 'gbtree', 'learning_rate': 0.0800663618632801, 'max_depth': 15, 'subsample': 0.6205603679548753, 'reg_alpha': 0.8887261617723058, 'reg_lambda': 9.71841715803403e-07, 'gamma': 3.100185585120156e-08, 'min_child_weight': 3}. Best is trial 371 with value: 12676.840424706446.\u001b[0m\n",
      "\u001b[32m[I 2023-01-14 23:47:14,356]\u001b[0m Trial 374 finished with value: 15660.638521669205 and parameters: {'booster': 'gbtree', 'learning_rate': 0.0854517014976754, 'max_depth': 15, 'subsample': 0.792159644767492, 'reg_alpha': 0.6008060843836527, 'reg_lambda': 4.731731610440395e-07, 'gamma': 7.727222977784793e-08, 'min_child_weight': 2}. Best is trial 371 with value: 12676.840424706446.\u001b[0m\n",
      "\u001b[32m[I 2023-01-14 23:47:14,521]\u001b[0m Trial 375 finished with value: 12705.268520808968 and parameters: {'booster': 'gbtree', 'learning_rate': 0.09978479987242818, 'max_depth': 15, 'subsample': 0.7049557572290437, 'reg_alpha': 0.9471803918521994, 'reg_lambda': 1.3708163691573754e-06, 'gamma': 2.0115443051244387e-07, 'min_child_weight': 3}. Best is trial 371 with value: 12676.840424706446.\u001b[0m\n",
      "\u001b[32m[I 2023-01-14 23:47:14,676]\u001b[0m Trial 376 finished with value: 67334.50399454082 and parameters: {'booster': 'gbtree', 'learning_rate': 0.0006731976504253611, 'max_depth': 15, 'subsample': 0.68424424954203, 'reg_alpha': 0.7976193996365063, 'reg_lambda': 1.6908348060424188e-06, 'gamma': 1.9987821358525126e-07, 'min_child_weight': 3}. Best is trial 371 with value: 12676.840424706446.\u001b[0m\n",
      "\u001b[32m[I 2023-01-14 23:47:14,833]\u001b[0m Trial 377 finished with value: 17152.93192296368 and parameters: {'booster': 'gbtree', 'learning_rate': 0.079620965775917, 'max_depth': 15, 'subsample': 0.6148714520725949, 'reg_alpha': 0.3548839020820629, 'reg_lambda': 2.298593984620721e-06, 'gamma': 1.4998060519825015e-07, 'min_child_weight': 3}. Best is trial 371 with value: 12676.840424706446.\u001b[0m\n",
      "\u001b[32m[I 2023-01-14 23:47:14,999]\u001b[0m Trial 378 finished with value: 20600.409008559072 and parameters: {'booster': 'gbtree', 'learning_rate': 0.06735986888311518, 'max_depth': 15, 'subsample': 0.7056910478461301, 'reg_alpha': 0.9942947617447376, 'reg_lambda': 3.5877604405427886e-07, 'gamma': 1.0206814270223245e-07, 'min_child_weight': 3}. Best is trial 371 with value: 12676.840424706446.\u001b[0m\n",
      "\u001b[32m[I 2023-01-14 23:47:15,153]\u001b[0m Trial 379 finished with value: 13500.554182527258 and parameters: {'booster': 'gbtree', 'learning_rate': 0.0998210525480631, 'max_depth': 15, 'subsample': 0.7455286104576678, 'reg_alpha': 0.6041042379939834, 'reg_lambda': 0.6591269024794908, 'gamma': 2.459990472346882e-07, 'min_child_weight': 3}. Best is trial 371 with value: 12676.840424706446.\u001b[0m\n",
      "\u001b[32m[I 2023-01-14 23:47:15,318]\u001b[0m Trial 380 finished with value: 15395.879990728941 and parameters: {'booster': 'gbtree', 'learning_rate': 0.08629380087279899, 'max_depth': 15, 'subsample': 0.6441215591272439, 'reg_alpha': 0.9899644893414772, 'reg_lambda': 9.206725337334373e-07, 'gamma': 5.677999565694541e-08, 'min_child_weight': 3}. Best is trial 371 with value: 12676.840424706446.\u001b[0m\n",
      "\u001b[32m[I 2023-01-14 23:47:15,520]\u001b[0m Trial 381 finished with value: 18803.988799389394 and parameters: {'booster': 'gbtree', 'learning_rate': 0.07288137435599829, 'max_depth': 15, 'subsample': 0.7262446188953362, 'reg_alpha': 0.462766311420194, 'reg_lambda': 2.056582371893873e-06, 'gamma': 1.0321083244390465e-07, 'min_child_weight': 2}. Best is trial 371 with value: 12676.840424706446.\u001b[0m\n",
      "\u001b[32m[I 2023-01-14 23:47:15,719]\u001b[0m Trial 382 finished with value: 16038.93734847487 and parameters: {'booster': 'gbtree', 'learning_rate': 0.08425578171972095, 'max_depth': 15, 'subsample': 0.8527578448322084, 'reg_alpha': 0.6742700346107471, 'reg_lambda': 1.278703891372314e-06, 'gamma': 4.786837671690005e-08, 'min_child_weight': 3}. Best is trial 371 with value: 12676.840424706446.\u001b[0m\n",
      "\u001b[32m[I 2023-01-14 23:47:15,911]\u001b[0m Trial 383 finished with value: 15349.834494094683 and parameters: {'booster': 'gbtree', 'learning_rate': 0.08687499081100064, 'max_depth': 15, 'subsample': 0.76960846666564, 'reg_alpha': 0.3221183092431183, 'reg_lambda': 3.268678299541104e-06, 'gamma': 3.443164365358912e-08, 'min_child_weight': 3}. Best is trial 371 with value: 12676.840424706446.\u001b[0m\n",
      "\u001b[32m[I 2023-01-14 23:47:16,079]\u001b[0m Trial 384 finished with value: 12851.941597640272 and parameters: {'booster': 'gbtree', 'learning_rate': 0.09987010766954027, 'max_depth': 15, 'subsample': 0.6036178445740762, 'reg_alpha': 0.5418676788392172, 'reg_lambda': 1.2286823309076124e-06, 'gamma': 8.047571151766535e-08, 'min_child_weight': 3}. Best is trial 371 with value: 12676.840424706446.\u001b[0m\n",
      "\u001b[32m[I 2023-01-14 23:47:16,162]\u001b[0m Trial 385 finished with value: 20433.382885515093 and parameters: {'booster': 'gbtree', 'learning_rate': 0.07800816437449899, 'max_depth': 15, 'subsample': 0.030262683469355383, 'reg_alpha': 0.43516711223174853, 'reg_lambda': 1.481729880444391e-06, 'gamma': 1.7972348416667772e-07, 'min_child_weight': 3}. Best is trial 371 with value: 12676.840424706446.\u001b[0m\n",
      "\u001b[32m[I 2023-01-14 23:47:16,329]\u001b[0m Trial 386 finished with value: 15043.440725447934 and parameters: {'booster': 'gbtree', 'learning_rate': 0.08824261001595278, 'max_depth': 15, 'subsample': 0.6008587236416306, 'reg_alpha': 0.2970517306039527, 'reg_lambda': 1.3328048059765152e-06, 'gamma': 1.0451572558037908e-07, 'min_child_weight': 3}. Best is trial 371 with value: 12676.840424706446.\u001b[0m\n",
      "\u001b[32m[I 2023-01-14 23:47:16,493]\u001b[0m Trial 387 finished with value: 22759.533876845453 and parameters: {'booster': 'gbtree', 'learning_rate': 0.061392153002533215, 'max_depth': 15, 'subsample': 0.6515900869282228, 'reg_alpha': 0.5282583324624289, 'reg_lambda': 1.0037548103165324e-06, 'gamma': 7.104743597284368e-08, 'min_child_weight': 3}. Best is trial 371 with value: 12676.840424706446.\u001b[0m\n",
      "\u001b[32m[I 2023-01-14 23:47:16,662]\u001b[0m Trial 388 finished with value: 12876.76943004091 and parameters: {'booster': 'gbtree', 'learning_rate': 0.09951053902205857, 'max_depth': 15, 'subsample': 0.5883199380606049, 'reg_alpha': 0.675574403665388, 'reg_lambda': 6.301711147011494e-07, 'gamma': 1.3153295870845176e-07, 'min_child_weight': 3}. Best is trial 371 with value: 12676.840424706446.\u001b[0m\n",
      "\u001b[32m[I 2023-01-14 23:47:16,835]\u001b[0m Trial 389 finished with value: 12850.475083981637 and parameters: {'booster': 'gbtree', 'learning_rate': 0.09992445274034709, 'max_depth': 15, 'subsample': 0.8474910314364366, 'reg_alpha': 0.9702354802625098, 'reg_lambda': 2.472006050548421e-06, 'gamma': 6.825121429260793e-08, 'min_child_weight': 3}. Best is trial 371 with value: 12676.840424706446.\u001b[0m\n",
      "\u001b[32m[I 2023-01-14 23:47:17,012]\u001b[0m Trial 390 finished with value: 19125.096346444196 and parameters: {'booster': 'gbtree', 'learning_rate': 0.07241979241506903, 'max_depth': 15, 'subsample': 0.8070671448291229, 'reg_alpha': 0.41507442649010545, 'reg_lambda': 7.762159419199984e-07, 'gamma': 7.757274723939936e-08, 'min_child_weight': 3}. Best is trial 371 with value: 12676.840424706446.\u001b[0m\n",
      "\u001b[32m[I 2023-01-14 23:47:17,185]\u001b[0m Trial 391 finished with value: 15213.280445687858 and parameters: {'booster': 'gbtree', 'learning_rate': 0.08729642263298683, 'max_depth': 15, 'subsample': 0.6708672374586014, 'reg_alpha': 0.5616495233995064, 'reg_lambda': 5.173868118125628e-07, 'gamma': 2.2936026139862512e-07, 'min_child_weight': 3}. Best is trial 371 with value: 12676.840424706446.\u001b[0m\n",
      "\u001b[32m[I 2023-01-14 23:47:17,384]\u001b[0m Trial 392 finished with value: 17435.615907255215 and parameters: {'booster': 'gbtree', 'learning_rate': 0.07862932909142659, 'max_depth': 15, 'subsample': 0.8263680369882466, 'reg_alpha': 0.9878359103318959, 'reg_lambda': 1.1951286754452608e-06, 'gamma': 1.0314181105707672e-07, 'min_child_weight': 2}. Best is trial 371 with value: 12676.840424706446.\u001b[0m\n",
      "\u001b[32m[I 2023-01-14 23:47:17,545]\u001b[0m Trial 393 finished with value: 15222.835505604853 and parameters: {'booster': 'gbtree', 'learning_rate': 0.08764930528835853, 'max_depth': 15, 'subsample': 0.5594908739462732, 'reg_alpha': 0.30885126846134936, 'reg_lambda': 4.775598194134348e-06, 'gamma': 5.909589279386332e-08, 'min_child_weight': 3}. Best is trial 371 with value: 12676.840424706446.\u001b[0m\n",
      "\u001b[32m[I 2023-01-14 23:47:17,715]\u001b[0m Trial 394 finished with value: 12894.925846719849 and parameters: {'booster': 'gbtree', 'learning_rate': 0.09951141498451915, 'max_depth': 15, 'subsample': 0.7498201270290963, 'reg_alpha': 2.278943849206583e-05, 'reg_lambda': 4.4330533743226414e-07, 'gamma': 1.1293417466020625e-05, 'min_child_weight': 3}. Best is trial 371 with value: 12676.840424706446.\u001b[0m\n",
      "\u001b[32m[I 2023-01-14 23:47:17,891]\u001b[0m Trial 395 finished with value: 20369.93445315053 and parameters: {'booster': 'gbtree', 'learning_rate': 0.06869778546288453, 'max_depth': 15, 'subsample': 0.8652240544864982, 'reg_alpha': 0.6785152832146558, 'reg_lambda': 1.7019680448958406e-06, 'gamma': 4.972863525960909e-06, 'min_child_weight': 3}. Best is trial 371 with value: 12676.840424706446.\u001b[0m\n",
      "\u001b[32m[I 2023-01-14 23:47:18,055]\u001b[0m Trial 396 finished with value: 17023.390383042784 and parameters: {'booster': 'gbtree', 'learning_rate': 0.07974246928422699, 'max_depth': 15, 'subsample': 0.6636825687318121, 'reg_alpha': 6.856900928993875e-05, 'reg_lambda': 2.9349291446065056e-06, 'gamma': 1.38712661827865e-07, 'min_child_weight': 3}. Best is trial 371 with value: 12676.840424706446.\u001b[0m\n",
      "\u001b[32m[I 2023-01-14 23:47:18,191]\u001b[0m Trial 397 finished with value: 15089.740954922467 and parameters: {'booster': 'gbtree', 'learning_rate': 0.08867771431432189, 'max_depth': 15, 'subsample': 0.2636086657312803, 'reg_alpha': 0.4262385649360566, 'reg_lambda': 6.740763329393731e-07, 'gamma': 8.025370126236332e-08, 'min_child_weight': 2}. Best is trial 371 with value: 12676.840424706446.\u001b[0m\n",
      "\u001b[32m[I 2023-01-14 23:47:18,366]\u001b[0m Trial 398 finished with value: 15346.296748770174 and parameters: {'booster': 'gbtree', 'learning_rate': 0.08675416104670605, 'max_depth': 15, 'subsample': 0.7654805559674781, 'reg_alpha': 0.00014602807836358318, 'reg_lambda': 0.00013651636477857808, 'gamma': 5.6279407631106353e-08, 'min_child_weight': 3}. Best is trial 371 with value: 12676.840424706446.\u001b[0m\n",
      "\u001b[32m[I 2023-01-14 23:47:18,435]\u001b[0m Trial 399 finished with value: 24861.426374392802 and parameters: {'booster': 'gbtree', 'learning_rate': 0.07133853156265035, 'max_depth': 5, 'subsample': 0.713613933962642, 'reg_alpha': 4.526065413938126e-06, 'reg_lambda': 1.910254917303812e-07, 'gamma': 2.417789981807562e-08, 'min_child_weight': 3}. Best is trial 371 with value: 12676.840424706446.\u001b[0m\n",
      "\u001b[32m[I 2023-01-14 23:47:18,607]\u001b[0m Trial 400 finished with value: 15399.272403647628 and parameters: {'booster': 'gbtree', 'learning_rate': 0.08737639437872304, 'max_depth': 15, 'subsample': 0.8990179575274863, 'reg_alpha': 0.7133221201822932, 'reg_lambda': 3.4657991308989214e-07, 'gamma': 1.7041273005671188e-07, 'min_child_weight': 3}. Best is trial 371 with value: 12676.840424706446.\u001b[0m\n",
      "\u001b[32m[I 2023-01-14 23:47:18,766]\u001b[0m Trial 401 finished with value: 12885.044786805405 and parameters: {'booster': 'gbtree', 'learning_rate': 0.09948577501120245, 'max_depth': 14, 'subsample': 0.6152443666129112, 'reg_alpha': 7.926605047592391e-06, 'reg_lambda': 1.1005911998869657e-06, 'gamma': 9.13171631423681e-08, 'min_child_weight': 3}. Best is trial 371 with value: 12676.840424706446.\u001b[0m\n",
      "\u001b[32m[I 2023-01-14 23:47:18,939]\u001b[0m Trial 402 finished with value: 17900.005282785576 and parameters: {'booster': 'gbtree', 'learning_rate': 0.07667462565759728, 'max_depth': 15, 'subsample': 0.7822609628506532, 'reg_alpha': 0.25400681411973736, 'reg_lambda': 4.1691960492689545e-07, 'gamma': 5.2880261530331214e-08, 'min_child_weight': 3}. Best is trial 371 with value: 12676.840424706446.\u001b[0m\n",
      "\u001b[32m[I 2023-01-14 23:47:19,123]\u001b[0m Trial 403 finished with value: 23179.888727644207 and parameters: {'booster': 'gbtree', 'learning_rate': 0.06069456260928242, 'max_depth': 15, 'subsample': 0.8308131152724405, 'reg_alpha': 0.49972089251004786, 'reg_lambda': 1.9788476787861334e-06, 'gamma': 2.389775011913983e-08, 'min_child_weight': 3}. Best is trial 371 with value: 12676.840424706446.\u001b[0m\n",
      "\u001b[32m[I 2023-01-14 23:47:19,169]\u001b[0m Trial 404 finished with value: 28580.53435948212 and parameters: {'booster': 'gblinear', 'learning_rate': 0.08865143964464837, 'max_depth': 15, 'subsample': 0.6765682782191454, 'reg_alpha': 0.9737406479888848, 'reg_lambda': 7.364343521354332e-07, 'gamma': 1.1386285773389901e-07, 'min_child_weight': 3}. Best is trial 371 with value: 12676.840424706446.\u001b[0m\n",
      "\u001b[32m[I 2023-01-14 23:47:19,248]\u001b[0m Trial 405 finished with value: 15850.444655955967 and parameters: {'booster': 'gbtree', 'learning_rate': 0.09968165912926469, 'max_depth': 15, 'subsample': 0.026435588430402324, 'reg_alpha': 0.38810829893637233, 'reg_lambda': 1.897180441066189e-07, 'gamma': 0.1681910826589035, 'min_child_weight': 3}. Best is trial 371 with value: 12676.840424706446.\u001b[0m\n",
      "\u001b[32m[I 2023-01-14 23:47:19,340]\u001b[0m Trial 406 finished with value: 66581.87886536008 and parameters: {'booster': 'gbtree', 'learning_rate': 0.0013138591658449653, 'max_depth': 9, 'subsample': 0.9030455015071155, 'reg_alpha': 0.6067813133398636, 'reg_lambda': 5.366834804560086e-07, 'gamma': 6.244197028191536e-08, 'min_child_weight': 3}. Best is trial 371 with value: 12676.840424706446.\u001b[0m\n",
      "\u001b[32m[I 2023-01-14 23:47:19,547]\u001b[0m Trial 407 finished with value: 27033.373766134766 and parameters: {'booster': 'gbtree', 'learning_rate': 0.05131022219990885, 'max_depth': 14, 'subsample': 0.7402543437117125, 'reg_alpha': 0.9937209294383315, 'reg_lambda': 2.909050069419562e-07, 'gamma': 4.015601993274651e-08, 'min_child_weight': 1}. Best is trial 371 with value: 12676.840424706446.\u001b[0m\n",
      "\u001b[32m[I 2023-01-14 23:47:19,723]\u001b[0m Trial 408 finished with value: 12818.883827404708 and parameters: {'booster': 'gbtree', 'learning_rate': 0.099688276437962, 'max_depth': 15, 'subsample': 0.8214993769455723, 'reg_alpha': 0.25836764671559537, 'reg_lambda': 9.959418698435493e-06, 'gamma': 7.911219909930296e-08, 'min_child_weight': 3}. Best is trial 371 with value: 12676.840424706446.\u001b[0m\n",
      "\u001b[32m[I 2023-01-14 23:47:19,909]\u001b[0m Trial 409 finished with value: 17516.48201847246 and parameters: {'booster': 'gbtree', 'learning_rate': 0.07832367831911333, 'max_depth': 15, 'subsample': 0.8386531648092143, 'reg_alpha': 9.42697805698222e-06, 'reg_lambda': 6.981530470880953e-06, 'gamma': 2.616121121193591e-08, 'min_child_weight': 3}. Best is trial 371 with value: 12676.840424706446.\u001b[0m\n",
      "\u001b[32m[I 2023-01-14 23:47:20,015]\u001b[0m Trial 410 finished with value: 13427.925018194619 and parameters: {'booster': 'gbtree', 'learning_rate': 0.09986123861622707, 'max_depth': 15, 'subsample': 0.11806758374643526, 'reg_alpha': 0.283480699213148, 'reg_lambda': 3.907209832630774e-06, 'gamma': 2.7779674860539744e-07, 'min_child_weight': 3}. Best is trial 371 with value: 12676.840424706446.\u001b[0m\n",
      "\u001b[32m[I 2023-01-14 23:47:20,225]\u001b[0m Trial 411 finished with value: 21530.5769567469 and parameters: {'booster': 'gbtree', 'learning_rate': 0.06559881836822111, 'max_depth': 14, 'subsample': 0.920141739541334, 'reg_alpha': 5.776986246107411e-06, 'reg_lambda': 2.9041142828787283e-06, 'gamma': 4.353221705907028e-08, 'min_child_weight': 2}. Best is trial 371 with value: 12676.840424706446.\u001b[0m\n",
      "\u001b[32m[I 2023-01-14 23:47:20,405]\u001b[0m Trial 412 finished with value: 17057.042386717763 and parameters: {'booster': 'gbtree', 'learning_rate': 0.07937979658301046, 'max_depth': 15, 'subsample': 0.8000202724268498, 'reg_alpha': 3.7437007197231446e-05, 'reg_lambda': 2.2313214388075595e-07, 'gamma': 2.266620481300294e-05, 'min_child_weight': 3}. Best is trial 371 with value: 12676.840424706446.\u001b[0m\n",
      "\u001b[32m[I 2023-01-14 23:47:20,581]\u001b[0m Trial 413 finished with value: 59859.620030154656 and parameters: {'booster': 'gbtree', 'learning_rate': 0.007042182867024349, 'max_depth': 15, 'subsample': 0.8671895002056698, 'reg_alpha': 0.2882507555378471, 'reg_lambda': 4.0872959975762614e-07, 'gamma': 1.5306314341669125e-08, 'min_child_weight': 3}. Best is trial 371 with value: 12676.840424706446.\u001b[0m\n",
      "\u001b[32m[I 2023-01-14 23:47:20,758]\u001b[0m Trial 414 finished with value: 15243.914994372157 and parameters: {'booster': 'gbtree', 'learning_rate': 0.08711761025242627, 'max_depth': 14, 'subsample': 0.7671873499621383, 'reg_alpha': 1.7591417618028475e-05, 'reg_lambda': 1.5011703261818349e-05, 'gamma': 1.3319711613970008e-07, 'min_child_weight': 3}. Best is trial 371 with value: 12676.840424706446.\u001b[0m\n",
      "\u001b[32m[I 2023-01-14 23:47:20,821]\u001b[0m Trial 415 finished with value: 31374.122216528038 and parameters: {'booster': 'gblinear', 'learning_rate': 0.0721933885741135, 'max_depth': 15, 'subsample': 0.7136251491549973, 'reg_alpha': 1.3471379326177315e-05, 'reg_lambda': 3.367976278399934e-05, 'gamma': 6.578389160384619e-08, 'min_child_weight': 3}. Best is trial 371 with value: 12676.840424706446.\u001b[0m\n",
      "\u001b[32m[I 2023-01-14 23:47:21,017]\u001b[0m Trial 416 finished with value: 15034.213431769396 and parameters: {'booster': 'gbtree', 'learning_rate': 0.0884006677356144, 'max_depth': 15, 'subsample': 0.8138255836740522, 'reg_alpha': 0.368548555164487, 'reg_lambda': 5.481339391506458e-07, 'gamma': 3.1488770907228e-08, 'min_child_weight': 4}. Best is trial 371 with value: 12676.840424706446.\u001b[0m\n",
      "\u001b[32m[I 2023-01-14 23:47:21,231]\u001b[0m Trial 417 finished with value: 15029.10765731808 and parameters: {'booster': 'gbtree', 'learning_rate': 0.08863700321564243, 'max_depth': 15, 'subsample': 0.9141651592331824, 'reg_alpha': 0.23333865236093415, 'reg_lambda': 3.1112764591326403e-07, 'gamma': 9.735177446714437e-08, 'min_child_weight': 3}. Best is trial 371 with value: 12676.840424706446.\u001b[0m\n",
      "\u001b[32m[I 2023-01-14 23:47:21,411]\u001b[0m Trial 418 finished with value: 17374.197755890335 and parameters: {'booster': 'gbtree', 'learning_rate': 0.07809813990347007, 'max_depth': 15, 'subsample': 0.7160525620581486, 'reg_alpha': 0.7556980654897709, 'reg_lambda': 1.129387270207575e-05, 'gamma': 1.9371874426569057e-08, 'min_child_weight': 4}. Best is trial 371 with value: 12676.840424706446.\u001b[0m\n",
      "\u001b[32m[I 2023-01-14 23:47:21,593]\u001b[0m Trial 419 finished with value: 15037.892760637304 and parameters: {'booster': 'gbtree', 'learning_rate': 0.08842532636094537, 'max_depth': 14, 'subsample': 0.8088185044855866, 'reg_alpha': 0.48920955419970036, 'reg_lambda': 1.5310610793793794e-07, 'gamma': 4.807135903845656e-08, 'min_child_weight': 3}. Best is trial 371 with value: 12676.840424706446.\u001b[0m\n",
      "\u001b[32m[I 2023-01-14 23:47:21,830]\u001b[0m Trial 420 finished with value: 21151.595393650714 and parameters: {'booster': 'gbtree', 'learning_rate': 0.06634377953525401, 'max_depth': 15, 'subsample': 0.9135297305192263, 'reg_alpha': 0.9900058009677795, 'reg_lambda': 1.021395193379234e-05, 'gamma': 1.8292954954368077e-07, 'min_child_weight': 2}. Best is trial 371 with value: 12676.840424706446.\u001b[0m\n",
      "\u001b[32m[I 2023-01-14 23:47:22,014]\u001b[0m Trial 421 finished with value: 67888.80646437132 and parameters: {'booster': 'gbtree', 'learning_rate': 0.00022996049330972413, 'max_depth': 15, 'subsample': 0.7677041316098113, 'reg_alpha': 3.167961235270148e-06, 'reg_lambda': 8.281751370462894e-07, 'gamma': 7.319319956432149e-08, 'min_child_weight': 4}. Best is trial 371 with value: 12676.840424706446.\u001b[0m\n",
      "\u001b[32m[I 2023-01-14 23:47:22,193]\u001b[0m Trial 422 finished with value: 14732.374481545849 and parameters: {'booster': 'gbtree', 'learning_rate': 0.08934510909382123, 'max_depth': 15, 'subsample': 0.668400858028572, 'reg_alpha': 0.6797475500518249, 'reg_lambda': 1.7098527420079475e-06, 'gamma': 3.629939873048205e-08, 'min_child_weight': 3}. Best is trial 371 with value: 12676.840424706446.\u001b[0m\n",
      "\u001b[32m[I 2023-01-14 23:47:22,377]\u001b[0m Trial 423 finished with value: 12935.065631996491 and parameters: {'booster': 'gbtree', 'learning_rate': 0.09947266940785163, 'max_depth': 15, 'subsample': 0.8633493945931072, 'reg_alpha': 2.563596177586762e-05, 'reg_lambda': 4.365196598164372e-06, 'gamma': 1.0470616744646627e-08, 'min_child_weight': 4}. Best is trial 371 with value: 12676.840424706446.\u001b[0m\n",
      "\u001b[32m[I 2023-01-14 23:47:22,560]\u001b[0m Trial 424 finished with value: 17817.012371975416 and parameters: {'booster': 'gbtree', 'learning_rate': 0.07664869759538419, 'max_depth': 14, 'subsample': 0.7076103889851262, 'reg_alpha': 1.294494685802102e-06, 'reg_lambda': 2.0298482574152776e-07, 'gamma': 2.536607892555237e-08, 'min_child_weight': 3}. Best is trial 371 with value: 12676.840424706446.\u001b[0m\n",
      "\u001b[32m[I 2023-01-14 23:47:22,715]\u001b[0m Trial 425 finished with value: 17303.582467265394 and parameters: {'booster': 'gbtree', 'learning_rate': 0.07972205766572309, 'max_depth': 15, 'subsample': 0.9404167367155938, 'reg_alpha': 0.3533458954930859, 'reg_lambda': 5.178885439749395e-07, 'gamma': 1.2832522112415262e-07, 'min_child_weight': 8}. Best is trial 371 with value: 12676.840424706446.\u001b[0m\n",
      "\u001b[32m[I 2023-01-14 23:47:22,906]\u001b[0m Trial 426 finished with value: 12783.373287387281 and parameters: {'booster': 'gbtree', 'learning_rate': 0.09998332089130335, 'max_depth': 15, 'subsample': 0.7929692019070634, 'reg_alpha': 7.974719632482038e-06, 'reg_lambda': 3.2769178298618103e-07, 'gamma': 5.647015631890966e-08, 'min_child_weight': 4}. Best is trial 371 with value: 12676.840424706446.\u001b[0m\n",
      "\u001b[32m[I 2023-01-14 23:47:22,960]\u001b[0m Trial 427 finished with value: 27120.88992708622 and parameters: {'booster': 'gblinear', 'learning_rate': 0.09963717822312967, 'max_depth': 15, 'subsample': 0.7651341498433807, 'reg_alpha': 9.965537913286773e-06, 'reg_lambda': 3.152730529257799e-07, 'gamma': 1.350390420851622e-06, 'min_child_weight': 4}. Best is trial 371 with value: 12676.840424706446.\u001b[0m\n",
      "\u001b[32m[I 2023-01-14 23:47:23,135]\u001b[0m Trial 428 finished with value: 67649.41546233495 and parameters: {'booster': 'gbtree', 'learning_rate': 0.0004211628288629221, 'max_depth': 15, 'subsample': 0.647820542321375, 'reg_alpha': 7.165955450537318e-06, 'reg_lambda': 1.0605951253622649e-07, 'gamma': 4.894956002441677e-08, 'min_child_weight': 4}. Best is trial 371 with value: 12676.840424706446.\u001b[0m\n",
      "\u001b[32m[I 2023-01-14 23:47:23,308]\u001b[0m Trial 429 finished with value: 63902.318723344215 and parameters: {'booster': 'gbtree', 'learning_rate': 0.003506288924157934, 'max_depth': 14, 'subsample': 0.7301832935763933, 'reg_alpha': 4.749088294181725e-06, 'reg_lambda': 2.532945487092119e-07, 'gamma': 1.745601534740894e-08, 'min_child_weight': 4}. Best is trial 371 with value: 12676.840424706446.\u001b[0m\n",
      "\u001b[32m[I 2023-01-14 23:47:23,483]\u001b[0m Trial 430 finished with value: 15291.259352946197 and parameters: {'booster': 'gbtree', 'learning_rate': 0.08721943261140049, 'max_depth': 15, 'subsample': 0.7799829843878787, 'reg_alpha': 1.2096002196983912e-05, 'reg_lambda': 3.962313573448481e-07, 'gamma': 3.466097154576966e-08, 'min_child_weight': 4}. Best is trial 371 with value: 12676.840424706446.\u001b[0m\n",
      "\u001b[32m[I 2023-01-14 23:47:23,651]\u001b[0m Trial 431 finished with value: 24594.641567948962 and parameters: {'booster': 'gbtree', 'learning_rate': 0.056903362133148006, 'max_depth': 15, 'subsample': 0.6610518999025647, 'reg_alpha': 4.5369508209400675e-06, 'reg_lambda': 1.7336695205436147e-07, 'gamma': 1.0006298059828055e-07, 'min_child_weight': 4}. Best is trial 371 with value: 12676.840424706446.\u001b[0m\n",
      "\u001b[32m[I 2023-01-14 23:47:23,730]\u001b[0m Trial 432 finished with value: 23589.556603490393 and parameters: {'booster': 'gbtree', 'learning_rate': 0.06957835366501328, 'max_depth': 6, 'subsample': 0.8421201624806796, 'reg_alpha': 1.783508509741941e-05, 'reg_lambda': 7.741692892670462e-07, 'gamma': 2.260025843890962e-08, 'min_child_weight': 4}. Best is trial 371 with value: 12676.840424706446.\u001b[0m\n",
      "\u001b[32m[I 2023-01-14 23:47:23,909]\u001b[0m Trial 433 finished with value: 17084.843432124602 and parameters: {'booster': 'gbtree', 'learning_rate': 0.07927285930922379, 'max_depth': 15, 'subsample': 0.7214724581071694, 'reg_alpha': 8.1356501018935e-06, 'reg_lambda': 4.986940801837484e-07, 'gamma': 5.356752997470084e-08, 'min_child_weight': 4}. Best is trial 371 with value: 12676.840424706446.\u001b[0m\n",
      "\u001b[32m[I 2023-01-14 23:47:24,088]\u001b[0m Trial 434 finished with value: 38816.48017617994 and parameters: {'booster': 'gbtree', 'learning_rate': 0.030829584184643172, 'max_depth': 15, 'subsample': 0.7680042081448136, 'reg_alpha': 1.3800091701491102e-05, 'reg_lambda': 3.0593998014730086e-07, 'gamma': 2.1309298050701814e-07, 'min_child_weight': 4}. Best is trial 371 with value: 12676.840424706446.\u001b[0m\n",
      "\u001b[32m[I 2023-01-14 23:47:24,267]\u001b[0m Trial 435 finished with value: 12993.276394934994 and parameters: {'booster': 'gbtree', 'learning_rate': 0.09961915153416898, 'max_depth': 14, 'subsample': 0.9916215374887268, 'reg_alpha': 5.588881560786755e-05, 'reg_lambda': 0.00022495210740288807, 'gamma': 7.361014870691291e-08, 'min_child_weight': 4}. Best is trial 371 with value: 12676.840424706446.\u001b[0m\n",
      "\u001b[32m[I 2023-01-14 23:47:24,454]\u001b[0m Trial 436 finished with value: 15105.652745859501 and parameters: {'booster': 'gbtree', 'learning_rate': 0.0885919593432288, 'max_depth': 15, 'subsample': 0.841374784146837, 'reg_alpha': 0.21488688802648112, 'reg_lambda': 2.2809752908217074e-07, 'gamma': 1.4160963065081958e-08, 'min_child_weight': 4}. Best is trial 371 with value: 12676.840424706446.\u001b[0m\n",
      "\u001b[32m[I 2023-01-14 23:47:24,546]\u001b[0m Trial 437 finished with value: 21672.10516291166 and parameters: {'booster': 'gbtree', 'learning_rate': 0.07106778137205173, 'max_depth': 7, 'subsample': 0.6142321833824153, 'reg_alpha': 6.906266374925749e-06, 'reg_lambda': 5.996248655669697e-07, 'gamma': 2.9324415127192107e-08, 'min_child_weight': 4}. Best is trial 371 with value: 12676.840424706446.\u001b[0m\n",
      "\u001b[32m[I 2023-01-14 23:47:24,731]\u001b[0m Trial 438 finished with value: 12772.978338011193 and parameters: {'booster': 'gbtree', 'learning_rate': 0.0998875728042355, 'max_depth': 15, 'subsample': 0.686884304598316, 'reg_alpha': 0.453834539205907, 'reg_lambda': 2.1917764205233122e-05, 'gamma': 4.514289346007422e-08, 'min_child_weight': 3}. Best is trial 371 with value: 12676.840424706446.\u001b[0m\n",
      "\u001b[32m[I 2023-01-14 23:47:24,910]\u001b[0m Trial 439 finished with value: 15228.041722478592 and parameters: {'booster': 'gbtree', 'learning_rate': 0.08714388401701637, 'max_depth': 15, 'subsample': 0.6572062677901015, 'reg_alpha': 0.2663906093652898, 'reg_lambda': 2.062468013042447e-05, 'gamma': 3.393374277031232e-08, 'min_child_weight': 3}. Best is trial 371 with value: 12676.840424706446.\u001b[0m\n",
      "\u001b[32m[I 2023-01-14 23:47:25,054]\u001b[0m Trial 440 finished with value: 18201.423882470368 and parameters: {'booster': 'gbtree', 'learning_rate': 0.07634336620592803, 'max_depth': 15, 'subsample': 0.6966695445685192, 'reg_alpha': 0.3717737611172928, 'reg_lambda': 1.2351526251060464e-07, 'gamma': 4.326373938631769e-08, 'min_child_weight': 9}. Best is trial 371 with value: 12676.840424706446.\u001b[0m\n",
      "\u001b[32m[I 2023-01-14 23:47:25,245]\u001b[0m Trial 441 finished with value: 14662.925412302784 and parameters: {'booster': 'gbtree', 'learning_rate': 0.08938403689026272, 'max_depth': 15, 'subsample': 0.573850049171755, 'reg_alpha': 0.48289572177511303, 'reg_lambda': 5.3595290301331686e-06, 'gamma': 5.724702806193237e-08, 'min_child_weight': 3}. Best is trial 371 with value: 12676.840424706446.\u001b[0m\n",
      "\u001b[32m[I 2023-01-14 23:47:25,459]\u001b[0m Trial 442 finished with value: 12861.336236384139 and parameters: {'booster': 'gbtree', 'learning_rate': 0.09931348138937254, 'max_depth': 15, 'subsample': 0.6340285804652093, 'reg_alpha': 2.056523017153307e-06, 'reg_lambda': 7.177552865432573e-05, 'gamma': 9.098213421670079e-08, 'min_child_weight': 2}. Best is trial 371 with value: 12676.840424706446.\u001b[0m\n",
      "\u001b[32m[I 2023-01-14 23:47:25,646]\u001b[0m Trial 443 finished with value: 12659.137449852062 and parameters: {'booster': 'gbtree', 'learning_rate': 0.09980493345232212, 'max_depth': 15, 'subsample': 0.7049092270967089, 'reg_alpha': 3.676229748257749e-06, 'reg_lambda': 1.8976482954362074e-07, 'gamma': 2.2920724510577443e-08, 'min_child_weight': 3}. Best is trial 443 with value: 12659.137449852062.\u001b[0m\n",
      "\u001b[32m[I 2023-01-14 23:47:25,835]\u001b[0m Trial 444 finished with value: 16953.937763955375 and parameters: {'booster': 'gbtree', 'learning_rate': 0.08033699478636223, 'max_depth': 15, 'subsample': 0.6865661659663692, 'reg_alpha': 3.4466356006003208e-06, 'reg_lambda': 9.8856090398665e-06, 'gamma': 2.0791089828119862e-08, 'min_child_weight': 3}. Best is trial 443 with value: 12659.137449852062.\u001b[0m\n",
      "\u001b[32m[I 2023-01-14 23:47:26,030]\u001b[0m Trial 445 finished with value: 22440.201626091337 and parameters: {'booster': 'gbtree', 'learning_rate': 0.06268210276113208, 'max_depth': 15, 'subsample': 0.519678496321067, 'reg_alpha': 6.7738243588907076e-06, 'reg_lambda': 1.6062655817739362e-07, 'gamma': 1.3302756313038458e-08, 'min_child_weight': 3}. Best is trial 443 with value: 12659.137449852062.\u001b[0m\n",
      "\u001b[32m[I 2023-01-14 23:47:26,215]\u001b[0m Trial 446 finished with value: 15545.4501788286 and parameters: {'booster': 'gbtree', 'learning_rate': 0.08601240962336863, 'max_depth': 15, 'subsample': 0.5774000012881556, 'reg_alpha': 8.895168393309607e-06, 'reg_lambda': 1.0244444073893841e-07, 'gamma': 2.4277026233381454e-08, 'min_child_weight': 3}. Best is trial 443 with value: 12659.137449852062.\u001b[0m\n",
      "\u001b[32m[I 2023-01-14 23:47:26,275]\u001b[0m Trial 447 finished with value: 31446.887133331547 and parameters: {'booster': 'gblinear', 'learning_rate': 0.07183659304468229, 'max_depth': 15, 'subsample': 0.7071705439229201, 'reg_alpha': 3.328532392215042e-06, 'reg_lambda': 1.9485485240269668e-05, 'gamma': 1.9835163924462086e-08, 'min_child_weight': 3}. Best is trial 443 with value: 12659.137449852062.\u001b[0m\n",
      "\u001b[32m[I 2023-01-14 23:47:26,472]\u001b[0m Trial 448 finished with value: 15249.938913063512 and parameters: {'booster': 'gbtree', 'learning_rate': 0.08752415574133594, 'max_depth': 15, 'subsample': 0.6359751696281113, 'reg_alpha': 2.2915281388250027e-06, 'reg_lambda': 1.8143237804134762e-07, 'gamma': 1.0301218690597613e-08, 'min_child_weight': 3}. Best is trial 443 with value: 12659.137449852062.\u001b[0m\n",
      "\u001b[32m[I 2023-01-14 23:47:26,668]\u001b[0m Trial 449 finished with value: 12902.436689478396 and parameters: {'booster': 'gbtree', 'learning_rate': 0.09921512898377444, 'max_depth': 15, 'subsample': 0.7508602580620574, 'reg_alpha': 4.9180482997557196e-06, 'reg_lambda': 4.162658798425258e-05, 'gamma': 3.780479955385376e-08, 'min_child_weight': 3}. Best is trial 443 with value: 12659.137449852062.\u001b[0m\n",
      "\u001b[32m[I 2023-01-14 23:47:26,889]\u001b[0m Trial 450 finished with value: 17164.440592057384 and parameters: {'booster': 'gbtree', 'learning_rate': 0.07955471061853987, 'max_depth': 15, 'subsample': 0.9082510021404925, 'reg_alpha': 0.19947202440049605, 'reg_lambda': 2.246903603565046e-05, 'gamma': 1.5110115717664005e-08, 'min_child_weight': 3}. Best is trial 443 with value: 12659.137449852062.\u001b[0m\n",
      "\u001b[32m[I 2023-01-14 23:47:27,097]\u001b[0m Trial 451 finished with value: 14795.743059681776 and parameters: {'booster': 'gbtree', 'learning_rate': 0.08890936574771885, 'max_depth': 15, 'subsample': 0.8151649455150121, 'reg_alpha': 0.5176073743318029, 'reg_lambda': 2.267965743468003e-07, 'gamma': 3.040987953192643e-08, 'min_child_weight': 3}. Best is trial 443 with value: 12659.137449852062.\u001b[0m\n",
      "\u001b[32m[I 2023-01-14 23:47:27,294]\u001b[0m Trial 452 finished with value: 17331.69410102967 and parameters: {'booster': 'gbtree', 'learning_rate': 0.07881469782441955, 'max_depth': 15, 'subsample': 0.6867179491243383, 'reg_alpha': 5.6972111759473876e-06, 'reg_lambda': 1.4283816921266208e-07, 'gamma': 4.610279768378065e-08, 'min_child_weight': 3}. Best is trial 443 with value: 12659.137449852062.\u001b[0m\n",
      "\u001b[32m[I 2023-01-14 23:47:27,402]\u001b[0m Trial 453 finished with value: 13678.14976636642 and parameters: {'booster': 'gbtree', 'learning_rate': 0.09970219764331952, 'max_depth': 15, 'subsample': 0.07431036501452376, 'reg_alpha': 7.659580045167684e-07, 'reg_lambda': 2.762141802052673e-05, 'gamma': 2.5154868657389467e-08, 'min_child_weight': 3}. Best is trial 443 with value: 12659.137449852062.\u001b[0m\n",
      "\u001b[32m[I 2023-01-14 23:47:27,643]\u001b[0m Trial 454 finished with value: 12855.562925209137 and parameters: {'booster': 'gbtree', 'learning_rate': 0.09983289846930583, 'max_depth': 15, 'subsample': 0.8576300127293737, 'reg_alpha': 3.883889885748463e-06, 'reg_lambda': 3.2268296043114143e-07, 'gamma': 1.4599345242387742e-07, 'min_child_weight': 2}. Best is trial 443 with value: 12659.137449852062.\u001b[0m\n",
      "\u001b[32m[I 2023-01-14 23:47:27,730]\u001b[0m Trial 455 finished with value: 24867.440025831755 and parameters: {'booster': 'gbtree', 'learning_rate': 0.06584391366636248, 'max_depth': 15, 'subsample': 0.01530346856382696, 'reg_alpha': 0.31467997056706504, 'reg_lambda': 9.067728703992513e-08, 'gamma': 1.7665828727107798e-08, 'min_child_weight': 3}. Best is trial 443 with value: 12659.137449852062.\u001b[0m\n",
      "\u001b[32m[I 2023-01-14 23:47:27,913]\u001b[0m Trial 456 finished with value: 15468.30659926917 and parameters: {'booster': 'gbtree', 'learning_rate': 0.08657151461837796, 'max_depth': 15, 'subsample': 0.6144162389461001, 'reg_alpha': 0.5869093261051317, 'reg_lambda': 2.7660217818063045e-07, 'gamma': 4.385131839487708e-08, 'min_child_weight': 3}. Best is trial 443 with value: 12659.137449852062.\u001b[0m\n",
      "\u001b[32m[I 2023-01-14 23:47:28,095]\u001b[0m Trial 457 finished with value: 19294.97049228242 and parameters: {'booster': 'gbtree', 'learning_rate': 0.07210664430695819, 'max_depth': 15, 'subsample': 0.7731656551214048, 'reg_alpha': 1.1090431556347128e-05, 'reg_lambda': 3.863694583706114e-07, 'gamma': 5.931026519626091e-08, 'min_child_weight': 4}. Best is trial 443 with value: 12659.137449852062.\u001b[0m\n",
      "\u001b[32m[I 2023-01-14 23:47:28,271]\u001b[0m Trial 458 finished with value: 15200.832465828666 and parameters: {'booster': 'gbtree', 'learning_rate': 0.08671956016408634, 'max_depth': 15, 'subsample': 0.7162216453890349, 'reg_alpha': 0.4022185674473977, 'reg_lambda': 1.372503138693307e-07, 'gamma': 1.0507576930881208e-07, 'min_child_weight': 4}. Best is trial 443 with value: 12659.137449852062.\u001b[0m\n",
      "\u001b[32m[I 2023-01-14 23:47:28,474]\u001b[0m Trial 459 finished with value: 13031.707884161882 and parameters: {'booster': 'gbtree', 'learning_rate': 0.09939477373815102, 'max_depth': 15, 'subsample': 0.9305669074842868, 'reg_alpha': 0.7034920070995537, 'reg_lambda': 6.806684839349306e-06, 'gamma': 2.8181665131988e-08, 'min_child_weight': 3}. Best is trial 443 with value: 12659.137449852062.\u001b[0m\n",
      "\u001b[32m[I 2023-01-14 23:47:28,537]\u001b[0m Trial 460 finished with value: 30095.502617680675 and parameters: {'booster': 'gblinear', 'learning_rate': 0.0788199032952089, 'max_depth': 15, 'subsample': 0.7824293570696506, 'reg_alpha': 2.4905028451484613e-06, 'reg_lambda': 2.0316023456878122e-07, 'gamma': 2.976836503262225e-07, 'min_child_weight': 3}. Best is trial 443 with value: 12659.137449852062.\u001b[0m\n",
      "\u001b[32m[I 2023-01-14 23:47:28,670]\u001b[0m Trial 461 finished with value: 15946.107193091499 and parameters: {'booster': 'gbtree', 'learning_rate': 0.0870530569776877, 'max_depth': 15, 'subsample': 0.5632221823508062, 'reg_alpha': 0.4035426245154099, 'reg_lambda': 0.27474163590986206, 'gamma': 1.6361135475898543e-08, 'min_child_weight': 10}. Best is trial 443 with value: 12659.137449852062.\u001b[0m\n",
      "\u001b[32m[I 2023-01-14 23:47:28,847]\u001b[0m Trial 462 finished with value: 12732.069534781802 and parameters: {'booster': 'gbtree', 'learning_rate': 0.09968370640508184, 'max_depth': 15, 'subsample': 0.6694904396801921, 'reg_alpha': 0.2175237774550768, 'reg_lambda': 3.8194245329704916e-07, 'gamma': 3.5454297340903616e-08, 'min_child_weight': 4}. Best is trial 443 with value: 12659.137449852062.\u001b[0m\n",
      "\u001b[32m[I 2023-01-14 23:47:29,031]\u001b[0m Trial 463 finished with value: 23140.57475013778 and parameters: {'booster': 'gbtree', 'learning_rate': 0.06085769821055836, 'max_depth': 15, 'subsample': 0.8618787305433552, 'reg_alpha': 0.1801485861936726, 'reg_lambda': 3.648266496558135e-07, 'gamma': 2.3439993386946115e-08, 'min_child_weight': 4}. Best is trial 443 with value: 12659.137449852062.\u001b[0m\n",
      "\u001b[32m[I 2023-01-14 23:47:29,204]\u001b[0m Trial 464 finished with value: 19356.763449302845 and parameters: {'booster': 'gbtree', 'learning_rate': 0.07166586731468685, 'max_depth': 15, 'subsample': 0.6306994333482017, 'reg_alpha': 0.18956600311655167, 'reg_lambda': 2.5142415904919785e-07, 'gamma': 3.4065264425617445e-08, 'min_child_weight': 4}. Best is trial 443 with value: 12659.137449852062.\u001b[0m\n",
      "\u001b[32m[I 2023-01-14 23:47:29,383]\u001b[0m Trial 465 finished with value: 29315.435314955437 and parameters: {'booster': 'gbtree', 'learning_rate': 0.04669996043288605, 'max_depth': 15, 'subsample': 0.723163384219513, 'reg_alpha': 0.2961889034855633, 'reg_lambda': 4.4702406604350014e-07, 'gamma': 1.2287393609277895e-08, 'min_child_weight': 4}. Best is trial 443 with value: 12659.137449852062.\u001b[0m\n",
      "\u001b[32m[I 2023-01-14 23:47:29,571]\u001b[0m Trial 466 finished with value: 15200.411464885517 and parameters: {'booster': 'gbtree', 'learning_rate': 0.08753543071923052, 'max_depth': 15, 'subsample': 0.8109540921730639, 'reg_alpha': 0.2889780829734441, 'reg_lambda': 1.7552183870855968e-07, 'gamma': 7.767845084818993e-06, 'min_child_weight': 4}. Best is trial 443 with value: 12659.137449852062.\u001b[0m\n",
      "\u001b[32m[I 2023-01-14 23:47:29,691]\u001b[0m Trial 467 finished with value: 65679.52131686552 and parameters: {'booster': 'dart', 'learning_rate': 0.0020571975355129766, 'max_depth': 10, 'subsample': 0.33340160984012707, 'reg_alpha': 0.22366588998260575, 'reg_lambda': 3.09222640001689e-07, 'gamma': 4.535094728531183e-08, 'min_child_weight': 4}. Best is trial 443 with value: 12659.137449852062.\u001b[0m\n",
      "\u001b[32m[I 2023-01-14 23:47:29,783]\u001b[0m Trial 468 finished with value: 20093.270529154703 and parameters: {'booster': 'gbtree', 'learning_rate': 0.07930258199884617, 'max_depth': 14, 'subsample': 0.03449021122341632, 'reg_alpha': 0.5470554755046759, 'reg_lambda': 2.4859032048913725e-07, 'gamma': 1.9465494057524047e-08, 'min_child_weight': 4}. Best is trial 443 with value: 12659.137449852062.\u001b[0m\n",
      "\u001b[32m[I 2023-01-14 23:47:29,887]\u001b[0m Trial 469 finished with value: 16419.33631296347 and parameters: {'booster': 'dart', 'learning_rate': 0.0882601108190306, 'max_depth': 8, 'subsample': 0.9272353313131493, 'reg_alpha': 0.41666615796476214, 'reg_lambda': 1.338717699948996e-07, 'gamma': 2.8812308240504357e-08, 'min_child_weight': 4}. Best is trial 443 with value: 12659.137449852062.\u001b[0m\n",
      "\u001b[32m[I 2023-01-14 23:47:30,071]\u001b[0m Trial 470 finished with value: 53913.7967024567 and parameters: {'booster': 'gbtree', 'learning_rate': 0.012739393664390709, 'max_depth': 15, 'subsample': 0.651304554241815, 'reg_alpha': 0.6925356340634354, 'reg_lambda': 4.106167555335368e-07, 'gamma': 4.371489053685735e-05, 'min_child_weight': 4}. Best is trial 443 with value: 12659.137449852062.\u001b[0m\n",
      "\u001b[32m[I 2023-01-14 23:47:30,207]\u001b[0m Trial 471 finished with value: 68004.51105003207 and parameters: {'booster': 'gbtree', 'learning_rate': 0.00014001325252447413, 'max_depth': 15, 'subsample': 0.19139789987673259, 'reg_alpha': 0.1254874202687418, 'reg_lambda': 8.834543088391905e-08, 'gamma': 4.127046756988629e-08, 'min_child_weight': 4}. Best is trial 443 with value: 12659.137449852062.\u001b[0m\n",
      "\u001b[32m[I 2023-01-14 23:47:30,405]\u001b[0m Trial 472 finished with value: 12847.335480906137 and parameters: {'booster': 'dart', 'learning_rate': 0.09906863095756858, 'max_depth': 15, 'subsample': 0.7516953703427574, 'reg_alpha': 1.526269643916872e-06, 'reg_lambda': 1.9612859213630952e-07, 'gamma': 8.986784634355677e-08, 'min_child_weight': 4}. Best is trial 443 with value: 12659.137449852062.\u001b[0m\n",
      "\u001b[32m[I 2023-01-14 23:47:30,612]\u001b[0m Trial 473 finished with value: 19340.37221301861 and parameters: {'booster': 'gbtree', 'learning_rate': 0.07186452073517023, 'max_depth': 15, 'subsample': 0.9967591715651896, 'reg_alpha': 0.5451276304697061, 'reg_lambda': 5.081571930633601e-07, 'gamma': 2.073795956866909e-08, 'min_child_weight': 4}. Best is trial 443 with value: 12659.137449852062.\u001b[0m\n",
      "\u001b[32m[I 2023-01-14 23:47:30,844]\u001b[0m Trial 474 finished with value: 16976.64155509574 and parameters: {'booster': 'dart', 'learning_rate': 0.079736687855308, 'max_depth': 15, 'subsample': 0.846307978160969, 'reg_alpha': 0.21776041885682695, 'reg_lambda': 3.0966990842396607e-07, 'gamma': 1.6696073379491733e-07, 'min_child_weight': 4}. Best is trial 443 with value: 12659.137449852062.\u001b[0m\n",
      "\u001b[32m[I 2023-01-14 23:47:31,012]\u001b[0m Trial 475 finished with value: 15046.505085971768 and parameters: {'booster': 'gbtree', 'learning_rate': 0.08810055331403285, 'max_depth': 14, 'subsample': 0.6731402353409978, 'reg_alpha': 0.3758241979617152, 'reg_lambda': 1.0177672741031049e-07, 'gamma': 6.224170796063002e-08, 'min_child_weight': 4}. Best is trial 443 with value: 12659.137449852062.\u001b[0m\n",
      "\u001b[32m[I 2023-01-14 23:47:31,212]\u001b[0m Trial 476 finished with value: 14995.534029750546 and parameters: {'booster': 'dart', 'learning_rate': 0.08831324502511446, 'max_depth': 15, 'subsample': 0.7727359932593215, 'reg_alpha': 0.7112908800432988, 'reg_lambda': 3.788721996992936e-07, 'gamma': 3.0297399503867125e-08, 'min_child_weight': 3}. Best is trial 443 with value: 12659.137449852062.\u001b[0m\n",
      "\u001b[32m[I 2023-01-14 23:47:31,395]\u001b[0m Trial 477 finished with value: 20661.73064380594 and parameters: {'booster': 'gbtree', 'learning_rate': 0.0677059786154586, 'max_depth': 15, 'subsample': 0.8640922947006325, 'reg_alpha': 0.2853798926023077, 'reg_lambda': 9.430193664318486e-07, 'gamma': 1.0308157369268718e-08, 'min_child_weight': 4}. Best is trial 443 with value: 12659.137449852062.\u001b[0m\n",
      "\u001b[32m[I 2023-01-14 23:47:31,607]\u001b[0m Trial 478 finished with value: 12924.49709165307 and parameters: {'booster': 'dart', 'learning_rate': 0.09948152392424087, 'max_depth': 15, 'subsample': 0.5887307384604376, 'reg_alpha': 0.7129493373987223, 'reg_lambda': 2.362633181095452e-07, 'gamma': 1.1483235346239872e-07, 'min_child_weight': 2}. Best is trial 443 with value: 12659.137449852062.\u001b[0m\n",
      "\u001b[32m[I 2023-01-14 23:47:31,667]\u001b[0m Trial 479 finished with value: 30164.876796351502 and parameters: {'booster': 'gblinear', 'learning_rate': 0.0786249762732435, 'max_depth': 15, 'subsample': 0.7031486252484168, 'reg_alpha': 0.42198964280756746, 'reg_lambda': 5.323451317250758e-05, 'gamma': 5.01210451679766e-08, 'min_child_weight': 3}. Best is trial 443 with value: 12659.137449852062.\u001b[0m\n",
      "\u001b[32m[I 2023-01-14 23:47:31,839]\u001b[0m Trial 480 finished with value: 12880.650340768456 and parameters: {'booster': 'gbtree', 'learning_rate': 0.099787002483338, 'max_depth': 14, 'subsample': 0.7841604618670255, 'reg_alpha': 0.582425447334225, 'reg_lambda': 6.511712015612217e-07, 'gamma': 1.6957416694852187e-08, 'min_child_weight': 4}. Best is trial 443 with value: 12659.137449852062.\u001b[0m\n",
      "\u001b[32m[I 2023-01-14 23:47:31,995]\u001b[0m Trial 481 finished with value: 24554.110906145674 and parameters: {'booster': 'dart', 'learning_rate': 0.05801830852652515, 'max_depth': 15, 'subsample': 0.5171865635676952, 'reg_alpha': 0.960363647543518, 'reg_lambda': 1.6047034253400044e-07, 'gamma': 3.532922203069521e-08, 'min_child_weight': 8}. Best is trial 443 with value: 12659.137449852062.\u001b[0m\n",
      "\u001b[32m[I 2023-01-14 23:47:32,198]\u001b[0m Trial 482 finished with value: 15134.420921060419 and parameters: {'booster': 'gbtree', 'learning_rate': 0.08801796539683211, 'max_depth': 15, 'subsample': 0.8881084627516849, 'reg_alpha': 0.1669254609424982, 'reg_lambda': 1.3321647200403704e-05, 'gamma': 7.335418450657136e-08, 'min_child_weight': 3}. Best is trial 443 with value: 12659.137449852062.\u001b[0m\n",
      "\u001b[32m[I 2023-01-14 23:47:32,394]\u001b[0m Trial 483 finished with value: 12832.888274816993 and parameters: {'booster': 'dart', 'learning_rate': 0.0999706420947809, 'max_depth': 15, 'subsample': 0.7116364445562928, 'reg_alpha': 2.157114778048462e-05, 'reg_lambda': 4.4152446706547644e-07, 'gamma': 2.515218892633092e-08, 'min_child_weight': 3}. Best is trial 443 with value: 12659.137449852062.\u001b[0m\n",
      "\u001b[32m[I 2023-01-14 23:47:32,592]\u001b[0m Trial 484 finished with value: 17371.840030512503 and parameters: {'booster': 'gbtree', 'learning_rate': 0.07880262033546723, 'max_depth': 15, 'subsample': 0.6078195633374763, 'reg_alpha': 2.0172108327435678e-05, 'reg_lambda': 5.29425642121461e-07, 'gamma': 2.25659371033613e-08, 'min_child_weight': 3}. Best is trial 443 with value: 12659.137449852062.\u001b[0m\n",
      "\u001b[32m[I 2023-01-14 23:47:32,798]\u001b[0m Trial 485 finished with value: 15573.016120904706 and parameters: {'booster': 'dart', 'learning_rate': 0.0861939757677031, 'max_depth': 15, 'subsample': 0.6527214358474593, 'reg_alpha': 2.6387842902786553e-05, 'reg_lambda': 7.80355828853682e-07, 'gamma': 1.3458346177751646e-08, 'min_child_weight': 3}. Best is trial 443 with value: 12659.137449852062.\u001b[0m\n",
      "\u001b[32m[I 2023-01-14 23:47:32,977]\u001b[0m Trial 486 finished with value: 12972.928088811332 and parameters: {'booster': 'gbtree', 'learning_rate': 0.0992644331831651, 'max_depth': 15, 'subsample': 0.5519894057361739, 'reg_alpha': 3.806531546234578e-05, 'reg_lambda': 4.3779420011860546e-07, 'gamma': 2.8785522671854517e-08, 'min_child_weight': 3}. Best is trial 443 with value: 12659.137449852062.\u001b[0m\n",
      "\u001b[32m[I 2023-01-14 23:47:33,089]\u001b[0m Trial 487 finished with value: 21250.53140297369 and parameters: {'booster': 'dart', 'learning_rate': 0.0679833010328097, 'max_depth': 9, 'subsample': 0.6972944449942103, 'reg_alpha': 1.6475085360072574e-05, 'reg_lambda': 3.4460397805569626e-07, 'gamma': 4.27764013159645e-08, 'min_child_weight': 2}. Best is trial 443 with value: 12659.137449852062.\u001b[0m\n",
      "\u001b[32m[I 2023-01-14 23:47:33,272]\u001b[0m Trial 488 finished with value: 17895.615559492817 and parameters: {'booster': 'gbtree', 'learning_rate': 0.07671585793013087, 'max_depth': 14, 'subsample': 0.7292882394046798, 'reg_alpha': 1.4984631007299368e-05, 'reg_lambda': 5.996932312761234e-07, 'gamma': 1.561306281831395e-08, 'min_child_weight': 3}. Best is trial 443 with value: 12659.137449852062.\u001b[0m\n",
      "\u001b[32m[I 2023-01-14 23:47:33,472]\u001b[0m Trial 489 finished with value: 67782.5652761041 and parameters: {'booster': 'dart', 'learning_rate': 0.00031512294023627386, 'max_depth': 15, 'subsample': 0.6349703315724834, 'reg_alpha': 2.330699281088848e-05, 'reg_lambda': 1.164713659063835e-06, 'gamma': 2.357367981435427e-08, 'min_child_weight': 3}. Best is trial 443 with value: 12659.137449852062.\u001b[0m\n",
      "\u001b[32m[I 2023-01-14 23:47:33,673]\u001b[0m Trial 490 finished with value: 14967.263652558328 and parameters: {'booster': 'gbtree', 'learning_rate': 0.08819984940728207, 'max_depth': 15, 'subsample': 0.7374971824456363, 'reg_alpha': 5.505165912223016e-06, 'reg_lambda': 8.283739418218553e-07, 'gamma': 5.5299138552139865e-08, 'min_child_weight': 3}. Best is trial 443 with value: 12659.137449852062.\u001b[0m\n",
      "\u001b[32m[I 2023-01-14 23:47:33,868]\u001b[0m Trial 491 finished with value: 13039.983055628005 and parameters: {'booster': 'gbtree', 'learning_rate': 0.09928872114561994, 'max_depth': 15, 'subsample': 0.7986733146909898, 'reg_alpha': 1.3322641735999924e-05, 'reg_lambda': 0.06692736576973274, 'gamma': 3.92209224581791e-08, 'min_child_weight': 3}. Best is trial 443 with value: 12659.137449852062.\u001b[0m\n",
      "\u001b[32m[I 2023-01-14 23:47:34,056]\u001b[0m Trial 492 finished with value: 12782.438691544095 and parameters: {'booster': 'dart', 'learning_rate': 0.09988285498930445, 'max_depth': 15, 'subsample': 0.4525651910503802, 'reg_alpha': 9.90350388770098e-06, 'reg_lambda': 8.693104270773203e-06, 'gamma': 9.542014934307021e-08, 'min_child_weight': 3}. Best is trial 443 with value: 12659.137449852062.\u001b[0m\n",
      "\u001b[32m[I 2023-01-14 23:47:34,249]\u001b[0m Trial 493 finished with value: 17612.235191187076 and parameters: {'booster': 'dart', 'learning_rate': 0.07837444744968146, 'max_depth': 15, 'subsample': 0.43595206784856244, 'reg_alpha': 6.754898986087372e-06, 'reg_lambda': 2.391625190600861e-05, 'gamma': 2.2887185703582314e-07, 'min_child_weight': 3}. Best is trial 443 with value: 12659.137449852062.\u001b[0m\n",
      "\u001b[32m[I 2023-01-14 23:47:34,435]\u001b[0m Trial 494 finished with value: 15436.894469529821 and parameters: {'booster': 'dart', 'learning_rate': 0.08703381293074829, 'max_depth': 14, 'subsample': 0.5400807622419587, 'reg_alpha': 3.7196099556601264e-06, 'reg_lambda': 9.211298894905276e-06, 'gamma': 1.3980572582835556e-07, 'min_child_weight': 3}. Best is trial 443 with value: 12659.137449852062.\u001b[0m\n",
      "\u001b[32m[I 2023-01-14 23:47:34,600]\u001b[0m Trial 495 finished with value: 20272.176819345634 and parameters: {'booster': 'dart', 'learning_rate': 0.06897001565917027, 'max_depth': 15, 'subsample': 0.3724942930622409, 'reg_alpha': 1.0588197377092727e-05, 'reg_lambda': 7.444569792607569e-06, 'gamma': 3.712416134569374e-07, 'min_child_weight': 3}. Best is trial 443 with value: 12659.137449852062.\u001b[0m\n",
      "\u001b[32m[I 2023-01-14 23:47:34,806]\u001b[0m Trial 496 finished with value: 12902.925349004923 and parameters: {'booster': 'dart', 'learning_rate': 0.09962177040250675, 'max_depth': 15, 'subsample': 0.5859981060258755, 'reg_alpha': 0.2693241955460864, 'reg_lambda': 6.056828897423418e-06, 'gamma': 9.122234099039516e-08, 'min_child_weight': 3}. Best is trial 443 with value: 12659.137449852062.\u001b[0m\n",
      "\u001b[32m[I 2023-01-14 23:47:35,032]\u001b[0m Trial 497 finished with value: 15409.82700067777 and parameters: {'booster': 'dart', 'learning_rate': 0.08702243111020332, 'max_depth': 15, 'subsample': 0.6316542743300834, 'reg_alpha': 0.3938434698270109, 'reg_lambda': 3.4287791939864485e-06, 'gamma': 1.4034612612490397e-07, 'min_child_weight': 3}. Best is trial 443 with value: 12659.137449852062.\u001b[0m\n",
      "\u001b[32m[I 2023-01-14 23:47:35,221]\u001b[0m Trial 498 finished with value: 12863.618054726574 and parameters: {'booster': 'dart', 'learning_rate': 0.09967154911465978, 'max_depth': 15, 'subsample': 0.4466511796480864, 'reg_alpha': 5.616285536517562e-06, 'reg_lambda': 1.0213781848647345e-05, 'gamma': 1.769622480892026e-08, 'min_child_weight': 3}. Best is trial 443 with value: 12659.137449852062.\u001b[0m\n",
      "\u001b[32m[I 2023-01-14 23:47:35,434]\u001b[0m Trial 499 finished with value: 17826.28353109754 and parameters: {'booster': 'dart', 'learning_rate': 0.07706629187084771, 'max_depth': 14, 'subsample': 0.6831367086132192, 'reg_alpha': 0.24752723876701288, 'reg_lambda': 5.055842781967465e-06, 'gamma': 9.663201108587241e-08, 'min_child_weight': 2}. Best is trial 443 with value: 12659.137449852062.\u001b[0m\n",
      "\u001b[32m[I 2023-01-14 23:47:35,633]\u001b[0m Trial 500 finished with value: 66916.98246361503 and parameters: {'booster': 'dart', 'learning_rate': 0.0010110527490809177, 'max_depth': 15, 'subsample': 0.5737058534339456, 'reg_alpha': 0.1290148863693413, 'reg_lambda': 4.027420328281332e-06, 'gamma': 2.8037918974434253e-08, 'min_child_weight': 3}. Best is trial 443 with value: 12659.137449852062.\u001b[0m\n",
      "\u001b[32m[I 2023-01-14 23:47:35,832]\u001b[0m Trial 501 finished with value: 12861.099418319 and parameters: {'booster': 'dart', 'learning_rate': 0.09991312357285301, 'max_depth': 15, 'subsample': 0.6709900052896568, 'reg_alpha': 2.5766057861696836e-06, 'reg_lambda': 2.5770762319416214e-07, 'gamma': 1.0637716111363643e-08, 'min_child_weight': 3}. Best is trial 443 with value: 12659.137449852062.\u001b[0m\n",
      "\u001b[32m[I 2023-01-14 23:47:36,021]\u001b[0m Trial 502 finished with value: 26474.5572348831 and parameters: {'booster': 'dart', 'learning_rate': 0.05299348576053095, 'max_depth': 15, 'subsample': 0.4986086940724421, 'reg_alpha': 8.696185005296025e-06, 'reg_lambda': 1.2778452952345828e-05, 'gamma': 7.566944872040403e-08, 'min_child_weight': 4}. Best is trial 443 with value: 12659.137449852062.\u001b[0m\n",
      "\u001b[32m[I 2023-01-14 23:47:36,232]\u001b[0m Trial 503 finished with value: 15419.606393825015 and parameters: {'booster': 'dart', 'learning_rate': 0.08689147930458316, 'max_depth': 15, 'subsample': 0.7339487947670598, 'reg_alpha': 1.5104400334146833e-07, 'reg_lambda': 1.5461422513117263e-05, 'gamma': 1.8542886044605275e-07, 'min_child_weight': 3}. Best is trial 443 with value: 12659.137449852062.\u001b[0m\n",
      "\u001b[32m[I 2023-01-14 23:47:36,414]\u001b[0m Trial 504 finished with value: 18823.313645858143 and parameters: {'booster': 'dart', 'learning_rate': 0.07379730323125075, 'max_depth': 14, 'subsample': 0.6291271683878711, 'reg_alpha': 0.5011950510928959, 'reg_lambda': 3.0247178731980137e-07, 'gamma': 3.8005629953741967e-08, 'min_child_weight': 4}. Best is trial 443 with value: 12659.137449852062.\u001b[0m\n",
      "\u001b[32m[I 2023-01-14 23:47:36,615]\u001b[0m Trial 505 finished with value: 15376.569755205792 and parameters: {'booster': 'dart', 'learning_rate': 0.08700377212352456, 'max_depth': 15, 'subsample': 0.7341499057735571, 'reg_alpha': 4.256103711565391e-06, 'reg_lambda': 5.47340680146e-07, 'gamma': 2.0946064663399975e-08, 'min_child_weight': 3}. Best is trial 443 with value: 12659.137449852062.\u001b[0m\n",
      "\u001b[32m[I 2023-01-14 23:47:36,855]\u001b[0m Trial 506 finished with value: 42967.44220472156 and parameters: {'booster': 'dart', 'learning_rate': 0.025146322807755014, 'max_depth': 15, 'subsample': 0.6817581771273671, 'reg_alpha': 0.35379590166239344, 'reg_lambda': 2.4856544389568714e-06, 'gamma': 5.562330892122218e-08, 'min_child_weight': 2}. Best is trial 443 with value: 12659.137449852062.\u001b[0m\n",
      "\u001b[32m[I 2023-01-14 23:47:37,051]\u001b[0m Trial 507 finished with value: 22672.201730320106 and parameters: {'booster': 'dart', 'learning_rate': 0.06192813888150349, 'max_depth': 15, 'subsample': 0.7925799429802147, 'reg_alpha': 0.9933274244022167, 'reg_lambda': 1.1652116402893461e-07, 'gamma': 1.4506877476493273e-08, 'min_child_weight': 4}. Best is trial 443 with value: 12659.137449852062.\u001b[0m\n",
      "\u001b[32m[I 2023-01-14 23:47:37,111]\u001b[0m Trial 508 finished with value: 27111.114207442835 and parameters: {'booster': 'gblinear', 'learning_rate': 0.0999698745681358, 'max_depth': 15, 'subsample': 0.5677557266547507, 'reg_alpha': 0.5295261921950062, 'reg_lambda': 2.1437684187271162e-07, 'gamma': 1.2102448136817733e-07, 'min_child_weight': 3}. Best is trial 443 with value: 12659.137449852062.\u001b[0m\n",
      "\u001b[32m[I 2023-01-14 23:47:37,285]\u001b[0m Trial 509 finished with value: 65134.63230663972 and parameters: {'booster': 'dart', 'learning_rate': 0.00247895979010926, 'max_depth': 14, 'subsample': 0.6127440438090559, 'reg_alpha': 0.20270349542005675, 'reg_lambda': 3.35687287212787e-05, 'gamma': 2.9314969767060042e-08, 'min_child_weight': 4}. Best is trial 443 with value: 12659.137449852062.\u001b[0m\n",
      "\u001b[32m[I 2023-01-14 23:47:37,443]\u001b[0m Trial 510 finished with value: 17664.901264455624 and parameters: {'booster': 'dart', 'learning_rate': 0.07791882469520474, 'max_depth': 15, 'subsample': 0.29382016638919756, 'reg_alpha': 7.78233395990151e-06, 'reg_lambda': 7.975522833493717e-06, 'gamma': 8.528607896920513e-08, 'min_child_weight': 3}. Best is trial 443 with value: 12659.137449852062.\u001b[0m\n",
      "\u001b[32m[I 2023-01-14 23:47:37,632]\u001b[0m Trial 511 finished with value: 35264.260321369926 and parameters: {'booster': 'dart', 'learning_rate': 0.036299591556118366, 'max_depth': 15, 'subsample': 0.48394359458271685, 'reg_alpha': 0.6571017551851899, 'reg_lambda': 1.014846130841988e-06, 'gamma': 4.733188885924747e-08, 'min_child_weight': 3}. Best is trial 443 with value: 12659.137449852062.\u001b[0m\n",
      "\u001b[32m[I 2023-01-14 23:47:37,826]\u001b[0m Trial 512 finished with value: 15320.211554131112 and parameters: {'booster': 'gbtree', 'learning_rate': 0.086999996539207, 'max_depth': 15, 'subsample': 0.7937031004895353, 'reg_alpha': 0.32455292599884134, 'reg_lambda': 6.765172970004871e-08, 'gamma': 2.5977879782175466e-08, 'min_child_weight': 4}. Best is trial 443 with value: 12659.137449852062.\u001b[0m\n",
      "\u001b[32m[I 2023-01-14 23:47:38,033]\u001b[0m Trial 513 finished with value: 20420.159691888766 and parameters: {'booster': 'dart', 'learning_rate': 0.06836123646671388, 'max_depth': 15, 'subsample': 0.7270517302672643, 'reg_alpha': 0.4219521430488191, 'reg_lambda': 4.3044129694397923e-07, 'gamma': 7.070389950502325e-08, 'min_child_weight': 3}. Best is trial 443 with value: 12659.137449852062.\u001b[0m\n",
      "\u001b[32m[I 2023-01-14 23:47:38,203]\u001b[0m Trial 514 finished with value: 15115.875495363463 and parameters: {'booster': 'gbtree', 'learning_rate': 0.08748479687473742, 'max_depth': 14, 'subsample': 0.6534612116844073, 'reg_alpha': 1.1190911654018187e-05, 'reg_lambda': 1.7315818234999833e-06, 'gamma': 3.814129733562582e-08, 'min_child_weight': 4}. Best is trial 443 with value: 12659.137449852062.\u001b[0m\n",
      "\u001b[32m[I 2023-01-14 23:47:38,422]\u001b[0m Trial 515 finished with value: 17740.94444356689 and parameters: {'booster': 'dart', 'learning_rate': 0.07782534314751599, 'max_depth': 15, 'subsample': 0.9190002453702771, 'reg_alpha': 0.668885143063326, 'reg_lambda': 0.016823682689892934, 'gamma': 2.028753130968451e-08, 'min_child_weight': 3}. Best is trial 443 with value: 12659.137449852062.\u001b[0m\n",
      "\u001b[32m[I 2023-01-14 23:47:38,530]\u001b[0m Trial 516 finished with value: 16165.35623444806 and parameters: {'booster': 'gbtree', 'learning_rate': 0.08786100440411271, 'max_depth': 15, 'subsample': 0.08638141244270267, 'reg_alpha': 0.17134658608421952, 'reg_lambda': 1.4616690508808816e-07, 'gamma': 1.1924543145880393e-07, 'min_child_weight': 4}. Best is trial 443 with value: 12659.137449852062.\u001b[0m\n",
      "\u001b[32m[I 2023-01-14 23:47:38,749]\u001b[0m Trial 517 finished with value: 14990.753000538109 and parameters: {'booster': 'dart', 'learning_rate': 0.08863731640467028, 'max_depth': 15, 'subsample': 0.7988184012951339, 'reg_alpha': 0.26210071743912006, 'reg_lambda': 6.429884368738437e-07, 'gamma': 1.0200343119779022e-08, 'min_child_weight': 3}. Best is trial 443 with value: 12659.137449852062.\u001b[0m\n",
      "\u001b[32m[I 2023-01-14 23:47:38,931]\u001b[0m Trial 518 finished with value: 19441.598376892107 and parameters: {'booster': 'gbtree', 'learning_rate': 0.07110359638443078, 'max_depth': 15, 'subsample': 0.7257818939668312, 'reg_alpha': 0.4735909547381088, 'reg_lambda': 3.3375252100411597e-07, 'gamma': 8.171329806736188e-07, 'min_child_weight': 4}. Best is trial 443 with value: 12659.137449852062.\u001b[0m\n",
      "\u001b[32m[I 2023-01-14 23:47:39,042]\u001b[0m Trial 519 finished with value: 56802.14658888885 and parameters: {'booster': 'dart', 'learning_rate': 0.010242039777451438, 'max_depth': 14, 'subsample': 0.05352003650611823, 'reg_alpha': 6.341520563647539e-06, 'reg_lambda': 9.80816534354944e-05, 'gamma': 2.0206242728751479e-07, 'min_child_weight': 3}. Best is trial 443 with value: 12659.137449852062.\u001b[0m\n",
      "\u001b[32m[I 2023-01-14 23:47:39,233]\u001b[0m Trial 520 finished with value: 66071.07003717759 and parameters: {'booster': 'gbtree', 'learning_rate': 0.0016992380011637816, 'max_depth': 15, 'subsample': 0.8408457521568637, 'reg_alpha': 3.118094859678929e-05, 'reg_lambda': 2.3811451315631598e-07, 'gamma': 1.5410661054512998e-08, 'min_child_weight': 4}. Best is trial 443 with value: 12659.137449852062.\u001b[0m\n",
      "\u001b[32m[I 2023-01-14 23:47:39,425]\u001b[0m Trial 521 finished with value: 12747.726437056916 and parameters: {'booster': 'gbtree', 'learning_rate': 0.09974228539724597, 'max_depth': 15, 'subsample': 0.6808890075780609, 'reg_alpha': 0.6808645204315084, 'reg_lambda': 1.1147383426735825e-06, 'gamma': 5.682725376436532e-08, 'min_child_weight': 3}. Best is trial 443 with value: 12659.137449852062.\u001b[0m\n",
      "\u001b[32m[I 2023-01-14 23:47:39,610]\u001b[0m Trial 522 finished with value: 17045.56324496731 and parameters: {'booster': 'gbtree', 'learning_rate': 0.08028005375600042, 'max_depth': 15, 'subsample': 0.5332344256110477, 'reg_alpha': 3.0943681293852313e-06, 'reg_lambda': 1.065947145246513e-06, 'gamma': 7.161993689082449e-08, 'min_child_weight': 3}. Best is trial 443 with value: 12659.137449852062.\u001b[0m\n",
      "\u001b[32m[I 2023-01-14 23:47:39,807]\u001b[0m Trial 523 finished with value: 12800.026255220731 and parameters: {'booster': 'gbtree', 'learning_rate': 0.09983677022872788, 'max_depth': 15, 'subsample': 0.6154199906246035, 'reg_alpha': 0.7261890484064545, 'reg_lambda': 7.925875088735714e-07, 'gamma': 1.0427232046609346e-07, 'min_child_weight': 3}. Best is trial 443 with value: 12659.137449852062.\u001b[0m\n",
      "\u001b[32m[I 2023-01-14 23:47:40,009]\u001b[0m Trial 524 finished with value: 12774.153953910298 and parameters: {'booster': 'gbtree', 'learning_rate': 0.09967289947582247, 'max_depth': 15, 'subsample': 0.6329930067768953, 'reg_alpha': 6.712703764753688e-07, 'reg_lambda': 8.523000578454792e-07, 'gamma': 2.2994265504600917e-06, 'min_child_weight': 3}. Best is trial 443 with value: 12659.137449852062.\u001b[0m\n",
      "\u001b[32m[I 2023-01-14 23:47:40,197]\u001b[0m Trial 525 finished with value: 12806.305440322987 and parameters: {'booster': 'gbtree', 'learning_rate': 0.09988819005359706, 'max_depth': 15, 'subsample': 0.6158459020650546, 'reg_alpha': 3.8417722509110605e-07, 'reg_lambda': 1.241206726961583e-06, 'gamma': 1.6663917459914633e-07, 'min_child_weight': 3}. Best is trial 443 with value: 12659.137449852062.\u001b[0m\n",
      "\u001b[32m[I 2023-01-14 23:47:40,397]\u001b[0m Trial 526 finished with value: 21656.772997079643 and parameters: {'booster': 'gbtree', 'learning_rate': 0.06474948607675098, 'max_depth': 15, 'subsample': 0.5161010332874432, 'reg_alpha': 2.919969681397278e-07, 'reg_lambda': 1.277142662833614e-06, 'gamma': 3.857556213547954e-07, 'min_child_weight': 2}. Best is trial 443 with value: 12659.137449852062.\u001b[0m\n",
      "\u001b[32m[I 2023-01-14 23:47:40,596]\u001b[0m Trial 527 finished with value: 16559.00428880149 and parameters: {'booster': 'gbtree', 'learning_rate': 0.08152964422910805, 'max_depth': 15, 'subsample': 0.5914792264215498, 'reg_alpha': 2.4573219067780743e-07, 'reg_lambda': 1.3383992938462256e-06, 'gamma': 2.230239060909842e-07, 'min_child_weight': 3}. Best is trial 443 with value: 12659.137449852062.\u001b[0m\n",
      "\u001b[32m[I 2023-01-14 23:47:40,790]\u001b[0m Trial 528 finished with value: 15161.574136072559 and parameters: {'booster': 'gbtree', 'learning_rate': 0.08793259878207112, 'max_depth': 15, 'subsample': 0.5637211017936661, 'reg_alpha': 2.5986136948076985e-07, 'reg_lambda': 1.7385836030146644e-06, 'gamma': 1.5451801605786894e-06, 'min_child_weight': 3}. Best is trial 443 with value: 12659.137449852062.\u001b[0m\n",
      "\u001b[32m[I 2023-01-14 23:47:40,980]\u001b[0m Trial 529 finished with value: 18686.510901488193 and parameters: {'booster': 'gbtree', 'learning_rate': 0.07395509248245298, 'max_depth': 15, 'subsample': 0.6134003932712498, 'reg_alpha': 4.2435001561712683e-07, 'reg_lambda': 1.0119224896462675e-06, 'gamma': 5.781702767731693e-07, 'min_child_weight': 3}. Best is trial 443 with value: 12659.137449852062.\u001b[0m\n",
      "\u001b[32m[I 2023-01-14 23:47:41,148]\u001b[0m Trial 530 finished with value: 15287.48736041297 and parameters: {'booster': 'gbtree', 'learning_rate': 0.0878048506795942, 'max_depth': 15, 'subsample': 0.4026040521089648, 'reg_alpha': 1.627415582965705e-06, 'reg_lambda': 7.206731981388662e-07, 'gamma': 1.447859563359708e-07, 'min_child_weight': 3}. Best is trial 443 with value: 12659.137449852062.\u001b[0m\n",
      "\u001b[32m[I 2023-01-14 23:47:41,337]\u001b[0m Trial 531 finished with value: 14946.731622338724 and parameters: {'booster': 'gbtree', 'learning_rate': 0.08823516295524189, 'max_depth': 15, 'subsample': 0.6497871969519287, 'reg_alpha': 1.1926349677857463e-07, 'reg_lambda': 8.266825902788709e-07, 'gamma': 2.8297388949951997e-07, 'min_child_weight': 3}. Best is trial 443 with value: 12659.137449852062.\u001b[0m\n",
      "\u001b[32m[I 2023-01-14 23:47:41,530]\u001b[0m Trial 532 finished with value: 17775.49838297235 and parameters: {'booster': 'gbtree', 'learning_rate': 0.07741374418093294, 'max_depth': 15, 'subsample': 0.6120630860397027, 'reg_alpha': 4.5279833620197694e-07, 'reg_lambda': 1.4210968829688957e-06, 'gamma': 1.6079899448124546e-07, 'min_child_weight': 3}. Best is trial 443 with value: 12659.137449852062.\u001b[0m\n",
      "\u001b[32m[I 2023-01-14 23:47:41,731]\u001b[0m Trial 533 finished with value: 24135.273393606025 and parameters: {'booster': 'gbtree', 'learning_rate': 0.058409263013007175, 'max_depth': 15, 'subsample': 0.5449218204501961, 'reg_alpha': 9.78901598436082e-07, 'reg_lambda': 1.1168993237466903e-06, 'gamma': 1.0006747224177025e-07, 'min_child_weight': 3}. Best is trial 443 with value: 12659.137449852062.\u001b[0m\n",
      "\u001b[32m[I 2023-01-14 23:47:41,916]\u001b[0m Trial 534 finished with value: 14713.108343403945 and parameters: {'booster': 'gbtree', 'learning_rate': 0.0895273932770497, 'max_depth': 15, 'subsample': 0.6818017180165009, 'reg_alpha': 8.049601694052576e-07, 'reg_lambda': 2.248776682340561e-06, 'gamma': 2.2723327424820865e-07, 'min_child_weight': 3}. Best is trial 443 with value: 12659.137449852062.\u001b[0m\n",
      "\u001b[32m[I 2023-01-14 23:47:42,102]\u001b[0m Trial 535 finished with value: 19670.57570429781 and parameters: {'booster': 'gbtree', 'learning_rate': 0.07083626981434249, 'max_depth': 15, 'subsample': 0.6251901174196081, 'reg_alpha': 4.4964210236454905e-07, 'reg_lambda': 8.216779112453327e-07, 'gamma': 1.703946386548713e-05, 'min_child_weight': 3}. Best is trial 443 with value: 12659.137449852062.\u001b[0m\n",
      "\u001b[32m[I 2023-01-14 23:47:42,336]\u001b[0m Trial 536 finished with value: 12837.617074394519 and parameters: {'booster': 'gbtree', 'learning_rate': 0.0995278249525591, 'max_depth': 15, 'subsample': 0.6645344369305689, 'reg_alpha': 4.913213007242009e-07, 'reg_lambda': 7.2376669524261e-07, 'gamma': 1.4579036816464528e-07, 'min_child_weight': 2}. Best is trial 443 with value: 12659.137449852062.\u001b[0m\n",
      "\u001b[32m[I 2023-01-14 23:47:42,513]\u001b[0m Trial 537 finished with value: 12835.561548583055 and parameters: {'booster': 'gbtree', 'learning_rate': 0.09975139465683883, 'max_depth': 15, 'subsample': 0.48142819049595525, 'reg_alpha': 2.9655495778968387e-07, 'reg_lambda': 1.0273972145340324e-06, 'gamma': 1.8462770435211373e-07, 'min_child_weight': 3}. Best is trial 443 with value: 12659.137449852062.\u001b[0m\n",
      "\u001b[32m[I 2023-01-14 23:47:42,704]\u001b[0m Trial 538 finished with value: 17273.66851974197 and parameters: {'booster': 'gbtree', 'learning_rate': 0.07833791103653547, 'max_depth': 15, 'subsample': 0.5790097308838402, 'reg_alpha': 8.648205786863991e-07, 'reg_lambda': 1.4410308361781877e-06, 'gamma': 1.0746875930489406e-07, 'min_child_weight': 3}. Best is trial 443 with value: 12659.137449852062.\u001b[0m\n",
      "\u001b[32m[I 2023-01-14 23:47:42,924]\u001b[0m Trial 539 finished with value: 12694.415207036676 and parameters: {'booster': 'gbtree', 'learning_rate': 0.0999689935991001, 'max_depth': 15, 'subsample': 0.6631570905623829, 'reg_alpha': 6.077020045817909e-07, 'reg_lambda': 2.0467836337965124e-06, 'gamma': 7.895522116910568e-08, 'min_child_weight': 3}. Best is trial 443 with value: 12659.137449852062.\u001b[0m\n",
      "\u001b[32m[I 2023-01-14 23:47:43,067]\u001b[0m Trial 540 finished with value: 15390.286421607472 and parameters: {'booster': 'gbtree', 'learning_rate': 0.08737062091208075, 'max_depth': 15, 'subsample': 0.23990032604860967, 'reg_alpha': 6.138671602776857e-07, 'reg_lambda': 2.2172582061643872e-06, 'gamma': 3.2811882810059197e-06, 'min_child_weight': 3}. Best is trial 443 with value: 12659.137449852062.\u001b[0m\n",
      "\u001b[32m[I 2023-01-14 23:47:43,249]\u001b[0m Trial 541 finished with value: 17043.478591878673 and parameters: {'booster': 'gbtree', 'learning_rate': 0.07983039663027529, 'max_depth': 15, 'subsample': 0.5164959301780866, 'reg_alpha': 6.082312649514102e-07, 'reg_lambda': 1.6891079380573743e-06, 'gamma': 9.318412492110879e-08, 'min_child_weight': 3}. Best is trial 443 with value: 12659.137449852062.\u001b[0m\n",
      "\u001b[32m[I 2023-01-14 23:47:43,450]\u001b[0m Trial 542 finished with value: 20786.35219242747 and parameters: {'booster': 'gbtree', 'learning_rate': 0.0670537727775628, 'max_depth': 15, 'subsample': 0.6437584567804551, 'reg_alpha': 3.196870978708508e-07, 'reg_lambda': 1.8013726467665925e-06, 'gamma': 3.0619714366023353e-07, 'min_child_weight': 3}. Best is trial 443 with value: 12659.137449852062.\u001b[0m\n",
      "\u001b[32m[I 2023-01-14 23:47:43,637]\u001b[0m Trial 543 finished with value: 15048.06581572857 and parameters: {'booster': 'gbtree', 'learning_rate': 0.08862784974598237, 'max_depth': 15, 'subsample': 0.5967118479612896, 'reg_alpha': 7.573812805940664e-08, 'reg_lambda': 2.579451141041787e-06, 'gamma': 6.535864183608817e-08, 'min_child_weight': 3}. Best is trial 443 with value: 12659.137449852062.\u001b[0m\n",
      "\u001b[32m[I 2023-01-14 23:47:43,836]\u001b[0m Trial 544 finished with value: 14730.28071238749 and parameters: {'booster': 'gbtree', 'learning_rate': 0.08922139661608784, 'max_depth': 15, 'subsample': 0.6713214245813505, 'reg_alpha': 6.228773155927054e-07, 'reg_lambda': 8.848317600886693e-07, 'gamma': 9.20562526871199e-08, 'min_child_weight': 3}. Best is trial 443 with value: 12659.137449852062.\u001b[0m\n",
      "\u001b[32m[I 2023-01-14 23:47:44,031]\u001b[0m Trial 545 finished with value: 17375.200869009845 and parameters: {'booster': 'gbtree', 'learning_rate': 0.07872677049408752, 'max_depth': 15, 'subsample': 0.6872615725608695, 'reg_alpha': 1.3615950708423026e-06, 'reg_lambda': 1.3250728637799032e-06, 'gamma': 1.3232364659587873e-07, 'min_child_weight': 3}. Best is trial 443 with value: 12659.137449852062.\u001b[0m\n",
      "\u001b[32m[I 2023-01-14 23:47:44,215]\u001b[0m Trial 546 finished with value: 12882.7112141071 and parameters: {'booster': 'gbtree', 'learning_rate': 0.09976131160874847, 'max_depth': 15, 'subsample': 0.5472263701931752, 'reg_alpha': 0.7870105955136477, 'reg_lambda': 6.09788508227144e-07, 'gamma': 1.2509041935725558e-07, 'min_child_weight': 3}. Best is trial 443 with value: 12659.137449852062.\u001b[0m\n",
      "\u001b[32m[I 2023-01-14 23:47:44,448]\u001b[0m Trial 547 finished with value: 12797.981422401568 and parameters: {'booster': 'gbtree', 'learning_rate': 0.0993264115291802, 'max_depth': 15, 'subsample': 0.7258308886743029, 'reg_alpha': 2.194991522237118e-07, 'reg_lambda': 3.109747428812942e-06, 'gamma': 7.842417294818434e-08, 'min_child_weight': 2}. Best is trial 443 with value: 12659.137449852062.\u001b[0m\n",
      "\u001b[32m[I 2023-01-14 23:47:44,646]\u001b[0m Trial 548 finished with value: 12745.306998621949 and parameters: {'booster': 'gbtree', 'learning_rate': 0.09979508821168001, 'max_depth': 15, 'subsample': 0.6356389625983278, 'reg_alpha': 1.8231401202669998e-07, 'reg_lambda': 4.734265710380863e-06, 'gamma': 7.763299772008925e-08, 'min_child_weight': 3}. Best is trial 443 with value: 12659.137449852062.\u001b[0m\n",
      "\u001b[32m[I 2023-01-14 23:47:44,868]\u001b[0m Trial 549 finished with value: 21978.06200787812 and parameters: {'booster': 'gbtree', 'learning_rate': 0.06371059513800478, 'max_depth': 15, 'subsample': 0.5742658705302882, 'reg_alpha': 1.970091545137604e-07, 'reg_lambda': 6.63396062121896e-06, 'gamma': 1.839071189741277e-07, 'min_child_weight': 2}. Best is trial 443 with value: 12659.137449852062.\u001b[0m\n",
      "\u001b[32m[I 2023-01-14 23:47:44,967]\u001b[0m Trial 550 finished with value: 19438.369664868773 and parameters: {'booster': 'gbtree', 'learning_rate': 0.07582192419080917, 'max_depth': 8, 'subsample': 0.4890106147061425, 'reg_alpha': 1.3017192046662842e-07, 'reg_lambda': 4.491327811732088e-06, 'gamma': 8.599996675041056e-08, 'min_child_weight': 2}. Best is trial 443 with value: 12659.137449852062.\u001b[0m\n",
      "\u001b[32m[I 2023-01-14 23:47:45,205]\u001b[0m Trial 551 finished with value: 14949.800291147545 and parameters: {'booster': 'gbtree', 'learning_rate': 0.08871870584856172, 'max_depth': 15, 'subsample': 0.6273274623210555, 'reg_alpha': 8.294682407968757e-08, 'reg_lambda': 4.587678152754156e-06, 'gamma': 9.721561879524512e-08, 'min_child_weight': 2}. Best is trial 443 with value: 12659.137449852062.\u001b[0m\n",
      "\u001b[32m[I 2023-01-14 23:47:45,447]\u001b[0m Trial 552 finished with value: 17137.71550335109 and parameters: {'booster': 'gbtree', 'learning_rate': 0.079872453143399, 'max_depth': 15, 'subsample': 0.604749269060657, 'reg_alpha': 2.412892971374046e-07, 'reg_lambda': 2.9175969795039206e-06, 'gamma': 6.328843485829028e-08, 'min_child_weight': 2}. Best is trial 443 with value: 12659.137449852062.\u001b[0m\n",
      "\u001b[32m[I 2023-01-14 23:47:45,712]\u001b[0m Trial 553 finished with value: 12834.442111113174 and parameters: {'booster': 'gbtree', 'learning_rate': 0.09962833046760068, 'max_depth': 15, 'subsample': 0.5328109425819091, 'reg_alpha': 1.5768376368174067e-07, 'reg_lambda': 5.797846182276336e-06, 'gamma': 2.569412092735437e-07, 'min_child_weight': 1}. Best is trial 443 with value: 12659.137449852062.\u001b[0m\n",
      "\u001b[32m[I 2023-01-14 23:47:45,939]\u001b[0m Trial 554 finished with value: 14875.687524941128 and parameters: {'booster': 'gbtree', 'learning_rate': 0.0884848112747352, 'max_depth': 15, 'subsample': 0.6727287934886228, 'reg_alpha': 3.778465087915646e-07, 'reg_lambda': 2.7748878529019998e-06, 'gamma': 1.389438083907954e-07, 'min_child_weight': 2}. Best is trial 443 with value: 12659.137449852062.\u001b[0m\n",
      "\u001b[32m[I 2023-01-14 23:47:46,066]\u001b[0m Trial 555 finished with value: 19695.32010294811 and parameters: {'booster': 'gbtree', 'learning_rate': 0.07196450127585177, 'max_depth': 15, 'subsample': 0.10632822236818341, 'reg_alpha': 2.1118921042568164e-07, 'reg_lambda': 3.62855175128753e-06, 'gamma': 2.3654627275761514e-06, 'min_child_weight': 2}. Best is trial 443 with value: 12659.137449852062.\u001b[0m\n",
      "\u001b[32m[I 2023-01-14 23:47:46,261]\u001b[0m Trial 556 finished with value: 15366.496701241751 and parameters: {'booster': 'gbtree', 'learning_rate': 0.08724061568248516, 'max_depth': 15, 'subsample': 0.6233339066824992, 'reg_alpha': 5.1534245883995e-07, 'reg_lambda': 9.722048507212322e-06, 'gamma': 7.879488187100795e-08, 'min_child_weight': 3}. Best is trial 443 with value: 12659.137449852062.\u001b[0m\n",
      "\u001b[32m[I 2023-01-14 23:47:46,449]\u001b[0m Trial 557 finished with value: 12763.012370695778 and parameters: {'booster': 'gbtree', 'learning_rate': 0.09956911320247616, 'max_depth': 15, 'subsample': 0.7040923909066255, 'reg_alpha': 2.970623929927954e-07, 'reg_lambda': 2.936629423135244e-06, 'gamma': 5.318645379191392e-08, 'min_child_weight': 3}. Best is trial 443 with value: 12659.137449852062.\u001b[0m\n",
      "\u001b[32m[I 2023-01-14 23:47:46,597]\u001b[0m Trial 558 finished with value: 17361.321580079315 and parameters: {'booster': 'gbtree', 'learning_rate': 0.07910358214058191, 'max_depth': 15, 'subsample': 0.5752732897650037, 'reg_alpha': 3.684955701597276e-07, 'reg_lambda': 2.468934223787658e-06, 'gamma': 4.961238840508298e-08, 'min_child_weight': 7}. Best is trial 443 with value: 12659.137449852062.\u001b[0m\n",
      "\u001b[32m[I 2023-01-14 23:47:46,801]\u001b[0m Trial 559 finished with value: 12754.073429018954 and parameters: {'booster': 'gbtree', 'learning_rate': 0.09988673104329768, 'max_depth': 15, 'subsample': 0.6749885100392248, 'reg_alpha': 7.59056775215828e-08, 'reg_lambda': 3.859304398322282e-06, 'gamma': 5.431185056561486e-08, 'min_child_weight': 3}. Best is trial 443 with value: 12659.137449852062.\u001b[0m\n",
      "\u001b[32m[I 2023-01-14 23:47:47,060]\u001b[0m Trial 560 finished with value: 20882.24679650852 and parameters: {'booster': 'gbtree', 'learning_rate': 0.06741111796429734, 'max_depth': 15, 'subsample': 0.46516926711665824, 'reg_alpha': 2.0601928051943395e-07, 'reg_lambda': 3.6778846131789937e-06, 'gamma': 4.5292018260231796e-07, 'min_child_weight': 1}. Best is trial 443 with value: 12659.137449852062.\u001b[0m\n",
      "\u001b[32m[I 2023-01-14 23:47:47,383]\u001b[0m Trial 561 finished with value: 15093.084591125786 and parameters: {'booster': 'gbtree', 'learning_rate': 0.08775875862643331, 'max_depth': 15, 'subsample': 0.6379953198022518, 'reg_alpha': 5.261437959904025e-08, 'reg_lambda': 2.9241290240130895e-06, 'gamma': 6.527829290105274e-08, 'min_child_weight': 1}. Best is trial 443 with value: 12659.137449852062.\u001b[0m\n",
      "\u001b[32m[I 2023-01-14 23:47:47,572]\u001b[0m Trial 562 finished with value: 12714.30006785134 and parameters: {'booster': 'gbtree', 'learning_rate': 0.09988060361074659, 'max_depth': 15, 'subsample': 0.57347214339752, 'reg_alpha': 1.4542564388920166e-07, 'reg_lambda': 3.652122556528606e-06, 'gamma': 1.1122800322789212e-07, 'min_child_weight': 3}. Best is trial 443 with value: 12659.137449852062.\u001b[0m\n",
      "\u001b[32m[I 2023-01-14 23:47:47,755]\u001b[0m Trial 563 finished with value: 25398.24280489844 and parameters: {'booster': 'gbtree', 'learning_rate': 0.055351436636141685, 'max_depth': 15, 'subsample': 0.5232971435360649, 'reg_alpha': 1.2092422157018876e-07, 'reg_lambda': 5.050002365226215e-06, 'gamma': 5.028462719224255e-08, 'min_child_weight': 3}. Best is trial 443 with value: 12659.137449852062.\u001b[0m\n",
      "\u001b[32m[I 2023-01-14 23:47:47,942]\u001b[0m Trial 564 finished with value: 17220.243190014517 and parameters: {'booster': 'gbtree', 'learning_rate': 0.07949859028108738, 'max_depth': 15, 'subsample': 0.5451359737429059, 'reg_alpha': 1.5481457870804115e-07, 'reg_lambda': 4.895215933231867e-06, 'gamma': 1.1433476886401785e-07, 'min_child_weight': 3}. Best is trial 443 with value: 12659.137449852062.\u001b[0m\n",
      "\u001b[32m[I 2023-01-14 23:47:48,134]\u001b[0m Trial 565 finished with value: 12710.759041098247 and parameters: {'booster': 'gbtree', 'learning_rate': 0.09982411377242732, 'max_depth': 15, 'subsample': 0.5791762058645494, 'reg_alpha': 7.443785714748387e-08, 'reg_lambda': 3.4783268407961053e-06, 'gamma': 5.551969575169635e-08, 'min_child_weight': 3}. Best is trial 443 with value: 12659.137449852062.\u001b[0m\n",
      "\u001b[32m[I 2023-01-14 23:47:48,216]\u001b[0m Trial 566 finished with value: 20630.96772966432 and parameters: {'booster': 'gbtree', 'learning_rate': 0.08674210584652191, 'max_depth': 5, 'subsample': 0.5732262755079415, 'reg_alpha': 2.84726773865856e-08, 'reg_lambda': 3.768416275455347e-06, 'gamma': 6.051453375323042e-08, 'min_child_weight': 2}. Best is trial 443 with value: 12659.137449852062.\u001b[0m\n",
      "\u001b[32m[I 2023-01-14 23:47:48,394]\u001b[0m Trial 567 finished with value: 19977.957980444276 and parameters: {'booster': 'gbtree', 'learning_rate': 0.0701885803297793, 'max_depth': 15, 'subsample': 0.43062610627974657, 'reg_alpha': 4.4580025320960435e-08, 'reg_lambda': 3.5173434875655364e-06, 'gamma': 5.3102875936008774e-08, 'min_child_weight': 3}. Best is trial 443 with value: 12659.137449852062.\u001b[0m\n",
      "\u001b[32m[I 2023-01-14 23:47:48,574]\u001b[0m Trial 568 finished with value: 15319.920810129966 and parameters: {'booster': 'gbtree', 'learning_rate': 0.08715774499818055, 'max_depth': 15, 'subsample': 0.5304528165074907, 'reg_alpha': 1.1740167020965608e-07, 'reg_lambda': 6.479045108303885e-06, 'gamma': 4.3047034621961264e-08, 'min_child_weight': 3}. Best is trial 443 with value: 12659.137449852062.\u001b[0m\n",
      "\u001b[32m[I 2023-01-14 23:47:48,759]\u001b[0m Trial 569 finished with value: 12803.952359236802 and parameters: {'booster': 'gbtree', 'learning_rate': 0.09987224390608186, 'max_depth': 15, 'subsample': 0.5059182763235588, 'reg_alpha': 8.257441885061661e-08, 'reg_lambda': 3.517312603275414e-06, 'gamma': 9.342378159741632e-08, 'min_child_weight': 3}. Best is trial 443 with value: 12659.137449852062.\u001b[0m\n",
      "\u001b[32m[I 2023-01-14 23:47:48,954]\u001b[0m Trial 570 finished with value: 31269.44617001195 and parameters: {'booster': 'gbtree', 'learning_rate': 0.04303132710096618, 'max_depth': 15, 'subsample': 0.5799951770897499, 'reg_alpha': 2.3021231844148306e-08, 'reg_lambda': 4.247602341242045e-06, 'gamma': 7.020559730545754e-08, 'min_child_weight': 3}. Best is trial 443 with value: 12659.137449852062.\u001b[0m\n",
      "\u001b[32m[I 2023-01-14 23:47:49,162]\u001b[0m Trial 571 finished with value: 17658.943372196103 and parameters: {'booster': 'gbtree', 'learning_rate': 0.07738253877249364, 'max_depth': 15, 'subsample': 0.6664994808668292, 'reg_alpha': 1.8396486288637251e-07, 'reg_lambda': 2.17089917421786e-06, 'gamma': 4.9712954399407615e-08, 'min_child_weight': 3}. Best is trial 443 with value: 12659.137449852062.\u001b[0m\n",
      "\u001b[32m[I 2023-01-14 23:47:49,355]\u001b[0m Trial 572 finished with value: 15284.89718351738 and parameters: {'booster': 'gbtree', 'learning_rate': 0.08732428398916511, 'max_depth': 15, 'subsample': 0.6102071437899552, 'reg_alpha': 1.0856680521194313e-07, 'reg_lambda': 2.209042805699759e-06, 'gamma': 8.094947998558248e-08, 'min_child_weight': 3}. Best is trial 443 with value: 12659.137449852062.\u001b[0m\n",
      "\u001b[32m[I 2023-01-14 23:47:49,555]\u001b[0m Trial 573 finished with value: 21621.154597558994 and parameters: {'booster': 'gbtree', 'learning_rate': 0.06455221835747738, 'max_depth': 15, 'subsample': 0.48258403154195273, 'reg_alpha': 9.409043235117254e-08, 'reg_lambda': 5.248259343168062e-06, 'gamma': 4.1458007100062145e-08, 'min_child_weight': 2}. Best is trial 443 with value: 12659.137449852062.\u001b[0m\n",
      "\u001b[32m[I 2023-01-14 23:47:49,750]\u001b[0m Trial 574 finished with value: 49762.76112088339 and parameters: {'booster': 'gbtree', 'learning_rate': 0.017087495247188077, 'max_depth': 15, 'subsample': 0.6753186816879732, 'reg_alpha': 2.434165355391894e-07, 'reg_lambda': 2.855217839338802e-06, 'gamma': 5.809269833445378e-08, 'min_child_weight': 3}. Best is trial 443 with value: 12659.137449852062.\u001b[0m\n",
      "\u001b[32m[I 2023-01-14 23:47:49,835]\u001b[0m Trial 575 finished with value: 18105.241595003467 and parameters: {'booster': 'gbtree', 'learning_rate': 0.09994565341412386, 'max_depth': 15, 'subsample': 0.012420537861249947, 'reg_alpha': 5.873388314279156e-08, 'reg_lambda': 7.831049497088579e-06, 'gamma': 1.0359879889354845e-07, 'min_child_weight': 3}. Best is trial 443 with value: 12659.137449852062.\u001b[0m\n",
      "\u001b[32m[I 2023-01-14 23:47:50,020]\u001b[0m Trial 576 finished with value: 17269.723295105792 and parameters: {'booster': 'gbtree', 'learning_rate': 0.07869204784358544, 'max_depth': 15, 'subsample': 0.5663892786782678, 'reg_alpha': 1.076149986607114e-07, 'reg_lambda': 3.6533485889709025e-06, 'gamma': 7.504953670376835e-08, 'min_child_weight': 3}. Best is trial 443 with value: 12659.137449852062.\u001b[0m\n",
      "\u001b[32m[I 2023-01-14 23:47:50,240]\u001b[0m Trial 577 finished with value: 14952.27263251777 and parameters: {'booster': 'gbtree', 'learning_rate': 0.08838158746529061, 'max_depth': 15, 'subsample': 0.6942540020638217, 'reg_alpha': 8.520415028307176e-08, 'reg_lambda': 2.076083758322463e-06, 'gamma': 4.3798259067751915e-08, 'min_child_weight': 3}. Best is trial 443 with value: 12659.137449852062.\u001b[0m\n",
      "\u001b[32m[I 2023-01-14 23:47:50,441]\u001b[0m Trial 578 finished with value: 12743.247856180897 and parameters: {'booster': 'gbtree', 'learning_rate': 0.09992716233693763, 'max_depth': 15, 'subsample': 0.6437649870614218, 'reg_alpha': 6.054460524453988e-08, 'reg_lambda': 5.755638942689691e-06, 'gamma': 1.1838834105706401e-07, 'min_child_weight': 3}. Best is trial 443 with value: 12659.137449852062.\u001b[0m\n",
      "\u001b[32m[I 2023-01-14 23:47:50,641]\u001b[0m Trial 579 finished with value: 19528.905373660917 and parameters: {'booster': 'gbtree', 'learning_rate': 0.07098039408151124, 'max_depth': 15, 'subsample': 0.6923425059534515, 'reg_alpha': 3.408229573619491e-08, 'reg_lambda': 6.549445850982824e-06, 'gamma': 6.129333003245731e-08, 'min_child_weight': 3}. Best is trial 443 with value: 12659.137449852062.\u001b[0m\n",
      "\u001b[32m[I 2023-01-14 23:47:50,871]\u001b[0m Trial 580 finished with value: 12840.206662897708 and parameters: {'booster': 'gbtree', 'learning_rate': 0.09999922265532413, 'max_depth': 15, 'subsample': 0.6249951639459653, 'reg_alpha': 6.063723009317205e-08, 'reg_lambda': 4.773005476084007e-06, 'gamma': 3.569127935825771e-08, 'min_child_weight': 2}. Best is trial 443 with value: 12659.137449852062.\u001b[0m\n",
      "\u001b[32m[I 2023-01-14 23:47:51,064]\u001b[0m Trial 581 finished with value: 16867.109586563525 and parameters: {'booster': 'gbtree', 'learning_rate': 0.0802284111851474, 'max_depth': 15, 'subsample': 0.6997379158241904, 'reg_alpha': 4.1630384362581095e-08, 'reg_lambda': 6.161951780829076e-06, 'gamma': 1.2817888025899908e-07, 'min_child_weight': 3}. Best is trial 443 with value: 12659.137449852062.\u001b[0m\n",
      "\u001b[32m[I 2023-01-14 23:47:51,269]\u001b[0m Trial 582 finished with value: 15414.918967997832 and parameters: {'booster': 'gbtree', 'learning_rate': 0.0862240940805894, 'max_depth': 15, 'subsample': 0.6439146654985963, 'reg_alpha': 6.396553251635405e-08, 'reg_lambda': 2.696248251667489e-06, 'gamma': 7.500839580145571e-08, 'min_child_weight': 3}. Best is trial 443 with value: 12659.137449852062.\u001b[0m\n",
      "\u001b[32m[I 2023-01-14 23:47:51,476]\u001b[0m Trial 583 finished with value: 15048.469893550457 and parameters: {'booster': 'gbtree', 'learning_rate': 0.08800203379319164, 'max_depth': 15, 'subsample': 0.7356188934124752, 'reg_alpha': 1.7145573145362667e-07, 'reg_lambda': 8.001563799569153e-06, 'gamma': 5.823500151870239e-08, 'min_child_weight': 3}. Best is trial 443 with value: 12659.137449852062.\u001b[0m\n",
      "\u001b[32m[I 2023-01-14 23:47:51,682]\u001b[0m Trial 584 finished with value: 19651.30868114217 and parameters: {'booster': 'gbtree', 'learning_rate': 0.07084996176946269, 'max_depth': 15, 'subsample': 0.5546968374125504, 'reg_alpha': 7.288975514288528e-08, 'reg_lambda': 3.1835402960270277e-06, 'gamma': 3.777500949015442e-08, 'min_child_weight': 3}. Best is trial 443 with value: 12659.137449852062.\u001b[0m\n",
      "\u001b[32m[I 2023-01-14 23:47:52,034]\u001b[0m Trial 585 finished with value: 15070.924835839729 and parameters: {'booster': 'gbtree', 'learning_rate': 0.08798754211007992, 'max_depth': 15, 'subsample': 0.6573939887000335, 'reg_alpha': 1.4459847537092896e-08, 'reg_lambda': 4.4634753039272855e-06, 'gamma': 1.0447239627449878e-07, 'min_child_weight': 1}. Best is trial 443 with value: 12659.137449852062.\u001b[0m\n",
      "\u001b[32m[I 2023-01-14 23:47:52,166]\u001b[0m Trial 586 finished with value: 23996.7480606019 and parameters: {'booster': 'gbtree', 'learning_rate': 0.05990838113118409, 'max_depth': 15, 'subsample': 0.14939431075771856, 'reg_alpha': 1.0838767402940231e-07, 'reg_lambda': 1.241233948334283e-05, 'gamma': 1.0123849193016164e-06, 'min_child_weight': 3}. Best is trial 443 with value: 12659.137449852062.\u001b[0m\n",
      "\u001b[32m[I 2023-01-14 23:47:52,409]\u001b[0m Trial 587 finished with value: 17370.92048120031 and parameters: {'booster': 'gbtree', 'learning_rate': 0.07782927414367993, 'max_depth': 15, 'subsample': 0.7256865004128074, 'reg_alpha': 4.077541460642808e-08, 'reg_lambda': 5.297551501483651e-06, 'gamma': 5.431891315387332e-06, 'min_child_weight': 2}. Best is trial 443 with value: 12659.137449852062.\u001b[0m\n",
      "\u001b[32m[I 2023-01-14 23:47:52,616]\u001b[0m Trial 588 finished with value: 14905.332110523508 and parameters: {'booster': 'gbtree', 'learning_rate': 0.08919993375452155, 'max_depth': 15, 'subsample': 0.6030299595724332, 'reg_alpha': 1.6360773282926932e-07, 'reg_lambda': 2.1841051936754144e-06, 'gamma': 4.818528939642264e-08, 'min_child_weight': 3}. Best is trial 443 with value: 12659.137449852062.\u001b[0m\n",
      "\u001b[32m[I 2023-01-14 23:47:52,818]\u001b[0m Trial 589 finished with value: 12756.042613692203 and parameters: {'booster': 'gbtree', 'learning_rate': 0.09987052950181395, 'max_depth': 15, 'subsample': 0.7255192893276556, 'reg_alpha': 6.486261010330544e-08, 'reg_lambda': 3.738628817655929e-06, 'gamma': 7.909493294041822e-08, 'min_child_weight': 3}. Best is trial 443 with value: 12659.137449852062.\u001b[0m\n",
      "\u001b[32m[I 2023-01-14 23:47:52,882]\u001b[0m Trial 590 finished with value: 27090.083258134946 and parameters: {'booster': 'gblinear', 'learning_rate': 0.0999132285554627, 'max_depth': 15, 'subsample': 0.660971076835727, 'reg_alpha': 5.732132226215953e-08, 'reg_lambda': 8.66887684664492e-06, 'gamma': 1.4083391299563008e-07, 'min_child_weight': 3}. Best is trial 443 with value: 12659.137449852062.\u001b[0m\n",
      "\u001b[32m[I 2023-01-14 23:47:53,094]\u001b[0m Trial 591 finished with value: 46214.48992562885 and parameters: {'booster': 'gbtree', 'learning_rate': 0.02110867998608526, 'max_depth': 15, 'subsample': 0.7422889223390795, 'reg_alpha': 7.995359663112186e-08, 'reg_lambda': 6.089083980781291e-06, 'gamma': 3.420492693004911e-08, 'min_child_weight': 3}. Best is trial 443 with value: 12659.137449852062.\u001b[0m\n",
      "\u001b[32m[I 2023-01-14 23:47:53,287]\u001b[0m Trial 592 finished with value: 67348.08296499783 and parameters: {'booster': 'gbtree', 'learning_rate': 0.0006614789622695925, 'max_depth': 15, 'subsample': 0.5944651726097131, 'reg_alpha': 8.984702931269075e-08, 'reg_lambda': 3.8044901563571125e-06, 'gamma': 1.019802363249265e-07, 'min_child_weight': 3}. Best is trial 443 with value: 12659.137449852062.\u001b[0m\n",
      "\u001b[32m[I 2023-01-14 23:47:53,401]\u001b[0m Trial 593 finished with value: 18846.503647415775 and parameters: {'booster': 'gbtree', 'learning_rate': 0.07740300514936939, 'max_depth': 15, 'subsample': 0.06454733954846953, 'reg_alpha': 1.281121741543316e-07, 'reg_lambda': 1.7549556788978825e-06, 'gamma': 5.686302163384009e-08, 'min_child_weight': 3}. Best is trial 443 with value: 12659.137449852062.\u001b[0m\n",
      "\u001b[32m[I 2023-01-14 23:47:53,596]\u001b[0m Trial 594 finished with value: 12780.758388525801 and parameters: {'booster': 'gbtree', 'learning_rate': 0.09988461345385305, 'max_depth': 15, 'subsample': 0.6692095893022264, 'reg_alpha': 2.669758414343947e-08, 'reg_lambda': 4.14871103194869e-06, 'gamma': 3.645352864448787e-08, 'min_child_weight': 3}. Best is trial 443 with value: 12659.137449852062.\u001b[0m\n",
      "\u001b[32m[I 2023-01-14 23:47:53,782]\u001b[0m Trial 595 finished with value: 15503.884111973555 and parameters: {'booster': 'gbtree', 'learning_rate': 0.08659640274177884, 'max_depth': 15, 'subsample': 0.512758740502861, 'reg_alpha': 1.0946922270761283e-08, 'reg_lambda': 4.746433445181295e-06, 'gamma': 3.7521729116846924e-08, 'min_child_weight': 3}. Best is trial 443 with value: 12659.137449852062.\u001b[0m\n",
      "\u001b[32m[I 2023-01-14 23:47:53,990]\u001b[0m Trial 596 finished with value: 19254.355796183718 and parameters: {'booster': 'gbtree', 'learning_rate': 0.07196055735896306, 'max_depth': 15, 'subsample': 0.564235113177098, 'reg_alpha': 4.846228997921737e-08, 'reg_lambda': 6.569141829111251e-06, 'gamma': 5.0832176195980056e-08, 'min_child_weight': 3}. Best is trial 443 with value: 12659.137449852062.\u001b[0m\n",
      "\u001b[32m[I 2023-01-14 23:47:54,184]\u001b[0m Trial 597 finished with value: 15332.213784991884 and parameters: {'booster': 'gbtree', 'learning_rate': 0.08671294368308788, 'max_depth': 15, 'subsample': 0.6418180767526832, 'reg_alpha': 3.317955028000005e-08, 'reg_lambda': 3.381510092602217e-06, 'gamma': 7.883560074332928e-08, 'min_child_weight': 3}. Best is trial 443 with value: 12659.137449852062.\u001b[0m\n",
      "\u001b[32m[I 2023-01-14 23:47:54,367]\u001b[0m Trial 598 finished with value: 22270.49951352217 and parameters: {'booster': 'gbtree', 'learning_rate': 0.0634154176029939, 'max_depth': 15, 'subsample': 0.4635374959841403, 'reg_alpha': 8.740690380332847e-08, 'reg_lambda': 9.973945973029396e-06, 'gamma': 4.261676563805531e-08, 'min_child_weight': 3}. Best is trial 443 with value: 12659.137449852062.\u001b[0m\n",
      "\u001b[32m[I 2023-01-14 23:47:54,568]\u001b[0m Trial 599 finished with value: 12729.243706391895 and parameters: {'booster': 'gbtree', 'learning_rate': 0.09975771668687118, 'max_depth': 15, 'subsample': 0.6586612708864977, 'reg_alpha': 2.925668957445319e-08, 'reg_lambda': 3.018884278451488e-06, 'gamma': 6.783271343612877e-08, 'min_child_weight': 3}. Best is trial 443 with value: 12659.137449852062.\u001b[0m\n",
      "\u001b[32m[I 2023-01-14 23:47:54,753]\u001b[0m Trial 600 finished with value: 17538.69919674327 and parameters: {'booster': 'gbtree', 'learning_rate': 0.07783141039282496, 'max_depth': 15, 'subsample': 0.5957275865685581, 'reg_alpha': 2.624505324128915e-08, 'reg_lambda': 2.872000853011751e-06, 'gamma': 3.4029461371343954e-08, 'min_child_weight': 3}. Best is trial 443 with value: 12659.137449852062.\u001b[0m\n",
      "\u001b[32m[I 2023-01-14 23:47:54,953]\u001b[0m Trial 601 finished with value: 12822.479079974508 and parameters: {'booster': 'gbtree', 'learning_rate': 0.09993402436675997, 'max_depth': 15, 'subsample': 0.5434411639318092, 'reg_alpha': 1.722894096789451e-08, 'reg_lambda': 4.512877610642826e-06, 'gamma': 1.1887845165828653e-07, 'min_child_weight': 3}. Best is trial 443 with value: 12659.137449852062.\u001b[0m\n",
      "\u001b[32m[I 2023-01-14 23:47:55,165]\u001b[0m Trial 602 finished with value: 15060.649933560673 and parameters: {'booster': 'gbtree', 'learning_rate': 0.0881170799589421, 'max_depth': 15, 'subsample': 0.6758008746898486, 'reg_alpha': 1.7152731783406005e-08, 'reg_lambda': 2.514090023599885e-06, 'gamma': 5.732169369944076e-08, 'min_child_weight': 3}. Best is trial 443 with value: 12659.137449852062.\u001b[0m\n",
      "\u001b[32m[I 2023-01-14 23:47:55,364]\u001b[0m Trial 603 finished with value: 17232.46268404637 and parameters: {'booster': 'gbtree', 'learning_rate': 0.07919744509130967, 'max_depth': 15, 'subsample': 0.633773768370967, 'reg_alpha': 4.0571740985118545e-08, 'reg_lambda': 7.478695372001999e-06, 'gamma': 1.7258533356554764e-07, 'min_child_weight': 3}. Best is trial 443 with value: 12659.137449852062.\u001b[0m\n",
      "\u001b[32m[I 2023-01-14 23:47:55,560]\u001b[0m Trial 604 finished with value: 14731.306605808926 and parameters: {'booster': 'gbtree', 'learning_rate': 0.08926008900363884, 'max_depth': 15, 'subsample': 0.5813931002304895, 'reg_alpha': 5.0918064270606467e-08, 'reg_lambda': 4.9249129411955175e-06, 'gamma': 8.203313112982781e-08, 'min_child_weight': 3}. Best is trial 443 with value: 12659.137449852062.\u001b[0m\n",
      "\u001b[32m[I 2023-01-14 23:47:55,750]\u001b[0m Trial 605 finished with value: 19603.94425577046 and parameters: {'booster': 'gbtree', 'learning_rate': 0.07061569123421925, 'max_depth': 15, 'subsample': 0.6695806756514812, 'reg_alpha': 3.162454015430313e-08, 'reg_lambda': 2.086622492777081e-06, 'gamma': 3.012713620249943e-08, 'min_child_weight': 3}. Best is trial 443 with value: 12659.137449852062.\u001b[0m\n",
      "\u001b[32m[I 2023-01-14 23:47:55,948]\u001b[0m Trial 606 finished with value: 14719.53204047712 and parameters: {'booster': 'gbtree', 'learning_rate': 0.08974690714086268, 'max_depth': 15, 'subsample': 0.6856578872021264, 'reg_alpha': 2.71402125630616e-08, 'reg_lambda': 3.5382637171551642e-06, 'gamma': 5.185996940269836e-08, 'min_child_weight': 3}. Best is trial 443 with value: 12659.137449852062.\u001b[0m\n",
      "\u001b[32m[I 2023-01-14 23:47:56,142]\u001b[0m Trial 607 finished with value: 17234.03418859362 and parameters: {'booster': 'gbtree', 'learning_rate': 0.07936782680519269, 'max_depth': 15, 'subsample': 0.5314148443168384, 'reg_alpha': 6.036928651193252e-08, 'reg_lambda': 3.1239609362881587e-06, 'gamma': 1.1870603919557075e-07, 'min_child_weight': 3}. Best is trial 443 with value: 12659.137449852062.\u001b[0m\n",
      "\u001b[32m[I 2023-01-14 23:47:56,338]\u001b[0m Trial 608 finished with value: 14886.331806320575 and parameters: {'booster': 'gbtree', 'learning_rate': 0.08883141247526513, 'max_depth': 15, 'subsample': 0.634113173204876, 'reg_alpha': 2.0679105379459613e-08, 'reg_lambda': 2.053119724410866e-06, 'gamma': 7.385948602363328e-08, 'min_child_weight': 3}. Best is trial 443 with value: 12659.137449852062.\u001b[0m\n",
      "\u001b[32m[I 2023-01-14 23:47:56,436]\u001b[0m Trial 609 finished with value: 14917.882205947419 and parameters: {'booster': 'gbtree', 'learning_rate': 0.09962221180217387, 'max_depth': 7, 'subsample': 0.5885868321298999, 'reg_alpha': 3.216264136885251e-08, 'reg_lambda': 1.4635312052802328e-05, 'gamma': 3.5026002974795254e-08, 'min_child_weight': 3}. Best is trial 443 with value: 12659.137449852062.\u001b[0m\n",
      "\u001b[32m[I 2023-01-14 23:47:56,616]\u001b[0m Trial 610 finished with value: 22633.925830072796 and parameters: {'booster': 'gbtree', 'learning_rate': 0.062287321307882934, 'max_depth': 15, 'subsample': 0.4158641149557923, 'reg_alpha': 5.957573876560388e-08, 'reg_lambda': 6.918332649808989e-06, 'gamma': 5.407099917029508e-08, 'min_child_weight': 3}. Best is trial 443 with value: 12659.137449852062.\u001b[0m\n",
      "\u001b[32m[I 2023-01-14 23:47:56,821]\u001b[0m Trial 611 finished with value: 26290.369402230688 and parameters: {'booster': 'gbtree', 'learning_rate': 0.05281253857039853, 'max_depth': 15, 'subsample': 0.7331137563802071, 'reg_alpha': 3.7072904238115275e-08, 'reg_lambda': 4.568811626882568e-06, 'gamma': 8.634483647284927e-08, 'min_child_weight': 3}. Best is trial 443 with value: 12659.137449852062.\u001b[0m\n",
      "\u001b[32m[I 2023-01-14 23:47:57,018]\u001b[0m Trial 612 finished with value: 12691.873490834003 and parameters: {'booster': 'gbtree', 'learning_rate': 0.09989266135850189, 'max_depth': 15, 'subsample': 0.6968707936876634, 'reg_alpha': 2.3446206979937892e-08, 'reg_lambda': 2.426202277649364e-06, 'gamma': 1.5189951238357597e-07, 'min_child_weight': 3}. Best is trial 443 with value: 12659.137449852062.\u001b[0m\n",
      "\u001b[32m[I 2023-01-14 23:47:57,212]\u001b[0m Trial 613 finished with value: 19269.827757990723 and parameters: {'booster': 'gbtree', 'learning_rate': 0.07218209784945881, 'max_depth': 15, 'subsample': 0.5046396499179036, 'reg_alpha': 4.248942981585576e-08, 'reg_lambda': 2.4112787075208813e-06, 'gamma': 2.2149643977439115e-07, 'min_child_weight': 3}. Best is trial 443 with value: 12659.137449852062.\u001b[0m\n",
      "\u001b[32m[I 2023-01-14 23:47:57,407]\u001b[0m Trial 614 finished with value: 16676.669412166153 and parameters: {'booster': 'gbtree', 'learning_rate': 0.08127527300211299, 'max_depth': 15, 'subsample': 0.6270799340401696, 'reg_alpha': 2.0944623052561007e-08, 'reg_lambda': 3.504495835896921e-06, 'gamma': 1.6498266692559175e-07, 'min_child_weight': 3}. Best is trial 443 with value: 12659.137449852062.\u001b[0m\n",
      "\u001b[32m[I 2023-01-14 23:47:57,600]\u001b[0m Trial 615 finished with value: 63318.43022121478 and parameters: {'booster': 'gbtree', 'learning_rate': 0.003990077383763606, 'max_depth': 15, 'subsample': 0.6704699685772249, 'reg_alpha': 1.2327802133518953e-08, 'reg_lambda': 1.7671153452101727e-06, 'gamma': 2.304837914758272e-07, 'min_child_weight': 3}. Best is trial 443 with value: 12659.137449852062.\u001b[0m\n",
      "\u001b[32m[I 2023-01-14 23:47:57,791]\u001b[0m Trial 616 finished with value: 15149.205344752907 and parameters: {'booster': 'gbtree', 'learning_rate': 0.08757947405988832, 'max_depth': 15, 'subsample': 0.5735738911545151, 'reg_alpha': 2.4593092527954326e-08, 'reg_lambda': 2.65845443888008e-06, 'gamma': 1.3925344504894165e-07, 'min_child_weight': 3}. Best is trial 443 with value: 12659.137449852062.\u001b[0m\n",
      "\u001b[32m[I 2023-01-14 23:47:57,858]\u001b[0m Trial 617 finished with value: 27154.23258775912 and parameters: {'booster': 'gblinear', 'learning_rate': 0.09934066562272566, 'max_depth': 15, 'subsample': 0.6994547464150148, 'reg_alpha': 1.3902927022698134e-08, 'reg_lambda': 5.598491903841923e-06, 'gamma': 1.1589723242610398e-07, 'min_child_weight': 3}. Best is trial 443 with value: 12659.137449852062.\u001b[0m\n",
      "\u001b[32m[I 2023-01-14 23:47:58,061]\u001b[0m Trial 618 finished with value: 12838.049224925173 and parameters: {'booster': 'gbtree', 'learning_rate': 0.09960653938044968, 'max_depth': 15, 'subsample': 0.615682316226151, 'reg_alpha': 2.3252249216907786e-08, 'reg_lambda': 1.6415049717043935e-06, 'gamma': 1.0191027450869125e-07, 'min_child_weight': 3}. Best is trial 443 with value: 12659.137449852062.\u001b[0m\n",
      "\u001b[32m[I 2023-01-14 23:47:58,253]\u001b[0m Trial 619 finished with value: 17444.69652139636 and parameters: {'booster': 'gbtree', 'learning_rate': 0.07807586526948768, 'max_depth': 14, 'subsample': 0.7392459646232328, 'reg_alpha': 1.6873350651589337e-08, 'reg_lambda': 3.9622158800142945e-06, 'gamma': 2.5838790011565084e-07, 'min_child_weight': 3}. Best is trial 443 with value: 12659.137449852062.\u001b[0m\n",
      "\u001b[32m[I 2023-01-14 23:47:58,448]\u001b[0m Trial 620 finished with value: 19924.653937066232 and parameters: {'booster': 'gbtree', 'learning_rate': 0.07018171599895953, 'max_depth': 15, 'subsample': 0.5444198282751206, 'reg_alpha': 6.623272225450344e-08, 'reg_lambda': 9.343460729392861e-06, 'gamma': 7.542605096665131e-08, 'min_child_weight': 3}. Best is trial 443 with value: 12659.137449852062.\u001b[0m\n",
      "\u001b[32m[I 2023-01-14 23:47:58,642]\u001b[0m Trial 621 finished with value: 15410.430574775253 and parameters: {'booster': 'gbtree', 'learning_rate': 0.08622307454648862, 'max_depth': 15, 'subsample': 0.660461813232269, 'reg_alpha': 4.440746576348823e-08, 'reg_lambda': 2.536257687428656e-06, 'gamma': 2.814628028720012e-08, 'min_child_weight': 3}. Best is trial 443 with value: 12659.137449852062.\u001b[0m\n",
      "\u001b[32m[I 2023-01-14 23:47:58,873]\u001b[0m Trial 622 finished with value: 14834.027310620311 and parameters: {'booster': 'gbtree', 'learning_rate': 0.08892486726372562, 'max_depth': 15, 'subsample': 0.7390101676153757, 'reg_alpha': 1.4425278378742816e-07, 'reg_lambda': 1.8738150340472194e-06, 'gamma': 1.5497888382384664e-07, 'min_child_weight': 3}. Best is trial 443 with value: 12659.137449852062.\u001b[0m\n",
      "\u001b[32m[I 2023-01-14 23:47:59,053]\u001b[0m Trial 623 finished with value: 17164.589033972978 and parameters: {'booster': 'gbtree', 'learning_rate': 0.07931432488453319, 'max_depth': 15, 'subsample': 0.46455949343567954, 'reg_alpha': 3.234518780744172e-08, 'reg_lambda': 3.53912619549933e-06, 'gamma': 3.258142307116471e-07, 'min_child_weight': 3}. Best is trial 443 with value: 12659.137449852062.\u001b[0m\n",
      "\u001b[32m[I 2023-01-14 23:47:59,186]\u001b[0m Trial 624 finished with value: 15672.39421620163 and parameters: {'booster': 'gbtree', 'learning_rate': 0.08750354299393052, 'max_depth': 15, 'subsample': 0.18265225291280288, 'reg_alpha': 1.0062442895981268e-07, 'reg_lambda': 5.736401931316769e-06, 'gamma': 4.26447663232465e-08, 'min_child_weight': 3}. Best is trial 443 with value: 12659.137449852062.\u001b[0m\n",
      "\u001b[32m[I 2023-01-14 23:47:59,380]\u001b[0m Trial 625 finished with value: 20876.400160878013 and parameters: {'booster': 'gbtree', 'learning_rate': 0.06707479072467291, 'max_depth': 15, 'subsample': 0.6096260752051529, 'reg_alpha': 5.891424407296103e-08, 'reg_lambda': 0.0005613457754983387, 'gamma': 1.749047709352883e-07, 'min_child_weight': 3}. Best is trial 443 with value: 12659.137449852062.\u001b[0m\n",
      "\u001b[32m[I 2023-01-14 23:47:59,581]\u001b[0m Trial 626 finished with value: 14812.335604418417 and parameters: {'booster': 'gbtree', 'learning_rate': 0.08917672404008348, 'max_depth': 15, 'subsample': 0.6762435293846806, 'reg_alpha': 3.085470187315811e-07, 'reg_lambda': 1.4672136144247698e-06, 'gamma': 8.530264794353538e-08, 'min_child_weight': 3}. Best is trial 443 with value: 12659.137449852062.\u001b[0m\n",
      "\u001b[32m[I 2023-01-14 23:47:59,685]\u001b[0m Trial 627 finished with value: 62114.287879388976 and parameters: {'booster': 'gbtree', 'learning_rate': 0.005447899699393852, 'max_depth': 14, 'subsample': 0.022634467711261496, 'reg_alpha': 7.678857928863587e-08, 'reg_lambda': 2.824284205937466e-06, 'gamma': 1.2090378438592117e-07, 'min_child_weight': 3}. Best is trial 443 with value: 12659.137449852062.\u001b[0m\n",
      "\u001b[32m[I 2023-01-14 23:47:59,890]\u001b[0m Trial 628 finished with value: 12878.059887294405 and parameters: {'booster': 'gbtree', 'learning_rate': 0.0994607203667735, 'max_depth': 15, 'subsample': 0.7598183735823313, 'reg_alpha': 1.080054669472461e-06, 'reg_lambda': 4.542433397502969e-06, 'gamma': 6.100162542896481e-08, 'min_child_weight': 3}. Best is trial 443 with value: 12659.137449852062.\u001b[0m\n",
      "\u001b[32m[I 2023-01-14 23:48:00,086]\u001b[0m Trial 629 finished with value: 17852.73420533689 and parameters: {'booster': 'gbtree', 'learning_rate': 0.07716507125117952, 'max_depth': 15, 'subsample': 0.5602659967833025, 'reg_alpha': 1.7582783560146775e-08, 'reg_lambda': 2.1665190354187376e-06, 'gamma': 3.0397418652001777e-08, 'min_child_weight': 3}. Best is trial 443 with value: 12659.137449852062.\u001b[0m\n",
      "\u001b[32m[I 2023-01-14 23:48:00,291]\u001b[0m Trial 630 finished with value: 12721.622496857395 and parameters: {'booster': 'gbtree', 'learning_rate': 0.09989002969429427, 'max_depth': 15, 'subsample': 0.6994896897166089, 'reg_alpha': 1.7225235583244033e-07, 'reg_lambda': 9.441646139278084e-06, 'gamma': 4.230618228252075e-08, 'min_child_weight': 3}. Best is trial 443 with value: 12659.137449852062.\u001b[0m\n",
      "\u001b[32m[I 2023-01-14 23:48:00,497]\u001b[0m Trial 631 finished with value: 16988.698682385057 and parameters: {'booster': 'gbtree', 'learning_rate': 0.07995223900916543, 'max_depth': 15, 'subsample': 0.693459116002847, 'reg_alpha': 1.7758506003990734e-07, 'reg_lambda': 1.319036045354473e-05, 'gamma': 2.296633348426565e-08, 'min_child_weight': 3}. Best is trial 443 with value: 12659.137449852062.\u001b[0m\n",
      "\u001b[32m[I 2023-01-14 23:48:00,707]\u001b[0m Trial 632 finished with value: 14821.724869345277 and parameters: {'booster': 'gbtree', 'learning_rate': 0.08887492757513918, 'max_depth': 15, 'subsample': 0.7604148410277368, 'reg_alpha': 1.1769533445599958e-07, 'reg_lambda': 6.080343370050256e-06, 'gamma': 4.153797838071371e-08, 'min_child_weight': 3}. Best is trial 443 with value: 12659.137449852062.\u001b[0m\n",
      "\u001b[32m[I 2023-01-14 23:48:00,905]\u001b[0m Trial 633 finished with value: 21595.60758118044 and parameters: {'booster': 'gbtree', 'learning_rate': 0.06472470766060555, 'max_depth': 15, 'subsample': 0.646062361338566, 'reg_alpha': 2.85925145685493e-07, 'reg_lambda': 3.304611132384619e-06, 'gamma': 2.590696501711354e-08, 'min_child_weight': 3}. Best is trial 443 with value: 12659.137449852062.\u001b[0m\n",
      "\u001b[32m[I 2023-01-14 23:48:01,098]\u001b[0m Trial 634 finished with value: 52361.75257820769 and parameters: {'booster': 'gbtree', 'learning_rate': 0.014326801417888863, 'max_depth': 14, 'subsample': 0.701939466244877, 'reg_alpha': 6.297078012022451e-07, 'reg_lambda': 1.4669208076504824e-06, 'gamma': 3.9444199581141655e-08, 'min_child_weight': 3}. Best is trial 443 with value: 12659.137449852062.\u001b[0m\n",
      "\u001b[32m[I 2023-01-14 23:48:01,299]\u001b[0m Trial 635 finished with value: 18974.306913409044 and parameters: {'booster': 'gbtree', 'learning_rate': 0.0729689163271278, 'max_depth': 15, 'subsample': 0.7668783960533126, 'reg_alpha': 1.988905911711488e-07, 'reg_lambda': 3.806010853134025e-06, 'gamma': 5.4562977296628304e-08, 'min_child_weight': 3}. Best is trial 443 with value: 12659.137449852062.\u001b[0m\n",
      "\u001b[32m[I 2023-01-14 23:48:01,507]\u001b[0m Trial 636 finished with value: 15004.430145708746 and parameters: {'booster': 'gbtree', 'learning_rate': 0.08871241682375698, 'max_depth': 15, 'subsample': 0.6234333041203151, 'reg_alpha': 1.0914572670651482e-07, 'reg_lambda': 2.0163818630475514e-06, 'gamma': 3.1872468722672324e-08, 'min_child_weight': 3}. Best is trial 443 with value: 12659.137449852062.\u001b[0m\n",
      "\u001b[32m[I 2023-01-14 23:48:01,712]\u001b[0m Trial 637 finished with value: 15121.520293677486 and parameters: {'booster': 'gbtree', 'learning_rate': 0.08798780101620454, 'max_depth': 15, 'subsample': 0.6862222323119737, 'reg_alpha': 4.1469771946305516e-08, 'reg_lambda': 8.91003792683519e-06, 'gamma': 2.2598014348417546e-08, 'min_child_weight': 3}. Best is trial 443 with value: 12659.137449852062.\u001b[0m\n",
      "\u001b[32m[I 2023-01-14 23:48:01,932]\u001b[0m Trial 638 finished with value: 17742.914484125824 and parameters: {'booster': 'gbtree', 'learning_rate': 0.07747365596734689, 'max_depth': 15, 'subsample': 0.750843705755871, 'reg_alpha': 1.8282064509608562e-07, 'reg_lambda': 4.893493463198003e-06, 'gamma': 4.751252637552991e-08, 'min_child_weight': 3}. Best is trial 443 with value: 12659.137449852062.\u001b[0m\n",
      "\u001b[32m[I 2023-01-14 23:48:02,129]\u001b[0m Trial 639 finished with value: 13026.680259370294 and parameters: {'booster': 'gbtree', 'learning_rate': 0.0988937014867719, 'max_depth': 15, 'subsample': 0.6094317451272218, 'reg_alpha': 0.00023578943852875799, 'reg_lambda': 2.627675186414342e-06, 'gamma': 7.117703671009632e-08, 'min_child_weight': 3}. Best is trial 443 with value: 12659.137449852062.\u001b[0m\n",
      "\u001b[32m[I 2023-01-14 23:48:02,343]\u001b[0m Trial 640 finished with value: 68051.17528065146 and parameters: {'booster': 'gbtree', 'learning_rate': 0.00010085105041870816, 'max_depth': 15, 'subsample': 0.786753583909224, 'reg_alpha': 9.269312258068912e-08, 'reg_lambda': 6.826685663985404e-06, 'gamma': 2.0034863989312657e-06, 'min_child_weight': 3}. Best is trial 443 with value: 12659.137449852062.\u001b[0m\n",
      "\u001b[32m[I 2023-01-14 23:48:02,530]\u001b[0m Trial 641 finished with value: 23752.996479385598 and parameters: {'booster': 'gbtree', 'learning_rate': 0.059168333047992516, 'max_depth': 14, 'subsample': 0.6923865731637575, 'reg_alpha': 3.9068232978463074e-07, 'reg_lambda': 1.4100260366712493e-06, 'gamma': 3.723183520940017e-08, 'min_child_weight': 3}. Best is trial 443 with value: 12659.137449852062.\u001b[0m\n",
      "\u001b[32m[I 2023-01-14 23:48:02,730]\u001b[0m Trial 642 finished with value: 12962.697746517375 and parameters: {'booster': 'gbtree', 'learning_rate': 0.0989851139223864, 'max_depth': 15, 'subsample': 0.6300842647605113, 'reg_alpha': 1.3520035469280668e-07, 'reg_lambda': 1.8841325904244836e-05, 'gamma': 1.9616422949723116e-08, 'min_child_weight': 3}. Best is trial 443 with value: 12659.137449852062.\u001b[0m\n",
      "\u001b[32m[I 2023-01-14 23:48:02,926]\u001b[0m Trial 643 finished with value: 12658.644519053976 and parameters: {'booster': 'gbtree', 'learning_rate': 0.09984791075452347, 'max_depth': 15, 'subsample': 0.7233143572628361, 'reg_alpha': 2.811310098532195e-08, 'reg_lambda': 3.751983853204647e-06, 'gamma': 5.421418320235589e-08, 'min_child_weight': 3}. Best is trial 643 with value: 12658.644519053976.\u001b[0m\n",
      "\u001b[32m[I 2023-01-14 23:48:02,989]\u001b[0m Trial 644 finished with value: 29807.76768430599 and parameters: {'booster': 'gblinear', 'learning_rate': 0.08045868199360758, 'max_depth': 15, 'subsample': 0.7900155349787252, 'reg_alpha': 6.310938419117142e-08, 'reg_lambda': 2.3676979518023554e-06, 'gamma': 8.455031016617986e-08, 'min_child_weight': 3}. Best is trial 643 with value: 12658.644519053976.\u001b[0m\n",
      "\u001b[32m[I 2023-01-14 23:48:03,122]\u001b[0m Trial 645 finished with value: 13162.719730546898 and parameters: {'booster': 'gbtree', 'learning_rate': 0.09997035535433585, 'max_depth': 10, 'subsample': 0.7283562063377114, 'reg_alpha': 8.15254486149901e-07, 'reg_lambda': 1.201186897413222e-06, 'gamma': 6.392305624107864e-08, 'min_child_weight': 3}. Best is trial 643 with value: 12658.644519053976.\u001b[0m\n",
      "\u001b[32m[I 2023-01-14 23:48:03,333]\u001b[0m Trial 646 finished with value: 19501.3168546213 and parameters: {'booster': 'gbtree', 'learning_rate': 0.07112626251365897, 'max_depth': 15, 'subsample': 0.802843821848766, 'reg_alpha': 4.341073943682246e-08, 'reg_lambda': 1.7523717205608354e-06, 'gamma': 1.2383778006050875e-07, 'min_child_weight': 3}. Best is trial 643 with value: 12658.644519053976.\u001b[0m\n",
      "\u001b[32m[I 2023-01-14 23:48:03,529]\u001b[0m Trial 647 finished with value: 12645.370995169798 and parameters: {'booster': 'gbtree', 'learning_rate': 0.09986616613534406, 'max_depth': 15, 'subsample': 0.7162417007411497, 'reg_alpha': 2.684952999686149e-07, 'reg_lambda': 3.2602785886197124e-06, 'gamma': 5.3604883119526475e-08, 'min_child_weight': 3}. Best is trial 647 with value: 12645.370995169798.\u001b[0m\n",
      "\u001b[32m[I 2023-01-14 23:48:03,724]\u001b[0m Trial 648 finished with value: 15580.672793014983 and parameters: {'booster': 'gbtree', 'learning_rate': 0.08637211993003949, 'max_depth': 14, 'subsample': 0.5892440462892233, 'reg_alpha': 2.0387335457736034e-07, 'reg_lambda': 3.009420447373175e-06, 'gamma': 5.528996313629581e-08, 'min_child_weight': 3}. Best is trial 647 with value: 12645.370995169798.\u001b[0m\n",
      "\u001b[32m[I 2023-01-14 23:48:03,928]\u001b[0m Trial 649 finished with value: 16742.553665466083 and parameters: {'booster': 'gbtree', 'learning_rate': 0.08068876521951875, 'max_depth': 15, 'subsample': 0.701876108643894, 'reg_alpha': 2.6257813150539243e-07, 'reg_lambda': 5.1691138721111025e-06, 'gamma': 6.760442783441523e-08, 'min_child_weight': 3}. Best is trial 647 with value: 12645.370995169798.\u001b[0m\n",
      "\u001b[32m[I 2023-01-14 23:48:04,162]\u001b[0m Trial 650 finished with value: 14956.4627513311 and parameters: {'booster': 'gbtree', 'learning_rate': 0.08830780428808425, 'max_depth': 15, 'subsample': 0.6494964216892113, 'reg_alpha': 3.1761013517942033e-07, 'reg_lambda': 3.568466827882596e-06, 'gamma': 8.63354566740943e-08, 'min_child_weight': 2}. Best is trial 647 with value: 12645.370995169798.\u001b[0m\n",
      "\u001b[32m[I 2023-01-14 23:48:04,360]\u001b[0m Trial 651 finished with value: 19496.180005404232 and parameters: {'booster': 'gbtree', 'learning_rate': 0.07096509376433502, 'max_depth': 15, 'subsample': 0.7232684782095338, 'reg_alpha': 1.0023633994271048e-08, 'reg_lambda': 2.63079718125946e-06, 'gamma': 1.1183025652886483e-07, 'min_child_weight': 3}. Best is trial 647 with value: 12645.370995169798.\u001b[0m\n",
      "\u001b[32m[I 2023-01-14 23:48:04,476]\u001b[0m Trial 652 finished with value: 17443.339001579894 and parameters: {'booster': 'gbtree', 'learning_rate': 0.08631778265661834, 'max_depth': 15, 'subsample': 0.048030308378181466, 'reg_alpha': 5.023470822174237e-07, 'reg_lambda': 6.804374717859536e-06, 'gamma': 1.6782152255918756e-07, 'min_child_weight': 3}. Best is trial 647 with value: 12645.370995169798.\u001b[0m\n",
      "\u001b[32m[I 2023-01-14 23:48:04,665]\u001b[0m Trial 653 finished with value: 12874.943339564146 and parameters: {'booster': 'gbtree', 'learning_rate': 0.09919223521323739, 'max_depth': 15, 'subsample': 0.5724465660671201, 'reg_alpha': 1.5443075342785566e-07, 'reg_lambda': 4.201987139884757e-06, 'gamma': 4.897655288507757e-08, 'min_child_weight': 3}. Best is trial 647 with value: 12645.370995169798.\u001b[0m\n",
      "\u001b[32m[I 2023-01-14 23:48:04,816]\u001b[0m Trial 654 finished with value: 17974.635495038638 and parameters: {'booster': 'gbtree', 'learning_rate': 0.07746973775854754, 'max_depth': 15, 'subsample': 0.6424847955517804, 'reg_alpha': 2.878264050161892e-07, 'reg_lambda': 1.8984174410362216e-06, 'gamma': 6.839407930061607e-08, 'min_child_weight': 9}. Best is trial 647 with value: 12645.370995169798.\u001b[0m\n",
      "\u001b[32m[I 2023-01-14 23:48:05,051]\u001b[0m Trial 655 finished with value: 22401.819443754535 and parameters: {'booster': 'gbtree', 'learning_rate': 0.06256908776876711, 'max_depth': 15, 'subsample': 0.7188388661884193, 'reg_alpha': 1.492766679448166e-07, 'reg_lambda': 1.102212671272974e-05, 'gamma': 9.172621711563067e-08, 'min_child_weight': 2}. Best is trial 647 with value: 12645.370995169798.\u001b[0m\n",
      "\u001b[32m[I 2023-01-14 23:48:05,270]\u001b[0m Trial 656 finished with value: 27938.9603321052 and parameters: {'booster': 'gbtree', 'learning_rate': 0.04960113938612707, 'max_depth': 15, 'subsample': 0.7878972896877309, 'reg_alpha': 8.869262079257383e-08, 'reg_lambda': 3.026997849779972e-06, 'gamma': 4.8842781267129306e-08, 'min_child_weight': 3}. Best is trial 647 with value: 12645.370995169798.\u001b[0m\n",
      "\u001b[32m[I 2023-01-14 23:48:05,466]\u001b[0m Trial 657 finished with value: 12784.245923967484 and parameters: {'booster': 'gbtree', 'learning_rate': 0.09947191448191016, 'max_depth': 15, 'subsample': 0.6594895966359231, 'reg_alpha': 4.2452644971928e-07, 'reg_lambda': 5.256374521352626e-06, 'gamma': 1.7307460661800705e-07, 'min_child_weight': 3}. Best is trial 647 with value: 12645.370995169798.\u001b[0m\n",
      "\u001b[32m[I 2023-01-14 23:48:05,657]\u001b[0m Trial 658 finished with value: 15229.865108474734 and parameters: {'booster': 'gbtree', 'learning_rate': 0.08771195263917896, 'max_depth': 14, 'subsample': 0.5333182997056131, 'reg_alpha': 2.311587359566084e-07, 'reg_lambda': 2.0930547992030575e-06, 'gamma': 1.1375571571106162e-07, 'min_child_weight': 3}. Best is trial 647 with value: 12645.370995169798.\u001b[0m\n",
      "\u001b[32m[I 2023-01-14 23:48:05,853]\u001b[0m Trial 659 finished with value: 17463.048643365244 and parameters: {'booster': 'gbtree', 'learning_rate': 0.07822388784279694, 'max_depth': 15, 'subsample': 0.6005562884030947, 'reg_alpha': 5.546603709512892e-08, 'reg_lambda': 1.4021988585730864e-06, 'gamma': 6.943121964520175e-08, 'min_child_weight': 3}. Best is trial 647 with value: 12645.370995169798.\u001b[0m\n",
      "\u001b[32m[I 2023-01-14 23:48:05,952]\u001b[0m Trial 660 finished with value: 18094.153473326147 and parameters: {'booster': 'gbtree', 'learning_rate': 0.08855448102359902, 'max_depth': 6, 'subsample': 0.7170178303268244, 'reg_alpha': 3.6331879957991155e-08, 'reg_lambda': 3.1060343487910577e-06, 'gamma': 4.5900858023086276e-08, 'min_child_weight': 3}. Best is trial 647 with value: 12645.370995169798.\u001b[0m\n",
      "\u001b[32m[I 2023-01-14 23:48:06,115]\u001b[0m Trial 661 finished with value: 12961.425829432175 and parameters: {'booster': 'gbtree', 'learning_rate': 0.09963459169268978, 'max_depth': 15, 'subsample': 0.8001732151817912, 'reg_alpha': 2.0644854789124207e-08, 'reg_lambda': 8.871490374979718e-06, 'gamma': 8.054940255218127e-08, 'min_child_weight': 7}. Best is trial 647 with value: 12645.370995169798.\u001b[0m\n",
      "\u001b[32m[I 2023-01-14 23:48:06,179]\u001b[0m Trial 662 finished with value: 31588.437524100053 and parameters: {'booster': 'gblinear', 'learning_rate': 0.07116396249062766, 'max_depth': 15, 'subsample': 0.6617563014742657, 'reg_alpha': 7.391269829329762e-07, 'reg_lambda': 4.112570627480231e-06, 'gamma': 2.4123452225754e-07, 'min_child_weight': 3}. Best is trial 647 with value: 12645.370995169798.\u001b[0m\n",
      "\u001b[32m[I 2023-01-14 23:48:06,394]\u001b[0m Trial 663 finished with value: 12748.219260372203 and parameters: {'booster': 'gbtree', 'learning_rate': 0.099957559268395, 'max_depth': 15, 'subsample': 0.5958392190455746, 'reg_alpha': 1.1700740029780798e-07, 'reg_lambda': 2.1963256418641593e-06, 'gamma': 3.5185655552022166e-08, 'min_child_weight': 3}. Best is trial 647 with value: 12645.370995169798.\u001b[0m\n",
      "\u001b[32m[I 2023-01-14 23:48:06,533]\u001b[0m Trial 664 finished with value: 15861.996953753134 and parameters: {'booster': 'gbtree', 'learning_rate': 0.0868821740165943, 'max_depth': 15, 'subsample': 0.12618592025105474, 'reg_alpha': 1.2415813962704049e-07, 'reg_lambda': 2.25428872477765e-06, 'gamma': 3.41787582836099e-08, 'min_child_weight': 3}. Best is trial 647 with value: 12645.370995169798.\u001b[0m\n",
      "\u001b[32m[I 2023-01-14 23:48:06,747]\u001b[0m Trial 665 finished with value: 17135.840183764034 and parameters: {'booster': 'gbtree', 'learning_rate': 0.07956753569787119, 'max_depth': 15, 'subsample': 0.5059890192382864, 'reg_alpha': 7.017829928714048e-08, 'reg_lambda': 5.7616990553767025e-06, 'gamma': 3.158619410855075e-08, 'min_child_weight': 2}. Best is trial 647 with value: 12645.370995169798.\u001b[0m\n",
      "\u001b[32m[I 2023-01-14 23:48:06,965]\u001b[0m Trial 666 finished with value: 15074.872539950951 and parameters: {'booster': 'gbtree', 'learning_rate': 0.08791812894323343, 'max_depth': 15, 'subsample': 0.5706754599933727, 'reg_alpha': 7.324702343057058e-08, 'reg_lambda': 3.2692115398978515e-06, 'gamma': 4.906270629153848e-08, 'min_child_weight': 3}. Best is trial 647 with value: 12645.370995169798.\u001b[0m\n",
      "\u001b[32m[I 2023-01-14 23:48:07,067]\u001b[0m Trial 667 finished with value: 22934.33524206933 and parameters: {'booster': 'gbtree', 'learning_rate': 0.06747716555980725, 'max_depth': 14, 'subsample': 0.035738672547345876, 'reg_alpha': 1.1269490872658714e-07, 'reg_lambda': 1.9030614342651534e-06, 'gamma': 2.8673551358087342e-08, 'min_child_weight': 3}. Best is trial 647 with value: 12645.370995169798.\u001b[0m\n",
      "\u001b[32m[I 2023-01-14 23:48:07,263]\u001b[0m Trial 668 finished with value: 17514.612800161067 and parameters: {'booster': 'gbtree', 'learning_rate': 0.07823576319809127, 'max_depth': 15, 'subsample': 0.7484645236005838, 'reg_alpha': 1.426287707975549e-07, 'reg_lambda': 4.313531430059556e-06, 'gamma': 4.446641633941689e-08, 'min_child_weight': 3}. Best is trial 647 with value: 12645.370995169798.\u001b[0m\n",
      "\u001b[32m[I 2023-01-14 23:48:07,503]\u001b[0m Trial 669 finished with value: 15120.28808409577 and parameters: {'booster': 'gbtree', 'learning_rate': 0.08792404874749091, 'max_depth': 15, 'subsample': 0.586138794830626, 'reg_alpha': 1.7912872543995198e-07, 'reg_lambda': 7.414653691316025e-06, 'gamma': 6.269098731185434e-08, 'min_child_weight': 3}. Best is trial 647 with value: 12645.370995169798.\u001b[0m\n",
      "\u001b[32m[I 2023-01-14 23:48:07,710]\u001b[0m Trial 670 finished with value: 15121.918110413864 and parameters: {'booster': 'gbtree', 'learning_rate': 0.08792943086630496, 'max_depth': 15, 'subsample': 0.686895528359164, 'reg_alpha': 7.448885468000434e-08, 'reg_lambda': 2.8850760974494888e-06, 'gamma': 1.0542827839569505e-07, 'min_child_weight': 3}. Best is trial 647 with value: 12645.370995169798.\u001b[0m\n",
      "\u001b[32m[I 2023-01-14 23:48:07,914]\u001b[0m Trial 671 finished with value: 19642.42104778047 and parameters: {'booster': 'gbtree', 'learning_rate': 0.07083304047551829, 'max_depth': 15, 'subsample': 0.8289280400328591, 'reg_alpha': 2.823066170004092e-08, 'reg_lambda': 1.7372172209686343e-06, 'gamma': 4.4942776696513626e-08, 'min_child_weight': 3}. Best is trial 647 with value: 12645.370995169798.\u001b[0m\n",
      "\u001b[32m[I 2023-01-14 23:48:08,112]\u001b[0m Trial 672 finished with value: 24631.630597648684 and parameters: {'booster': 'gbtree', 'learning_rate': 0.056781238120108504, 'max_depth': 15, 'subsample': 0.7447427682364685, 'reg_alpha': 5.128351227710851e-08, 'reg_lambda': 1.4282519414936307e-05, 'gamma': 2.603028598727773e-08, 'min_child_weight': 3}. Best is trial 647 with value: 12645.370995169798.\u001b[0m\n",
      "\u001b[32m[I 2023-01-14 23:48:08,291]\u001b[0m Trial 673 finished with value: 13038.002205895567 and parameters: {'booster': 'gbtree', 'learning_rate': 0.09892443893734353, 'max_depth': 14, 'subsample': 0.6110810073303415, 'reg_alpha': 1.994171469063143e-07, 'reg_lambda': 2.6210605548376445e-06, 'gamma': 7.588910822945758e-08, 'min_child_weight': 3}. Best is trial 647 with value: 12645.370995169798.\u001b[0m\n",
      "\u001b[32m[I 2023-01-14 23:48:08,486]\u001b[0m Trial 674 finished with value: 67162.64707461151 and parameters: {'booster': 'gbtree', 'learning_rate': 0.0008144190971860686, 'max_depth': 15, 'subsample': 0.527877099283806, 'reg_alpha': 1.0673057243337228e-07, 'reg_lambda': 4.929232683967965e-06, 'gamma': 6.067794997080678e-08, 'min_child_weight': 3}. Best is trial 647 with value: 12645.370995169798.\u001b[0m\n",
      "\u001b[32m[I 2023-01-14 23:48:08,730]\u001b[0m Trial 675 finished with value: 12683.04458058072 and parameters: {'booster': 'gbtree', 'learning_rate': 0.09970175858480125, 'max_depth': 15, 'subsample': 0.6732936510930875, 'reg_alpha': 8.852361787334904e-08, 'reg_lambda': 1.3865711669813904e-06, 'gamma': 1.2540737772549118e-07, 'min_child_weight': 2}. Best is trial 647 with value: 12645.370995169798.\u001b[0m\n",
      "\u001b[32m[I 2023-01-14 23:48:09,045]\u001b[0m Trial 676 finished with value: 17167.109067430567 and parameters: {'booster': 'gbtree', 'learning_rate': 0.07931797997460012, 'max_depth': 15, 'subsample': 0.6243452922179374, 'reg_alpha': 8.266903102326605e-08, 'reg_lambda': 1.268384099322276e-06, 'gamma': 1.3170507297368308e-07, 'min_child_weight': 1}. Best is trial 647 with value: 12645.370995169798.\u001b[0m\n",
      "\u001b[32m[I 2023-01-14 23:48:09,294]\u001b[0m Trial 677 finished with value: 15102.245113021634 and parameters: {'booster': 'gbtree', 'learning_rate': 0.08821425527237989, 'max_depth': 15, 'subsample': 0.8271590060728632, 'reg_alpha': 1.0584986599952241e-07, 'reg_lambda': 1.5513970382410623e-06, 'gamma': 1.7386585674307295e-07, 'min_child_weight': 2}. Best is trial 647 with value: 12645.370995169798.\u001b[0m\n",
      "\u001b[32m[I 2023-01-14 23:48:09,509]\u001b[0m Trial 678 finished with value: 19426.158150027364 and parameters: {'booster': 'gbtree', 'learning_rate': 0.07167599792565453, 'max_depth': 15, 'subsample': 0.5592751181090508, 'reg_alpha': 4.7219651637845945e-08, 'reg_lambda': 1.3294440870795185e-06, 'gamma': 1.45007354319006e-07, 'min_child_weight': 2}. Best is trial 647 with value: 12645.370995169798.\u001b[0m\n",
      "\u001b[32m[I 2023-01-14 23:48:09,708]\u001b[0m Trial 679 finished with value: 15592.646059596205 and parameters: {'booster': 'gbtree', 'learning_rate': 0.08738015317432539, 'max_depth': 15, 'subsample': 0.6946606775894358, 'reg_alpha': 1.4915286538986939e-07, 'reg_lambda': 0.14174147031930304, 'gamma': 1.0640898398756154e-07, 'min_child_weight': 2}. Best is trial 647 with value: 12645.370995169798.\u001b[0m\n",
      "\u001b[32m[I 2023-01-14 23:48:09,902]\u001b[0m Trial 680 finished with value: 17554.132255461063 and parameters: {'booster': 'gbtree', 'learning_rate': 0.07822880029613662, 'max_depth': 15, 'subsample': 0.7515121293495998, 'reg_alpha': 8.387549774523897e-08, 'reg_lambda': 2.2191142784245414e-06, 'gamma': 3.3382480665248004e-07, 'min_child_weight': 3}. Best is trial 647 with value: 12645.370995169798.\u001b[0m\n",
      "\u001b[32m[I 2023-01-14 23:48:09,964]\u001b[0m Trial 681 finished with value: 33405.72685625645 and parameters: {'booster': 'gblinear', 'learning_rate': 0.06332166657698135, 'max_depth': 14, 'subsample': 0.6563209923475939, 'reg_alpha': 3.5510527757749247e-08, 'reg_lambda': 1.1476843915761614e-06, 'gamma': 2.1848148015662066e-07, 'min_child_weight': 2}. Best is trial 647 with value: 12645.370995169798.\u001b[0m\n",
      "\u001b[32m[I 2023-01-14 23:48:10,213]\u001b[0m Trial 682 finished with value: 12941.251505860346 and parameters: {'booster': 'gbtree', 'learning_rate': 0.0990693697793461, 'max_depth': 15, 'subsample': 0.7807229284640858, 'reg_alpha': 2.3587842288804484e-07, 'reg_lambda': 1.8847824495915298e-06, 'gamma': 1.1497113364020693e-07, 'min_child_weight': 2}. Best is trial 647 with value: 12645.370995169798.\u001b[0m\n",
      "\u001b[32m[I 2023-01-14 23:48:10,433]\u001b[0m Trial 683 finished with value: 12972.431857393238 and parameters: {'booster': 'gbtree', 'learning_rate': 0.09930700238230071, 'max_depth': 15, 'subsample': 0.5008071053650428, 'reg_alpha': 5.4625338087921685e-08, 'reg_lambda': 2.8057599078498856e-06, 'gamma': 8.518467444608203e-08, 'min_child_weight': 2}. Best is trial 647 with value: 12645.370995169798.\u001b[0m\n",
      "\u001b[32m[I 2023-01-14 23:48:10,649]\u001b[0m Trial 684 finished with value: 15056.155617117422 and parameters: {'booster': 'gbtree', 'learning_rate': 0.08790487166717234, 'max_depth': 15, 'subsample': 0.5999076835870619, 'reg_alpha': 1.2002641208163733e-07, 'reg_lambda': 3.672655526262564e-06, 'gamma': 1.5831954494081407e-07, 'min_child_weight': 2}. Best is trial 647 with value: 12645.370995169798.\u001b[0m\n",
      "\u001b[32m[I 2023-01-14 23:48:11,034]\u001b[0m Trial 685 finished with value: 67565.12312515068 and parameters: {'booster': 'gbtree', 'learning_rate': 0.00048443215781649335, 'max_depth': 15, 'subsample': 0.7169622745892964, 'reg_alpha': 2.888582882925095e-07, 'reg_lambda': 2.1536521954833997e-06, 'gamma': 8.621180399148149e-08, 'min_child_weight': 1}. Best is trial 647 with value: 12645.370995169798.\u001b[0m\n",
      "\u001b[32m[I 2023-01-14 23:48:11,197]\u001b[0m Trial 686 finished with value: 17571.926127655177 and parameters: {'booster': 'gbtree', 'learning_rate': 0.07876323033668914, 'max_depth': 15, 'subsample': 0.22317364112385832, 'reg_alpha': 2.015243883158931e-08, 'reg_lambda': 1.5054853837423177e-06, 'gamma': 6.191402450019662e-08, 'min_child_weight': 2}. Best is trial 647 with value: 12645.370995169798.\u001b[0m\n",
      "\u001b[32m[I 2023-01-14 23:48:11,411]\u001b[0m Trial 687 finished with value: 58821.51518122895 and parameters: {'booster': 'gbtree', 'learning_rate': 0.008008513297022684, 'max_depth': 15, 'subsample': 0.843938000435286, 'reg_alpha': 6.618864506369845e-08, 'reg_lambda': 1.0318306603132587e-06, 'gamma': 1.2383960233826082e-07, 'min_child_weight': 3}. Best is trial 647 with value: 12645.370995169798.\u001b[0m\n",
      "\u001b[32m[I 2023-01-14 23:48:11,622]\u001b[0m Trial 688 finished with value: 12892.890925724249 and parameters: {'booster': 'gbtree', 'learning_rate': 0.09925303227407872, 'max_depth': 15, 'subsample': 0.6454430938369529, 'reg_alpha': 1.6739151016670944e-07, 'reg_lambda': 3.3393294201966492e-06, 'gamma': 3.496344234150739e-08, 'min_child_weight': 3}. Best is trial 647 with value: 12645.370995169798.\u001b[0m\n",
      "\u001b[32m[I 2023-01-14 23:48:11,826]\u001b[0m Trial 689 finished with value: 12882.205682405236 and parameters: {'booster': 'gbtree', 'learning_rate': 0.09947306851122278, 'max_depth': 15, 'subsample': 0.558760248702289, 'reg_alpha': 3.056908661770095e-08, 'reg_lambda': 2.341658877974205e-06, 'gamma': 2.0078277290172015e-07, 'min_child_weight': 3}. Best is trial 647 with value: 12645.370995169798.\u001b[0m\n",
      "\u001b[32m[I 2023-01-14 23:48:12,018]\u001b[0m Trial 690 finished with value: 16690.631004557985 and parameters: {'booster': 'gbtree', 'learning_rate': 0.08077872659708343, 'max_depth': 14, 'subsample': 0.7049135699329607, 'reg_alpha': 7.756271733580551e-08, 'reg_lambda': 1.4474370859470426e-06, 'gamma': 6.398664588880537e-08, 'min_child_weight': 3}. Best is trial 647 with value: 12645.370995169798.\u001b[0m\n",
      "\u001b[32m[I 2023-01-14 23:48:12,243]\u001b[0m Trial 691 finished with value: 19893.261099425566 and parameters: {'booster': 'gbtree', 'learning_rate': 0.07003559979174168, 'max_depth': 15, 'subsample': 0.7645814810869908, 'reg_alpha': 1.3666368320099205e-07, 'reg_lambda': 1.8780022222701286e-06, 'gamma': 9.08842831565128e-08, 'min_child_weight': 3}. Best is trial 647 with value: 12645.370995169798.\u001b[0m\n",
      "\u001b[32m[I 2023-01-14 23:48:12,471]\u001b[0m Trial 692 finished with value: 12797.954490769413 and parameters: {'booster': 'gbtree', 'learning_rate': 0.099791176865972, 'max_depth': 15, 'subsample': 0.6515686954881401, 'reg_alpha': 4.808205264949004e-08, 'reg_lambda': 4.339438228014008e-06, 'gamma': 3.890147453999654e-08, 'min_child_weight': 2}. Best is trial 647 with value: 12645.370995169798.\u001b[0m\n",
      "\u001b[32m[I 2023-01-14 23:48:12,646]\u001b[0m Trial 693 finished with value: 15253.691561097234 and parameters: {'booster': 'gbtree', 'learning_rate': 0.08801277181681415, 'max_depth': 14, 'subsample': 0.838361321451529, 'reg_alpha': 9.488243239109056e-08, 'reg_lambda': 2.7080344083798295e-06, 'gamma': 5.820155794425542e-08, 'min_child_weight': 3}. Best is trial 647 with value: 12645.370995169798.\u001b[0m\n",
      "\u001b[32m[I 2023-01-14 23:48:12,816]\u001b[0m Trial 694 finished with value: 16964.05199912872 and parameters: {'booster': 'gbtree', 'learning_rate': 0.08000837085787812, 'max_depth': 15, 'subsample': 0.5911798799789865, 'reg_alpha': 3.735627306772428e-08, 'reg_lambda': 1.0279836253215171e-06, 'gamma': 2.590922177343212e-08, 'min_child_weight': 3}. Best is trial 647 with value: 12645.370995169798.\u001b[0m\n",
      "\u001b[32m[I 2023-01-14 23:48:13,025]\u001b[0m Trial 695 finished with value: 15108.070436053444 and parameters: {'booster': 'gbtree', 'learning_rate': 0.08798282901358682, 'max_depth': 15, 'subsample': 0.7017038597318482, 'reg_alpha': 2.2628460879731852e-07, 'reg_lambda': 3.727476237481809e-06, 'gamma': 1.1979535827704716e-07, 'min_child_weight': 2}. Best is trial 647 with value: 12645.370995169798.\u001b[0m\n",
      "\u001b[32m[I 2023-01-14 23:48:13,163]\u001b[0m Trial 696 finished with value: 22638.385997524794 and parameters: {'booster': 'gbtree', 'learning_rate': 0.06292789182075409, 'max_depth': 15, 'subsample': 0.7811687856414372, 'reg_alpha': 1.5828885105954043e-08, 'reg_lambda': 5.909103389165734e-06, 'gamma': 8.290463925197444e-08, 'min_child_weight': 10}. Best is trial 647 with value: 12645.370995169798.\u001b[0m\n",
      "\u001b[32m[I 2023-01-14 23:48:13,334]\u001b[0m Trial 697 finished with value: 12792.449049300825 and parameters: {'booster': 'gbtree', 'learning_rate': 0.09967308040932271, 'max_depth': 15, 'subsample': 0.6393460716811661, 'reg_alpha': 3.7666736017155493e-07, 'reg_lambda': 1.8744389005405873e-06, 'gamma': 4.4340604487034964e-08, 'min_child_weight': 3}. Best is trial 647 with value: 12645.370995169798.\u001b[0m\n",
      "\u001b[32m[I 2023-01-14 23:48:13,500]\u001b[0m Trial 698 finished with value: 19155.217880059583 and parameters: {'booster': 'gbtree', 'learning_rate': 0.07259747594818479, 'max_depth': 15, 'subsample': 0.5418558849857236, 'reg_alpha': 1.7217497299929868e-07, 'reg_lambda': 1.1384370675888398e-06, 'gamma': 2.4176113455437004e-07, 'min_child_weight': 3}. Best is trial 647 with value: 12645.370995169798.\u001b[0m\n",
      "\u001b[32m[I 2023-01-14 23:48:13,687]\u001b[0m Trial 699 finished with value: 15288.228669141112 and parameters: {'booster': 'gbtree', 'learning_rate': 0.08684461679391117, 'max_depth': 15, 'subsample': 0.7204920399324041, 'reg_alpha': 6.118107736226438e-08, 'reg_lambda': 2.8852596999623804e-06, 'gamma': 1.4426470128385025e-07, 'min_child_weight': 3}. Best is trial 647 with value: 12645.370995169798.\u001b[0m\n"
     ]
    }
   ],
   "source": [
    "study = optuna.create_study(direction=\"minimize\",pruner=optuna.pruners.MedianPruner(n_startup_trials=100, n_warmup_steps=25))\n",
    "study.optimize(objectives, n_trials=700)\n"
   ]
  },
  {
   "cell_type": "code",
   "execution_count": 85,
   "metadata": {},
   "outputs": [
    {
     "data": {
      "text/plain": [
       "12645.370995169798"
      ]
     },
     "execution_count": 85,
     "metadata": {},
     "output_type": "execute_result"
    }
   ],
   "source": [
    "study.best_value"
   ]
  },
  {
   "cell_type": "code",
   "execution_count": 86,
   "metadata": {},
   "outputs": [
    {
     "name": "stdout",
     "output_type": "stream",
     "text": [
      "Optimized MSE: 12645.3710\n",
      "\n",
      "Optimized RMSE: 112.4516\n",
      "\n",
      "Best params:\n",
      "\tbooster: gbtree\n",
      "\tlearning_rate: 0.09986616613534406\n",
      "\tmax_depth: 15\n",
      "\tsubsample: 0.7162417007411497\n",
      "\treg_alpha: 2.684952999686149e-07\n",
      "\treg_lambda: 3.2602785886197124e-06\n",
      "\tgamma: 5.3604883119526475e-08\n",
      "\tmin_child_weight: 3\n"
     ]
    }
   ],
   "source": [
    "print(f\"Optimized MSE: {study.best_value:.4f}\")\n",
    "print()\n",
    "print(f\"Optimized RMSE: {np.sqrt(study.best_value):.4f}\")\n",
    "print()\n",
    "print(\"Best params:\")\n",
    "for key, value in study.best_params.items():\n",
    "    print(f\"\\t{key}: {value}\")"
   ]
  },
  {
   "cell_type": "code",
   "execution_count": 87,
   "metadata": {},
   "outputs": [],
   "source": [
    "from optuna.visualization import plot_param_importances"
   ]
  },
  {
   "cell_type": "code",
   "execution_count": 88,
   "metadata": {},
   "outputs": [
    {
     "name": "stderr",
     "output_type": "stream",
     "text": [
      "C:\\Users\\Asus\\AppData\\Local\\Temp\\ipykernel_12180\\199994575.py:2: ExperimentalWarning: plot_optimization_history is experimental (supported from v2.2.0). The interface can change in the future.\n",
      "  plot_optimization_history(study)\n"
     ]
    },
    {
     "data": {
      "text/plain": [
       "<AxesSubplot: title={'center': 'Optimization History Plot'}, xlabel='Trial', ylabel='Objective Value'>"
      ]
     },
     "execution_count": 88,
     "metadata": {},
     "output_type": "execute_result"
    },
    {
     "data": {
      "image/png": "[encoded data removed]",
      "text/plain": [
       "<Figure size 640x480 with 1 Axes>"
      ]
     },
     "metadata": {},
     "output_type": "display_data"
    }
   ],
   "source": [
    "from optuna.visualization.matplotlib import plot_optimization_history\n",
    "plot_optimization_history(study)"
   ]
  },
  {
   "cell_type": "code",
   "execution_count": 89,
   "metadata": {},
   "outputs": [
    {
     "data": {
      "application/vnd.plotly.v1+json": {
       "config": {
        "plotlyServerURL": "https://plot.ly"
       },
       "data": [
        {
         "cliponaxis": false,
         "hovertemplate": [
          "gamma (FloatDistribution): 6.354143959452783e-07<extra></extra>",
          "reg_lambda (FloatDistribution): 1.5132160343543595e-06<extra></extra>",
          "reg_alpha (FloatDistribution): 2.7955850506770628e-05<extra></extra>",
          "min_child_weight (IntDistribution): 6.649306188245008e-05<extra></extra>",
          "subsample (FloatDistribution): 0.00021608390244197073<extra></extra>",
          "max_depth (IntDistribution): 0.0002199788516515439<extra></extra>",
          "booster (CategoricalDistribution): 0.042261856589498055<extra></extra>",
          "learning_rate (FloatDistribution): 0.9572054831135889<extra></extra>"
         ],
         "marker": {
          "color": "rgb(66,146,198)"
         },
         "orientation": "h",
         "text": [
          "<0.01",
          "<0.01",
          "<0.01",
          "<0.01",
          "<0.01",
          "<0.01",
          "0.04",
          "0.96"
         ],
         "textposition": "outside",
         "type": "bar",
         "x": [
          6.354143959452783e-7,
          0.0000015132160343543595,
          0.000027955850506770628,
          0.00006649306188245008,
          0.00021608390244197073,
          0.0002199788516515439,
          0.042261856589498055,
          0.9572054831135889
         ],
         "y": [
          "gamma",
          "reg_lambda",
          "reg_alpha",
          "min_child_weight",
          "subsample",
          "max_depth",
          "booster",
          "learning_rate"
         ]
        }
       ],
       "layout": {
        "showlegend": false,
        "template": {
         "data": {
          "bar": [
           {
            "error_x": {
             "color": "#2a3f5f"
            },
            "error_y": {
             "color": "#2a3f5f"
            },
            "marker": {
             "line": {
              "color": "#E5ECF6",
              "width": 0.5
             },
             "pattern": {
              "fillmode": "overlay",
              "size": 10,
              "solidity": 0.2
             }
            },
            "type": "bar"
           }
          ],
          "barpolar": [
           {
            "marker": {
             "line": {
              "color": "#E5ECF6",
              "width": 0.5
             },
             "pattern": {
              "fillmode": "overlay",
              "size": 10,
              "solidity": 0.2
             }
            },
            "type": "barpolar"
           }
          ],
          "carpet": [
           {
            "aaxis": {
             "endlinecolor": "#2a3f5f",
             "gridcolor": "white",
             "linecolor": "white",
             "minorgridcolor": "white",
             "startlinecolor": "#2a3f5f"
            },
            "baxis": {
             "endlinecolor": "#2a3f5f",
             "gridcolor": "white",
             "linecolor": "white",
             "minorgridcolor": "white",
             "startlinecolor": "#2a3f5f"
            },
            "type": "carpet"
           }
          ],
          "choropleth": [
           {
            "colorbar": {
             "outlinewidth": 0,
             "ticks": ""
            },
            "type": "choropleth"
           }
          ],
          "contour": [
           {
            "colorbar": {
             "outlinewidth": 0,
             "ticks": ""
            },
            "colorscale": [
             [
              0,
              "#0d0887"
             ],
             [
              0.1111111111111111,
              "#46039f"
             ],
             [
              0.2222222222222222,
              "#7201a8"
             ],
             [
              0.3333333333333333,
              "#9c179e"
             ],
             [
              0.4444444444444444,
              "#bd3786"
             ],
             [
              0.5555555555555556,
              "#d8576b"
             ],
             [
              0.6666666666666666,
              "#ed7953"
             ],
             [
              0.7777777777777778,
              "#fb9f3a"
             ],
             [
              0.8888888888888888,
              "#fdca26"
             ],
             [
              1,
              "#f0f921"
             ]
            ],
            "type": "contour"
           }
          ],
          "contourcarpet": [
           {
            "colorbar": {
             "outlinewidth": 0,
             "ticks": ""
            },
            "type": "contourcarpet"
           }
          ],
          "heatmap": [
           {
            "colorbar": {
             "outlinewidth": 0,
             "ticks": ""
            },
            "colorscale": [
             [
              0,
              "#0d0887"
             ],
             [
              0.1111111111111111,
              "#46039f"
             ],
             [
              0.2222222222222222,
              "#7201a8"
             ],
             [
              0.3333333333333333,
              "#9c179e"
             ],
             [
              0.4444444444444444,
              "#bd3786"
             ],
             [
              0.5555555555555556,
              "#d8576b"
             ],
             [
              0.6666666666666666,
              "#ed7953"
             ],
             [
              0.7777777777777778,
              "#fb9f3a"
             ],
             [
              0.8888888888888888,
              "#fdca26"
             ],
             [
              1,
              "#f0f921"
             ]
            ],
            "type": "heatmap"
           }
          ],
          "heatmapgl": [
           {
            "colorbar": {
             "outlinewidth": 0,
             "ticks": ""
            },
            "colorscale": [
             [
              0,
              "#0d0887"
             ],
             [
              0.1111111111111111,
              "#46039f"
             ],
             [
              0.2222222222222222,
              "#7201a8"
             ],
             [
              0.3333333333333333,
              "#9c179e"
             ],
             [
              0.4444444444444444,
              "#bd3786"
             ],
             [
              0.5555555555555556,
              "#d8576b"
             ],
             [
              0.6666666666666666,
              "#ed7953"
             ],
             [
              0.7777777777777778,
              "#fb9f3a"
             ],
             [
              0.8888888888888888,
              "#fdca26"
             ],
             [
              1,
              "#f0f921"
             ]
            ],
            "type": "heatmapgl"
           }
          ],
          "histogram": [
           {
            "marker": {
             "pattern": {
              "fillmode": "overlay",
              "size": 10,
              "solidity": 0.2
             }
            },
            "type": "histogram"
           }
          ],
          "histogram2d": [
           {
            "colorbar": {
             "outlinewidth": 0,
             "ticks": ""
            },
            "colorscale": [
             [
              0,
              "#0d0887"
             ],
             [
              0.1111111111111111,
              "#46039f"
             ],
             [
              0.2222222222222222,
              "#7201a8"
             ],
             [
              0.3333333333333333,
              "#9c179e"
             ],
             [
              0.4444444444444444,
              "#bd3786"
             ],
             [
              0.5555555555555556,
              "#d8576b"
             ],
             [
              0.6666666666666666,
              "#ed7953"
             ],
             [
              0.7777777777777778,
              "#fb9f3a"
             ],
             [
              0.8888888888888888,
              "#fdca26"
             ],
             [
              1,
              "#f0f921"
             ]
            ],
            "type": "histogram2d"
           }
          ],
          "histogram2dcontour": [
           {
            "colorbar": {
             "outlinewidth": 0,
             "ticks": ""
            },
            "colorscale": [
             [
              0,
              "#0d0887"
             ],
             [
              0.1111111111111111,
              "#46039f"
             ],
             [
              0.2222222222222222,
              "#7201a8"
             ],
             [
              0.3333333333333333,
              "#9c179e"
             ],
             [
              0.4444444444444444,
              "#bd3786"
             ],
             [
              0.5555555555555556,
              "#d8576b"
             ],
             [
              0.6666666666666666,
              "#ed7953"
             ],
             [
              0.7777777777777778,
              "#fb9f3a"
             ],
             [
              0.8888888888888888,
              "#fdca26"
             ],
             [
              1,
              "#f0f921"
             ]
            ],
            "type": "histogram2dcontour"
           }
          ],
          "mesh3d": [
           {
            "colorbar": {
             "outlinewidth": 0,
             "ticks": ""
            },
            "type": "mesh3d"
           }
          ],
          "parcoords": [
           {
            "line": {
             "colorbar": {
              "outlinewidth": 0,
              "ticks": ""
             }
            },
            "type": "parcoords"
           }
          ],
          "pie": [
           {
            "automargin": true,
            "type": "pie"
           }
          ],
          "scatter": [
           {
            "fillpattern": {
             "fillmode": "overlay",
             "size": 10,
             "solidity": 0.2
            },
            "type": "scatter"
           }
          ],
          "scatter3d": [
           {
            "line": {
             "colorbar": {
              "outlinewidth": 0,
              "ticks": ""
             }
            },
            "marker": {
             "colorbar": {
              "outlinewidth": 0,
              "ticks": ""
             }
            },
            "type": "scatter3d"
           }
          ],
          "scattercarpet": [
           {
            "marker": {
             "colorbar": {
              "outlinewidth": 0,
              "ticks": ""
             }
            },
            "type": "scattercarpet"
           }
          ],
          "scattergeo": [
           {
            "marker": {
             "colorbar": {
              "outlinewidth": 0,
              "ticks": ""
             }
            },
            "type": "scattergeo"
           }
          ],
          "scattergl": [
           {
            "marker": {
             "colorbar": {
              "outlinewidth": 0,
              "ticks": ""
             }
            },
            "type": "scattergl"
           }
          ],
          "scattermapbox": [
           {
            "marker": {
             "colorbar": {
              "outlinewidth": 0,
              "ticks": ""
             }
            },
            "type": "scattermapbox"
           }
          ],
          "scatterpolar": [
           {
            "marker": {
             "colorbar": {
              "outlinewidth": 0,
              "ticks": ""
             }
            },
            "type": "scatterpolar"
           }
          ],
          "scatterpolargl": [
           {
            "marker": {
             "colorbar": {
              "outlinewidth": 0,
              "ticks": ""
             }
            },
            "type": "scatterpolargl"
           }
          ],
          "scatterternary": [
           {
            "marker": {
             "colorbar": {
              "outlinewidth": 0,
              "ticks": ""
             }
            },
            "type": "scatterternary"
           }
          ],
          "surface": [
           {
            "colorbar": {
             "outlinewidth": 0,
             "ticks": ""
            },
            "colorscale": [
             [
              0,
              "#0d0887"
             ],
             [
              0.1111111111111111,
              "#46039f"
             ],
             [
              0.2222222222222222,
              "#7201a8"
             ],
             [
              0.3333333333333333,
              "#9c179e"
             ],
             [
              0.4444444444444444,
              "#bd3786"
             ],
             [
              0.5555555555555556,
              "#d8576b"
             ],
             [
              0.6666666666666666,
              "#ed7953"
             ],
             [
              0.7777777777777778,
              "#fb9f3a"
             ],
             [
              0.8888888888888888,
              "#fdca26"
             ],
             [
              1,
              "#f0f921"
             ]
            ],
            "type": "surface"
           }
          ],
          "table": [
           {
            "cells": {
             "fill": {
              "color": "#EBF0F8"
             },
             "line": {
              "color": "white"
             }
            },
            "header": {
             "fill": {
              "color": "#C8D4E3"
             },
             "line": {
              "color": "white"
             }
            },
            "type": "table"
           }
          ]
         },
         "layout": {
          "annotationdefaults": {
           "arrowcolor": "#2a3f5f",
           "arrowhead": 0,
           "arrowwidth": 1
          },
          "autotypenumbers": "strict",
          "coloraxis": {
           "colorbar": {
            "outlinewidth": 0,
            "ticks": ""
           }
          },
          "colorscale": {
           "diverging": [
            [
             0,
             "#8e0152"
            ],
            [
             0.1,
             "#c51b7d"
            ],
            [
             0.2,
             "#de77ae"
            ],
            [
             0.3,
             "#f1b6da"
            ],
            [
             0.4,
             "#fde0ef"
            ],
            [
             0.5,
             "#f7f7f7"
            ],
            [
             0.6,
             "#e6f5d0"
            ],
            [
             0.7,
             "#b8e186"
            ],
            [
             0.8,
             "#7fbc41"
            ],
            [
             0.9,
             "#4d9221"
            ],
            [
             1,
             "#276419"
            ]
           ],
           "sequential": [
            [
             0,
             "#0d0887"
            ],
            [
             0.1111111111111111,
             "#46039f"
            ],
            [
             0.2222222222222222,
             "#7201a8"
            ],
            [
             0.3333333333333333,
             "#9c179e"
            ],
            [
             0.4444444444444444,
             "#bd3786"
            ],
            [
             0.5555555555555556,
             "#d8576b"
            ],
            [
             0.6666666666666666,
             "#ed7953"
            ],
            [
             0.7777777777777778,
             "#fb9f3a"
            ],
            [
             0.8888888888888888,
             "#fdca26"
            ],
            [
             1,
             "#f0f921"
            ]
           ],
           "sequentialminus": [
            [
             0,
             "#0d0887"
            ],
            [
             0.1111111111111111,
             "#46039f"
            ],
            [
             0.2222222222222222,
             "#7201a8"
            ],
            [
             0.3333333333333333,
             "#9c179e"
            ],
            [
             0.4444444444444444,
             "#bd3786"
            ],
            [
             0.5555555555555556,
             "#d8576b"
            ],
            [
             0.6666666666666666,
             "#ed7953"
            ],
            [
             0.7777777777777778,
             "#fb9f3a"
            ],
            [
             0.8888888888888888,
             "#fdca26"
            ],
            [
             1,
             "#f0f921"
            ]
           ]
          },
          "colorway": [
           "#636efa",
           "#EF553B",
           "#00cc96",
           "#ab63fa",
           "#FFA15A",
           "#19d3f3",
           "#FF6692",
           "#B6E880",
           "#FF97FF",
           "#FECB52"
          ],
          "font": {
           "color": "#2a3f5f"
          },
          "geo": {
           "bgcolor": "white",
           "lakecolor": "white",
           "landcolor": "#E5ECF6",
           "showlakes": true,
           "showland": true,
           "subunitcolor": "white"
          },
          "hoverlabel": {
           "align": "left"
          },
          "hovermode": "closest",
          "mapbox": {
           "style": "light"
          },
          "paper_bgcolor": "white",
          "plot_bgcolor": "#E5ECF6",
          "polar": {
           "angularaxis": {
            "gridcolor": "white",
            "linecolor": "white",
            "ticks": ""
           },
           "bgcolor": "#E5ECF6",
           "radialaxis": {
            "gridcolor": "white",
            "linecolor": "white",
            "ticks": ""
           }
          },
          "scene": {
           "xaxis": {
            "backgroundcolor": "#E5ECF6",
            "gridcolor": "white",
            "gridwidth": 2,
            "linecolor": "white",
            "showbackground": true,
            "ticks": "",
            "zerolinecolor": "white"
           },
           "yaxis": {
            "backgroundcolor": "#E5ECF6",
            "gridcolor": "white",
            "gridwidth": 2,
            "linecolor": "white",
            "showbackground": true,
            "ticks": "",
            "zerolinecolor": "white"
           },
           "zaxis": {
            "backgroundcolor": "#E5ECF6",
            "gridcolor": "white",
            "gridwidth": 2,
            "linecolor": "white",
            "showbackground": true,
            "ticks": "",
            "zerolinecolor": "white"
           }
          },
          "shapedefaults": {
           "line": {
            "color": "#2a3f5f"
           }
          },
          "ternary": {
           "aaxis": {
            "gridcolor": "white",
            "linecolor": "white",
            "ticks": ""
           },
           "baxis": {
            "gridcolor": "white",
            "linecolor": "white",
            "ticks": ""
           },
           "bgcolor": "#E5ECF6",
           "caxis": {
            "gridcolor": "white",
            "linecolor": "white",
            "ticks": ""
           }
          },
          "title": {
           "x": 0.05
          },
          "xaxis": {
           "automargin": true,
           "gridcolor": "white",
           "linecolor": "white",
           "ticks": "",
           "title": {
            "standoff": 15
           },
           "zerolinecolor": "white",
           "zerolinewidth": 2
          },
          "yaxis": {
           "automargin": true,
           "gridcolor": "white",
           "linecolor": "white",
           "ticks": "",
           "title": {
            "standoff": 15
           },
           "zerolinecolor": "white",
           "zerolinewidth": 2
          }
         }
        },
        "title": {
         "text": "Hyperparameter Importances"
        },
        "xaxis": {
         "title": {
          "text": "Importance for Objective Value"
         }
        },
        "yaxis": {
         "title": {
          "text": "Hyperparameter"
         }
        }
       }
      }
     },
     "metadata": {},
     "output_type": "display_data"
    }
   ],
   "source": [
    "plot_param_importances(study)"
   ]
  },
  {
   "cell_type": "code",
   "execution_count": 90,
   "metadata": {},
   "outputs": [],
   "source": [
    "params = study.best_params"
   ]
  },
  {
   "cell_type": "code",
   "execution_count": 91,
   "metadata": {},
   "outputs": [
    {
     "data": {
      "text/plain": [
       "{'booster': 'gbtree',\n",
       " 'learning_rate': 0.09986616613534406,\n",
       " 'max_depth': 15,\n",
       " 'subsample': 0.7162417007411497,\n",
       " 'reg_alpha': 2.684952999686149e-07,\n",
       " 'reg_lambda': 3.2602785886197124e-06,\n",
       " 'gamma': 5.3604883119526475e-08,\n",
       " 'min_child_weight': 3}"
      ]
     },
     "execution_count": 91,
     "metadata": {},
     "output_type": "execute_result"
    }
   ],
   "source": [
    "params"
   ]
  },
  {
   "cell_type": "code",
   "execution_count": 92,
   "metadata": {},
   "outputs": [
    {
     "data": {
      "text/html": [
       "<style>#sk-container-id-1 {color: black;background-color: white;}#sk-container-id-1 pre{padding: 0;}#sk-container-id-1 div.sk-toggleable {background-color: white;}#sk-container-id-1 label.sk-toggleable__label {cursor: pointer;display: block;width: 100%;margin-bottom: 0;padding: 0.3em;box-sizing: border-box;text-align: center;}#sk-container-id-1 label.sk-toggleable__label-arrow:before {content: \"▸\";float: left;margin-right: 0.25em;color: #696969;}#sk-container-id-1 label.sk-toggleable__label-arrow:hover:before {color: black;}#sk-container-id-1 div.sk-estimator:hover label.sk-toggleable__label-arrow:before {color: black;}#sk-container-id-1 div.sk-toggleable__content {max-height: 0;max-width: 0;overflow: hidden;text-align: left;background-color: #f0f8ff;}#sk-container-id-1 div.sk-toggleable__content pre {margin: 0.2em;color: black;border-radius: 0.25em;background-color: #f0f8ff;}#sk-container-id-1 input.sk-toggleable__control:checked~div.sk-toggleable__content {max-height: 200px;max-width: 100%;overflow: auto;}#sk-container-id-1 input.sk-toggleable__control:checked~label.sk-toggleable__label-arrow:before {content: \"▾\";}#sk-container-id-1 div.sk-estimator input.sk-toggleable__control:checked~label.sk-toggleable__label {background-color: #d4ebff;}#sk-container-id-1 div.sk-label input.sk-toggleable__control:checked~label.sk-toggleable__label {background-color: #d4ebff;}#sk-container-id-1 input.sk-hidden--visually {border: 0;clip: rect(1px 1px 1px 1px);clip: rect(1px, 1px, 1px, 1px);height: 1px;margin: -1px;overflow: hidden;padding: 0;position: absolute;width: 1px;}#sk-container-id-1 div.sk-estimator {font-family: monospace;background-color: #f0f8ff;border: 1px dotted black;border-radius: 0.25em;box-sizing: border-box;margin-bottom: 0.5em;}#sk-container-id-1 div.sk-estimator:hover {background-color: #d4ebff;}#sk-container-id-1 div.sk-parallel-item::after {content: \"\";width: 100%;border-bottom: 1px solid gray;flex-grow: 1;}#sk-container-id-1 div.sk-label:hover label.sk-toggleable__label {background-color: #d4ebff;}#sk-container-id-1 div.sk-serial::before {content: \"\";position: absolute;border-left: 1px solid gray;box-sizing: border-box;top: 0;bottom: 0;left: 50%;z-index: 0;}#sk-container-id-1 div.sk-serial {display: flex;flex-direction: column;align-items: center;background-color: white;padding-right: 0.2em;padding-left: 0.2em;position: relative;}#sk-container-id-1 div.sk-item {position: relative;z-index: 1;}#sk-container-id-1 div.sk-parallel {display: flex;align-items: stretch;justify-content: center;background-color: white;position: relative;}#sk-container-id-1 div.sk-item::before, #sk-container-id-1 div.sk-parallel-item::before {content: \"\";position: absolute;border-left: 1px solid gray;box-sizing: border-box;top: 0;bottom: 0;left: 50%;z-index: -1;}#sk-container-id-1 div.sk-parallel-item {display: flex;flex-direction: column;z-index: 1;position: relative;background-color: white;}#sk-container-id-1 div.sk-parallel-item:first-child::after {align-self: flex-end;width: 50%;}#sk-container-id-1 div.sk-parallel-item:last-child::after {align-self: flex-start;width: 50%;}#sk-container-id-1 div.sk-parallel-item:only-child::after {width: 0;}#sk-container-id-1 div.sk-dashed-wrapped {border: 1px dashed gray;margin: 0 0.4em 0.5em 0.4em;box-sizing: border-box;padding-bottom: 0.4em;background-color: white;}#sk-container-id-1 div.sk-label label {font-family: monospace;font-weight: bold;display: inline-block;line-height: 1.2em;}#sk-container-id-1 div.sk-label-container {text-align: center;}#sk-container-id-1 div.sk-container {/* jupyter's `normalize.less` sets `[hidden] { display: none; }` but bootstrap.min.css set `[hidden] { display: none !important; }` so we also need the `!important` here to be able to override the default hidden behavior on the sphinx rendered scikit-learn.org. See: https://github.com/scikit-learn/scikit-learn/issues/21755 */display: inline-block !important;position: relative;}#sk-container-id-1 div.sk-text-repr-fallback {display: none;}</style><div id=\"sk-container-id-1\" class=\"sk-top-container\"><div class=\"sk-text-repr-fallback\"><pre>XGBRegressor(base_score=None, booster=&#x27;gbtree&#x27;, callbacks=None,\n",
       "             colsample_bylevel=None, colsample_bynode=None,\n",
       "             colsample_bytree=None, early_stopping_rounds=None,\n",
       "             enable_categorical=False, eval_metric=None, feature_types=None,\n",
       "             gamma=5.3604883119526475e-08, gpu_id=None, grow_policy=None,\n",
       "             importance_type=None, interaction_constraints=None,\n",
       "             learning_rate=0.09986616613534406, max_bin=None,\n",
       "             max_cat_threshold=None, max_cat_to_onehot=None,\n",
       "             max_delta_step=None, max_depth=15, max_leaves=None,\n",
       "             min_child_weight=3, missing=nan, monotone_constraints=None,\n",
       "             n_estimators=100, n_jobs=None, num_parallel_tree=None,\n",
       "             predictor=None, random_state=None, ...)</pre><b>In a Jupyter environment, please rerun this cell to show the HTML representation or trust the notebook. <br />On GitHub, the HTML representation is unable to render, please try loading this page with nbviewer.org.</b></div><div class=\"sk-container\" hidden><div class=\"sk-item\"><div class=\"sk-estimator sk-toggleable\"><input class=\"sk-toggleable__control sk-hidden--visually\" id=\"sk-estimator-id-1\" type=\"checkbox\" checked><label for=\"sk-estimator-id-1\" class=\"sk-toggleable__label sk-toggleable__label-arrow\">XGBRegressor</label><div class=\"sk-toggleable__content\"><pre>XGBRegressor(base_score=None, booster=&#x27;gbtree&#x27;, callbacks=None,\n",
       "             colsample_bylevel=None, colsample_bynode=None,\n",
       "             colsample_bytree=None, early_stopping_rounds=None,\n",
       "             enable_categorical=False, eval_metric=None, feature_types=None,\n",
       "             gamma=5.3604883119526475e-08, gpu_id=None, grow_policy=None,\n",
       "             importance_type=None, interaction_constraints=None,\n",
       "             learning_rate=0.09986616613534406, max_bin=None,\n",
       "             max_cat_threshold=None, max_cat_to_onehot=None,\n",
       "             max_delta_step=None, max_depth=15, max_leaves=None,\n",
       "             min_child_weight=3, missing=nan, monotone_constraints=None,\n",
       "             n_estimators=100, n_jobs=None, num_parallel_tree=None,\n",
       "             predictor=None, random_state=None, ...)</pre></div></div></div></div></div>"
      ],
      "text/plain": [
       "XGBRegressor(base_score=None, booster='gbtree', callbacks=None,\n",
       "             colsample_bylevel=None, colsample_bynode=None,\n",
       "             colsample_bytree=None, early_stopping_rounds=None,\n",
       "             enable_categorical=False, eval_metric=None, feature_types=None,\n",
       "             gamma=5.3604883119526475e-08, gpu_id=None, grow_policy=None,\n",
       "             importance_type=None, interaction_constraints=None,\n",
       "             learning_rate=0.09986616613534406, max_bin=None,\n",
       "             max_cat_threshold=None, max_cat_to_onehot=None,\n",
       "             max_delta_step=None, max_depth=15, max_leaves=None,\n",
       "             min_child_weight=3, missing=nan, monotone_constraints=None,\n",
       "             n_estimators=100, n_jobs=None, num_parallel_tree=None,\n",
       "             predictor=None, random_state=None, ...)"
      ]
     },
     "execution_count": 92,
     "metadata": {},
     "output_type": "execute_result"
    }
   ],
   "source": [
    "model = XGBRegressor(**params)\n",
    "model.fit(X_train, y_train)"
   ]
  },
  {
   "cell_type": "code",
   "execution_count": 93,
   "metadata": {},
   "outputs": [
    {
     "name": "stdout",
     "output_type": "stream",
     "text": [
      "0.8593993177327326\n",
      "67.9257623419359\n"
     ]
    }
   ],
   "source": [
    "print(r2_score(y_test, model.predict(X_test)))\n",
    "print(np.sqrt(mean_squared_error(y_test, model.predict(X_test))))"
   ]
  },
  {
   "cell_type": "code",
   "execution_count": 94,
   "metadata": {},
   "outputs": [
    {
     "name": "stdout",
     "output_type": "stream",
     "text": [
      "0.9983586864711618\n",
      "7.352324059661258\n"
     ]
    }
   ],
   "source": [
    "print(r2_score(y_train, model.predict(X_train)))\n",
    "print(np.sqrt(mean_squared_error(y_train, model.predict(X_train))))"
   ]
  }
 ],
 "metadata": {
  "kernelspec": {
   "display_name": "ML_BASE",
   "language": "python",
   "name": "python3"
  },
  "language_info": {
   "codemirror_mode": {
    "name": "ipython",
    "version": 3
   },
   "file_extension": ".py",
   "mimetype": "text/x-python",
   "name": "python",
   "nbconvert_exporter": "python",
   "pygments_lexer": "ipython3",
   "version": "3.10.8 | packaged by conda-forge | (main, Nov 24 2022, 14:07:00) [MSC v.1916 64 bit (AMD64)]"
  },
  "orig_nbformat": 4,
  "vscode": {
   "interpreter": {
    "hash": "1b8ba40a59e9c61fa6b66892d3fc83fde7242f2833d5803ed44b8aa1ae537a32"
   }
  }
 },
 "nbformat": 4,
 "nbformat_minor": 2
}
